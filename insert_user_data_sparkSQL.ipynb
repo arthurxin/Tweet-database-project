{
 "cells": [
  {
   "cell_type": "code",
   "execution_count": 1,
   "id": "2cfdf5d6",
   "metadata": {},
   "outputs": [],
   "source": [
    "from pyspark.sql import SparkSession\n",
    "# from pyspark.sql.types import StructType, StructField, IntegerType, StringType, BooleanType, TimestampType\n",
    "import pyspark.sql.types"
   ]
  },
  {
   "cell_type": "markdown",
   "id": "9c5859f4",
   "metadata": {},
   "source": [
    "### Use our Spark session\n",
    "how to connect"
   ]
  },
  {
   "cell_type": "code",
   "execution_count": null,
   "id": "0a5422e7",
   "metadata": {},
   "outputs": [],
   "source": [
    "# spark = SparkSession.builder.appName(\"UserInformation\").getOrCreate()"
   ]
  },
  {
   "cell_type": "code",
   "execution_count": null,
   "id": "d1d7b3df",
   "metadata": {},
   "outputs": [],
   "source": [
    "# define schema for user table\n",
    "user_schema = StructType([\n",
    "    StructField(\"id\", IntegerType()),\n",
    "    StructField(\"id_str\", StringType()),\n",
    "    StructField(\"name\", StringType()),\n",
    "    StructField(\"screen_name\", StringType()),\n",
    "    StructField(\"location\", StringType()),\n",
    "    StructField(\"url\", StringType()),\n",
    "    StructField(\"description\", StringType()),\n",
    "    StructField(\"translator_type\", StringType()),\n",
    "    StructField(\"protected\", BooleanType()),\n",
    "    StructField(\"verified\", BooleanType()),\n",
    "    StructField(\"created_at\", TimestampType()),\n",
    "    StructField(\"utc_offset\", StringType()),\n",
    "    StructField(\"time_zone\", StringType()),\n",
    "    StructField(\"geo_enabled\", BooleanType()),\n",
    "    StructField(\"lang\", StringType()),\n",
    "    StructField(\"contributors_enabled\", BooleanType()),\n",
    "    StructField(\"is_translator\", BooleanType())\n",
    "])"
   ]
  },
  {
   "cell_type": "code",
   "execution_count": null,
   "id": "a7d3df0b",
   "metadata": {},
   "outputs": [],
   "source": [
    "# define schema for user_profile table\n",
    "profile_schema = StructType([\n",
    "    StructField(\"id\", IntegerType()),\n",
    "    StructField(\"followers_count\", IntegerType()),\n",
    "    StructField(\"friends_count\", IntegerType()),\n",
    "    StructField(\"listed_count\", IntegerType()),\n",
    "    StructField(\"favourites_count\", IntegerType()),\n",
    "    StructField(\"statuses_count\", IntegerType()),\n",
    "    StructField(\"profile_background_color\", StringType()),\n",
    "    StructField(\"profile_background_image_url\", StringType()),\n",
    "    StructField(\"profile_background_image_url_https\", StringType()),\n",
    "    StructField(\"profile_background_tile\", BooleanType()),\n",
    "    StructField(\"profile_link_color\", StringType()),\n",
    "    StructField(\"profile_sidebar_border_color\", StringType()),\n",
    "    StructField(\"profile_sidebar_fill_color\", StringType()),\n",
    "    StructField(\"profile_text_color\", StringType()),\n",
    "    StructField(\"profile_use_background_image\", BooleanType()),\n",
    "    StructField(\"profile_image_url\", StringType()),\n",
    "    StructField(\"profile_image_url_https\", StringType()),\n",
    "    StructField(\"profile_banner_url\", StringType()),\n",
    "    StructField(\"default_profile\", BooleanType()),\n",
    "    StructField(\"default_profile_image\", BooleanType())\n",
    "])"
   ]
  },
  {
   "cell_type": "markdown",
   "id": "5db913b7",
   "metadata": {},
   "source": [
    "### extract User Data from the tweet data\n",
    "As what is shown in __twitter-dataset-processing__"
   ]
  },
  {
   "cell_type": "code",
   "execution_count": 3,
   "id": "614205dc",
   "metadata": {},
   "outputs": [],
   "source": [
    "import json"
   ]
  },
  {
   "cell_type": "code",
   "execution_count": 21,
   "id": "bfbc0b4f",
   "metadata": {
    "collapsed": true
   },
   "outputs": [
    {
     "name": "stdout",
     "output_type": "stream",
     "text": [
      "User--  {'id': 804046791348015107, 'id_str': '804046791348015107', 'name': 'Bi Sex Uau', 'screen_name': 'B_King69', 'location': 'Acre, Brasil', 'url': 'https://www.instagram.com/?hl=pt-br', 'description': 'se for da minha família já pode voltar daq mesmo', 'translator_type': 'none', 'protected': False, 'verified': False, 'followers_count': 89, 'friends_count': 173, 'listed_count': 0, 'favourites_count': 5446, 'statuses_count': 4728, 'created_at': 'Wed Nov 30 19:37:48 +0000 2016', 'utc_offset': None, 'time_zone': None, 'geo_enabled': False, 'lang': None, 'contributors_enabled': False, 'is_translator': False, 'profile_background_color': 'F5F8FA', 'profile_background_image_url': '', 'profile_background_image_url_https': '', 'profile_background_tile': False, 'profile_link_color': '1DA1F2', 'profile_sidebar_border_color': 'C0DEED', 'profile_sidebar_fill_color': 'DDEEF6', 'profile_text_color': '333333', 'profile_use_background_image': True, 'profile_image_url': 'http://pbs.twimg.com/profile_images/1210794971231477761/hLtokcV-_normal.jpg', 'profile_image_url_https': 'https://pbs.twimg.com/profile_images/1210794971231477761/hLtokcV-_normal.jpg', 'profile_banner_url': 'https://pbs.twimg.com/profile_banners/804046791348015107/1577511053', 'default_profile': True, 'default_profile_image': False, 'following': None, 'follow_request_sent': None, 'notifications': None} \n",
      "\n"
     ]
    },
    {
     "ename": "JSONDecodeError",
     "evalue": "Expecting value: line 2 column 1 (char 1)",
     "output_type": "error",
     "traceback": [
      "\u001b[0;31m---------------------------------------------------------------------------\u001b[0m",
      "\u001b[0;31mJSONDecodeError\u001b[0m                           Traceback (most recent call last)",
      "Cell \u001b[0;32mIn[21], line 5\u001b[0m\n\u001b[1;32m      3\u001b[0m \u001b[38;5;28;01mwith\u001b[39;00m \u001b[38;5;28mopen\u001b[39m(\u001b[38;5;124m\"\u001b[39m\u001b[38;5;124m../Dataset/corona-out-3\u001b[39m\u001b[38;5;124m\"\u001b[39m, \u001b[38;5;124m\"\u001b[39m\u001b[38;5;124mr\u001b[39m\u001b[38;5;124m\"\u001b[39m) \u001b[38;5;28;01mas\u001b[39;00m f1:\n\u001b[1;32m      4\u001b[0m     \u001b[38;5;28;01mfor\u001b[39;00m line \u001b[38;5;129;01min\u001b[39;00m f1:\n\u001b[0;32m----> 5\u001b[0m         data \u001b[38;5;241m=\u001b[39m \u001b[43mjson\u001b[49m\u001b[38;5;241;43m.\u001b[39;49m\u001b[43mloads\u001b[49m\u001b[43m(\u001b[49m\u001b[43mline\u001b[49m\u001b[43m)\u001b[49m\n\u001b[1;32m      6\u001b[0m         \u001b[38;5;28mprint\u001b[39m(\u001b[38;5;124m'\u001b[39m\u001b[38;5;124mUser-- \u001b[39m\u001b[38;5;124m'\u001b[39m,data[\u001b[38;5;124m'\u001b[39m\u001b[38;5;124muser\u001b[39m\u001b[38;5;124m'\u001b[39m],\u001b[38;5;124m'\u001b[39m\u001b[38;5;130;01m\\n\u001b[39;00m\u001b[38;5;124m'\u001b[39m)\n",
      "File \u001b[0;32m~/anaconda3/envs/pyspark/lib/python3.10/json/__init__.py:346\u001b[0m, in \u001b[0;36mloads\u001b[0;34m(s, cls, object_hook, parse_float, parse_int, parse_constant, object_pairs_hook, **kw)\u001b[0m\n\u001b[1;32m    341\u001b[0m     s \u001b[38;5;241m=\u001b[39m s\u001b[38;5;241m.\u001b[39mdecode(detect_encoding(s), \u001b[38;5;124m'\u001b[39m\u001b[38;5;124msurrogatepass\u001b[39m\u001b[38;5;124m'\u001b[39m)\n\u001b[1;32m    343\u001b[0m \u001b[38;5;28;01mif\u001b[39;00m (\u001b[38;5;28mcls\u001b[39m \u001b[38;5;129;01mis\u001b[39;00m \u001b[38;5;28;01mNone\u001b[39;00m \u001b[38;5;129;01mand\u001b[39;00m object_hook \u001b[38;5;129;01mis\u001b[39;00m \u001b[38;5;28;01mNone\u001b[39;00m \u001b[38;5;129;01mand\u001b[39;00m\n\u001b[1;32m    344\u001b[0m         parse_int \u001b[38;5;129;01mis\u001b[39;00m \u001b[38;5;28;01mNone\u001b[39;00m \u001b[38;5;129;01mand\u001b[39;00m parse_float \u001b[38;5;129;01mis\u001b[39;00m \u001b[38;5;28;01mNone\u001b[39;00m \u001b[38;5;129;01mand\u001b[39;00m\n\u001b[1;32m    345\u001b[0m         parse_constant \u001b[38;5;129;01mis\u001b[39;00m \u001b[38;5;28;01mNone\u001b[39;00m \u001b[38;5;129;01mand\u001b[39;00m object_pairs_hook \u001b[38;5;129;01mis\u001b[39;00m \u001b[38;5;28;01mNone\u001b[39;00m \u001b[38;5;129;01mand\u001b[39;00m \u001b[38;5;129;01mnot\u001b[39;00m kw):\n\u001b[0;32m--> 346\u001b[0m     \u001b[38;5;28;01mreturn\u001b[39;00m \u001b[43m_default_decoder\u001b[49m\u001b[38;5;241;43m.\u001b[39;49m\u001b[43mdecode\u001b[49m\u001b[43m(\u001b[49m\u001b[43ms\u001b[49m\u001b[43m)\u001b[49m\n\u001b[1;32m    347\u001b[0m \u001b[38;5;28;01mif\u001b[39;00m \u001b[38;5;28mcls\u001b[39m \u001b[38;5;129;01mis\u001b[39;00m \u001b[38;5;28;01mNone\u001b[39;00m:\n\u001b[1;32m    348\u001b[0m     \u001b[38;5;28mcls\u001b[39m \u001b[38;5;241m=\u001b[39m JSONDecoder\n",
      "File \u001b[0;32m~/anaconda3/envs/pyspark/lib/python3.10/json/decoder.py:337\u001b[0m, in \u001b[0;36mJSONDecoder.decode\u001b[0;34m(self, s, _w)\u001b[0m\n\u001b[1;32m    332\u001b[0m \u001b[38;5;28;01mdef\u001b[39;00m \u001b[38;5;21mdecode\u001b[39m(\u001b[38;5;28mself\u001b[39m, s, _w\u001b[38;5;241m=\u001b[39mWHITESPACE\u001b[38;5;241m.\u001b[39mmatch):\n\u001b[1;32m    333\u001b[0m     \u001b[38;5;124;03m\"\"\"Return the Python representation of ``s`` (a ``str`` instance\u001b[39;00m\n\u001b[1;32m    334\u001b[0m \u001b[38;5;124;03m    containing a JSON document).\u001b[39;00m\n\u001b[1;32m    335\u001b[0m \n\u001b[1;32m    336\u001b[0m \u001b[38;5;124;03m    \"\"\"\u001b[39;00m\n\u001b[0;32m--> 337\u001b[0m     obj, end \u001b[38;5;241m=\u001b[39m \u001b[38;5;28;43mself\u001b[39;49m\u001b[38;5;241;43m.\u001b[39;49m\u001b[43mraw_decode\u001b[49m\u001b[43m(\u001b[49m\u001b[43ms\u001b[49m\u001b[43m,\u001b[49m\u001b[43m \u001b[49m\u001b[43midx\u001b[49m\u001b[38;5;241;43m=\u001b[39;49m\u001b[43m_w\u001b[49m\u001b[43m(\u001b[49m\u001b[43ms\u001b[49m\u001b[43m,\u001b[49m\u001b[43m \u001b[49m\u001b[38;5;241;43m0\u001b[39;49m\u001b[43m)\u001b[49m\u001b[38;5;241;43m.\u001b[39;49m\u001b[43mend\u001b[49m\u001b[43m(\u001b[49m\u001b[43m)\u001b[49m\u001b[43m)\u001b[49m\n\u001b[1;32m    338\u001b[0m     end \u001b[38;5;241m=\u001b[39m _w(s, end)\u001b[38;5;241m.\u001b[39mend()\n\u001b[1;32m    339\u001b[0m     \u001b[38;5;28;01mif\u001b[39;00m end \u001b[38;5;241m!=\u001b[39m \u001b[38;5;28mlen\u001b[39m(s):\n",
      "File \u001b[0;32m~/anaconda3/envs/pyspark/lib/python3.10/json/decoder.py:355\u001b[0m, in \u001b[0;36mJSONDecoder.raw_decode\u001b[0;34m(self, s, idx)\u001b[0m\n\u001b[1;32m    353\u001b[0m     obj, end \u001b[38;5;241m=\u001b[39m \u001b[38;5;28mself\u001b[39m\u001b[38;5;241m.\u001b[39mscan_once(s, idx)\n\u001b[1;32m    354\u001b[0m \u001b[38;5;28;01mexcept\u001b[39;00m \u001b[38;5;167;01mStopIteration\u001b[39;00m \u001b[38;5;28;01mas\u001b[39;00m err:\n\u001b[0;32m--> 355\u001b[0m     \u001b[38;5;28;01mraise\u001b[39;00m JSONDecodeError(\u001b[38;5;124m\"\u001b[39m\u001b[38;5;124mExpecting value\u001b[39m\u001b[38;5;124m\"\u001b[39m, s, err\u001b[38;5;241m.\u001b[39mvalue) \u001b[38;5;28;01mfrom\u001b[39;00m \u001b[38;5;28mNone\u001b[39m\n\u001b[1;32m    356\u001b[0m \u001b[38;5;28;01mreturn\u001b[39;00m obj, end\n",
      "\u001b[0;31mJSONDecodeError\u001b[0m: Expecting value: line 2 column 1 (char 1)"
     ]
    }
   ],
   "source": [
    "# result = []\n",
    "#insert path and replace name of the file below as needed\n",
    "with open(\"../Dataset/corona-out-3\", \"r\") as f1:\n",
    "    for line in f1:\n",
    "        data = json.loads(line)\n",
    "        print('User-- ',data['user'],'\\n')\n",
    "#         result += [data['user']]\n",
    "# print(result)\n"
   ]
  },
  {
   "cell_type": "code",
   "execution_count": null,
   "id": "56fdfb64",
   "metadata": {},
   "outputs": [],
   "source": [
    "result = []\n",
    "#insert path and replace name of the file below as needed\n",
    "with open(\"../Dataset/corona-out-2\", \"r\") as f1:\n",
    "    for line in f1:\n",
    "        result += [line]\n",
    "        \n",
    "num_record = len(result)\n",
    "for i in range(5):\n",
    "    data = json.loads(result[i])\n",
    "    print(data['user'])"
   ]
  },
  {
   "cell_type": "code",
   "execution_count": null,
   "id": "6f0eb80b",
   "metadata": {},
   "outputs": [],
   "source": []
  },
  {
   "cell_type": "code",
   "execution_count": 2,
   "id": "72d53e8f",
   "metadata": {},
   "outputs": [
    {
     "ename": "NameError",
     "evalue": "name 'spark' is not defined",
     "output_type": "error",
     "traceback": [
      "\u001b[0;31m---------------------------------------------------------------------------\u001b[0m",
      "\u001b[0;31mNameError\u001b[0m                                 Traceback (most recent call last)",
      "Cell \u001b[0;32mIn[2], line 1\u001b[0m\n\u001b[0;32m----> 1\u001b[0m df \u001b[38;5;241m=\u001b[39m \u001b[43mspark\u001b[49m\u001b[38;5;241m.\u001b[39mread\u001b[38;5;241m.\u001b[39moption(\u001b[38;5;124m\"\u001b[39m\u001b[38;5;124mheader\u001b[39m\u001b[38;5;124m\"\u001b[39m, \u001b[38;5;124m\"\u001b[39m\u001b[38;5;124mtrue\u001b[39m\u001b[38;5;124m\"\u001b[39m)\u001b[38;5;241m.\u001b[39mcsv(\u001b[38;5;124m\"\u001b[39m\u001b[38;5;124m/tweet_project/Dataset/corona-out-3\u001b[39m\u001b[38;5;124m\"\u001b[39m)\n",
      "\u001b[0;31mNameError\u001b[0m: name 'spark' is not defined"
     ]
    }
   ],
   "source": [
    "df = spark.read.option(\"header\", \"true\").csv(\"/tweet_project/Dataset/corona-out-3\")"
   ]
  },
  {
   "cell_type": "code",
   "execution_count": null,
   "id": "436cceac",
   "metadata": {},
   "outputs": [],
   "source": [
    "# create user and user_profile dataframes\n",
    "user_df = spark.createDataFrame([[2283278160, '2283278160', 'Mr rius', 'AwhexWibowo', 'Yogyakarta, Indonesia', None, 'have fun go mad', 'none', False, False, '2014-01-09 08:34:03', None, None, True, None, False, False]],\n",
    "                                schema=user_schema)\n",
    "profile_df = spark.createDataFrame([[2283278160, 451, 608, 2, 4625, 31160, 'C0DEED', 'http://abs.twimg.com/images/themes/theme1/bg.png', 'https://abs.twimg.com/images/themes/theme1/bg.png', False, '1DA1F2', 'C0DEED', 'DDEEF6', '333333', True, 'http://pbs.twimg.com/profile_images/1045333930910482432/9T4eZEsi_normal.jpg', 'https://pbs.twimg.com/profile_images/1045333930910482432/9T4eZEsi_normal.jpg', 'https://pbs.twimg.com/profile_banners/2283278160/1585672135', True, False]],\n",
    "                                    schema=profile_schema)"
   ]
  },
  {
   "cell_type": "code",
   "execution_count": null,
   "id": "7175c4ad",
   "metadata": {},
   "outputs": [],
   "source": [
    "# create temporary views for user and user_profile dataframes\n",
    "user_df.createOrReplaceTempView(\"user\")\n",
    "profile"
   ]
  }
 ],
 "metadata": {
  "kernelspec": {
   "display_name": "Python 3 (ipykernel)",
   "language": "python",
   "name": "python3"
  },
  "language_info": {
   "codemirror_mode": {
    "name": "ipython",
    "version": 3
   },
   "file_extension": ".py",
   "mimetype": "text/x-python",
   "name": "python",
   "nbconvert_exporter": "python",
   "pygments_lexer": "ipython3",
   "version": "3.10.10"
  }
 },
 "nbformat": 4,
 "nbformat_minor": 5
}
