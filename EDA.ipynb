{
 "cells": [
  {
   "cell_type": "code",
   "execution_count": 1,
   "id": "a6de043e",
   "metadata": {},
   "outputs": [],
   "source": [
    "import json"
   ]
  },
  {
   "cell_type": "code",
   "execution_count": 2,
   "id": "39d66c7a",
   "metadata": {},
   "outputs": [],
   "source": [
    "lines=0\n",
    "num_tweets=0\n",
    "num_retweets=0\n",
    "print_tweet = 0\n",
    "print_retweet = 0\n",
    "tweets = {}"
   ]
  },
  {
   "cell_type": "code",
   "execution_count": 3,
   "id": "860d6037",
   "metadata": {},
   "outputs": [],
   "source": [
    "result = list()"
   ]
  },
  {
   "cell_type": "code",
   "execution_count": 7,
   "id": "f40dc072",
   "metadata": {},
   "outputs": [],
   "source": [
    "with open(\"/home/hx152/Project/tweet_project/Dataset/corona-out-3\", \"r\") as f1:\n",
    "    for line in f1:\n",
    "        result += [line]"
   ]
  },
  {
   "cell_type": "code",
   "execution_count": 8,
   "id": "e23976fb",
   "metadata": {},
   "outputs": [
    {
     "data": {
      "text/plain": [
       "'{\"created_at\":\"Sat Apr 25 12:21:41 +0000 2020\",\"id\":1254022770679320576,\"id_str\":\"1254022770679320576\",\"text\":\"\\\\u00c9 isto, ou vou morrer sem ar ou com o corona https:\\\\/\\\\/t.co\\\\/O0Y7B3Koj4\",\"display_text_range\":[0,44],\"source\":\"\\\\u003ca href=\\\\\"http:\\\\/\\\\/twitter.com\\\\/download\\\\/android\\\\\" rel=\\\\\"nofollow\\\\\"\\\\u003eTwitter for Android\\\\u003c\\\\/a\\\\u003e\",\"truncated\":false,\"in_reply_to_status_id\":null,\"in_reply_to_status_id_str\":null,\"in_reply_to_user_id\":null,\"in_reply_to_user_id_str\":null,\"in_reply_to_screen_name\":null,\"user\":{\"id\":804046791348015107,\"id_str\":\"804046791348015107\",\"name\":\"Bi Sex Uau\",\"screen_name\":\"B_King69\",\"location\":\"Acre, Brasil\",\"url\":\"https:\\\\/\\\\/www.instagram.com\\\\/?hl=pt-br\",\"description\":\"se for da minha fam\\\\u00edlia j\\\\u00e1 pode voltar daq mesmo\",\"translator_type\":\"none\",\"protected\":false,\"verified\":false,\"followers_count\":89,\"friends_count\":173,\"listed_count\":0,\"favourites_count\":5446,\"statuses_count\":4728,\"created_at\":\"Wed Nov 30 19:37:48 +0000 2016\",\"utc_offset\":null,\"time_zone\":null,\"geo_enabled\":false,\"lang\":null,\"contributors_enabled\":false,\"is_translator\":false,\"profile_background_color\":\"F5F8FA\",\"profile_background_image_url\":\"\",\"profile_background_image_url_https\":\"\",\"profile_background_tile\":false,\"profile_link_color\":\"1DA1F2\",\"profile_sidebar_border_color\":\"C0DEED\",\"profile_sidebar_fill_color\":\"DDEEF6\",\"profile_text_color\":\"333333\",\"profile_use_background_image\":true,\"profile_image_url\":\"http:\\\\/\\\\/pbs.twimg.com\\\\/profile_images\\\\/1210794971231477761\\\\/hLtokcV-_normal.jpg\",\"profile_image_url_https\":\"https:\\\\/\\\\/pbs.twimg.com\\\\/profile_images\\\\/1210794971231477761\\\\/hLtokcV-_normal.jpg\",\"profile_banner_url\":\"https:\\\\/\\\\/pbs.twimg.com\\\\/profile_banners\\\\/804046791348015107\\\\/1577511053\",\"default_profile\":true,\"default_profile_image\":false,\"following\":null,\"follow_request_sent\":null,\"notifications\":null},\"geo\":null,\"coordinates\":null,\"place\":null,\"contributors\":null,\"is_quote_status\":false,\"quote_count\":0,\"reply_count\":0,\"retweet_count\":0,\"favorite_count\":0,\"entities\":{\"hashtags\":[],\"urls\":[],\"user_mentions\":[],\"symbols\":[],\"media\":[{\"id\":1254022759824461824,\"id_str\":\"1254022759824461824\",\"indices\":[45,68],\"media_url\":\"http:\\\\/\\\\/pbs.twimg.com\\\\/media\\\\/EWcvDlOXkAAznwM.jpg\",\"media_url_https\":\"https:\\\\/\\\\/pbs.twimg.com\\\\/media\\\\/EWcvDlOXkAAznwM.jpg\",\"url\":\"https:\\\\/\\\\/t.co\\\\/O0Y7B3Koj4\",\"display_url\":\"pic.twitter.com\\\\/O0Y7B3Koj4\",\"expanded_url\":\"https:\\\\/\\\\/twitter.com\\\\/B_King69\\\\/status\\\\/1254022770679320576\\\\/photo\\\\/1\",\"type\":\"photo\",\"sizes\":{\"thumb\":{\"w\":150,\"h\":150,\"resize\":\"crop\"},\"small\":{\"w\":345,\"h\":680,\"resize\":\"fit\"},\"medium\":{\"w\":608,\"h\":1200,\"resize\":\"fit\"},\"large\":{\"w\":1038,\"h\":2048,\"resize\":\"fit\"}}}]},\"extended_entities\":{\"media\":[{\"id\":1254022759824461824,\"id_str\":\"1254022759824461824\",\"indices\":[45,68],\"media_url\":\"http:\\\\/\\\\/pbs.twimg.com\\\\/media\\\\/EWcvDlOXkAAznwM.jpg\",\"media_url_https\":\"https:\\\\/\\\\/pbs.twimg.com\\\\/media\\\\/EWcvDlOXkAAznwM.jpg\",\"url\":\"https:\\\\/\\\\/t.co\\\\/O0Y7B3Koj4\",\"display_url\":\"pic.twitter.com\\\\/O0Y7B3Koj4\",\"expanded_url\":\"https:\\\\/\\\\/twitter.com\\\\/B_King69\\\\/status\\\\/1254022770679320576\\\\/photo\\\\/1\",\"type\":\"photo\",\"sizes\":{\"thumb\":{\"w\":150,\"h\":150,\"resize\":\"crop\"},\"small\":{\"w\":345,\"h\":680,\"resize\":\"fit\"},\"medium\":{\"w\":608,\"h\":1200,\"resize\":\"fit\"},\"large\":{\"w\":1038,\"h\":2048,\"resize\":\"fit\"}}}]},\"favorited\":false,\"retweeted\":false,\"possibly_sensitive\":false,\"filter_level\":\"low\",\"lang\":\"pt\",\"timestamp_ms\":\"1587817301803\"}\\n'"
      ]
     },
     "execution_count": 8,
     "metadata": {},
     "output_type": "execute_result"
    }
   ],
   "source": [
    "result[0]"
   ]
  },
  {
   "cell_type": "code",
   "execution_count": null,
   "id": "fe9d6122",
   "metadata": {},
   "outputs": [],
   "source": []
  }
 ],
 "metadata": {
  "kernelspec": {
   "display_name": "Python 3 (ipykernel)",
   "language": "python",
   "name": "python3"
  },
  "language_info": {
   "codemirror_mode": {
    "name": "ipython",
    "version": 3
   },
   "file_extension": ".py",
   "mimetype": "text/x-python",
   "name": "python",
   "nbconvert_exporter": "python",
   "pygments_lexer": "ipython3",
   "version": "3.10.10"
  }
 },
 "nbformat": 4,
 "nbformat_minor": 5
}
