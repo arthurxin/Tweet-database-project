{
 "cells": [
  {
   "cell_type": "code",
   "execution_count": 3,
   "id": "2cfdf5d6",
   "metadata": {},
   "outputs": [],
   "source": [
    "from pyspark.sql import SparkSession, SQLContext, Row\n",
    "from pyspark.sql.types import StructType, StructField, IntegerType, StringType, BooleanType, TimestampType, LongType\n",
    "import json\n",
    "from datetime import datetime"
   ]
  },
  {
   "cell_type": "markdown",
   "id": "9c5859f4",
   "metadata": {},
   "source": [
    "## Create Spark session"
   ]
  },
  {
   "cell_type": "markdown",
   "id": "12ef8c5b",
   "metadata": {},
   "source": [
    "spark = SparkSession.builder.enableHiveSupport().config(\"spark.sql.legacy.createHiveTableByDefault\", False).appName(\"UserInformation\").getOrCreate()\n",
    "sc = spark.sparkContext\n",
    "sparksql = SQLContext(sc)"
   ]
  },
  {
   "cell_type": "code",
   "execution_count": 4,
   "id": "bb7db3d0",
   "metadata": {},
   "outputs": [
    {
     "name": "stderr",
     "output_type": "stream",
     "text": [
      "Warning: Ignoring non-Spark config property: hive.metastore.warehouse.dir\n",
      "Setting default log level to \"WARN\".\n",
      "To adjust logging level use sc.setLogLevel(newLevel). For SparkR, use setLogLevel(newLevel).\n"
     ]
    },
    {
     "name": "stdout",
     "output_type": "stream",
     "text": [
      "23/04/22 21:29:36 WARN NativeCodeLoader: Unable to load native-hadoop library for your platform... using builtin-java classes where applicable\n"
     ]
    },
    {
     "name": "stderr",
     "output_type": "stream",
     "text": [
      "/home/hx152/anaconda3/envs/pyspark/lib/python3.10/site-packages/pyspark/sql/context.py:112: FutureWarning: Deprecated in 3.0.0. Use SparkSession.builder.getOrCreate() instead.\n",
      "  warnings.warn(\n"
     ]
    }
   ],
   "source": [
    "# Set the warehouse location\n",
    "warehouse_location = \"file:///home/hx152/Project/tweet_project/Dataset/spark-warehouse\"\n",
    "hivedb_location = \"file:///home/hx152/Project/tweet_project/Dataset/metastore_db\"\n",
    "# warehouse_location = \"hdfs://data/\"\n",
    "\n",
    "spark = SparkSession.builder \\\n",
    "    .enableHiveSupport() \\\n",
    "    .config(\"spark.sql.warehouse.dir\", warehouse_location) \\\n",
    "    .config(\"hive.metastore.warehouse.dir\", warehouse_location) \\\n",
    "    .config(\"spark.sql.legacy.createHiveTableByDefault\", False) \\\n",
    "    .appName(\"UserInformation\").getOrCreate()\n",
    "sc = spark.sparkContext\n",
    "sparksql = SQLContext(sc)"
   ]
  },
  {
   "cell_type": "markdown",
   "id": "89fed0fd",
   "metadata": {},
   "source": [
    "## Create DataBase"
   ]
  },
  {
   "cell_type": "code",
   "execution_count": 5,
   "id": "cc813713",
   "metadata": {},
   "outputs": [
    {
     "name": "stdout",
     "output_type": "stream",
     "text": [
      "23/04/22 21:29:42 WARN SharedState: Not allowing to set hive.metastore.warehouse.dir in SparkSession's options, please use spark.sql.warehouse.dir to set statically for cross-session usages\n"
     ]
    },
    {
     "data": {
      "text/plain": [
       "[Row(namespace='default'),\n",
       " Row(namespace='user_data'),\n",
       " Row(namespace='userinformation')]"
      ]
     },
     "execution_count": 5,
     "metadata": {},
     "output_type": "execute_result"
    }
   ],
   "source": [
    "a = sparksql.sql('SHOW DATABASES')\n",
    "a.collect()"
   ]
  },
  {
   "cell_type": "code",
   "execution_count": 4,
   "id": "489e5546",
   "metadata": {},
   "outputs": [
    {
     "data": {
      "text/plain": [
       "[]"
      ]
     },
     "execution_count": 4,
     "metadata": {},
     "output_type": "execute_result"
    }
   ],
   "source": [
    "sql_query = 'CREATE DATABASE IF NOT EXISTS user_data'\n",
    "a = sparksql.sql(sql_query)\n",
    "a.collect()"
   ]
  },
  {
   "cell_type": "code",
   "execution_count": 6,
   "id": "150ae79d",
   "metadata": {},
   "outputs": [
    {
     "data": {
      "text/plain": [
       "[]"
      ]
     },
     "execution_count": 6,
     "metadata": {},
     "output_type": "execute_result"
    }
   ],
   "source": [
    "a = sparksql.sql('Use user_data')\n",
    "a.collect()"
   ]
  },
  {
   "cell_type": "markdown",
   "id": "ab42ebda",
   "metadata": {},
   "source": [
    "## Create tables in selected DataBase"
   ]
  },
  {
   "cell_type": "code",
   "execution_count": 19,
   "id": "b16d26e9",
   "metadata": {},
   "outputs": [
    {
     "data": {
      "text/plain": [
       "DataFrame[]"
      ]
     },
     "execution_count": 19,
     "metadata": {},
     "output_type": "execute_result"
    }
   ],
   "source": [
    "sparksql.sql('''\n",
    "            CREATE TABLE IF NOT EXISTS user_basic_info(\n",
    "             tweet_create_time TIMESTAMP,\n",
    "             id LONG,\n",
    "             name STRING,\n",
    "             screen_name STRING,\n",
    "             verified BOOLEAN,\n",
    "             created_at TIMESTAMP,\n",
    "             followers_count INT,\n",
    "             friends_count INT,\n",
    "             listed_count INT,\n",
    "             favourites_count INT,\n",
    "             statuses_count INT\n",
    "            ) USING parquet\n",
    "            ''')\n"
   ]
  },
  {
   "cell_type": "markdown",
   "id": "84878042",
   "metadata": {},
   "source": [
    "sparksql.sql('''\n",
    "    DROP TABLE user_basic_info\n",
    "''')\n"
   ]
  },
  {
   "cell_type": "code",
   "execution_count": 7,
   "id": "7b797052",
   "metadata": {
    "scrolled": true
   },
   "outputs": [
    {
     "data": {
      "text/plain": [
       "[Row(namespace='user_data', tableName='user_basic_info', isTemporary=False)]"
      ]
     },
     "execution_count": 7,
     "metadata": {},
     "output_type": "execute_result"
    }
   ],
   "source": [
    "a = sparksql.sql('SHOW TABLES')\n",
    "a.collect()"
   ]
  },
  {
   "cell_type": "markdown",
   "id": "5db913b7",
   "metadata": {},
   "source": [
    "## Insert User Data from the tweet data"
   ]
  },
  {
   "cell_type": "markdown",
   "id": "3e632c4e",
   "metadata": {},
   "source": [
    "### ----------------------- ⭐️Schames⭐️ -----------------------"
   ]
  },
  {
   "cell_type": "code",
   "execution_count": 29,
   "id": "3c76b57f",
   "metadata": {},
   "outputs": [],
   "source": [
    "user_basic_info_schema = StructType([\n",
    "    StructField(\"tweet_create_time\", TimestampType()),\n",
    "    StructField(\"id\", LongType()),\n",
    "    StructField(\"name\", StringType()),\n",
    "    StructField(\"screen_name\", StringType()),\n",
    "    StructField(\"verified\", BooleanType()),\n",
    "    StructField(\"created_at\", TimestampType()),\n",
    "    StructField(\"followers_count\", IntegerType()),\n",
    "    StructField(\"friends_count\", IntegerType()),\n",
    "    StructField(\"listed_count\", IntegerType()),\n",
    "    StructField(\"favourites_count\", IntegerType()),\n",
    "    StructField(\"statuses_count\", IntegerType())\n",
    "])"
   ]
  },
  {
   "cell_type": "markdown",
   "id": "1de70491",
   "metadata": {},
   "source": [
    "### ------------------------ ⭐️Functions⭐️ ------------------------"
   ]
  },
  {
   "cell_type": "code",
   "execution_count": 34,
   "id": "2edf2183",
   "metadata": {},
   "outputs": [],
   "source": [
    "def insert_with_df(data, table_name, table_schema):\n",
    "    duplicated_count = 0\n",
    "    \n",
    "    datetime_format = \"%a %b %d %H:%M:%S %z %Y\"\n",
    "    tweet_create_at_datetime = datetime.strptime(data['created_at'], datetime_format)\n",
    "    created_at_datetime = datetime.strptime(data['user']['created_at'], datetime_format)\n",
    "\n",
    "    user_data_row = [(tweet_create_at_datetime, data['user']['id'], data['user']['name'], data['user']['screen_name'], data['user'][\"verified\"], created_at_datetime, data['user'][\"followers_count\"], data['user'][\"friends_count\"], data['user'][\"listed_count\"], data['user'][\"favourites_count\"], data['user'][\"statuses_count\"])]\n",
    "\n",
    "    if user_exist(data['user']['id'], table_name): # if already in the table\n",
    "        update_user(user_data_row, table_name, table_schema)\n",
    "        duplicated_count += 1\n",
    "    else: # if does not exist in table\n",
    "        insert_user(user_data_row, table_name, table_schema)\n",
    "    # DELETE is only supported with v2 tables.\n",
    "    print(f\"Warning: {duplicate_data_count} duplicate data rows were encountered. Do not forget to use the latest one.\")\n",
    "\n",
    "def user_exist(user_id, table_name) -> bool:\n",
    "    result = spark.sql(f\"SELECT COUNT(*) as count FROM {table_name} WHERE id = {user_id}\")\n",
    "    count = result.collect()[0][\"count\"]\n",
    "    return count > 0\n",
    "\n",
    "def update_user(data_row, table_name, table_schema):\n",
    "    user_id = data_row[0][1]\n",
    "    existed_ts = spark.sql(f\"SELECT tweet_create_time FROM {table_name} WHERE id = {user_id}\").collect()\n",
    "    if len(existed_ts) > 0:\n",
    "        existed_timestamp = existed_ts[0][\"tweet_create_time\"]\n",
    "    else:\n",
    "        existed_timestamp = None\n",
    "    new_timestamp = data_row[0][0].replace(tzinfo=None)\n",
    "    if existed_timestamp and new_timestamp and new_timestamp > existed_timestamp: # update only when timestamp is later\n",
    "        print(\"Oops, this user is existed. Since DELETE is only supported with v2 tables. Multiple data for this user will be stored in table.\")\n",
    "#         delete_user(user_id, table_name)\n",
    "#         print(\"Deleting old user data\")\n",
    "        insert_user(data_row, table_name, table_schema)\n",
    "#         print(\"Inserting new user data\")\n",
    "        \n",
    "def insert_user(data_row, table_name, table_schema):\n",
    "    user_df = spark.createDataFrame(data_row, schema=table_schema)\n",
    "    user_df.write.mode(\"append\").insertInto(table_name)\n",
    "    \n",
    "# def delete_user(user_id, table_name):\n",
    "#     spark.sql(f\"DELETE FROM {table_name} WHERE id = {user_id}\")\n"
   ]
  },
  {
   "cell_type": "markdown",
   "id": "cb935b32",
   "metadata": {},
   "source": [
    "### An example for insert directly with SQL query\n",
    "query = \"\"\" \\\n",
    "    INSERT INTO basic (id, name, screen_name) \\\n",
    "    VALUES (1, 'Alice', 'alice01'), \\\n",
    "           (2, 'Bob', 'bob02'), \\\n",
    "           (3, 'Charlie', 'charlie03'), \\\n",
    "           (4, 'David', 'david04') \\\n",
    "\"\"\" \\\n",
    "\\\n",
    "spark.sql(query)\n",
    "\n",
    "Using __DataFrames__ is more efficient then inserting data directly into a table using a SQL INSERT INTO statement, especially when dealing with __large amounts of data__."
   ]
  },
  {
   "cell_type": "code",
   "execution_count": null,
   "id": "5a2e0501",
   "metadata": {
    "collapsed": true
   },
   "outputs": [
    {
     "name": "stdout",
     "output_type": "stream",
     "text": [
      "Oops, this user is existed. Since DELETE is only supported with v2 tables. Multiple data for this user will be stored in table.\n",
      "Oops, this user is existed. Since DELETE is only supported with v2 tables. Multiple data for this user will be stored in table.\n",
      "Oops, this user is existed. Since DELETE is only supported with v2 tables. Multiple data for this user will be stored in table.\n",
      "Oops, this user is existed. Since DELETE is only supported with v2 tables. Multiple data for this user will be stored in table.\n",
      "Oops, this user is existed. Since DELETE is only supported with v2 tables. Multiple data for this user will be stored in table.\n",
      "Oops, this user is existed. Since DELETE is only supported with v2 tables. Multiple data for this user will be stored in table.\n",
      "Oops, this user is existed. Since DELETE is only supported with v2 tables. Multiple data for this user will be stored in table.\n",
      "Oops, this user is existed. Since DELETE is only supported with v2 tables. Multiple data for this user will be stored in table.\n",
      "Oops, this user is existed. Since DELETE is only supported with v2 tables. Multiple data for this user will be stored in table.\n",
      "Oops, this user is existed. Since DELETE is only supported with v2 tables. Multiple data for this user will be stored in table.\n"
     ]
    },
    {
     "name": "stderr",
     "output_type": "stream",
     "text": [
      "\r",
      "[Stage 2579:===============================================>      (21 + 3) / 24]\r",
      "\r",
      "                                                                                \r"
     ]
    },
    {
     "name": "stdout",
     "output_type": "stream",
     "text": [
      "Oops, this user is existed. Since DELETE is only supported with v2 tables. Multiple data for this user will be stored in table.\n",
      "23/04/21 19:16:35 WARN SharedInMemoryCache: Evicting cached table partition metadata from memory due to size constraints (spark.sql.hive.filesourcePartitionFileCacheSize = 262144000 bytes). This may impact query planning performance.\n",
      "Oops, this user is existed. Since DELETE is only supported with v2 tables. Multiple data for this user will be stored in table.\n"
     ]
    },
    {
     "name": "stderr",
     "output_type": "stream",
     "text": [
      "\r",
      "[Stage 2841:==================================================>   (26 + 2) / 28]\r",
      "\r",
      "                                                                                \r"
     ]
    },
    {
     "name": "stdout",
     "output_type": "stream",
     "text": [
      "Oops, this user is existed. Since DELETE is only supported with v2 tables. Multiple data for this user will be stored in table.\n",
      "Oops, this user is existed. Since DELETE is only supported with v2 tables. Multiple data for this user will be stored in table.\n",
      "Oops, this user is existed. Since DELETE is only supported with v2 tables. Multiple data for this user will be stored in table.\n",
      "Oops, this user is existed. Since DELETE is only supported with v2 tables. Multiple data for this user will be stored in table.\n"
     ]
    },
    {
     "name": "stderr",
     "output_type": "stream",
     "text": [
      "                                                                                \r"
     ]
    },
    {
     "name": "stdout",
     "output_type": "stream",
     "text": [
      "Oops, this user is existed. Since DELETE is only supported with v2 tables. Multiple data for this user will be stored in table.\n",
      "Oops, this user is existed. Since DELETE is only supported with v2 tables. Multiple data for this user will be stored in table.\n",
      "Oops, this user is existed. Since DELETE is only supported with v2 tables. Multiple data for this user will be stored in table.\n",
      "Oops, this user is existed. Since DELETE is only supported with v2 tables. Multiple data for this user will be stored in table.\n"
     ]
    },
    {
     "name": "stderr",
     "output_type": "stream",
     "text": [
      "                                                                                \r"
     ]
    },
    {
     "name": "stdout",
     "output_type": "stream",
     "text": [
      "Oops, this user is existed. Since DELETE is only supported with v2 tables. Multiple data for this user will be stored in table.\n",
      "Oops, this user is existed. Since DELETE is only supported with v2 tables. Multiple data for this user will be stored in table.\n",
      "Oops, this user is existed. Since DELETE is only supported with v2 tables. Multiple data for this user will be stored in table.\n",
      "Oops, this user is existed. Since DELETE is only supported with v2 tables. Multiple data for this user will be stored in table.\n",
      "Oops, this user is existed. Since DELETE is only supported with v2 tables. Multiple data for this user will be stored in table.\n",
      "Oops, this user is existed. Since DELETE is only supported with v2 tables. Multiple data for this user will be stored in table.\n"
     ]
    },
    {
     "name": "stderr",
     "output_type": "stream",
     "text": [
      "                                                                                \r"
     ]
    },
    {
     "name": "stdout",
     "output_type": "stream",
     "text": [
      "Oops, this user is existed. Since DELETE is only supported with v2 tables. Multiple data for this user will be stored in table.\n",
      "Oops, this user is existed. Since DELETE is only supported with v2 tables. Multiple data for this user will be stored in table.\n",
      "Oops, this user is existed. Since DELETE is only supported with v2 tables. Multiple data for this user will be stored in table.\n",
      "Oops, this user is existed. Since DELETE is only supported with v2 tables. Multiple data for this user will be stored in table.\n"
     ]
    },
    {
     "name": "stderr",
     "output_type": "stream",
     "text": [
      "                                                                                \r"
     ]
    },
    {
     "name": "stdout",
     "output_type": "stream",
     "text": [
      "Oops, this user is existed. Since DELETE is only supported with v2 tables. Multiple data for this user will be stored in table.\n",
      "Oops, this user is existed. Since DELETE is only supported with v2 tables. Multiple data for this user will be stored in table.\n",
      "Oops, this user is existed. Since DELETE is only supported with v2 tables. Multiple data for this user will be stored in table.\n",
      "Oops, this user is existed. Since DELETE is only supported with v2 tables. Multiple data for this user will be stored in table.\n"
     ]
    },
    {
     "name": "stderr",
     "output_type": "stream",
     "text": [
      "                                                                                \r"
     ]
    },
    {
     "name": "stdout",
     "output_type": "stream",
     "text": [
      "Oops, this user is existed. Since DELETE is only supported with v2 tables. Multiple data for this user will be stored in table.\n"
     ]
    },
    {
     "name": "stderr",
     "output_type": "stream",
     "text": [
      "                                                                                \r"
     ]
    },
    {
     "name": "stdout",
     "output_type": "stream",
     "text": [
      "Oops, this user is existed. Since DELETE is only supported with v2 tables. Multiple data for this user will be stored in table.\n"
     ]
    },
    {
     "name": "stderr",
     "output_type": "stream",
     "text": [
      "\r",
      "[Stage 4137:=================================================>    (44 + 4) / 48]\r",
      "\r",
      "                                                                                \r"
     ]
    },
    {
     "name": "stdout",
     "output_type": "stream",
     "text": [
      "Oops, this user is existed. Since DELETE is only supported with v2 tables. Multiple data for this user will be stored in table.\n"
     ]
    },
    {
     "name": "stderr",
     "output_type": "stream",
     "text": [
      "                                                                                \r"
     ]
    },
    {
     "name": "stdout",
     "output_type": "stream",
     "text": [
      "Oops, this user is existed. Since DELETE is only supported with v2 tables. Multiple data for this user will be stored in table.\n"
     ]
    },
    {
     "name": "stderr",
     "output_type": "stream",
     "text": [
      "                                                                                \r"
     ]
    },
    {
     "name": "stdout",
     "output_type": "stream",
     "text": [
      "Oops, this user is existed. Since DELETE is only supported with v2 tables. Multiple data for this user will be stored in table.\n"
     ]
    },
    {
     "name": "stderr",
     "output_type": "stream",
     "text": [
      "                                                                                \r"
     ]
    },
    {
     "name": "stdout",
     "output_type": "stream",
     "text": [
      "Oops, this user is existed. Since DELETE is only supported with v2 tables. Multiple data for this user will be stored in table.\n"
     ]
    },
    {
     "name": "stderr",
     "output_type": "stream",
     "text": [
      "                                                                                \r"
     ]
    },
    {
     "name": "stdout",
     "output_type": "stream",
     "text": [
      "Oops, this user is existed. Since DELETE is only supported with v2 tables. Multiple data for this user will be stored in table.\n"
     ]
    },
    {
     "name": "stderr",
     "output_type": "stream",
     "text": [
      "                                                                                \r"
     ]
    },
    {
     "name": "stdout",
     "output_type": "stream",
     "text": [
      "Oops, this user is existed. Since DELETE is only supported with v2 tables. Multiple data for this user will be stored in table.\n"
     ]
    },
    {
     "name": "stderr",
     "output_type": "stream",
     "text": [
      "                                                                                \r"
     ]
    },
    {
     "name": "stdout",
     "output_type": "stream",
     "text": [
      "Oops, this user is existed. Since DELETE is only supported with v2 tables. Multiple data for this user will be stored in table.\n"
     ]
    },
    {
     "name": "stderr",
     "output_type": "stream",
     "text": [
      "                                                                                \r"
     ]
    },
    {
     "name": "stdout",
     "output_type": "stream",
     "text": [
      "Oops, this user is existed. Since DELETE is only supported with v2 tables. Multiple data for this user will be stored in table.\n"
     ]
    },
    {
     "name": "stderr",
     "output_type": "stream",
     "text": [
      "                                                                                \r"
     ]
    },
    {
     "name": "stdout",
     "output_type": "stream",
     "text": [
      "Oops, this user is existed. Since DELETE is only supported with v2 tables. Multiple data for this user will be stored in table.\n"
     ]
    },
    {
     "name": "stderr",
     "output_type": "stream",
     "text": [
      "                                                                                \r"
     ]
    },
    {
     "name": "stdout",
     "output_type": "stream",
     "text": [
      "Oops, this user is existed. Since DELETE is only supported with v2 tables. Multiple data for this user will be stored in table.\n"
     ]
    },
    {
     "name": "stderr",
     "output_type": "stream",
     "text": [
      "                                                                                \r"
     ]
    },
    {
     "name": "stdout",
     "output_type": "stream",
     "text": [
      "Oops, this user is existed. Since DELETE is only supported with v2 tables. Multiple data for this user will be stored in table.\n"
     ]
    },
    {
     "name": "stderr",
     "output_type": "stream",
     "text": [
      "                                                                                \r"
     ]
    },
    {
     "name": "stdout",
     "output_type": "stream",
     "text": [
      "Oops, this user is existed. Since DELETE is only supported with v2 tables. Multiple data for this user will be stored in table.\n"
     ]
    },
    {
     "name": "stderr",
     "output_type": "stream",
     "text": [
      "                                                                                \r"
     ]
    },
    {
     "name": "stdout",
     "output_type": "stream",
     "text": [
      "Oops, this user is existed. Since DELETE is only supported with v2 tables. Multiple data for this user will be stored in table.\n"
     ]
    },
    {
     "name": "stderr",
     "output_type": "stream",
     "text": [
      "                                                                                \r"
     ]
    },
    {
     "name": "stdout",
     "output_type": "stream",
     "text": [
      "Oops, this user is existed. Since DELETE is only supported with v2 tables. Multiple data for this user will be stored in table.\n"
     ]
    },
    {
     "name": "stderr",
     "output_type": "stream",
     "text": [
      "                                                                                \r"
     ]
    },
    {
     "name": "stdout",
     "output_type": "stream",
     "text": [
      "Oops, this user is existed. Since DELETE is only supported with v2 tables. Multiple data for this user will be stored in table.\n"
     ]
    },
    {
     "name": "stderr",
     "output_type": "stream",
     "text": [
      "                                                                                \r"
     ]
    },
    {
     "name": "stdout",
     "output_type": "stream",
     "text": [
      "Oops, this user is existed. Since DELETE is only supported with v2 tables. Multiple data for this user will be stored in table.\n"
     ]
    },
    {
     "name": "stderr",
     "output_type": "stream",
     "text": [
      "                                                                                \r"
     ]
    },
    {
     "name": "stdout",
     "output_type": "stream",
     "text": [
      "Oops, this user is existed. Since DELETE is only supported with v2 tables. Multiple data for this user will be stored in table.\n"
     ]
    },
    {
     "name": "stderr",
     "output_type": "stream",
     "text": [
      "                                                                                \r"
     ]
    },
    {
     "name": "stdout",
     "output_type": "stream",
     "text": [
      "Oops, this user is existed. Since DELETE is only supported with v2 tables. Multiple data for this user will be stored in table.\n"
     ]
    },
    {
     "name": "stderr",
     "output_type": "stream",
     "text": [
      "                                                                                \r"
     ]
    },
    {
     "name": "stdout",
     "output_type": "stream",
     "text": [
      "Oops, this user is existed. Since DELETE is only supported with v2 tables. Multiple data for this user will be stored in table.\n"
     ]
    },
    {
     "name": "stderr",
     "output_type": "stream",
     "text": [
      "\r",
      "[Stage 4983:=========================================>            (47 + 5) / 61]\r",
      "\r",
      "                                                                                \r"
     ]
    },
    {
     "name": "stdout",
     "output_type": "stream",
     "text": [
      "Oops, this user is existed. Since DELETE is only supported with v2 tables. Multiple data for this user will be stored in table.\n"
     ]
    },
    {
     "name": "stderr",
     "output_type": "stream",
     "text": [
      "                                                                                \r"
     ]
    },
    {
     "name": "stdout",
     "output_type": "stream",
     "text": [
      "Oops, this user is existed. Since DELETE is only supported with v2 tables. Multiple data for this user will be stored in table.\n"
     ]
    },
    {
     "name": "stderr",
     "output_type": "stream",
     "text": [
      "                                                                                \r"
     ]
    },
    {
     "name": "stdout",
     "output_type": "stream",
     "text": [
      "Oops, this user is existed. Since DELETE is only supported with v2 tables. Multiple data for this user will be stored in table.\n"
     ]
    },
    {
     "name": "stderr",
     "output_type": "stream",
     "text": [
      "                                                                                \r"
     ]
    },
    {
     "name": "stdout",
     "output_type": "stream",
     "text": [
      "Oops, this user is existed. Since DELETE is only supported with v2 tables. Multiple data for this user will be stored in table.\n"
     ]
    },
    {
     "name": "stderr",
     "output_type": "stream",
     "text": [
      "                                                                                \r"
     ]
    },
    {
     "name": "stdout",
     "output_type": "stream",
     "text": [
      "Oops, this user is existed. Since DELETE is only supported with v2 tables. Multiple data for this user will be stored in table.\n"
     ]
    },
    {
     "name": "stderr",
     "output_type": "stream",
     "text": [
      "                                                                                \r"
     ]
    },
    {
     "name": "stdout",
     "output_type": "stream",
     "text": [
      "Oops, this user is existed. Since DELETE is only supported with v2 tables. Multiple data for this user will be stored in table.\n"
     ]
    },
    {
     "name": "stderr",
     "output_type": "stream",
     "text": [
      "                                                                                \r"
     ]
    },
    {
     "name": "stdout",
     "output_type": "stream",
     "text": [
      "Oops, this user is existed. Since DELETE is only supported with v2 tables. Multiple data for this user will be stored in table.\n"
     ]
    },
    {
     "name": "stderr",
     "output_type": "stream",
     "text": [
      "                                                                                \r"
     ]
    },
    {
     "name": "stdout",
     "output_type": "stream",
     "text": [
      "Oops, this user is existed. Since DELETE is only supported with v2 tables. Multiple data for this user will be stored in table.\n"
     ]
    },
    {
     "name": "stderr",
     "output_type": "stream",
     "text": [
      "                                                                                \r"
     ]
    },
    {
     "name": "stdout",
     "output_type": "stream",
     "text": [
      "Oops, this user is existed. Since DELETE is only supported with v2 tables. Multiple data for this user will be stored in table.\n"
     ]
    },
    {
     "name": "stderr",
     "output_type": "stream",
     "text": [
      "                                                                                \r"
     ]
    },
    {
     "name": "stdout",
     "output_type": "stream",
     "text": [
      "Oops, this user is existed. Since DELETE is only supported with v2 tables. Multiple data for this user will be stored in table.\n"
     ]
    },
    {
     "name": "stderr",
     "output_type": "stream",
     "text": [
      "                                                                                \r"
     ]
    },
    {
     "name": "stdout",
     "output_type": "stream",
     "text": [
      "Oops, this user is existed. Since DELETE is only supported with v2 tables. Multiple data for this user will be stored in table.\n"
     ]
    },
    {
     "name": "stderr",
     "output_type": "stream",
     "text": [
      "                                                                                \r"
     ]
    },
    {
     "name": "stdout",
     "output_type": "stream",
     "text": [
      "Oops, this user is existed. Since DELETE is only supported with v2 tables. Multiple data for this user will be stored in table.\n"
     ]
    },
    {
     "name": "stderr",
     "output_type": "stream",
     "text": [
      "                                                                                \r"
     ]
    },
    {
     "name": "stdout",
     "output_type": "stream",
     "text": [
      "Oops, this user is existed. Since DELETE is only supported with v2 tables. Multiple data for this user will be stored in table.\n"
     ]
    },
    {
     "name": "stderr",
     "output_type": "stream",
     "text": [
      "                                                                                \r"
     ]
    },
    {
     "name": "stdout",
     "output_type": "stream",
     "text": [
      "Oops, this user is existed. Since DELETE is only supported with v2 tables. Multiple data for this user will be stored in table.\n"
     ]
    },
    {
     "name": "stderr",
     "output_type": "stream",
     "text": [
      "                                                                                \r"
     ]
    },
    {
     "name": "stdout",
     "output_type": "stream",
     "text": [
      "Oops, this user is existed. Since DELETE is only supported with v2 tables. Multiple data for this user will be stored in table.\n"
     ]
    },
    {
     "name": "stderr",
     "output_type": "stream",
     "text": [
      "                                                                                \r"
     ]
    },
    {
     "name": "stdout",
     "output_type": "stream",
     "text": [
      "Oops, this user is existed. Since DELETE is only supported with v2 tables. Multiple data for this user will be stored in table.\n"
     ]
    },
    {
     "name": "stderr",
     "output_type": "stream",
     "text": [
      "                                                                                \r"
     ]
    },
    {
     "name": "stdout",
     "output_type": "stream",
     "text": [
      "Oops, this user is existed. Since DELETE is only supported with v2 tables. Multiple data for this user will be stored in table.\n"
     ]
    },
    {
     "name": "stderr",
     "output_type": "stream",
     "text": [
      "                                                                                \r"
     ]
    },
    {
     "name": "stdout",
     "output_type": "stream",
     "text": [
      "Oops, this user is existed. Since DELETE is only supported with v2 tables. Multiple data for this user will be stored in table.\n"
     ]
    },
    {
     "name": "stderr",
     "output_type": "stream",
     "text": [
      "                                                                                \r"
     ]
    },
    {
     "name": "stdout",
     "output_type": "stream",
     "text": [
      "Oops, this user is existed. Since DELETE is only supported with v2 tables. Multiple data for this user will be stored in table.\n"
     ]
    },
    {
     "name": "stderr",
     "output_type": "stream",
     "text": [
      "                                                                                \r"
     ]
    },
    {
     "name": "stdout",
     "output_type": "stream",
     "text": [
      "Oops, this user is existed. Since DELETE is only supported with v2 tables. Multiple data for this user will be stored in table.\n"
     ]
    },
    {
     "name": "stderr",
     "output_type": "stream",
     "text": [
      "                                                                                \r"
     ]
    },
    {
     "name": "stdout",
     "output_type": "stream",
     "text": [
      "Oops, this user is existed. Since DELETE is only supported with v2 tables. Multiple data for this user will be stored in table.\n"
     ]
    },
    {
     "name": "stderr",
     "output_type": "stream",
     "text": [
      "                                                                                \r"
     ]
    },
    {
     "name": "stdout",
     "output_type": "stream",
     "text": [
      "Oops, this user is existed. Since DELETE is only supported with v2 tables. Multiple data for this user will be stored in table.\n"
     ]
    },
    {
     "name": "stderr",
     "output_type": "stream",
     "text": [
      "                                                                                \r"
     ]
    },
    {
     "name": "stdout",
     "output_type": "stream",
     "text": [
      "Oops, this user is existed. Since DELETE is only supported with v2 tables. Multiple data for this user will be stored in table.\n"
     ]
    },
    {
     "name": "stderr",
     "output_type": "stream",
     "text": [
      "                                                                                \r"
     ]
    },
    {
     "name": "stdout",
     "output_type": "stream",
     "text": [
      "Oops, this user is existed. Since DELETE is only supported with v2 tables. Multiple data for this user will be stored in table.\n"
     ]
    },
    {
     "name": "stderr",
     "output_type": "stream",
     "text": [
      "                                                                                \r"
     ]
    },
    {
     "name": "stdout",
     "output_type": "stream",
     "text": [
      "Oops, this user is existed. Since DELETE is only supported with v2 tables. Multiple data for this user will be stored in table.\n"
     ]
    },
    {
     "name": "stderr",
     "output_type": "stream",
     "text": [
      "                                                                                \r"
     ]
    },
    {
     "name": "stdout",
     "output_type": "stream",
     "text": [
      "Oops, this user is existed. Since DELETE is only supported with v2 tables. Multiple data for this user will be stored in table.\n"
     ]
    },
    {
     "name": "stderr",
     "output_type": "stream",
     "text": [
      "                                                                                \r"
     ]
    },
    {
     "name": "stdout",
     "output_type": "stream",
     "text": [
      "Oops, this user is existed. Since DELETE is only supported with v2 tables. Multiple data for this user will be stored in table.\n"
     ]
    },
    {
     "name": "stderr",
     "output_type": "stream",
     "text": [
      "                                                                                \r"
     ]
    },
    {
     "name": "stdout",
     "output_type": "stream",
     "text": [
      "Oops, this user is existed. Since DELETE is only supported with v2 tables. Multiple data for this user will be stored in table.\n"
     ]
    },
    {
     "name": "stderr",
     "output_type": "stream",
     "text": [
      "                                                                                \r"
     ]
    },
    {
     "name": "stdout",
     "output_type": "stream",
     "text": [
      "Oops, this user is existed. Since DELETE is only supported with v2 tables. Multiple data for this user will be stored in table.\n"
     ]
    },
    {
     "name": "stderr",
     "output_type": "stream",
     "text": [
      "                                                                                \r"
     ]
    },
    {
     "name": "stdout",
     "output_type": "stream",
     "text": [
      "Oops, this user is existed. Since DELETE is only supported with v2 tables. Multiple data for this user will be stored in table.\n"
     ]
    },
    {
     "name": "stderr",
     "output_type": "stream",
     "text": [
      "                                                                                \r"
     ]
    },
    {
     "name": "stdout",
     "output_type": "stream",
     "text": [
      "Oops, this user is existed. Since DELETE is only supported with v2 tables. Multiple data for this user will be stored in table.\n"
     ]
    },
    {
     "name": "stderr",
     "output_type": "stream",
     "text": [
      "                                                                                \r"
     ]
    },
    {
     "name": "stdout",
     "output_type": "stream",
     "text": [
      "Oops, this user is existed. Since DELETE is only supported with v2 tables. Multiple data for this user will be stored in table.\n"
     ]
    },
    {
     "name": "stderr",
     "output_type": "stream",
     "text": [
      "                                                                                \r"
     ]
    },
    {
     "name": "stdout",
     "output_type": "stream",
     "text": [
      "Oops, this user is existed. Since DELETE is only supported with v2 tables. Multiple data for this user will be stored in table.\n"
     ]
    },
    {
     "name": "stderr",
     "output_type": "stream",
     "text": [
      "                                                                                \r"
     ]
    },
    {
     "name": "stdout",
     "output_type": "stream",
     "text": [
      "Oops, this user is existed. Since DELETE is only supported with v2 tables. Multiple data for this user will be stored in table.\n"
     ]
    },
    {
     "name": "stderr",
     "output_type": "stream",
     "text": [
      "                                                                                \r"
     ]
    },
    {
     "name": "stdout",
     "output_type": "stream",
     "text": [
      "Oops, this user is existed. Since DELETE is only supported with v2 tables. Multiple data for this user will be stored in table.\n"
     ]
    },
    {
     "name": "stderr",
     "output_type": "stream",
     "text": [
      "                                                                                \r"
     ]
    },
    {
     "name": "stdout",
     "output_type": "stream",
     "text": [
      "Oops, this user is existed. Since DELETE is only supported with v2 tables. Multiple data for this user will be stored in table.\n"
     ]
    },
    {
     "name": "stderr",
     "output_type": "stream",
     "text": [
      "                                                                                \r"
     ]
    },
    {
     "name": "stdout",
     "output_type": "stream",
     "text": [
      "Oops, this user is existed. Since DELETE is only supported with v2 tables. Multiple data for this user will be stored in table.\n"
     ]
    },
    {
     "name": "stderr",
     "output_type": "stream",
     "text": [
      "                                                                                \r"
     ]
    },
    {
     "name": "stdout",
     "output_type": "stream",
     "text": [
      "Oops, this user is existed. Since DELETE is only supported with v2 tables. Multiple data for this user will be stored in table.\n"
     ]
    },
    {
     "name": "stderr",
     "output_type": "stream",
     "text": [
      "                                                                                \r"
     ]
    },
    {
     "name": "stdout",
     "output_type": "stream",
     "text": [
      "Oops, this user is existed. Since DELETE is only supported with v2 tables. Multiple data for this user will be stored in table.\n"
     ]
    },
    {
     "name": "stderr",
     "output_type": "stream",
     "text": [
      "                                                                                \r"
     ]
    },
    {
     "name": "stdout",
     "output_type": "stream",
     "text": [
      "Oops, this user is existed. Since DELETE is only supported with v2 tables. Multiple data for this user will be stored in table.\n"
     ]
    },
    {
     "name": "stderr",
     "output_type": "stream",
     "text": [
      "                                                                                \r"
     ]
    },
    {
     "name": "stdout",
     "output_type": "stream",
     "text": [
      "Oops, this user is existed. Since DELETE is only supported with v2 tables. Multiple data for this user will be stored in table.\n"
     ]
    },
    {
     "name": "stderr",
     "output_type": "stream",
     "text": [
      "                                                                                \r"
     ]
    },
    {
     "name": "stdout",
     "output_type": "stream",
     "text": [
      "Oops, this user is existed. Since DELETE is only supported with v2 tables. Multiple data for this user will be stored in table.\n"
     ]
    },
    {
     "name": "stderr",
     "output_type": "stream",
     "text": [
      "                                                                                \r"
     ]
    },
    {
     "name": "stdout",
     "output_type": "stream",
     "text": [
      "Oops, this user is existed. Since DELETE is only supported with v2 tables. Multiple data for this user will be stored in table.\n"
     ]
    },
    {
     "name": "stderr",
     "output_type": "stream",
     "text": [
      "                                                                                \r"
     ]
    },
    {
     "name": "stdout",
     "output_type": "stream",
     "text": [
      "Oops, this user is existed. Since DELETE is only supported with v2 tables. Multiple data for this user will be stored in table.\n"
     ]
    },
    {
     "name": "stderr",
     "output_type": "stream",
     "text": [
      "                                                                                \r"
     ]
    },
    {
     "name": "stdout",
     "output_type": "stream",
     "text": [
      "Oops, this user is existed. Since DELETE is only supported with v2 tables. Multiple data for this user will be stored in table.\n"
     ]
    },
    {
     "name": "stderr",
     "output_type": "stream",
     "text": [
      "                                                                                \r"
     ]
    },
    {
     "name": "stdout",
     "output_type": "stream",
     "text": [
      "Oops, this user is existed. Since DELETE is only supported with v2 tables. Multiple data for this user will be stored in table.\n"
     ]
    },
    {
     "name": "stderr",
     "output_type": "stream",
     "text": [
      "                                                                                \r"
     ]
    },
    {
     "name": "stdout",
     "output_type": "stream",
     "text": [
      "Oops, this user is existed. Since DELETE is only supported with v2 tables. Multiple data for this user will be stored in table.\n"
     ]
    },
    {
     "name": "stderr",
     "output_type": "stream",
     "text": [
      "                                                                                \r"
     ]
    },
    {
     "name": "stdout",
     "output_type": "stream",
     "text": [
      "Oops, this user is existed. Since DELETE is only supported with v2 tables. Multiple data for this user will be stored in table.\n"
     ]
    },
    {
     "name": "stderr",
     "output_type": "stream",
     "text": [
      "                                                                                \r"
     ]
    },
    {
     "name": "stdout",
     "output_type": "stream",
     "text": [
      "Oops, this user is existed. Since DELETE is only supported with v2 tables. Multiple data for this user will be stored in table.\n"
     ]
    },
    {
     "name": "stderr",
     "output_type": "stream",
     "text": [
      "                                                                                \r"
     ]
    },
    {
     "name": "stdout",
     "output_type": "stream",
     "text": [
      "Oops, this user is existed. Since DELETE is only supported with v2 tables. Multiple data for this user will be stored in table.\n"
     ]
    },
    {
     "name": "stderr",
     "output_type": "stream",
     "text": [
      "                                                                                \r"
     ]
    },
    {
     "name": "stdout",
     "output_type": "stream",
     "text": [
      "Oops, this user is existed. Since DELETE is only supported with v2 tables. Multiple data for this user will be stored in table.\n"
     ]
    },
    {
     "name": "stderr",
     "output_type": "stream",
     "text": [
      "                                                                                \r"
     ]
    },
    {
     "name": "stdout",
     "output_type": "stream",
     "text": [
      "Oops, this user is existed. Since DELETE is only supported with v2 tables. Multiple data for this user will be stored in table.\n"
     ]
    },
    {
     "name": "stderr",
     "output_type": "stream",
     "text": [
      "                                                                                \r"
     ]
    },
    {
     "name": "stdout",
     "output_type": "stream",
     "text": [
      "Oops, this user is existed. Since DELETE is only supported with v2 tables. Multiple data for this user will be stored in table.\n"
     ]
    },
    {
     "name": "stderr",
     "output_type": "stream",
     "text": [
      "                                                                                \r"
     ]
    },
    {
     "name": "stdout",
     "output_type": "stream",
     "text": [
      "Oops, this user is existed. Since DELETE is only supported with v2 tables. Multiple data for this user will be stored in table.\n"
     ]
    },
    {
     "name": "stderr",
     "output_type": "stream",
     "text": [
      "                                                                                \r"
     ]
    },
    {
     "name": "stdout",
     "output_type": "stream",
     "text": [
      "Oops, this user is existed. Since DELETE is only supported with v2 tables. Multiple data for this user will be stored in table.\n"
     ]
    },
    {
     "name": "stderr",
     "output_type": "stream",
     "text": [
      "                                                                                \r"
     ]
    },
    {
     "name": "stdout",
     "output_type": "stream",
     "text": [
      "Oops, this user is existed. Since DELETE is only supported with v2 tables. Multiple data for this user will be stored in table.\n"
     ]
    },
    {
     "name": "stderr",
     "output_type": "stream",
     "text": [
      "                                                                                \r"
     ]
    },
    {
     "name": "stdout",
     "output_type": "stream",
     "text": [
      "Oops, this user is existed. Since DELETE is only supported with v2 tables. Multiple data for this user will be stored in table.\n"
     ]
    },
    {
     "name": "stderr",
     "output_type": "stream",
     "text": [
      "                                                                                \r"
     ]
    },
    {
     "name": "stdout",
     "output_type": "stream",
     "text": [
      "Oops, this user is existed. Since DELETE is only supported with v2 tables. Multiple data for this user will be stored in table.\n"
     ]
    },
    {
     "name": "stderr",
     "output_type": "stream",
     "text": [
      "                                                                                \r"
     ]
    },
    {
     "name": "stdout",
     "output_type": "stream",
     "text": [
      "Oops, this user is existed. Since DELETE is only supported with v2 tables. Multiple data for this user will be stored in table.\n"
     ]
    },
    {
     "name": "stderr",
     "output_type": "stream",
     "text": [
      "                                                                                \r"
     ]
    },
    {
     "name": "stdout",
     "output_type": "stream",
     "text": [
      "Oops, this user is existed. Since DELETE is only supported with v2 tables. Multiple data for this user will be stored in table.\n"
     ]
    },
    {
     "name": "stderr",
     "output_type": "stream",
     "text": [
      "                                                                                \r"
     ]
    },
    {
     "name": "stdout",
     "output_type": "stream",
     "text": [
      "Oops, this user is existed. Since DELETE is only supported with v2 tables. Multiple data for this user will be stored in table.\n"
     ]
    },
    {
     "name": "stderr",
     "output_type": "stream",
     "text": [
      "                                                                                \r"
     ]
    },
    {
     "name": "stdout",
     "output_type": "stream",
     "text": [
      "Oops, this user is existed. Since DELETE is only supported with v2 tables. Multiple data for this user will be stored in table.\n"
     ]
    },
    {
     "name": "stderr",
     "output_type": "stream",
     "text": [
      "                                                                                \r"
     ]
    },
    {
     "name": "stdout",
     "output_type": "stream",
     "text": [
      "Oops, this user is existed. Since DELETE is only supported with v2 tables. Multiple data for this user will be stored in table.\n"
     ]
    },
    {
     "name": "stderr",
     "output_type": "stream",
     "text": [
      "                                                                                \r"
     ]
    },
    {
     "name": "stdout",
     "output_type": "stream",
     "text": [
      "Oops, this user is existed. Since DELETE is only supported with v2 tables. Multiple data for this user will be stored in table.\n"
     ]
    },
    {
     "name": "stderr",
     "output_type": "stream",
     "text": [
      "                                                                                \r"
     ]
    },
    {
     "name": "stdout",
     "output_type": "stream",
     "text": [
      "Oops, this user is existed. Since DELETE is only supported with v2 tables. Multiple data for this user will be stored in table.\n"
     ]
    },
    {
     "name": "stderr",
     "output_type": "stream",
     "text": [
      "                                                                                \r"
     ]
    },
    {
     "name": "stdout",
     "output_type": "stream",
     "text": [
      "Oops, this user is existed. Since DELETE is only supported with v2 tables. Multiple data for this user will be stored in table.\n"
     ]
    },
    {
     "name": "stderr",
     "output_type": "stream",
     "text": [
      "                                                                                \r"
     ]
    },
    {
     "name": "stdout",
     "output_type": "stream",
     "text": [
      "Oops, this user is existed. Since DELETE is only supported with v2 tables. Multiple data for this user will be stored in table.\n"
     ]
    },
    {
     "name": "stderr",
     "output_type": "stream",
     "text": [
      "                                                                                \r"
     ]
    },
    {
     "name": "stdout",
     "output_type": "stream",
     "text": [
      "Oops, this user is existed. Since DELETE is only supported with v2 tables. Multiple data for this user will be stored in table.\n"
     ]
    },
    {
     "name": "stderr",
     "output_type": "stream",
     "text": [
      "                                                                                \r"
     ]
    },
    {
     "name": "stdout",
     "output_type": "stream",
     "text": [
      "Oops, this user is existed. Since DELETE is only supported with v2 tables. Multiple data for this user will be stored in table.\n"
     ]
    },
    {
     "name": "stderr",
     "output_type": "stream",
     "text": [
      "                                                                                \r"
     ]
    },
    {
     "name": "stdout",
     "output_type": "stream",
     "text": [
      "Oops, this user is existed. Since DELETE is only supported with v2 tables. Multiple data for this user will be stored in table.\n"
     ]
    },
    {
     "name": "stderr",
     "output_type": "stream",
     "text": [
      "                                                                                \r"
     ]
    },
    {
     "name": "stdout",
     "output_type": "stream",
     "text": [
      "Oops, this user is existed. Since DELETE is only supported with v2 tables. Multiple data for this user will be stored in table.\n"
     ]
    },
    {
     "name": "stderr",
     "output_type": "stream",
     "text": [
      "                                                                                \r"
     ]
    },
    {
     "name": "stdout",
     "output_type": "stream",
     "text": [
      "Oops, this user is existed. Since DELETE is only supported with v2 tables. Multiple data for this user will be stored in table.\n"
     ]
    },
    {
     "name": "stderr",
     "output_type": "stream",
     "text": [
      "                                                                                \r"
     ]
    },
    {
     "name": "stdout",
     "output_type": "stream",
     "text": [
      "Oops, this user is existed. Since DELETE is only supported with v2 tables. Multiple data for this user will be stored in table.\n"
     ]
    },
    {
     "name": "stderr",
     "output_type": "stream",
     "text": [
      "                                                                                \r"
     ]
    },
    {
     "name": "stdout",
     "output_type": "stream",
     "text": [
      "Oops, this user is existed. Since DELETE is only supported with v2 tables. Multiple data for this user will be stored in table.\n"
     ]
    },
    {
     "name": "stderr",
     "output_type": "stream",
     "text": [
      "                                                                                \r"
     ]
    },
    {
     "name": "stdout",
     "output_type": "stream",
     "text": [
      "Oops, this user is existed. Since DELETE is only supported with v2 tables. Multiple data for this user will be stored in table.\n"
     ]
    },
    {
     "name": "stderr",
     "output_type": "stream",
     "text": [
      "                                                                                \r"
     ]
    },
    {
     "name": "stdout",
     "output_type": "stream",
     "text": [
      "Oops, this user is existed. Since DELETE is only supported with v2 tables. Multiple data for this user will be stored in table.\n"
     ]
    },
    {
     "name": "stderr",
     "output_type": "stream",
     "text": [
      "                                                                                \r"
     ]
    },
    {
     "name": "stdout",
     "output_type": "stream",
     "text": [
      "Oops, this user is existed. Since DELETE is only supported with v2 tables. Multiple data for this user will be stored in table.\n"
     ]
    },
    {
     "name": "stderr",
     "output_type": "stream",
     "text": [
      "                                                                                \r"
     ]
    },
    {
     "name": "stdout",
     "output_type": "stream",
     "text": [
      "Oops, this user is existed. Since DELETE is only supported with v2 tables. Multiple data for this user will be stored in table.\n"
     ]
    },
    {
     "name": "stderr",
     "output_type": "stream",
     "text": [
      "                                                                                \r"
     ]
    },
    {
     "name": "stdout",
     "output_type": "stream",
     "text": [
      "Oops, this user is existed. Since DELETE is only supported with v2 tables. Multiple data for this user will be stored in table.\n"
     ]
    },
    {
     "name": "stderr",
     "output_type": "stream",
     "text": [
      "                                                                                \r"
     ]
    },
    {
     "name": "stdout",
     "output_type": "stream",
     "text": [
      "Oops, this user is existed. Since DELETE is only supported with v2 tables. Multiple data for this user will be stored in table.\n"
     ]
    },
    {
     "name": "stderr",
     "output_type": "stream",
     "text": [
      "                                                                                \r"
     ]
    },
    {
     "name": "stdout",
     "output_type": "stream",
     "text": [
      "Oops, this user is existed. Since DELETE is only supported with v2 tables. Multiple data for this user will be stored in table.\n"
     ]
    },
    {
     "name": "stderr",
     "output_type": "stream",
     "text": [
      "                                                                                \r"
     ]
    },
    {
     "name": "stdout",
     "output_type": "stream",
     "text": [
      "Oops, this user is existed. Since DELETE is only supported with v2 tables. Multiple data for this user will be stored in table.\n"
     ]
    },
    {
     "name": "stderr",
     "output_type": "stream",
     "text": [
      "                                                                                \r"
     ]
    },
    {
     "name": "stdout",
     "output_type": "stream",
     "text": [
      "Oops, this user is existed. Since DELETE is only supported with v2 tables. Multiple data for this user will be stored in table.\n"
     ]
    },
    {
     "name": "stderr",
     "output_type": "stream",
     "text": [
      "                                                                                \r"
     ]
    },
    {
     "name": "stdout",
     "output_type": "stream",
     "text": [
      "Oops, this user is existed. Since DELETE is only supported with v2 tables. Multiple data for this user will be stored in table.\n"
     ]
    },
    {
     "name": "stderr",
     "output_type": "stream",
     "text": [
      "                                                                                \r"
     ]
    },
    {
     "name": "stdout",
     "output_type": "stream",
     "text": [
      "Oops, this user is existed. Since DELETE is only supported with v2 tables. Multiple data for this user will be stored in table.\n"
     ]
    },
    {
     "name": "stderr",
     "output_type": "stream",
     "text": [
      "                                                                                \r"
     ]
    },
    {
     "name": "stdout",
     "output_type": "stream",
     "text": [
      "Oops, this user is existed. Since DELETE is only supported with v2 tables. Multiple data for this user will be stored in table.\n"
     ]
    },
    {
     "name": "stderr",
     "output_type": "stream",
     "text": [
      "                                                                                \r"
     ]
    },
    {
     "name": "stdout",
     "output_type": "stream",
     "text": [
      "Oops, this user is existed. Since DELETE is only supported with v2 tables. Multiple data for this user will be stored in table.\n"
     ]
    },
    {
     "name": "stderr",
     "output_type": "stream",
     "text": [
      "                                                                                \r"
     ]
    },
    {
     "name": "stdout",
     "output_type": "stream",
     "text": [
      "Oops, this user is existed. Since DELETE is only supported with v2 tables. Multiple data for this user will be stored in table.\n"
     ]
    },
    {
     "name": "stderr",
     "output_type": "stream",
     "text": [
      "                                                                                \r"
     ]
    },
    {
     "name": "stdout",
     "output_type": "stream",
     "text": [
      "Oops, this user is existed. Since DELETE is only supported with v2 tables. Multiple data for this user will be stored in table.\n"
     ]
    },
    {
     "name": "stderr",
     "output_type": "stream",
     "text": [
      "                                                                                \r"
     ]
    },
    {
     "name": "stdout",
     "output_type": "stream",
     "text": [
      "Oops, this user is existed. Since DELETE is only supported with v2 tables. Multiple data for this user will be stored in table.\n"
     ]
    },
    {
     "name": "stderr",
     "output_type": "stream",
     "text": [
      "                                                                                \r"
     ]
    },
    {
     "name": "stdout",
     "output_type": "stream",
     "text": [
      "Oops, this user is existed. Since DELETE is only supported with v2 tables. Multiple data for this user will be stored in table.\n"
     ]
    },
    {
     "name": "stderr",
     "output_type": "stream",
     "text": [
      "                                                                                \r"
     ]
    },
    {
     "name": "stdout",
     "output_type": "stream",
     "text": [
      "Oops, this user is existed. Since DELETE is only supported with v2 tables. Multiple data for this user will be stored in table.\n"
     ]
    },
    {
     "name": "stderr",
     "output_type": "stream",
     "text": [
      "                                                                                \r"
     ]
    },
    {
     "name": "stdout",
     "output_type": "stream",
     "text": [
      "Oops, this user is existed. Since DELETE is only supported with v2 tables. Multiple data for this user will be stored in table.\n"
     ]
    },
    {
     "name": "stderr",
     "output_type": "stream",
     "text": [
      "                                                                                \r"
     ]
    },
    {
     "name": "stdout",
     "output_type": "stream",
     "text": [
      "Oops, this user is existed. Since DELETE is only supported with v2 tables. Multiple data for this user will be stored in table.\n"
     ]
    },
    {
     "name": "stderr",
     "output_type": "stream",
     "text": [
      "                                                                                \r"
     ]
    },
    {
     "name": "stdout",
     "output_type": "stream",
     "text": [
      "Oops, this user is existed. Since DELETE is only supported with v2 tables. Multiple data for this user will be stored in table.\n"
     ]
    },
    {
     "name": "stderr",
     "output_type": "stream",
     "text": [
      "                                                                                \r"
     ]
    },
    {
     "name": "stdout",
     "output_type": "stream",
     "text": [
      "Oops, this user is existed. Since DELETE is only supported with v2 tables. Multiple data for this user will be stored in table.\n"
     ]
    },
    {
     "name": "stderr",
     "output_type": "stream",
     "text": [
      "                                                                                \r"
     ]
    },
    {
     "name": "stdout",
     "output_type": "stream",
     "text": [
      "Oops, this user is existed. Since DELETE is only supported with v2 tables. Multiple data for this user will be stored in table.\n"
     ]
    },
    {
     "name": "stderr",
     "output_type": "stream",
     "text": [
      "                                                                                \r"
     ]
    },
    {
     "name": "stdout",
     "output_type": "stream",
     "text": [
      "Oops, this user is existed. Since DELETE is only supported with v2 tables. Multiple data for this user will be stored in table.\n"
     ]
    },
    {
     "name": "stderr",
     "output_type": "stream",
     "text": [
      "                                                                                \r"
     ]
    },
    {
     "name": "stdout",
     "output_type": "stream",
     "text": [
      "Oops, this user is existed. Since DELETE is only supported with v2 tables. Multiple data for this user will be stored in table.\n"
     ]
    },
    {
     "name": "stderr",
     "output_type": "stream",
     "text": [
      "                                                                                \r"
     ]
    },
    {
     "name": "stdout",
     "output_type": "stream",
     "text": [
      "Oops, this user is existed. Since DELETE is only supported with v2 tables. Multiple data for this user will be stored in table.\n"
     ]
    },
    {
     "name": "stderr",
     "output_type": "stream",
     "text": [
      "                                                                                \r"
     ]
    },
    {
     "name": "stdout",
     "output_type": "stream",
     "text": [
      "Oops, this user is existed. Since DELETE is only supported with v2 tables. Multiple data for this user will be stored in table.\n"
     ]
    },
    {
     "name": "stderr",
     "output_type": "stream",
     "text": [
      "                                                                                \r"
     ]
    },
    {
     "name": "stdout",
     "output_type": "stream",
     "text": [
      "Oops, this user is existed. Since DELETE is only supported with v2 tables. Multiple data for this user will be stored in table.\n"
     ]
    },
    {
     "name": "stderr",
     "output_type": "stream",
     "text": [
      "                                                                                \r"
     ]
    },
    {
     "name": "stdout",
     "output_type": "stream",
     "text": [
      "Oops, this user is existed. Since DELETE is only supported with v2 tables. Multiple data for this user will be stored in table.\n"
     ]
    },
    {
     "name": "stderr",
     "output_type": "stream",
     "text": [
      "                                                                                \r"
     ]
    },
    {
     "name": "stdout",
     "output_type": "stream",
     "text": [
      "Oops, this user is existed. Since DELETE is only supported with v2 tables. Multiple data for this user will be stored in table.\n"
     ]
    },
    {
     "name": "stderr",
     "output_type": "stream",
     "text": [
      "                                                                                \r"
     ]
    },
    {
     "name": "stdout",
     "output_type": "stream",
     "text": [
      "Oops, this user is existed. Since DELETE is only supported with v2 tables. Multiple data for this user will be stored in table.\n"
     ]
    },
    {
     "name": "stderr",
     "output_type": "stream",
     "text": [
      "                                                                                \r"
     ]
    },
    {
     "name": "stdout",
     "output_type": "stream",
     "text": [
      "Oops, this user is existed. Since DELETE is only supported with v2 tables. Multiple data for this user will be stored in table.\n"
     ]
    },
    {
     "name": "stderr",
     "output_type": "stream",
     "text": [
      "                                                                                \r"
     ]
    },
    {
     "name": "stdout",
     "output_type": "stream",
     "text": [
      "Oops, this user is existed. Since DELETE is only supported with v2 tables. Multiple data for this user will be stored in table.\n"
     ]
    },
    {
     "name": "stderr",
     "output_type": "stream",
     "text": [
      "                                                                                \r"
     ]
    },
    {
     "name": "stdout",
     "output_type": "stream",
     "text": [
      "Oops, this user is existed. Since DELETE is only supported with v2 tables. Multiple data for this user will be stored in table.\n"
     ]
    },
    {
     "name": "stderr",
     "output_type": "stream",
     "text": [
      "                                                                                \r"
     ]
    },
    {
     "name": "stdout",
     "output_type": "stream",
     "text": [
      "Oops, this user is existed. Since DELETE is only supported with v2 tables. Multiple data for this user will be stored in table.\n"
     ]
    },
    {
     "name": "stderr",
     "output_type": "stream",
     "text": [
      "                                                                                \r"
     ]
    },
    {
     "name": "stdout",
     "output_type": "stream",
     "text": [
      "Oops, this user is existed. Since DELETE is only supported with v2 tables. Multiple data for this user will be stored in table.\n"
     ]
    },
    {
     "name": "stderr",
     "output_type": "stream",
     "text": [
      "                                                                                \r"
     ]
    },
    {
     "name": "stdout",
     "output_type": "stream",
     "text": [
      "Oops, this user is existed. Since DELETE is only supported with v2 tables. Multiple data for this user will be stored in table.\n"
     ]
    },
    {
     "name": "stderr",
     "output_type": "stream",
     "text": [
      "                                                                                \r"
     ]
    },
    {
     "name": "stdout",
     "output_type": "stream",
     "text": [
      "Oops, this user is existed. Since DELETE is only supported with v2 tables. Multiple data for this user will be stored in table.\n"
     ]
    },
    {
     "name": "stderr",
     "output_type": "stream",
     "text": [
      "                                                                                \r"
     ]
    },
    {
     "name": "stdout",
     "output_type": "stream",
     "text": [
      "Oops, this user is existed. Since DELETE is only supported with v2 tables. Multiple data for this user will be stored in table.\n"
     ]
    },
    {
     "name": "stderr",
     "output_type": "stream",
     "text": [
      "                                                                                \r"
     ]
    },
    {
     "name": "stdout",
     "output_type": "stream",
     "text": [
      "Oops, this user is existed. Since DELETE is only supported with v2 tables. Multiple data for this user will be stored in table.\n"
     ]
    },
    {
     "name": "stderr",
     "output_type": "stream",
     "text": [
      "                                                                                \r"
     ]
    },
    {
     "name": "stdout",
     "output_type": "stream",
     "text": [
      "Oops, this user is existed. Since DELETE is only supported with v2 tables. Multiple data for this user will be stored in table.\n"
     ]
    },
    {
     "name": "stderr",
     "output_type": "stream",
     "text": [
      "                                                                                \r"
     ]
    },
    {
     "name": "stdout",
     "output_type": "stream",
     "text": [
      "Oops, this user is existed. Since DELETE is only supported with v2 tables. Multiple data for this user will be stored in table.\n"
     ]
    },
    {
     "name": "stderr",
     "output_type": "stream",
     "text": [
      "                                                                                \r"
     ]
    },
    {
     "name": "stdout",
     "output_type": "stream",
     "text": [
      "Oops, this user is existed. Since DELETE is only supported with v2 tables. Multiple data for this user will be stored in table.\n"
     ]
    },
    {
     "name": "stderr",
     "output_type": "stream",
     "text": [
      "                                                                                \r"
     ]
    },
    {
     "name": "stdout",
     "output_type": "stream",
     "text": [
      "Oops, this user is existed. Since DELETE is only supported with v2 tables. Multiple data for this user will be stored in table.\n"
     ]
    },
    {
     "name": "stderr",
     "output_type": "stream",
     "text": [
      "                                                                                \r"
     ]
    },
    {
     "name": "stdout",
     "output_type": "stream",
     "text": [
      "Oops, this user is existed. Since DELETE is only supported with v2 tables. Multiple data for this user will be stored in table.\n"
     ]
    },
    {
     "name": "stderr",
     "output_type": "stream",
     "text": [
      "                                                                                \r"
     ]
    },
    {
     "name": "stdout",
     "output_type": "stream",
     "text": [
      "Oops, this user is existed. Since DELETE is only supported with v2 tables. Multiple data for this user will be stored in table.\n"
     ]
    },
    {
     "name": "stderr",
     "output_type": "stream",
     "text": [
      "                                                                                \r"
     ]
    },
    {
     "name": "stdout",
     "output_type": "stream",
     "text": [
      "Oops, this user is existed. Since DELETE is only supported with v2 tables. Multiple data for this user will be stored in table.\n"
     ]
    },
    {
     "name": "stderr",
     "output_type": "stream",
     "text": [
      "                                                                                \r"
     ]
    },
    {
     "name": "stdout",
     "output_type": "stream",
     "text": [
      "Oops, this user is existed. Since DELETE is only supported with v2 tables. Multiple data for this user will be stored in table.\n"
     ]
    },
    {
     "name": "stderr",
     "output_type": "stream",
     "text": [
      "                                                                                \r"
     ]
    },
    {
     "name": "stdout",
     "output_type": "stream",
     "text": [
      "Oops, this user is existed. Since DELETE is only supported with v2 tables. Multiple data for this user will be stored in table.\n"
     ]
    },
    {
     "name": "stderr",
     "output_type": "stream",
     "text": [
      "                                                                                \r"
     ]
    },
    {
     "name": "stdout",
     "output_type": "stream",
     "text": [
      "Oops, this user is existed. Since DELETE is only supported with v2 tables. Multiple data for this user will be stored in table.\n"
     ]
    },
    {
     "name": "stderr",
     "output_type": "stream",
     "text": [
      "                                                                                \r"
     ]
    },
    {
     "name": "stdout",
     "output_type": "stream",
     "text": [
      "Oops, this user is existed. Since DELETE is only supported with v2 tables. Multiple data for this user will be stored in table.\n"
     ]
    },
    {
     "name": "stderr",
     "output_type": "stream",
     "text": [
      "                                                                                \r"
     ]
    },
    {
     "name": "stdout",
     "output_type": "stream",
     "text": [
      "Oops, this user is existed. Since DELETE is only supported with v2 tables. Multiple data for this user will be stored in table.\n"
     ]
    },
    {
     "name": "stderr",
     "output_type": "stream",
     "text": [
      "                                                                                \r"
     ]
    },
    {
     "name": "stdout",
     "output_type": "stream",
     "text": [
      "Oops, this user is existed. Since DELETE is only supported with v2 tables. Multiple data for this user will be stored in table.\n"
     ]
    },
    {
     "name": "stderr",
     "output_type": "stream",
     "text": [
      "                                                                                \r"
     ]
    },
    {
     "name": "stdout",
     "output_type": "stream",
     "text": [
      "Oops, this user is existed. Since DELETE is only supported with v2 tables. Multiple data for this user will be stored in table.\n"
     ]
    },
    {
     "name": "stderr",
     "output_type": "stream",
     "text": [
      "                                                                                \r"
     ]
    },
    {
     "name": "stdout",
     "output_type": "stream",
     "text": [
      "Oops, this user is existed. Since DELETE is only supported with v2 tables. Multiple data for this user will be stored in table.\n"
     ]
    },
    {
     "name": "stderr",
     "output_type": "stream",
     "text": [
      "                                                                                \r"
     ]
    },
    {
     "name": "stdout",
     "output_type": "stream",
     "text": [
      "Oops, this user is existed. Since DELETE is only supported with v2 tables. Multiple data for this user will be stored in table.\n"
     ]
    },
    {
     "name": "stderr",
     "output_type": "stream",
     "text": [
      "                                                                                \r"
     ]
    },
    {
     "name": "stdout",
     "output_type": "stream",
     "text": [
      "Oops, this user is existed. Since DELETE is only supported with v2 tables. Multiple data for this user will be stored in table.\n"
     ]
    },
    {
     "name": "stderr",
     "output_type": "stream",
     "text": [
      "                                                                                \r"
     ]
    },
    {
     "name": "stdout",
     "output_type": "stream",
     "text": [
      "Oops, this user is existed. Since DELETE is only supported with v2 tables. Multiple data for this user will be stored in table.\n"
     ]
    },
    {
     "name": "stderr",
     "output_type": "stream",
     "text": [
      "                                                                                \r"
     ]
    },
    {
     "name": "stdout",
     "output_type": "stream",
     "text": [
      "Oops, this user is existed. Since DELETE is only supported with v2 tables. Multiple data for this user will be stored in table.\n"
     ]
    },
    {
     "name": "stderr",
     "output_type": "stream",
     "text": [
      "                                                                                \r"
     ]
    },
    {
     "name": "stdout",
     "output_type": "stream",
     "text": [
      "Oops, this user is existed. Since DELETE is only supported with v2 tables. Multiple data for this user will be stored in table.\n"
     ]
    },
    {
     "name": "stderr",
     "output_type": "stream",
     "text": [
      "                                                                                \r"
     ]
    },
    {
     "name": "stdout",
     "output_type": "stream",
     "text": [
      "Oops, this user is existed. Since DELETE is only supported with v2 tables. Multiple data for this user will be stored in table.\n"
     ]
    },
    {
     "name": "stderr",
     "output_type": "stream",
     "text": [
      "                                                                                \r"
     ]
    },
    {
     "name": "stdout",
     "output_type": "stream",
     "text": [
      "Oops, this user is existed. Since DELETE is only supported with v2 tables. Multiple data for this user will be stored in table.\n"
     ]
    },
    {
     "name": "stderr",
     "output_type": "stream",
     "text": [
      "                                                                                \r"
     ]
    },
    {
     "name": "stdout",
     "output_type": "stream",
     "text": [
      "Oops, this user is existed. Since DELETE is only supported with v2 tables. Multiple data for this user will be stored in table.\n"
     ]
    },
    {
     "name": "stderr",
     "output_type": "stream",
     "text": [
      "                                                                                \r"
     ]
    },
    {
     "name": "stdout",
     "output_type": "stream",
     "text": [
      "Oops, this user is existed. Since DELETE is only supported with v2 tables. Multiple data for this user will be stored in table.\n"
     ]
    },
    {
     "name": "stderr",
     "output_type": "stream",
     "text": [
      "                                                                                \r"
     ]
    },
    {
     "name": "stdout",
     "output_type": "stream",
     "text": [
      "Oops, this user is existed. Since DELETE is only supported with v2 tables. Multiple data for this user will be stored in table.\n"
     ]
    },
    {
     "name": "stderr",
     "output_type": "stream",
     "text": [
      "                                                                                \r"
     ]
    },
    {
     "name": "stdout",
     "output_type": "stream",
     "text": [
      "Oops, this user is existed. Since DELETE is only supported with v2 tables. Multiple data for this user will be stored in table.\n"
     ]
    },
    {
     "name": "stderr",
     "output_type": "stream",
     "text": [
      "                                                                                \r"
     ]
    },
    {
     "name": "stdout",
     "output_type": "stream",
     "text": [
      "Oops, this user is existed. Since DELETE is only supported with v2 tables. Multiple data for this user will be stored in table.\n"
     ]
    },
    {
     "name": "stderr",
     "output_type": "stream",
     "text": [
      "                                                                                \r"
     ]
    },
    {
     "name": "stdout",
     "output_type": "stream",
     "text": [
      "Oops, this user is existed. Since DELETE is only supported with v2 tables. Multiple data for this user will be stored in table.\n"
     ]
    },
    {
     "name": "stderr",
     "output_type": "stream",
     "text": [
      "                                                                                \r"
     ]
    },
    {
     "name": "stdout",
     "output_type": "stream",
     "text": [
      "Oops, this user is existed. Since DELETE is only supported with v2 tables. Multiple data for this user will be stored in table.\n"
     ]
    },
    {
     "name": "stderr",
     "output_type": "stream",
     "text": [
      "                                                                                \r"
     ]
    },
    {
     "name": "stdout",
     "output_type": "stream",
     "text": [
      "Oops, this user is existed. Since DELETE is only supported with v2 tables. Multiple data for this user will be stored in table.\n"
     ]
    },
    {
     "name": "stderr",
     "output_type": "stream",
     "text": [
      "                                                                                \r"
     ]
    },
    {
     "name": "stdout",
     "output_type": "stream",
     "text": [
      "Oops, this user is existed. Since DELETE is only supported with v2 tables. Multiple data for this user will be stored in table.\n"
     ]
    },
    {
     "name": "stderr",
     "output_type": "stream",
     "text": [
      "                                                                                \r"
     ]
    },
    {
     "name": "stdout",
     "output_type": "stream",
     "text": [
      "Oops, this user is existed. Since DELETE is only supported with v2 tables. Multiple data for this user will be stored in table.\n"
     ]
    },
    {
     "name": "stderr",
     "output_type": "stream",
     "text": [
      "                                                                                \r"
     ]
    },
    {
     "name": "stdout",
     "output_type": "stream",
     "text": [
      "Oops, this user is existed. Since DELETE is only supported with v2 tables. Multiple data for this user will be stored in table.\n"
     ]
    },
    {
     "name": "stderr",
     "output_type": "stream",
     "text": [
      "                                                                                \r"
     ]
    },
    {
     "name": "stdout",
     "output_type": "stream",
     "text": [
      "Oops, this user is existed. Since DELETE is only supported with v2 tables. Multiple data for this user will be stored in table.\n"
     ]
    },
    {
     "name": "stderr",
     "output_type": "stream",
     "text": [
      "                                                                                \r"
     ]
    },
    {
     "name": "stdout",
     "output_type": "stream",
     "text": [
      "Oops, this user is existed. Since DELETE is only supported with v2 tables. Multiple data for this user will be stored in table.\n"
     ]
    },
    {
     "name": "stderr",
     "output_type": "stream",
     "text": [
      "                                                                                \r"
     ]
    },
    {
     "name": "stdout",
     "output_type": "stream",
     "text": [
      "Oops, this user is existed. Since DELETE is only supported with v2 tables. Multiple data for this user will be stored in table.\n"
     ]
    },
    {
     "name": "stderr",
     "output_type": "stream",
     "text": [
      "                                                                                \r"
     ]
    },
    {
     "name": "stdout",
     "output_type": "stream",
     "text": [
      "Oops, this user is existed. Since DELETE is only supported with v2 tables. Multiple data for this user will be stored in table.\n"
     ]
    },
    {
     "name": "stderr",
     "output_type": "stream",
     "text": [
      "                                                                                \r"
     ]
    },
    {
     "name": "stdout",
     "output_type": "stream",
     "text": [
      "Oops, this user is existed. Since DELETE is only supported with v2 tables. Multiple data for this user will be stored in table.\n"
     ]
    },
    {
     "name": "stderr",
     "output_type": "stream",
     "text": [
      "                                                                                \r"
     ]
    },
    {
     "name": "stdout",
     "output_type": "stream",
     "text": [
      "Oops, this user is existed. Since DELETE is only supported with v2 tables. Multiple data for this user will be stored in table.\n"
     ]
    },
    {
     "name": "stderr",
     "output_type": "stream",
     "text": [
      "                                                                                \r"
     ]
    },
    {
     "name": "stdout",
     "output_type": "stream",
     "text": [
      "Oops, this user is existed. Since DELETE is only supported with v2 tables. Multiple data for this user will be stored in table.\n"
     ]
    },
    {
     "name": "stderr",
     "output_type": "stream",
     "text": [
      "                                                                                \r"
     ]
    },
    {
     "name": "stdout",
     "output_type": "stream",
     "text": [
      "Oops, this user is existed. Since DELETE is only supported with v2 tables. Multiple data for this user will be stored in table.\n"
     ]
    },
    {
     "name": "stderr",
     "output_type": "stream",
     "text": [
      "                                                                                \r"
     ]
    },
    {
     "name": "stdout",
     "output_type": "stream",
     "text": [
      "Oops, this user is existed. Since DELETE is only supported with v2 tables. Multiple data for this user will be stored in table.\n"
     ]
    },
    {
     "name": "stderr",
     "output_type": "stream",
     "text": [
      "                                                                                \r"
     ]
    },
    {
     "name": "stdout",
     "output_type": "stream",
     "text": [
      "Oops, this user is existed. Since DELETE is only supported with v2 tables. Multiple data for this user will be stored in table.\n"
     ]
    },
    {
     "name": "stderr",
     "output_type": "stream",
     "text": [
      "                                                                                \r"
     ]
    },
    {
     "name": "stdout",
     "output_type": "stream",
     "text": [
      "Oops, this user is existed. Since DELETE is only supported with v2 tables. Multiple data for this user will be stored in table.\n"
     ]
    },
    {
     "name": "stderr",
     "output_type": "stream",
     "text": [
      "                                                                                \r"
     ]
    },
    {
     "name": "stdout",
     "output_type": "stream",
     "text": [
      "Oops, this user is existed. Since DELETE is only supported with v2 tables. Multiple data for this user will be stored in table.\n"
     ]
    },
    {
     "name": "stderr",
     "output_type": "stream",
     "text": [
      "                                                                                \r"
     ]
    },
    {
     "name": "stdout",
     "output_type": "stream",
     "text": [
      "Oops, this user is existed. Since DELETE is only supported with v2 tables. Multiple data for this user will be stored in table.\n"
     ]
    },
    {
     "name": "stderr",
     "output_type": "stream",
     "text": [
      "                                                                                \r"
     ]
    },
    {
     "name": "stdout",
     "output_type": "stream",
     "text": [
      "Oops, this user is existed. Since DELETE is only supported with v2 tables. Multiple data for this user will be stored in table.\n"
     ]
    },
    {
     "name": "stderr",
     "output_type": "stream",
     "text": [
      "                                                                                \r"
     ]
    },
    {
     "name": "stdout",
     "output_type": "stream",
     "text": [
      "Oops, this user is existed. Since DELETE is only supported with v2 tables. Multiple data for this user will be stored in table.\n"
     ]
    },
    {
     "name": "stderr",
     "output_type": "stream",
     "text": [
      "                                                                                \r"
     ]
    },
    {
     "name": "stdout",
     "output_type": "stream",
     "text": [
      "Oops, this user is existed. Since DELETE is only supported with v2 tables. Multiple data for this user will be stored in table.\n"
     ]
    },
    {
     "name": "stderr",
     "output_type": "stream",
     "text": [
      "                                                                                \r"
     ]
    },
    {
     "name": "stdout",
     "output_type": "stream",
     "text": [
      "Oops, this user is existed. Since DELETE is only supported with v2 tables. Multiple data for this user will be stored in table.\n"
     ]
    },
    {
     "name": "stderr",
     "output_type": "stream",
     "text": [
      "                                                                                \r"
     ]
    },
    {
     "name": "stdout",
     "output_type": "stream",
     "text": [
      "Oops, this user is existed. Since DELETE is only supported with v2 tables. Multiple data for this user will be stored in table.\n"
     ]
    },
    {
     "name": "stderr",
     "output_type": "stream",
     "text": [
      "                                                                                \r"
     ]
    },
    {
     "name": "stdout",
     "output_type": "stream",
     "text": [
      "Oops, this user is existed. Since DELETE is only supported with v2 tables. Multiple data for this user will be stored in table.\n"
     ]
    },
    {
     "name": "stderr",
     "output_type": "stream",
     "text": [
      "                                                                                \r"
     ]
    },
    {
     "name": "stdout",
     "output_type": "stream",
     "text": [
      "Oops, this user is existed. Since DELETE is only supported with v2 tables. Multiple data for this user will be stored in table.\n"
     ]
    },
    {
     "name": "stderr",
     "output_type": "stream",
     "text": [
      "                                                                                \r"
     ]
    },
    {
     "name": "stdout",
     "output_type": "stream",
     "text": [
      "Oops, this user is existed. Since DELETE is only supported with v2 tables. Multiple data for this user will be stored in table.\n"
     ]
    },
    {
     "name": "stderr",
     "output_type": "stream",
     "text": [
      "                                                                                \r"
     ]
    },
    {
     "name": "stdout",
     "output_type": "stream",
     "text": [
      "Oops, this user is existed. Since DELETE is only supported with v2 tables. Multiple data for this user will be stored in table.\n"
     ]
    },
    {
     "name": "stderr",
     "output_type": "stream",
     "text": [
      "                                                                                \r"
     ]
    },
    {
     "name": "stdout",
     "output_type": "stream",
     "text": [
      "Oops, this user is existed. Since DELETE is only supported with v2 tables. Multiple data for this user will be stored in table.\n"
     ]
    },
    {
     "name": "stderr",
     "output_type": "stream",
     "text": [
      "                                                                                \r"
     ]
    },
    {
     "name": "stdout",
     "output_type": "stream",
     "text": [
      "Oops, this user is existed. Since DELETE is only supported with v2 tables. Multiple data for this user will be stored in table.\n"
     ]
    },
    {
     "name": "stderr",
     "output_type": "stream",
     "text": [
      "                                                                                \r"
     ]
    },
    {
     "name": "stdout",
     "output_type": "stream",
     "text": [
      "Oops, this user is existed. Since DELETE is only supported with v2 tables. Multiple data for this user will be stored in table.\n"
     ]
    },
    {
     "name": "stderr",
     "output_type": "stream",
     "text": [
      "                                                                                \r"
     ]
    },
    {
     "name": "stdout",
     "output_type": "stream",
     "text": [
      "Oops, this user is existed. Since DELETE is only supported with v2 tables. Multiple data for this user will be stored in table.\n"
     ]
    },
    {
     "name": "stderr",
     "output_type": "stream",
     "text": [
      "                                                                                \r"
     ]
    },
    {
     "name": "stdout",
     "output_type": "stream",
     "text": [
      "Oops, this user is existed. Since DELETE is only supported with v2 tables. Multiple data for this user will be stored in table.\n"
     ]
    },
    {
     "name": "stderr",
     "output_type": "stream",
     "text": [
      "                                                                                \r"
     ]
    },
    {
     "name": "stdout",
     "output_type": "stream",
     "text": [
      "Oops, this user is existed. Since DELETE is only supported with v2 tables. Multiple data for this user will be stored in table.\n"
     ]
    },
    {
     "name": "stderr",
     "output_type": "stream",
     "text": [
      "                                                                                \r"
     ]
    },
    {
     "name": "stdout",
     "output_type": "stream",
     "text": [
      "Oops, this user is existed. Since DELETE is only supported with v2 tables. Multiple data for this user will be stored in table.\n"
     ]
    },
    {
     "name": "stderr",
     "output_type": "stream",
     "text": [
      "                                                                                \r"
     ]
    },
    {
     "name": "stdout",
     "output_type": "stream",
     "text": [
      "Oops, this user is existed. Since DELETE is only supported with v2 tables. Multiple data for this user will be stored in table.\n"
     ]
    },
    {
     "name": "stderr",
     "output_type": "stream",
     "text": [
      "                                                                                \r"
     ]
    },
    {
     "name": "stdout",
     "output_type": "stream",
     "text": [
      "Oops, this user is existed. Since DELETE is only supported with v2 tables. Multiple data for this user will be stored in table.\n"
     ]
    },
    {
     "name": "stderr",
     "output_type": "stream",
     "text": [
      "                                                                                \r"
     ]
    },
    {
     "name": "stdout",
     "output_type": "stream",
     "text": [
      "Oops, this user is existed. Since DELETE is only supported with v2 tables. Multiple data for this user will be stored in table.\n"
     ]
    },
    {
     "name": "stderr",
     "output_type": "stream",
     "text": [
      "                                                                                \r"
     ]
    },
    {
     "name": "stdout",
     "output_type": "stream",
     "text": [
      "Oops, this user is existed. Since DELETE is only supported with v2 tables. Multiple data for this user will be stored in table.\n"
     ]
    },
    {
     "name": "stderr",
     "output_type": "stream",
     "text": [
      "                                                                                \r"
     ]
    },
    {
     "name": "stdout",
     "output_type": "stream",
     "text": [
      "Oops, this user is existed. Since DELETE is only supported with v2 tables. Multiple data for this user will be stored in table.\n"
     ]
    },
    {
     "name": "stderr",
     "output_type": "stream",
     "text": [
      "                                                                                \r"
     ]
    },
    {
     "name": "stdout",
     "output_type": "stream",
     "text": [
      "Oops, this user is existed. Since DELETE is only supported with v2 tables. Multiple data for this user will be stored in table.\n"
     ]
    },
    {
     "name": "stderr",
     "output_type": "stream",
     "text": [
      "                                                                                \r"
     ]
    },
    {
     "name": "stdout",
     "output_type": "stream",
     "text": [
      "Oops, this user is existed. Since DELETE is only supported with v2 tables. Multiple data for this user will be stored in table.\n"
     ]
    },
    {
     "name": "stderr",
     "output_type": "stream",
     "text": [
      "                                                                                \r"
     ]
    },
    {
     "name": "stdout",
     "output_type": "stream",
     "text": [
      "Oops, this user is existed. Since DELETE is only supported with v2 tables. Multiple data for this user will be stored in table.\n"
     ]
    },
    {
     "name": "stderr",
     "output_type": "stream",
     "text": [
      "                                                                                \r"
     ]
    },
    {
     "name": "stdout",
     "output_type": "stream",
     "text": [
      "Oops, this user is existed. Since DELETE is only supported with v2 tables. Multiple data for this user will be stored in table.\n"
     ]
    },
    {
     "name": "stderr",
     "output_type": "stream",
     "text": [
      "                                                                                \r"
     ]
    },
    {
     "name": "stdout",
     "output_type": "stream",
     "text": [
      "Oops, this user is existed. Since DELETE is only supported with v2 tables. Multiple data for this user will be stored in table.\n"
     ]
    },
    {
     "name": "stderr",
     "output_type": "stream",
     "text": [
      "                                                                                \r"
     ]
    },
    {
     "name": "stdout",
     "output_type": "stream",
     "text": [
      "Oops, this user is existed. Since DELETE is only supported with v2 tables. Multiple data for this user will be stored in table.\n"
     ]
    },
    {
     "name": "stderr",
     "output_type": "stream",
     "text": [
      "                                                                                \r"
     ]
    },
    {
     "name": "stdout",
     "output_type": "stream",
     "text": [
      "Oops, this user is existed. Since DELETE is only supported with v2 tables. Multiple data for this user will be stored in table.\n"
     ]
    },
    {
     "name": "stderr",
     "output_type": "stream",
     "text": [
      "                                                                                \r"
     ]
    },
    {
     "name": "stdout",
     "output_type": "stream",
     "text": [
      "Oops, this user is existed. Since DELETE is only supported with v2 tables. Multiple data for this user will be stored in table.\n"
     ]
    },
    {
     "name": "stderr",
     "output_type": "stream",
     "text": [
      "                                                                                \r"
     ]
    },
    {
     "name": "stdout",
     "output_type": "stream",
     "text": [
      "Oops, this user is existed. Since DELETE is only supported with v2 tables. Multiple data for this user will be stored in table.\n"
     ]
    },
    {
     "name": "stderr",
     "output_type": "stream",
     "text": [
      "                                                                                \r"
     ]
    },
    {
     "name": "stdout",
     "output_type": "stream",
     "text": [
      "Oops, this user is existed. Since DELETE is only supported with v2 tables. Multiple data for this user will be stored in table.\n"
     ]
    },
    {
     "name": "stderr",
     "output_type": "stream",
     "text": [
      "                                                                                \r"
     ]
    },
    {
     "name": "stdout",
     "output_type": "stream",
     "text": [
      "Oops, this user is existed. Since DELETE is only supported with v2 tables. Multiple data for this user will be stored in table.\n"
     ]
    },
    {
     "name": "stderr",
     "output_type": "stream",
     "text": [
      "                                                                                \r"
     ]
    },
    {
     "name": "stdout",
     "output_type": "stream",
     "text": [
      "Oops, this user is existed. Since DELETE is only supported with v2 tables. Multiple data for this user will be stored in table.\n"
     ]
    },
    {
     "name": "stderr",
     "output_type": "stream",
     "text": [
      "                                                                                \r"
     ]
    },
    {
     "name": "stdout",
     "output_type": "stream",
     "text": [
      "Oops, this user is existed. Since DELETE is only supported with v2 tables. Multiple data for this user will be stored in table.\n"
     ]
    },
    {
     "name": "stderr",
     "output_type": "stream",
     "text": [
      "                                                                                \r"
     ]
    },
    {
     "name": "stdout",
     "output_type": "stream",
     "text": [
      "Oops, this user is existed. Since DELETE is only supported with v2 tables. Multiple data for this user will be stored in table.\n"
     ]
    },
    {
     "name": "stderr",
     "output_type": "stream",
     "text": [
      "                                                                                \r"
     ]
    },
    {
     "name": "stdout",
     "output_type": "stream",
     "text": [
      "Oops, this user is existed. Since DELETE is only supported with v2 tables. Multiple data for this user will be stored in table.\n"
     ]
    },
    {
     "name": "stderr",
     "output_type": "stream",
     "text": [
      "                                                                                \r"
     ]
    },
    {
     "name": "stdout",
     "output_type": "stream",
     "text": [
      "Oops, this user is existed. Since DELETE is only supported with v2 tables. Multiple data for this user will be stored in table.\n"
     ]
    },
    {
     "name": "stderr",
     "output_type": "stream",
     "text": [
      "                                                                                \r"
     ]
    },
    {
     "name": "stdout",
     "output_type": "stream",
     "text": [
      "Oops, this user is existed. Since DELETE is only supported with v2 tables. Multiple data for this user will be stored in table.\n"
     ]
    },
    {
     "name": "stderr",
     "output_type": "stream",
     "text": [
      "                                                                                \r"
     ]
    },
    {
     "name": "stdout",
     "output_type": "stream",
     "text": [
      "Oops, this user is existed. Since DELETE is only supported with v2 tables. Multiple data for this user will be stored in table.\n"
     ]
    },
    {
     "name": "stderr",
     "output_type": "stream",
     "text": [
      "                                                                                \r"
     ]
    },
    {
     "name": "stdout",
     "output_type": "stream",
     "text": [
      "Oops, this user is existed. Since DELETE is only supported with v2 tables. Multiple data for this user will be stored in table.\n"
     ]
    },
    {
     "name": "stderr",
     "output_type": "stream",
     "text": [
      "                                                                                \r"
     ]
    },
    {
     "name": "stdout",
     "output_type": "stream",
     "text": [
      "Oops, this user is existed. Since DELETE is only supported with v2 tables. Multiple data for this user will be stored in table.\n"
     ]
    },
    {
     "name": "stderr",
     "output_type": "stream",
     "text": [
      "                                                                                \r"
     ]
    },
    {
     "name": "stdout",
     "output_type": "stream",
     "text": [
      "Oops, this user is existed. Since DELETE is only supported with v2 tables. Multiple data for this user will be stored in table.\n"
     ]
    },
    {
     "name": "stderr",
     "output_type": "stream",
     "text": [
      "                                                                                \r"
     ]
    },
    {
     "name": "stdout",
     "output_type": "stream",
     "text": [
      "Oops, this user is existed. Since DELETE is only supported with v2 tables. Multiple data for this user will be stored in table.\n"
     ]
    },
    {
     "name": "stderr",
     "output_type": "stream",
     "text": [
      "                                                                                \r"
     ]
    },
    {
     "name": "stdout",
     "output_type": "stream",
     "text": [
      "Oops, this user is existed. Since DELETE is only supported with v2 tables. Multiple data for this user will be stored in table.\n"
     ]
    },
    {
     "name": "stderr",
     "output_type": "stream",
     "text": [
      "                                                                                \r"
     ]
    },
    {
     "name": "stdout",
     "output_type": "stream",
     "text": [
      "Oops, this user is existed. Since DELETE is only supported with v2 tables. Multiple data for this user will be stored in table.\n"
     ]
    },
    {
     "name": "stderr",
     "output_type": "stream",
     "text": [
      "                                                                                \r"
     ]
    },
    {
     "name": "stdout",
     "output_type": "stream",
     "text": [
      "Oops, this user is existed. Since DELETE is only supported with v2 tables. Multiple data for this user will be stored in table.\n"
     ]
    },
    {
     "name": "stderr",
     "output_type": "stream",
     "text": [
      "                                                                                \r"
     ]
    },
    {
     "name": "stdout",
     "output_type": "stream",
     "text": [
      "Oops, this user is existed. Since DELETE is only supported with v2 tables. Multiple data for this user will be stored in table.\n"
     ]
    },
    {
     "name": "stderr",
     "output_type": "stream",
     "text": [
      "                                                                                \r"
     ]
    },
    {
     "name": "stdout",
     "output_type": "stream",
     "text": [
      "Oops, this user is existed. Since DELETE is only supported with v2 tables. Multiple data for this user will be stored in table.\n"
     ]
    },
    {
     "name": "stderr",
     "output_type": "stream",
     "text": [
      "                                                                                \r"
     ]
    },
    {
     "name": "stdout",
     "output_type": "stream",
     "text": [
      "Oops, this user is existed. Since DELETE is only supported with v2 tables. Multiple data for this user will be stored in table.\n"
     ]
    },
    {
     "name": "stderr",
     "output_type": "stream",
     "text": [
      "                                                                                \r"
     ]
    },
    {
     "name": "stdout",
     "output_type": "stream",
     "text": [
      "Oops, this user is existed. Since DELETE is only supported with v2 tables. Multiple data for this user will be stored in table.\n"
     ]
    },
    {
     "name": "stderr",
     "output_type": "stream",
     "text": [
      "                                                                                \r"
     ]
    },
    {
     "name": "stdout",
     "output_type": "stream",
     "text": [
      "Oops, this user is existed. Since DELETE is only supported with v2 tables. Multiple data for this user will be stored in table.\n"
     ]
    },
    {
     "name": "stderr",
     "output_type": "stream",
     "text": [
      "                                                                                \r"
     ]
    },
    {
     "name": "stdout",
     "output_type": "stream",
     "text": [
      "Oops, this user is existed. Since DELETE is only supported with v2 tables. Multiple data for this user will be stored in table.\n"
     ]
    },
    {
     "name": "stderr",
     "output_type": "stream",
     "text": [
      "                                                                                \r"
     ]
    },
    {
     "name": "stdout",
     "output_type": "stream",
     "text": [
      "Oops, this user is existed. Since DELETE is only supported with v2 tables. Multiple data for this user will be stored in table.\n"
     ]
    },
    {
     "name": "stderr",
     "output_type": "stream",
     "text": [
      "                                                                                \r"
     ]
    },
    {
     "name": "stdout",
     "output_type": "stream",
     "text": [
      "Oops, this user is existed. Since DELETE is only supported with v2 tables. Multiple data for this user will be stored in table.\n"
     ]
    },
    {
     "name": "stderr",
     "output_type": "stream",
     "text": [
      "                                                                                \r"
     ]
    },
    {
     "name": "stdout",
     "output_type": "stream",
     "text": [
      "Oops, this user is existed. Since DELETE is only supported with v2 tables. Multiple data for this user will be stored in table.\n"
     ]
    },
    {
     "name": "stderr",
     "output_type": "stream",
     "text": [
      "                                                                                \r"
     ]
    },
    {
     "name": "stdout",
     "output_type": "stream",
     "text": [
      "Oops, this user is existed. Since DELETE is only supported with v2 tables. Multiple data for this user will be stored in table.\n"
     ]
    },
    {
     "name": "stderr",
     "output_type": "stream",
     "text": [
      "                                                                                \r"
     ]
    },
    {
     "name": "stdout",
     "output_type": "stream",
     "text": [
      "Oops, this user is existed. Since DELETE is only supported with v2 tables. Multiple data for this user will be stored in table.\n"
     ]
    },
    {
     "name": "stderr",
     "output_type": "stream",
     "text": [
      "                                                                                \r"
     ]
    },
    {
     "name": "stdout",
     "output_type": "stream",
     "text": [
      "Oops, this user is existed. Since DELETE is only supported with v2 tables. Multiple data for this user will be stored in table.\n"
     ]
    },
    {
     "name": "stderr",
     "output_type": "stream",
     "text": [
      "                                                                                \r"
     ]
    },
    {
     "name": "stdout",
     "output_type": "stream",
     "text": [
      "Oops, this user is existed. Since DELETE is only supported with v2 tables. Multiple data for this user will be stored in table.\n"
     ]
    },
    {
     "name": "stderr",
     "output_type": "stream",
     "text": [
      "                                                                                \r"
     ]
    },
    {
     "name": "stdout",
     "output_type": "stream",
     "text": [
      "Oops, this user is existed. Since DELETE is only supported with v2 tables. Multiple data for this user will be stored in table.\n"
     ]
    },
    {
     "name": "stderr",
     "output_type": "stream",
     "text": [
      "                                                                                \r"
     ]
    },
    {
     "name": "stdout",
     "output_type": "stream",
     "text": [
      "Oops, this user is existed. Since DELETE is only supported with v2 tables. Multiple data for this user will be stored in table.\n"
     ]
    },
    {
     "name": "stderr",
     "output_type": "stream",
     "text": [
      "                                                                                \r"
     ]
    },
    {
     "name": "stdout",
     "output_type": "stream",
     "text": [
      "Oops, this user is existed. Since DELETE is only supported with v2 tables. Multiple data for this user will be stored in table.\n"
     ]
    },
    {
     "name": "stderr",
     "output_type": "stream",
     "text": [
      "                                                                                \r"
     ]
    },
    {
     "name": "stdout",
     "output_type": "stream",
     "text": [
      "Oops, this user is existed. Since DELETE is only supported with v2 tables. Multiple data for this user will be stored in table.\n"
     ]
    },
    {
     "name": "stderr",
     "output_type": "stream",
     "text": [
      "                                                                                \r"
     ]
    },
    {
     "name": "stdout",
     "output_type": "stream",
     "text": [
      "Oops, this user is existed. Since DELETE is only supported with v2 tables. Multiple data for this user will be stored in table.\n"
     ]
    },
    {
     "name": "stderr",
     "output_type": "stream",
     "text": [
      "                                                                                \r"
     ]
    },
    {
     "name": "stdout",
     "output_type": "stream",
     "text": [
      "Oops, this user is existed. Since DELETE is only supported with v2 tables. Multiple data for this user will be stored in table.\n"
     ]
    },
    {
     "name": "stderr",
     "output_type": "stream",
     "text": [
      "                                                                                \r"
     ]
    },
    {
     "name": "stdout",
     "output_type": "stream",
     "text": [
      "Oops, this user is existed. Since DELETE is only supported with v2 tables. Multiple data for this user will be stored in table.\n"
     ]
    },
    {
     "name": "stderr",
     "output_type": "stream",
     "text": [
      "                                                                                \r"
     ]
    },
    {
     "name": "stdout",
     "output_type": "stream",
     "text": [
      "Oops, this user is existed. Since DELETE is only supported with v2 tables. Multiple data for this user will be stored in table.\n"
     ]
    },
    {
     "name": "stderr",
     "output_type": "stream",
     "text": [
      "                                                                                \r"
     ]
    },
    {
     "name": "stdout",
     "output_type": "stream",
     "text": [
      "Oops, this user is existed. Since DELETE is only supported with v2 tables. Multiple data for this user will be stored in table.\n"
     ]
    },
    {
     "name": "stderr",
     "output_type": "stream",
     "text": [
      "                                                                                \r"
     ]
    },
    {
     "name": "stdout",
     "output_type": "stream",
     "text": [
      "Oops, this user is existed. Since DELETE is only supported with v2 tables. Multiple data for this user will be stored in table.\n"
     ]
    },
    {
     "name": "stderr",
     "output_type": "stream",
     "text": [
      "                                                                                \r"
     ]
    },
    {
     "name": "stdout",
     "output_type": "stream",
     "text": [
      "Oops, this user is existed. Since DELETE is only supported with v2 tables. Multiple data for this user will be stored in table.\n"
     ]
    },
    {
     "name": "stderr",
     "output_type": "stream",
     "text": [
      "                                                                                \r"
     ]
    },
    {
     "name": "stdout",
     "output_type": "stream",
     "text": [
      "Oops, this user is existed. Since DELETE is only supported with v2 tables. Multiple data for this user will be stored in table.\n"
     ]
    },
    {
     "name": "stderr",
     "output_type": "stream",
     "text": [
      "                                                                                \r"
     ]
    },
    {
     "name": "stdout",
     "output_type": "stream",
     "text": [
      "Oops, this user is existed. Since DELETE is only supported with v2 tables. Multiple data for this user will be stored in table.\n"
     ]
    },
    {
     "name": "stderr",
     "output_type": "stream",
     "text": [
      "                                                                                \r"
     ]
    },
    {
     "name": "stdout",
     "output_type": "stream",
     "text": [
      "Oops, this user is existed. Since DELETE is only supported with v2 tables. Multiple data for this user will be stored in table.\n"
     ]
    },
    {
     "name": "stderr",
     "output_type": "stream",
     "text": [
      "                                                                                \r"
     ]
    },
    {
     "name": "stdout",
     "output_type": "stream",
     "text": [
      "Oops, this user is existed. Since DELETE is only supported with v2 tables. Multiple data for this user will be stored in table.\n"
     ]
    },
    {
     "name": "stderr",
     "output_type": "stream",
     "text": [
      "                                                                                \r"
     ]
    },
    {
     "name": "stdout",
     "output_type": "stream",
     "text": [
      "Oops, this user is existed. Since DELETE is only supported with v2 tables. Multiple data for this user will be stored in table.\n"
     ]
    },
    {
     "name": "stderr",
     "output_type": "stream",
     "text": [
      "                                                                                \r"
     ]
    },
    {
     "name": "stdout",
     "output_type": "stream",
     "text": [
      "Oops, this user is existed. Since DELETE is only supported with v2 tables. Multiple data for this user will be stored in table.\n"
     ]
    },
    {
     "name": "stderr",
     "output_type": "stream",
     "text": [
      "                                                                                \r"
     ]
    },
    {
     "name": "stdout",
     "output_type": "stream",
     "text": [
      "Oops, this user is existed. Since DELETE is only supported with v2 tables. Multiple data for this user will be stored in table.\n"
     ]
    },
    {
     "name": "stderr",
     "output_type": "stream",
     "text": [
      "                                                                                \r"
     ]
    },
    {
     "name": "stdout",
     "output_type": "stream",
     "text": [
      "Oops, this user is existed. Since DELETE is only supported with v2 tables. Multiple data for this user will be stored in table.\n"
     ]
    },
    {
     "name": "stderr",
     "output_type": "stream",
     "text": [
      "                                                                                \r"
     ]
    },
    {
     "name": "stdout",
     "output_type": "stream",
     "text": [
      "Oops, this user is existed. Since DELETE is only supported with v2 tables. Multiple data for this user will be stored in table.\n"
     ]
    },
    {
     "name": "stderr",
     "output_type": "stream",
     "text": [
      "                                                                                \r"
     ]
    },
    {
     "name": "stdout",
     "output_type": "stream",
     "text": [
      "Oops, this user is existed. Since DELETE is only supported with v2 tables. Multiple data for this user will be stored in table.\n"
     ]
    },
    {
     "name": "stderr",
     "output_type": "stream",
     "text": [
      "                                                                                \r"
     ]
    },
    {
     "name": "stdout",
     "output_type": "stream",
     "text": [
      "Oops, this user is existed. Since DELETE is only supported with v2 tables. Multiple data for this user will be stored in table.\n"
     ]
    },
    {
     "name": "stderr",
     "output_type": "stream",
     "text": [
      "                                                                                \r"
     ]
    },
    {
     "name": "stdout",
     "output_type": "stream",
     "text": [
      "Oops, this user is existed. Since DELETE is only supported with v2 tables. Multiple data for this user will be stored in table.\n"
     ]
    },
    {
     "name": "stderr",
     "output_type": "stream",
     "text": [
      "                                                                                \r"
     ]
    },
    {
     "name": "stdout",
     "output_type": "stream",
     "text": [
      "Oops, this user is existed. Since DELETE is only supported with v2 tables. Multiple data for this user will be stored in table.\n"
     ]
    },
    {
     "name": "stderr",
     "output_type": "stream",
     "text": [
      "                                                                                \r"
     ]
    },
    {
     "name": "stdout",
     "output_type": "stream",
     "text": [
      "Oops, this user is existed. Since DELETE is only supported with v2 tables. Multiple data for this user will be stored in table.\n"
     ]
    },
    {
     "name": "stderr",
     "output_type": "stream",
     "text": [
      "                                                                                \r"
     ]
    },
    {
     "name": "stdout",
     "output_type": "stream",
     "text": [
      "Oops, this user is existed. Since DELETE is only supported with v2 tables. Multiple data for this user will be stored in table.\n"
     ]
    },
    {
     "name": "stderr",
     "output_type": "stream",
     "text": [
      "                                                                                \r"
     ]
    },
    {
     "name": "stdout",
     "output_type": "stream",
     "text": [
      "Oops, this user is existed. Since DELETE is only supported with v2 tables. Multiple data for this user will be stored in table.\n"
     ]
    },
    {
     "name": "stderr",
     "output_type": "stream",
     "text": [
      "                                                                                \r"
     ]
    },
    {
     "name": "stdout",
     "output_type": "stream",
     "text": [
      "Oops, this user is existed. Since DELETE is only supported with v2 tables. Multiple data for this user will be stored in table.\n"
     ]
    },
    {
     "name": "stderr",
     "output_type": "stream",
     "text": [
      "                                                                                \r"
     ]
    },
    {
     "name": "stdout",
     "output_type": "stream",
     "text": [
      "Oops, this user is existed. Since DELETE is only supported with v2 tables. Multiple data for this user will be stored in table.\n"
     ]
    },
    {
     "name": "stderr",
     "output_type": "stream",
     "text": [
      "                                                                                \r"
     ]
    },
    {
     "name": "stdout",
     "output_type": "stream",
     "text": [
      "Oops, this user is existed. Since DELETE is only supported with v2 tables. Multiple data for this user will be stored in table.\n"
     ]
    },
    {
     "name": "stderr",
     "output_type": "stream",
     "text": [
      "                                                                                \r"
     ]
    },
    {
     "name": "stdout",
     "output_type": "stream",
     "text": [
      "Oops, this user is existed. Since DELETE is only supported with v2 tables. Multiple data for this user will be stored in table.\n"
     ]
    },
    {
     "name": "stderr",
     "output_type": "stream",
     "text": [
      "                                                                                \r"
     ]
    },
    {
     "name": "stdout",
     "output_type": "stream",
     "text": [
      "Oops, this user is existed. Since DELETE is only supported with v2 tables. Multiple data for this user will be stored in table.\n"
     ]
    },
    {
     "name": "stderr",
     "output_type": "stream",
     "text": [
      "                                                                                \r"
     ]
    },
    {
     "name": "stdout",
     "output_type": "stream",
     "text": [
      "Oops, this user is existed. Since DELETE is only supported with v2 tables. Multiple data for this user will be stored in table.\n"
     ]
    },
    {
     "name": "stderr",
     "output_type": "stream",
     "text": [
      "                                                                                \r"
     ]
    },
    {
     "name": "stdout",
     "output_type": "stream",
     "text": [
      "Oops, this user is existed. Since DELETE is only supported with v2 tables. Multiple data for this user will be stored in table.\n"
     ]
    },
    {
     "name": "stderr",
     "output_type": "stream",
     "text": [
      "                                                                                \r"
     ]
    },
    {
     "name": "stdout",
     "output_type": "stream",
     "text": [
      "Oops, this user is existed. Since DELETE is only supported with v2 tables. Multiple data for this user will be stored in table.\n"
     ]
    },
    {
     "name": "stderr",
     "output_type": "stream",
     "text": [
      "                                                                                \r"
     ]
    },
    {
     "name": "stdout",
     "output_type": "stream",
     "text": [
      "Oops, this user is existed. Since DELETE is only supported with v2 tables. Multiple data for this user will be stored in table.\n"
     ]
    },
    {
     "name": "stderr",
     "output_type": "stream",
     "text": [
      "                                                                                \r"
     ]
    },
    {
     "name": "stdout",
     "output_type": "stream",
     "text": [
      "Oops, this user is existed. Since DELETE is only supported with v2 tables. Multiple data for this user will be stored in table.\n"
     ]
    },
    {
     "name": "stderr",
     "output_type": "stream",
     "text": [
      "                                                                                \r"
     ]
    },
    {
     "name": "stdout",
     "output_type": "stream",
     "text": [
      "Oops, this user is existed. Since DELETE is only supported with v2 tables. Multiple data for this user will be stored in table.\n"
     ]
    },
    {
     "name": "stderr",
     "output_type": "stream",
     "text": [
      "                                                                                \r"
     ]
    },
    {
     "name": "stdout",
     "output_type": "stream",
     "text": [
      "Oops, this user is existed. Since DELETE is only supported with v2 tables. Multiple data for this user will be stored in table.\n"
     ]
    },
    {
     "name": "stderr",
     "output_type": "stream",
     "text": [
      "                                                                                \r"
     ]
    },
    {
     "name": "stdout",
     "output_type": "stream",
     "text": [
      "Oops, this user is existed. Since DELETE is only supported with v2 tables. Multiple data for this user will be stored in table.\n"
     ]
    },
    {
     "name": "stderr",
     "output_type": "stream",
     "text": [
      "                                                                                \r"
     ]
    },
    {
     "name": "stdout",
     "output_type": "stream",
     "text": [
      "Oops, this user is existed. Since DELETE is only supported with v2 tables. Multiple data for this user will be stored in table.\n"
     ]
    },
    {
     "name": "stderr",
     "output_type": "stream",
     "text": [
      "                                                                                \r"
     ]
    },
    {
     "name": "stdout",
     "output_type": "stream",
     "text": [
      "Oops, this user is existed. Since DELETE is only supported with v2 tables. Multiple data for this user will be stored in table.\n"
     ]
    },
    {
     "name": "stderr",
     "output_type": "stream",
     "text": [
      "                                                                                \r"
     ]
    },
    {
     "name": "stdout",
     "output_type": "stream",
     "text": [
      "Oops, this user is existed. Since DELETE is only supported with v2 tables. Multiple data for this user will be stored in table.\n"
     ]
    },
    {
     "name": "stderr",
     "output_type": "stream",
     "text": [
      "                                                                                \r"
     ]
    },
    {
     "name": "stdout",
     "output_type": "stream",
     "text": [
      "Oops, this user is existed. Since DELETE is only supported with v2 tables. Multiple data for this user will be stored in table.\n"
     ]
    },
    {
     "name": "stderr",
     "output_type": "stream",
     "text": [
      "                                                                                \r"
     ]
    },
    {
     "name": "stdout",
     "output_type": "stream",
     "text": [
      "Oops, this user is existed. Since DELETE is only supported with v2 tables. Multiple data for this user will be stored in table.\n"
     ]
    },
    {
     "name": "stderr",
     "output_type": "stream",
     "text": [
      "                                                                                \r"
     ]
    },
    {
     "name": "stdout",
     "output_type": "stream",
     "text": [
      "Oops, this user is existed. Since DELETE is only supported with v2 tables. Multiple data for this user will be stored in table.\n"
     ]
    },
    {
     "name": "stderr",
     "output_type": "stream",
     "text": [
      "                                                                                \r"
     ]
    },
    {
     "name": "stdout",
     "output_type": "stream",
     "text": [
      "Oops, this user is existed. Since DELETE is only supported with v2 tables. Multiple data for this user will be stored in table.\n"
     ]
    },
    {
     "name": "stderr",
     "output_type": "stream",
     "text": [
      "                                                                                \r"
     ]
    },
    {
     "name": "stdout",
     "output_type": "stream",
     "text": [
      "Oops, this user is existed. Since DELETE is only supported with v2 tables. Multiple data for this user will be stored in table.\n"
     ]
    },
    {
     "name": "stderr",
     "output_type": "stream",
     "text": [
      "                                                                                \r"
     ]
    },
    {
     "name": "stdout",
     "output_type": "stream",
     "text": [
      "Oops, this user is existed. Since DELETE is only supported with v2 tables. Multiple data for this user will be stored in table.\n"
     ]
    },
    {
     "name": "stderr",
     "output_type": "stream",
     "text": [
      "                                                                                \r"
     ]
    },
    {
     "name": "stdout",
     "output_type": "stream",
     "text": [
      "Oops, this user is existed. Since DELETE is only supported with v2 tables. Multiple data for this user will be stored in table.\n"
     ]
    },
    {
     "name": "stderr",
     "output_type": "stream",
     "text": [
      "                                                                                \r"
     ]
    },
    {
     "name": "stdout",
     "output_type": "stream",
     "text": [
      "Oops, this user is existed. Since DELETE is only supported with v2 tables. Multiple data for this user will be stored in table.\n"
     ]
    },
    {
     "name": "stderr",
     "output_type": "stream",
     "text": [
      "                                                                                \r"
     ]
    },
    {
     "name": "stdout",
     "output_type": "stream",
     "text": [
      "Oops, this user is existed. Since DELETE is only supported with v2 tables. Multiple data for this user will be stored in table.\n"
     ]
    },
    {
     "name": "stderr",
     "output_type": "stream",
     "text": [
      "                                                                                \r"
     ]
    },
    {
     "name": "stdout",
     "output_type": "stream",
     "text": [
      "Oops, this user is existed. Since DELETE is only supported with v2 tables. Multiple data for this user will be stored in table.\n"
     ]
    },
    {
     "name": "stderr",
     "output_type": "stream",
     "text": [
      "                                                                                \r"
     ]
    },
    {
     "name": "stdout",
     "output_type": "stream",
     "text": [
      "Oops, this user is existed. Since DELETE is only supported with v2 tables. Multiple data for this user will be stored in table.\n"
     ]
    },
    {
     "name": "stderr",
     "output_type": "stream",
     "text": [
      "                                                                                \r"
     ]
    },
    {
     "name": "stdout",
     "output_type": "stream",
     "text": [
      "Oops, this user is existed. Since DELETE is only supported with v2 tables. Multiple data for this user will be stored in table.\n"
     ]
    },
    {
     "name": "stderr",
     "output_type": "stream",
     "text": [
      "                                                                                \r"
     ]
    },
    {
     "name": "stdout",
     "output_type": "stream",
     "text": [
      "Oops, this user is existed. Since DELETE is only supported with v2 tables. Multiple data for this user will be stored in table.\n"
     ]
    },
    {
     "name": "stderr",
     "output_type": "stream",
     "text": [
      "                                                                                \r"
     ]
    },
    {
     "name": "stdout",
     "output_type": "stream",
     "text": [
      "Oops, this user is existed. Since DELETE is only supported with v2 tables. Multiple data for this user will be stored in table.\n"
     ]
    },
    {
     "name": "stderr",
     "output_type": "stream",
     "text": [
      "                                                                                \r"
     ]
    },
    {
     "name": "stdout",
     "output_type": "stream",
     "text": [
      "Oops, this user is existed. Since DELETE is only supported with v2 tables. Multiple data for this user will be stored in table.\n"
     ]
    },
    {
     "name": "stderr",
     "output_type": "stream",
     "text": [
      "                                                                                \r"
     ]
    },
    {
     "name": "stdout",
     "output_type": "stream",
     "text": [
      "Oops, this user is existed. Since DELETE is only supported with v2 tables. Multiple data for this user will be stored in table.\n"
     ]
    },
    {
     "name": "stderr",
     "output_type": "stream",
     "text": [
      "                                                                                \r"
     ]
    },
    {
     "name": "stdout",
     "output_type": "stream",
     "text": [
      "Oops, this user is existed. Since DELETE is only supported with v2 tables. Multiple data for this user will be stored in table.\n"
     ]
    },
    {
     "name": "stderr",
     "output_type": "stream",
     "text": [
      "                                                                                \r"
     ]
    },
    {
     "name": "stdout",
     "output_type": "stream",
     "text": [
      "Oops, this user is existed. Since DELETE is only supported with v2 tables. Multiple data for this user will be stored in table.\n"
     ]
    },
    {
     "name": "stderr",
     "output_type": "stream",
     "text": [
      "                                                                                \r"
     ]
    },
    {
     "name": "stdout",
     "output_type": "stream",
     "text": [
      "Oops, this user is existed. Since DELETE is only supported with v2 tables. Multiple data for this user will be stored in table.\n"
     ]
    },
    {
     "name": "stderr",
     "output_type": "stream",
     "text": [
      "                                                                                \r"
     ]
    },
    {
     "name": "stdout",
     "output_type": "stream",
     "text": [
      "Oops, this user is existed. Since DELETE is only supported with v2 tables. Multiple data for this user will be stored in table.\n"
     ]
    },
    {
     "name": "stderr",
     "output_type": "stream",
     "text": [
      "                                                                                \r"
     ]
    },
    {
     "name": "stdout",
     "output_type": "stream",
     "text": [
      "Oops, this user is existed. Since DELETE is only supported with v2 tables. Multiple data for this user will be stored in table.\n"
     ]
    },
    {
     "name": "stderr",
     "output_type": "stream",
     "text": [
      "                                                                                \r"
     ]
    },
    {
     "name": "stdout",
     "output_type": "stream",
     "text": [
      "Oops, this user is existed. Since DELETE is only supported with v2 tables. Multiple data for this user will be stored in table.\n"
     ]
    },
    {
     "name": "stderr",
     "output_type": "stream",
     "text": [
      "                                                                                \r"
     ]
    },
    {
     "name": "stdout",
     "output_type": "stream",
     "text": [
      "Oops, this user is existed. Since DELETE is only supported with v2 tables. Multiple data for this user will be stored in table.\n"
     ]
    },
    {
     "name": "stderr",
     "output_type": "stream",
     "text": [
      "                                                                                \r"
     ]
    },
    {
     "name": "stdout",
     "output_type": "stream",
     "text": [
      "Oops, this user is existed. Since DELETE is only supported with v2 tables. Multiple data for this user will be stored in table.\n"
     ]
    },
    {
     "name": "stderr",
     "output_type": "stream",
     "text": [
      "                                                                                \r"
     ]
    },
    {
     "name": "stdout",
     "output_type": "stream",
     "text": [
      "Oops, this user is existed. Since DELETE is only supported with v2 tables. Multiple data for this user will be stored in table.\n"
     ]
    },
    {
     "name": "stderr",
     "output_type": "stream",
     "text": [
      "                                                                                \r"
     ]
    },
    {
     "name": "stdout",
     "output_type": "stream",
     "text": [
      "Oops, this user is existed. Since DELETE is only supported with v2 tables. Multiple data for this user will be stored in table.\n"
     ]
    },
    {
     "name": "stderr",
     "output_type": "stream",
     "text": [
      "                                                                                \r"
     ]
    },
    {
     "name": "stdout",
     "output_type": "stream",
     "text": [
      "Oops, this user is existed. Since DELETE is only supported with v2 tables. Multiple data for this user will be stored in table.\n"
     ]
    },
    {
     "name": "stderr",
     "output_type": "stream",
     "text": [
      "                                                                                \r"
     ]
    },
    {
     "name": "stdout",
     "output_type": "stream",
     "text": [
      "Oops, this user is existed. Since DELETE is only supported with v2 tables. Multiple data for this user will be stored in table.\n"
     ]
    },
    {
     "name": "stderr",
     "output_type": "stream",
     "text": [
      "                                                                                \r"
     ]
    },
    {
     "name": "stdout",
     "output_type": "stream",
     "text": [
      "Oops, this user is existed. Since DELETE is only supported with v2 tables. Multiple data for this user will be stored in table.\n"
     ]
    },
    {
     "name": "stderr",
     "output_type": "stream",
     "text": [
      "                                                                                \r"
     ]
    },
    {
     "name": "stdout",
     "output_type": "stream",
     "text": [
      "Oops, this user is existed. Since DELETE is only supported with v2 tables. Multiple data for this user will be stored in table.\n"
     ]
    },
    {
     "name": "stderr",
     "output_type": "stream",
     "text": [
      "                                                                                \r"
     ]
    },
    {
     "name": "stdout",
     "output_type": "stream",
     "text": [
      "Oops, this user is existed. Since DELETE is only supported with v2 tables. Multiple data for this user will be stored in table.\n"
     ]
    },
    {
     "name": "stderr",
     "output_type": "stream",
     "text": [
      "                                                                                \r"
     ]
    },
    {
     "name": "stdout",
     "output_type": "stream",
     "text": [
      "Oops, this user is existed. Since DELETE is only supported with v2 tables. Multiple data for this user will be stored in table.\n"
     ]
    },
    {
     "name": "stderr",
     "output_type": "stream",
     "text": [
      "                                                                                \r"
     ]
    },
    {
     "name": "stdout",
     "output_type": "stream",
     "text": [
      "Oops, this user is existed. Since DELETE is only supported with v2 tables. Multiple data for this user will be stored in table.\n"
     ]
    },
    {
     "name": "stderr",
     "output_type": "stream",
     "text": [
      "                                                                                \r"
     ]
    },
    {
     "name": "stdout",
     "output_type": "stream",
     "text": [
      "Oops, this user is existed. Since DELETE is only supported with v2 tables. Multiple data for this user will be stored in table.\n"
     ]
    },
    {
     "name": "stderr",
     "output_type": "stream",
     "text": [
      "                                                                                \r"
     ]
    },
    {
     "name": "stdout",
     "output_type": "stream",
     "text": [
      "Oops, this user is existed. Since DELETE is only supported with v2 tables. Multiple data for this user will be stored in table.\n"
     ]
    },
    {
     "name": "stderr",
     "output_type": "stream",
     "text": [
      "                                                                                \r"
     ]
    },
    {
     "name": "stdout",
     "output_type": "stream",
     "text": [
      "Oops, this user is existed. Since DELETE is only supported with v2 tables. Multiple data for this user will be stored in table.\n"
     ]
    },
    {
     "name": "stderr",
     "output_type": "stream",
     "text": [
      "                                                                                \r"
     ]
    },
    {
     "name": "stdout",
     "output_type": "stream",
     "text": [
      "Oops, this user is existed. Since DELETE is only supported with v2 tables. Multiple data for this user will be stored in table.\n"
     ]
    },
    {
     "name": "stderr",
     "output_type": "stream",
     "text": [
      "                                                                                \r"
     ]
    },
    {
     "name": "stdout",
     "output_type": "stream",
     "text": [
      "Oops, this user is existed. Since DELETE is only supported with v2 tables. Multiple data for this user will be stored in table.\n"
     ]
    },
    {
     "name": "stderr",
     "output_type": "stream",
     "text": [
      "                                                                                \r"
     ]
    },
    {
     "name": "stdout",
     "output_type": "stream",
     "text": [
      "Oops, this user is existed. Since DELETE is only supported with v2 tables. Multiple data for this user will be stored in table.\n"
     ]
    },
    {
     "name": "stderr",
     "output_type": "stream",
     "text": [
      "                                                                                \r"
     ]
    },
    {
     "name": "stdout",
     "output_type": "stream",
     "text": [
      "Oops, this user is existed. Since DELETE is only supported with v2 tables. Multiple data for this user will be stored in table.\n"
     ]
    },
    {
     "name": "stderr",
     "output_type": "stream",
     "text": [
      "                                                                                \r"
     ]
    },
    {
     "name": "stdout",
     "output_type": "stream",
     "text": [
      "Oops, this user is existed. Since DELETE is only supported with v2 tables. Multiple data for this user will be stored in table.\n"
     ]
    },
    {
     "name": "stderr",
     "output_type": "stream",
     "text": [
      "                                                                                \r"
     ]
    },
    {
     "name": "stdout",
     "output_type": "stream",
     "text": [
      "Oops, this user is existed. Since DELETE is only supported with v2 tables. Multiple data for this user will be stored in table.\n"
     ]
    },
    {
     "name": "stderr",
     "output_type": "stream",
     "text": [
      "                                                                                \r"
     ]
    },
    {
     "name": "stdout",
     "output_type": "stream",
     "text": [
      "Oops, this user is existed. Since DELETE is only supported with v2 tables. Multiple data for this user will be stored in table.\n"
     ]
    },
    {
     "name": "stderr",
     "output_type": "stream",
     "text": [
      "                                                                                \r"
     ]
    },
    {
     "name": "stdout",
     "output_type": "stream",
     "text": [
      "Oops, this user is existed. Since DELETE is only supported with v2 tables. Multiple data for this user will be stored in table.\n"
     ]
    },
    {
     "name": "stderr",
     "output_type": "stream",
     "text": [
      "                                                                                \r"
     ]
    },
    {
     "name": "stdout",
     "output_type": "stream",
     "text": [
      "Oops, this user is existed. Since DELETE is only supported with v2 tables. Multiple data for this user will be stored in table.\n"
     ]
    },
    {
     "name": "stderr",
     "output_type": "stream",
     "text": [
      "                                                                                \r"
     ]
    },
    {
     "name": "stdout",
     "output_type": "stream",
     "text": [
      "Oops, this user is existed. Since DELETE is only supported with v2 tables. Multiple data for this user will be stored in table.\n"
     ]
    },
    {
     "name": "stderr",
     "output_type": "stream",
     "text": [
      "                                                                                \r"
     ]
    },
    {
     "name": "stdout",
     "output_type": "stream",
     "text": [
      "Oops, this user is existed. Since DELETE is only supported with v2 tables. Multiple data for this user will be stored in table.\n"
     ]
    },
    {
     "name": "stderr",
     "output_type": "stream",
     "text": [
      "                                                                                \r"
     ]
    },
    {
     "name": "stdout",
     "output_type": "stream",
     "text": [
      "Oops, this user is existed. Since DELETE is only supported with v2 tables. Multiple data for this user will be stored in table.\n"
     ]
    },
    {
     "name": "stderr",
     "output_type": "stream",
     "text": [
      "                                                                                \r"
     ]
    },
    {
     "name": "stdout",
     "output_type": "stream",
     "text": [
      "Oops, this user is existed. Since DELETE is only supported with v2 tables. Multiple data for this user will be stored in table.\n"
     ]
    },
    {
     "name": "stderr",
     "output_type": "stream",
     "text": [
      "                                                                                \r"
     ]
    },
    {
     "name": "stdout",
     "output_type": "stream",
     "text": [
      "Oops, this user is existed. Since DELETE is only supported with v2 tables. Multiple data for this user will be stored in table.\n"
     ]
    },
    {
     "name": "stderr",
     "output_type": "stream",
     "text": [
      "                                                                                \r"
     ]
    },
    {
     "name": "stdout",
     "output_type": "stream",
     "text": [
      "Oops, this user is existed. Since DELETE is only supported with v2 tables. Multiple data for this user will be stored in table.\n"
     ]
    },
    {
     "name": "stderr",
     "output_type": "stream",
     "text": [
      "                                                                                \r"
     ]
    },
    {
     "name": "stdout",
     "output_type": "stream",
     "text": [
      "Oops, this user is existed. Since DELETE is only supported with v2 tables. Multiple data for this user will be stored in table.\n"
     ]
    },
    {
     "name": "stderr",
     "output_type": "stream",
     "text": [
      "                                                                                \r"
     ]
    },
    {
     "name": "stdout",
     "output_type": "stream",
     "text": [
      "Oops, this user is existed. Since DELETE is only supported with v2 tables. Multiple data for this user will be stored in table.\n"
     ]
    },
    {
     "name": "stderr",
     "output_type": "stream",
     "text": [
      "                                                                                \r"
     ]
    },
    {
     "name": "stdout",
     "output_type": "stream",
     "text": [
      "Oops, this user is existed. Since DELETE is only supported with v2 tables. Multiple data for this user will be stored in table.\n"
     ]
    },
    {
     "name": "stderr",
     "output_type": "stream",
     "text": [
      "                                                                                \r"
     ]
    },
    {
     "name": "stdout",
     "output_type": "stream",
     "text": [
      "Oops, this user is existed. Since DELETE is only supported with v2 tables. Multiple data for this user will be stored in table.\n"
     ]
    },
    {
     "name": "stderr",
     "output_type": "stream",
     "text": [
      "                                                                                \r"
     ]
    },
    {
     "name": "stdout",
     "output_type": "stream",
     "text": [
      "Oops, this user is existed. Since DELETE is only supported with v2 tables. Multiple data for this user will be stored in table.\n"
     ]
    },
    {
     "name": "stderr",
     "output_type": "stream",
     "text": [
      "                                                                                \r"
     ]
    },
    {
     "name": "stdout",
     "output_type": "stream",
     "text": [
      "Oops, this user is existed. Since DELETE is only supported with v2 tables. Multiple data for this user will be stored in table.\n"
     ]
    },
    {
     "name": "stderr",
     "output_type": "stream",
     "text": [
      "                                                                                \r"
     ]
    },
    {
     "name": "stdout",
     "output_type": "stream",
     "text": [
      "Oops, this user is existed. Since DELETE is only supported with v2 tables. Multiple data for this user will be stored in table.\n"
     ]
    },
    {
     "name": "stderr",
     "output_type": "stream",
     "text": [
      "                                                                                \r"
     ]
    },
    {
     "name": "stdout",
     "output_type": "stream",
     "text": [
      "Oops, this user is existed. Since DELETE is only supported with v2 tables. Multiple data for this user will be stored in table.\n"
     ]
    },
    {
     "name": "stderr",
     "output_type": "stream",
     "text": [
      "                                                                                \r"
     ]
    },
    {
     "name": "stdout",
     "output_type": "stream",
     "text": [
      "Oops, this user is existed. Since DELETE is only supported with v2 tables. Multiple data for this user will be stored in table.\n"
     ]
    },
    {
     "name": "stderr",
     "output_type": "stream",
     "text": [
      "                                                                                \r"
     ]
    },
    {
     "name": "stdout",
     "output_type": "stream",
     "text": [
      "Oops, this user is existed. Since DELETE is only supported with v2 tables. Multiple data for this user will be stored in table.\n"
     ]
    },
    {
     "name": "stderr",
     "output_type": "stream",
     "text": [
      "                                                                                \r"
     ]
    },
    {
     "name": "stdout",
     "output_type": "stream",
     "text": [
      "Oops, this user is existed. Since DELETE is only supported with v2 tables. Multiple data for this user will be stored in table.\n"
     ]
    },
    {
     "name": "stderr",
     "output_type": "stream",
     "text": [
      "                                                                                \r"
     ]
    },
    {
     "name": "stdout",
     "output_type": "stream",
     "text": [
      "Oops, this user is existed. Since DELETE is only supported with v2 tables. Multiple data for this user will be stored in table.\n"
     ]
    },
    {
     "name": "stderr",
     "output_type": "stream",
     "text": [
      "                                                                                \r"
     ]
    },
    {
     "name": "stdout",
     "output_type": "stream",
     "text": [
      "Oops, this user is existed. Since DELETE is only supported with v2 tables. Multiple data for this user will be stored in table.\n"
     ]
    },
    {
     "name": "stderr",
     "output_type": "stream",
     "text": [
      "                                                                                \r"
     ]
    },
    {
     "name": "stdout",
     "output_type": "stream",
     "text": [
      "Oops, this user is existed. Since DELETE is only supported with v2 tables. Multiple data for this user will be stored in table.\n"
     ]
    },
    {
     "name": "stderr",
     "output_type": "stream",
     "text": [
      "                                                                                \r"
     ]
    },
    {
     "name": "stdout",
     "output_type": "stream",
     "text": [
      "Oops, this user is existed. Since DELETE is only supported with v2 tables. Multiple data for this user will be stored in table.\n"
     ]
    },
    {
     "name": "stderr",
     "output_type": "stream",
     "text": [
      "                                                                                \r"
     ]
    },
    {
     "name": "stdout",
     "output_type": "stream",
     "text": [
      "Oops, this user is existed. Since DELETE is only supported with v2 tables. Multiple data for this user will be stored in table.\n"
     ]
    },
    {
     "name": "stderr",
     "output_type": "stream",
     "text": [
      "                                                                                \r"
     ]
    },
    {
     "name": "stdout",
     "output_type": "stream",
     "text": [
      "Oops, this user is existed. Since DELETE is only supported with v2 tables. Multiple data for this user will be stored in table.\n"
     ]
    },
    {
     "name": "stderr",
     "output_type": "stream",
     "text": [
      "                                                                                \r"
     ]
    },
    {
     "name": "stdout",
     "output_type": "stream",
     "text": [
      "Oops, this user is existed. Since DELETE is only supported with v2 tables. Multiple data for this user will be stored in table.\n"
     ]
    },
    {
     "name": "stderr",
     "output_type": "stream",
     "text": [
      "                                                                                \r"
     ]
    },
    {
     "name": "stdout",
     "output_type": "stream",
     "text": [
      "Oops, this user is existed. Since DELETE is only supported with v2 tables. Multiple data for this user will be stored in table.\n"
     ]
    },
    {
     "name": "stderr",
     "output_type": "stream",
     "text": [
      "                                                                                \r"
     ]
    },
    {
     "name": "stdout",
     "output_type": "stream",
     "text": [
      "Oops, this user is existed. Since DELETE is only supported with v2 tables. Multiple data for this user will be stored in table.\n"
     ]
    },
    {
     "name": "stderr",
     "output_type": "stream",
     "text": [
      "                                                                                \r"
     ]
    },
    {
     "name": "stdout",
     "output_type": "stream",
     "text": [
      "Oops, this user is existed. Since DELETE is only supported with v2 tables. Multiple data for this user will be stored in table.\n"
     ]
    },
    {
     "name": "stderr",
     "output_type": "stream",
     "text": [
      "                                                                                \r"
     ]
    },
    {
     "name": "stdout",
     "output_type": "stream",
     "text": [
      "Oops, this user is existed. Since DELETE is only supported with v2 tables. Multiple data for this user will be stored in table.\n"
     ]
    },
    {
     "name": "stderr",
     "output_type": "stream",
     "text": [
      "                                                                                \r"
     ]
    },
    {
     "name": "stdout",
     "output_type": "stream",
     "text": [
      "Oops, this user is existed. Since DELETE is only supported with v2 tables. Multiple data for this user will be stored in table.\n"
     ]
    },
    {
     "name": "stderr",
     "output_type": "stream",
     "text": [
      "                                                                                \r"
     ]
    },
    {
     "name": "stdout",
     "output_type": "stream",
     "text": [
      "Oops, this user is existed. Since DELETE is only supported with v2 tables. Multiple data for this user will be stored in table.\n"
     ]
    },
    {
     "name": "stderr",
     "output_type": "stream",
     "text": [
      "                                                                                \r"
     ]
    },
    {
     "name": "stdout",
     "output_type": "stream",
     "text": [
      "Oops, this user is existed. Since DELETE is only supported with v2 tables. Multiple data for this user will be stored in table.\n"
     ]
    },
    {
     "name": "stderr",
     "output_type": "stream",
     "text": [
      "                                                                                \r"
     ]
    },
    {
     "name": "stdout",
     "output_type": "stream",
     "text": [
      "Oops, this user is existed. Since DELETE is only supported with v2 tables. Multiple data for this user will be stored in table.\n"
     ]
    },
    {
     "name": "stderr",
     "output_type": "stream",
     "text": [
      "                                                                                \r"
     ]
    },
    {
     "name": "stdout",
     "output_type": "stream",
     "text": [
      "Oops, this user is existed. Since DELETE is only supported with v2 tables. Multiple data for this user will be stored in table.\n"
     ]
    },
    {
     "name": "stderr",
     "output_type": "stream",
     "text": [
      "                                                                                \r"
     ]
    },
    {
     "name": "stdout",
     "output_type": "stream",
     "text": [
      "Oops, this user is existed. Since DELETE is only supported with v2 tables. Multiple data for this user will be stored in table.\n"
     ]
    },
    {
     "name": "stderr",
     "output_type": "stream",
     "text": [
      "                                                                                \r"
     ]
    },
    {
     "name": "stdout",
     "output_type": "stream",
     "text": [
      "Oops, this user is existed. Since DELETE is only supported with v2 tables. Multiple data for this user will be stored in table.\n"
     ]
    },
    {
     "name": "stderr",
     "output_type": "stream",
     "text": [
      "                                                                                \r"
     ]
    },
    {
     "name": "stdout",
     "output_type": "stream",
     "text": [
      "Oops, this user is existed. Since DELETE is only supported with v2 tables. Multiple data for this user will be stored in table.\n"
     ]
    },
    {
     "name": "stderr",
     "output_type": "stream",
     "text": [
      "                                                                                \r"
     ]
    },
    {
     "name": "stdout",
     "output_type": "stream",
     "text": [
      "Oops, this user is existed. Since DELETE is only supported with v2 tables. Multiple data for this user will be stored in table.\n"
     ]
    },
    {
     "name": "stderr",
     "output_type": "stream",
     "text": [
      "                                                                                \r"
     ]
    },
    {
     "name": "stdout",
     "output_type": "stream",
     "text": [
      "Oops, this user is existed. Since DELETE is only supported with v2 tables. Multiple data for this user will be stored in table.\n"
     ]
    },
    {
     "name": "stderr",
     "output_type": "stream",
     "text": [
      "                                                                                \r"
     ]
    },
    {
     "name": "stdout",
     "output_type": "stream",
     "text": [
      "Oops, this user is existed. Since DELETE is only supported with v2 tables. Multiple data for this user will be stored in table.\n"
     ]
    },
    {
     "name": "stderr",
     "output_type": "stream",
     "text": [
      "                                                                                \r"
     ]
    },
    {
     "name": "stdout",
     "output_type": "stream",
     "text": [
      "Oops, this user is existed. Since DELETE is only supported with v2 tables. Multiple data for this user will be stored in table.\n"
     ]
    },
    {
     "name": "stderr",
     "output_type": "stream",
     "text": [
      "                                                                                \r"
     ]
    },
    {
     "name": "stdout",
     "output_type": "stream",
     "text": [
      "Oops, this user is existed. Since DELETE is only supported with v2 tables. Multiple data for this user will be stored in table.\n"
     ]
    },
    {
     "name": "stderr",
     "output_type": "stream",
     "text": [
      "                                                                                \r"
     ]
    },
    {
     "name": "stdout",
     "output_type": "stream",
     "text": [
      "Oops, this user is existed. Since DELETE is only supported with v2 tables. Multiple data for this user will be stored in table.\n"
     ]
    },
    {
     "name": "stderr",
     "output_type": "stream",
     "text": [
      "                                                                                \r"
     ]
    },
    {
     "name": "stdout",
     "output_type": "stream",
     "text": [
      "Oops, this user is existed. Since DELETE is only supported with v2 tables. Multiple data for this user will be stored in table.\n"
     ]
    },
    {
     "name": "stderr",
     "output_type": "stream",
     "text": [
      "                                                                                \r"
     ]
    },
    {
     "name": "stdout",
     "output_type": "stream",
     "text": [
      "Oops, this user is existed. Since DELETE is only supported with v2 tables. Multiple data for this user will be stored in table.\n"
     ]
    },
    {
     "name": "stderr",
     "output_type": "stream",
     "text": [
      "                                                                                \r"
     ]
    },
    {
     "name": "stdout",
     "output_type": "stream",
     "text": [
      "Oops, this user is existed. Since DELETE is only supported with v2 tables. Multiple data for this user will be stored in table.\n"
     ]
    },
    {
     "name": "stderr",
     "output_type": "stream",
     "text": [
      "                                                                                \r"
     ]
    },
    {
     "name": "stdout",
     "output_type": "stream",
     "text": [
      "Oops, this user is existed. Since DELETE is only supported with v2 tables. Multiple data for this user will be stored in table.\n"
     ]
    },
    {
     "name": "stderr",
     "output_type": "stream",
     "text": [
      "                                                                                \r"
     ]
    },
    {
     "name": "stdout",
     "output_type": "stream",
     "text": [
      "Oops, this user is existed. Since DELETE is only supported with v2 tables. Multiple data for this user will be stored in table.\n"
     ]
    },
    {
     "name": "stderr",
     "output_type": "stream",
     "text": [
      "                                                                                \r"
     ]
    },
    {
     "name": "stdout",
     "output_type": "stream",
     "text": [
      "Oops, this user is existed. Since DELETE is only supported with v2 tables. Multiple data for this user will be stored in table.\n"
     ]
    },
    {
     "name": "stderr",
     "output_type": "stream",
     "text": [
      "                                                                                \r"
     ]
    },
    {
     "name": "stdout",
     "output_type": "stream",
     "text": [
      "Oops, this user is existed. Since DELETE is only supported with v2 tables. Multiple data for this user will be stored in table.\n"
     ]
    },
    {
     "name": "stderr",
     "output_type": "stream",
     "text": [
      "                                                                                \r"
     ]
    },
    {
     "name": "stdout",
     "output_type": "stream",
     "text": [
      "Oops, this user is existed. Since DELETE is only supported with v2 tables. Multiple data for this user will be stored in table.\n"
     ]
    },
    {
     "name": "stderr",
     "output_type": "stream",
     "text": [
      "                                                                                \r"
     ]
    },
    {
     "name": "stdout",
     "output_type": "stream",
     "text": [
      "Oops, this user is existed. Since DELETE is only supported with v2 tables. Multiple data for this user will be stored in table.\n"
     ]
    },
    {
     "name": "stderr",
     "output_type": "stream",
     "text": [
      "                                                                                \r"
     ]
    },
    {
     "name": "stdout",
     "output_type": "stream",
     "text": [
      "Oops, this user is existed. Since DELETE is only supported with v2 tables. Multiple data for this user will be stored in table.\n"
     ]
    },
    {
     "name": "stderr",
     "output_type": "stream",
     "text": [
      "                                                                                \r"
     ]
    },
    {
     "name": "stdout",
     "output_type": "stream",
     "text": [
      "Oops, this user is existed. Since DELETE is only supported with v2 tables. Multiple data for this user will be stored in table.\n"
     ]
    },
    {
     "name": "stderr",
     "output_type": "stream",
     "text": [
      "                                                                                \r"
     ]
    },
    {
     "name": "stdout",
     "output_type": "stream",
     "text": [
      "Oops, this user is existed. Since DELETE is only supported with v2 tables. Multiple data for this user will be stored in table.\n"
     ]
    },
    {
     "name": "stderr",
     "output_type": "stream",
     "text": [
      "                                                                                \r"
     ]
    },
    {
     "name": "stdout",
     "output_type": "stream",
     "text": [
      "Oops, this user is existed. Since DELETE is only supported with v2 tables. Multiple data for this user will be stored in table.\n"
     ]
    },
    {
     "name": "stderr",
     "output_type": "stream",
     "text": [
      "                                                                                \r"
     ]
    },
    {
     "name": "stdout",
     "output_type": "stream",
     "text": [
      "Oops, this user is existed. Since DELETE is only supported with v2 tables. Multiple data for this user will be stored in table.\n"
     ]
    },
    {
     "name": "stderr",
     "output_type": "stream",
     "text": [
      "                                                                                \r"
     ]
    },
    {
     "name": "stdout",
     "output_type": "stream",
     "text": [
      "Oops, this user is existed. Since DELETE is only supported with v2 tables. Multiple data for this user will be stored in table.\n"
     ]
    },
    {
     "name": "stderr",
     "output_type": "stream",
     "text": [
      "                                                                                \r"
     ]
    },
    {
     "name": "stdout",
     "output_type": "stream",
     "text": [
      "Oops, this user is existed. Since DELETE is only supported with v2 tables. Multiple data for this user will be stored in table.\n"
     ]
    },
    {
     "name": "stderr",
     "output_type": "stream",
     "text": [
      "                                                                                \r"
     ]
    },
    {
     "name": "stdout",
     "output_type": "stream",
     "text": [
      "Oops, this user is existed. Since DELETE is only supported with v2 tables. Multiple data for this user will be stored in table.\n"
     ]
    },
    {
     "name": "stderr",
     "output_type": "stream",
     "text": [
      "                                                                                \r"
     ]
    },
    {
     "name": "stdout",
     "output_type": "stream",
     "text": [
      "Oops, this user is existed. Since DELETE is only supported with v2 tables. Multiple data for this user will be stored in table.\n"
     ]
    },
    {
     "name": "stderr",
     "output_type": "stream",
     "text": [
      "                                                                                \r"
     ]
    },
    {
     "name": "stdout",
     "output_type": "stream",
     "text": [
      "Oops, this user is existed. Since DELETE is only supported with v2 tables. Multiple data for this user will be stored in table.\n"
     ]
    },
    {
     "name": "stderr",
     "output_type": "stream",
     "text": [
      "                                                                                \r"
     ]
    },
    {
     "name": "stdout",
     "output_type": "stream",
     "text": [
      "Oops, this user is existed. Since DELETE is only supported with v2 tables. Multiple data for this user will be stored in table.\n"
     ]
    },
    {
     "name": "stderr",
     "output_type": "stream",
     "text": [
      "                                                                                \r"
     ]
    },
    {
     "name": "stdout",
     "output_type": "stream",
     "text": [
      "Oops, this user is existed. Since DELETE is only supported with v2 tables. Multiple data for this user will be stored in table.\n"
     ]
    },
    {
     "name": "stderr",
     "output_type": "stream",
     "text": [
      "                                                                                \r"
     ]
    },
    {
     "name": "stdout",
     "output_type": "stream",
     "text": [
      "Oops, this user is existed. Since DELETE is only supported with v2 tables. Multiple data for this user will be stored in table.\n"
     ]
    },
    {
     "name": "stderr",
     "output_type": "stream",
     "text": [
      "                                                                                \r"
     ]
    },
    {
     "name": "stdout",
     "output_type": "stream",
     "text": [
      "Oops, this user is existed. Since DELETE is only supported with v2 tables. Multiple data for this user will be stored in table.\n"
     ]
    },
    {
     "name": "stderr",
     "output_type": "stream",
     "text": [
      "                                                                                \r"
     ]
    },
    {
     "name": "stdout",
     "output_type": "stream",
     "text": [
      "Oops, this user is existed. Since DELETE is only supported with v2 tables. Multiple data for this user will be stored in table.\n"
     ]
    },
    {
     "name": "stderr",
     "output_type": "stream",
     "text": [
      "                                                                                \r"
     ]
    },
    {
     "name": "stdout",
     "output_type": "stream",
     "text": [
      "Oops, this user is existed. Since DELETE is only supported with v2 tables. Multiple data for this user will be stored in table.\n"
     ]
    },
    {
     "name": "stderr",
     "output_type": "stream",
     "text": [
      "                                                                                \r"
     ]
    },
    {
     "name": "stdout",
     "output_type": "stream",
     "text": [
      "Oops, this user is existed. Since DELETE is only supported with v2 tables. Multiple data for this user will be stored in table.\n"
     ]
    },
    {
     "name": "stderr",
     "output_type": "stream",
     "text": [
      "                                                                                \r"
     ]
    },
    {
     "name": "stdout",
     "output_type": "stream",
     "text": [
      "Oops, this user is existed. Since DELETE is only supported with v2 tables. Multiple data for this user will be stored in table.\n"
     ]
    },
    {
     "name": "stderr",
     "output_type": "stream",
     "text": [
      "                                                                                \r"
     ]
    },
    {
     "name": "stdout",
     "output_type": "stream",
     "text": [
      "Oops, this user is existed. Since DELETE is only supported with v2 tables. Multiple data for this user will be stored in table.\n"
     ]
    },
    {
     "name": "stderr",
     "output_type": "stream",
     "text": [
      "                                                                                \r"
     ]
    },
    {
     "name": "stdout",
     "output_type": "stream",
     "text": [
      "Oops, this user is existed. Since DELETE is only supported with v2 tables. Multiple data for this user will be stored in table.\n"
     ]
    },
    {
     "name": "stderr",
     "output_type": "stream",
     "text": [
      "                                                                                \r"
     ]
    },
    {
     "name": "stdout",
     "output_type": "stream",
     "text": [
      "Oops, this user is existed. Since DELETE is only supported with v2 tables. Multiple data for this user will be stored in table.\n"
     ]
    },
    {
     "name": "stderr",
     "output_type": "stream",
     "text": [
      "                                                                                \r"
     ]
    },
    {
     "name": "stdout",
     "output_type": "stream",
     "text": [
      "Oops, this user is existed. Since DELETE is only supported with v2 tables. Multiple data for this user will be stored in table.\n"
     ]
    },
    {
     "name": "stderr",
     "output_type": "stream",
     "text": [
      "                                                                                \r"
     ]
    },
    {
     "name": "stdout",
     "output_type": "stream",
     "text": [
      "Oops, this user is existed. Since DELETE is only supported with v2 tables. Multiple data for this user will be stored in table.\n"
     ]
    },
    {
     "name": "stderr",
     "output_type": "stream",
     "text": [
      "                                                                                \r"
     ]
    },
    {
     "name": "stdout",
     "output_type": "stream",
     "text": [
      "Oops, this user is existed. Since DELETE is only supported with v2 tables. Multiple data for this user will be stored in table.\n"
     ]
    },
    {
     "name": "stderr",
     "output_type": "stream",
     "text": [
      "                                                                                \r"
     ]
    },
    {
     "name": "stdout",
     "output_type": "stream",
     "text": [
      "Oops, this user is existed. Since DELETE is only supported with v2 tables. Multiple data for this user will be stored in table.\n"
     ]
    },
    {
     "name": "stderr",
     "output_type": "stream",
     "text": [
      "                                                                                \r"
     ]
    },
    {
     "name": "stdout",
     "output_type": "stream",
     "text": [
      "Oops, this user is existed. Since DELETE is only supported with v2 tables. Multiple data for this user will be stored in table.\n"
     ]
    },
    {
     "name": "stderr",
     "output_type": "stream",
     "text": [
      "                                                                                \r"
     ]
    },
    {
     "name": "stdout",
     "output_type": "stream",
     "text": [
      "Oops, this user is existed. Since DELETE is only supported with v2 tables. Multiple data for this user will be stored in table.\n"
     ]
    },
    {
     "name": "stderr",
     "output_type": "stream",
     "text": [
      "                                                                                \r"
     ]
    },
    {
     "name": "stdout",
     "output_type": "stream",
     "text": [
      "Oops, this user is existed. Since DELETE is only supported with v2 tables. Multiple data for this user will be stored in table.\n"
     ]
    },
    {
     "name": "stderr",
     "output_type": "stream",
     "text": [
      "                                                                                \r"
     ]
    },
    {
     "name": "stdout",
     "output_type": "stream",
     "text": [
      "Oops, this user is existed. Since DELETE is only supported with v2 tables. Multiple data for this user will be stored in table.\n"
     ]
    },
    {
     "name": "stderr",
     "output_type": "stream",
     "text": [
      "                                                                                \r"
     ]
    },
    {
     "name": "stdout",
     "output_type": "stream",
     "text": [
      "Oops, this user is existed. Since DELETE is only supported with v2 tables. Multiple data for this user will be stored in table.\n"
     ]
    },
    {
     "name": "stderr",
     "output_type": "stream",
     "text": [
      "                                                                                \r"
     ]
    },
    {
     "name": "stdout",
     "output_type": "stream",
     "text": [
      "Oops, this user is existed. Since DELETE is only supported with v2 tables. Multiple data for this user will be stored in table.\n"
     ]
    },
    {
     "name": "stderr",
     "output_type": "stream",
     "text": [
      "                                                                                \r"
     ]
    },
    {
     "name": "stdout",
     "output_type": "stream",
     "text": [
      "Oops, this user is existed. Since DELETE is only supported with v2 tables. Multiple data for this user will be stored in table.\n"
     ]
    },
    {
     "name": "stderr",
     "output_type": "stream",
     "text": [
      "                                                                                \r"
     ]
    },
    {
     "name": "stdout",
     "output_type": "stream",
     "text": [
      "Oops, this user is existed. Since DELETE is only supported with v2 tables. Multiple data for this user will be stored in table.\n"
     ]
    },
    {
     "name": "stderr",
     "output_type": "stream",
     "text": [
      "                                                                                \r"
     ]
    },
    {
     "name": "stdout",
     "output_type": "stream",
     "text": [
      "Oops, this user is existed. Since DELETE is only supported with v2 tables. Multiple data for this user will be stored in table.\n"
     ]
    },
    {
     "name": "stderr",
     "output_type": "stream",
     "text": [
      "                                                                                \r"
     ]
    },
    {
     "name": "stdout",
     "output_type": "stream",
     "text": [
      "Oops, this user is existed. Since DELETE is only supported with v2 tables. Multiple data for this user will be stored in table.\n"
     ]
    },
    {
     "name": "stderr",
     "output_type": "stream",
     "text": [
      "                                                                                \r"
     ]
    },
    {
     "name": "stdout",
     "output_type": "stream",
     "text": [
      "Oops, this user is existed. Since DELETE is only supported with v2 tables. Multiple data for this user will be stored in table.\n"
     ]
    },
    {
     "name": "stderr",
     "output_type": "stream",
     "text": [
      "                                                                                \r"
     ]
    },
    {
     "name": "stdout",
     "output_type": "stream",
     "text": [
      "Oops, this user is existed. Since DELETE is only supported with v2 tables. Multiple data for this user will be stored in table.\n"
     ]
    },
    {
     "name": "stderr",
     "output_type": "stream",
     "text": [
      "                                                                                \r"
     ]
    },
    {
     "name": "stdout",
     "output_type": "stream",
     "text": [
      "Oops, this user is existed. Since DELETE is only supported with v2 tables. Multiple data for this user will be stored in table.\n"
     ]
    },
    {
     "name": "stderr",
     "output_type": "stream",
     "text": [
      "                                                                                \r"
     ]
    },
    {
     "name": "stdout",
     "output_type": "stream",
     "text": [
      "Oops, this user is existed. Since DELETE is only supported with v2 tables. Multiple data for this user will be stored in table.\n"
     ]
    },
    {
     "name": "stderr",
     "output_type": "stream",
     "text": [
      "                                                                                \r"
     ]
    },
    {
     "name": "stdout",
     "output_type": "stream",
     "text": [
      "Oops, this user is existed. Since DELETE is only supported with v2 tables. Multiple data for this user will be stored in table.\n"
     ]
    },
    {
     "name": "stderr",
     "output_type": "stream",
     "text": [
      "                                                                                \r"
     ]
    },
    {
     "name": "stdout",
     "output_type": "stream",
     "text": [
      "Oops, this user is existed. Since DELETE is only supported with v2 tables. Multiple data for this user will be stored in table.\n"
     ]
    },
    {
     "name": "stderr",
     "output_type": "stream",
     "text": [
      "                                                                                \r"
     ]
    },
    {
     "name": "stdout",
     "output_type": "stream",
     "text": [
      "Oops, this user is existed. Since DELETE is only supported with v2 tables. Multiple data for this user will be stored in table.\n"
     ]
    },
    {
     "name": "stderr",
     "output_type": "stream",
     "text": [
      "                                                                                \r"
     ]
    },
    {
     "name": "stdout",
     "output_type": "stream",
     "text": [
      "Oops, this user is existed. Since DELETE is only supported with v2 tables. Multiple data for this user will be stored in table.\n"
     ]
    },
    {
     "name": "stderr",
     "output_type": "stream",
     "text": [
      "                                                                                \r"
     ]
    },
    {
     "name": "stdout",
     "output_type": "stream",
     "text": [
      "Oops, this user is existed. Since DELETE is only supported with v2 tables. Multiple data for this user will be stored in table.\n"
     ]
    },
    {
     "name": "stderr",
     "output_type": "stream",
     "text": [
      "                                                                                \r"
     ]
    },
    {
     "name": "stdout",
     "output_type": "stream",
     "text": [
      "Oops, this user is existed. Since DELETE is only supported with v2 tables. Multiple data for this user will be stored in table.\n"
     ]
    },
    {
     "name": "stderr",
     "output_type": "stream",
     "text": [
      "                                                                                \r"
     ]
    },
    {
     "name": "stdout",
     "output_type": "stream",
     "text": [
      "Oops, this user is existed. Since DELETE is only supported with v2 tables. Multiple data for this user will be stored in table.\n"
     ]
    },
    {
     "name": "stderr",
     "output_type": "stream",
     "text": [
      "                                                                                \r"
     ]
    },
    {
     "name": "stdout",
     "output_type": "stream",
     "text": [
      "Oops, this user is existed. Since DELETE is only supported with v2 tables. Multiple data for this user will be stored in table.\n"
     ]
    },
    {
     "name": "stderr",
     "output_type": "stream",
     "text": [
      "                                                                                \r"
     ]
    },
    {
     "name": "stdout",
     "output_type": "stream",
     "text": [
      "Oops, this user is existed. Since DELETE is only supported with v2 tables. Multiple data for this user will be stored in table.\n"
     ]
    },
    {
     "name": "stderr",
     "output_type": "stream",
     "text": [
      "                                                                                \r"
     ]
    },
    {
     "name": "stdout",
     "output_type": "stream",
     "text": [
      "Oops, this user is existed. Since DELETE is only supported with v2 tables. Multiple data for this user will be stored in table.\n"
     ]
    },
    {
     "name": "stderr",
     "output_type": "stream",
     "text": [
      "                                                                                \r"
     ]
    },
    {
     "name": "stdout",
     "output_type": "stream",
     "text": [
      "Oops, this user is existed. Since DELETE is only supported with v2 tables. Multiple data for this user will be stored in table.\n"
     ]
    },
    {
     "name": "stderr",
     "output_type": "stream",
     "text": [
      "                                                                                \r"
     ]
    },
    {
     "name": "stdout",
     "output_type": "stream",
     "text": [
      "Oops, this user is existed. Since DELETE is only supported with v2 tables. Multiple data for this user will be stored in table.\n"
     ]
    },
    {
     "name": "stderr",
     "output_type": "stream",
     "text": [
      "                                                                                \r"
     ]
    },
    {
     "name": "stdout",
     "output_type": "stream",
     "text": [
      "Oops, this user is existed. Since DELETE is only supported with v2 tables. Multiple data for this user will be stored in table.\n"
     ]
    },
    {
     "name": "stderr",
     "output_type": "stream",
     "text": [
      "                                                                                \r"
     ]
    },
    {
     "name": "stdout",
     "output_type": "stream",
     "text": [
      "Oops, this user is existed. Since DELETE is only supported with v2 tables. Multiple data for this user will be stored in table.\n"
     ]
    },
    {
     "name": "stderr",
     "output_type": "stream",
     "text": [
      "                                                                                \r"
     ]
    },
    {
     "name": "stdout",
     "output_type": "stream",
     "text": [
      "Oops, this user is existed. Since DELETE is only supported with v2 tables. Multiple data for this user will be stored in table.\n"
     ]
    },
    {
     "name": "stderr",
     "output_type": "stream",
     "text": [
      "                                                                                \r"
     ]
    },
    {
     "name": "stdout",
     "output_type": "stream",
     "text": [
      "Oops, this user is existed. Since DELETE is only supported with v2 tables. Multiple data for this user will be stored in table.\n"
     ]
    },
    {
     "name": "stderr",
     "output_type": "stream",
     "text": [
      "                                                                                \r"
     ]
    },
    {
     "name": "stdout",
     "output_type": "stream",
     "text": [
      "Oops, this user is existed. Since DELETE is only supported with v2 tables. Multiple data for this user will be stored in table.\n"
     ]
    },
    {
     "name": "stderr",
     "output_type": "stream",
     "text": [
      "                                                                                \r"
     ]
    },
    {
     "name": "stdout",
     "output_type": "stream",
     "text": [
      "Oops, this user is existed. Since DELETE is only supported with v2 tables. Multiple data for this user will be stored in table.\n"
     ]
    },
    {
     "name": "stderr",
     "output_type": "stream",
     "text": [
      "                                                                                \r"
     ]
    },
    {
     "name": "stdout",
     "output_type": "stream",
     "text": [
      "Oops, this user is existed. Since DELETE is only supported with v2 tables. Multiple data for this user will be stored in table.\n"
     ]
    },
    {
     "name": "stderr",
     "output_type": "stream",
     "text": [
      "                                                                                \r"
     ]
    },
    {
     "name": "stdout",
     "output_type": "stream",
     "text": [
      "Oops, this user is existed. Since DELETE is only supported with v2 tables. Multiple data for this user will be stored in table.\n"
     ]
    },
    {
     "name": "stderr",
     "output_type": "stream",
     "text": [
      "                                                                                \r"
     ]
    },
    {
     "name": "stdout",
     "output_type": "stream",
     "text": [
      "Oops, this user is existed. Since DELETE is only supported with v2 tables. Multiple data for this user will be stored in table.\n"
     ]
    },
    {
     "name": "stderr",
     "output_type": "stream",
     "text": [
      "                                                                                \r"
     ]
    },
    {
     "name": "stdout",
     "output_type": "stream",
     "text": [
      "Oops, this user is existed. Since DELETE is only supported with v2 tables. Multiple data for this user will be stored in table.\n"
     ]
    },
    {
     "name": "stderr",
     "output_type": "stream",
     "text": [
      "                                                                                \r"
     ]
    },
    {
     "name": "stdout",
     "output_type": "stream",
     "text": [
      "Oops, this user is existed. Since DELETE is only supported with v2 tables. Multiple data for this user will be stored in table.\n"
     ]
    },
    {
     "name": "stderr",
     "output_type": "stream",
     "text": [
      "                                                                                \r"
     ]
    },
    {
     "name": "stdout",
     "output_type": "stream",
     "text": [
      "Oops, this user is existed. Since DELETE is only supported with v2 tables. Multiple data for this user will be stored in table.\n"
     ]
    },
    {
     "name": "stderr",
     "output_type": "stream",
     "text": [
      "                                                                                \r"
     ]
    },
    {
     "name": "stdout",
     "output_type": "stream",
     "text": [
      "Oops, this user is existed. Since DELETE is only supported with v2 tables. Multiple data for this user will be stored in table.\n"
     ]
    },
    {
     "name": "stderr",
     "output_type": "stream",
     "text": [
      "                                                                                \r"
     ]
    },
    {
     "name": "stdout",
     "output_type": "stream",
     "text": [
      "Oops, this user is existed. Since DELETE is only supported with v2 tables. Multiple data for this user will be stored in table.\n"
     ]
    },
    {
     "name": "stderr",
     "output_type": "stream",
     "text": [
      "                                                                                \r"
     ]
    },
    {
     "name": "stdout",
     "output_type": "stream",
     "text": [
      "Oops, this user is existed. Since DELETE is only supported with v2 tables. Multiple data for this user will be stored in table.\n"
     ]
    },
    {
     "name": "stderr",
     "output_type": "stream",
     "text": [
      "                                                                                \r"
     ]
    },
    {
     "name": "stdout",
     "output_type": "stream",
     "text": [
      "Oops, this user is existed. Since DELETE is only supported with v2 tables. Multiple data for this user will be stored in table.\n"
     ]
    },
    {
     "name": "stderr",
     "output_type": "stream",
     "text": [
      "                                                                                \r"
     ]
    },
    {
     "name": "stdout",
     "output_type": "stream",
     "text": [
      "Oops, this user is existed. Since DELETE is only supported with v2 tables. Multiple data for this user will be stored in table.\n"
     ]
    },
    {
     "name": "stderr",
     "output_type": "stream",
     "text": [
      "                                                                                \r"
     ]
    },
    {
     "name": "stdout",
     "output_type": "stream",
     "text": [
      "Oops, this user is existed. Since DELETE is only supported with v2 tables. Multiple data for this user will be stored in table.\n"
     ]
    },
    {
     "name": "stderr",
     "output_type": "stream",
     "text": [
      "                                                                                \r"
     ]
    },
    {
     "name": "stdout",
     "output_type": "stream",
     "text": [
      "Oops, this user is existed. Since DELETE is only supported with v2 tables. Multiple data for this user will be stored in table.\n"
     ]
    },
    {
     "name": "stderr",
     "output_type": "stream",
     "text": [
      "                                                                                \r"
     ]
    },
    {
     "name": "stdout",
     "output_type": "stream",
     "text": [
      "Oops, this user is existed. Since DELETE is only supported with v2 tables. Multiple data for this user will be stored in table.\n"
     ]
    },
    {
     "name": "stderr",
     "output_type": "stream",
     "text": [
      "                                                                                \r"
     ]
    },
    {
     "name": "stdout",
     "output_type": "stream",
     "text": [
      "Oops, this user is existed. Since DELETE is only supported with v2 tables. Multiple data for this user will be stored in table.\n"
     ]
    },
    {
     "name": "stderr",
     "output_type": "stream",
     "text": [
      "                                                                                \r"
     ]
    },
    {
     "name": "stdout",
     "output_type": "stream",
     "text": [
      "Oops, this user is existed. Since DELETE is only supported with v2 tables. Multiple data for this user will be stored in table.\n"
     ]
    },
    {
     "name": "stderr",
     "output_type": "stream",
     "text": [
      "                                                                                \r"
     ]
    },
    {
     "name": "stdout",
     "output_type": "stream",
     "text": [
      "Oops, this user is existed. Since DELETE is only supported with v2 tables. Multiple data for this user will be stored in table.\n"
     ]
    },
    {
     "name": "stderr",
     "output_type": "stream",
     "text": [
      "                                                                                \r"
     ]
    },
    {
     "name": "stdout",
     "output_type": "stream",
     "text": [
      "Oops, this user is existed. Since DELETE is only supported with v2 tables. Multiple data for this user will be stored in table.\n"
     ]
    },
    {
     "name": "stderr",
     "output_type": "stream",
     "text": [
      "                                                                                \r"
     ]
    },
    {
     "name": "stdout",
     "output_type": "stream",
     "text": [
      "Oops, this user is existed. Since DELETE is only supported with v2 tables. Multiple data for this user will be stored in table.\n"
     ]
    },
    {
     "name": "stderr",
     "output_type": "stream",
     "text": [
      "                                                                                \r"
     ]
    },
    {
     "name": "stdout",
     "output_type": "stream",
     "text": [
      "Oops, this user is existed. Since DELETE is only supported with v2 tables. Multiple data for this user will be stored in table.\n"
     ]
    },
    {
     "name": "stderr",
     "output_type": "stream",
     "text": [
      "                                                                                \r"
     ]
    },
    {
     "name": "stdout",
     "output_type": "stream",
     "text": [
      "Oops, this user is existed. Since DELETE is only supported with v2 tables. Multiple data for this user will be stored in table.\n"
     ]
    },
    {
     "name": "stderr",
     "output_type": "stream",
     "text": [
      "                                                                                \r"
     ]
    },
    {
     "name": "stdout",
     "output_type": "stream",
     "text": [
      "Oops, this user is existed. Since DELETE is only supported with v2 tables. Multiple data for this user will be stored in table.\n"
     ]
    },
    {
     "name": "stderr",
     "output_type": "stream",
     "text": [
      "                                                                                \r"
     ]
    },
    {
     "name": "stdout",
     "output_type": "stream",
     "text": [
      "Oops, this user is existed. Since DELETE is only supported with v2 tables. Multiple data for this user will be stored in table.\n"
     ]
    },
    {
     "name": "stderr",
     "output_type": "stream",
     "text": [
      "                                                                                \r"
     ]
    },
    {
     "name": "stdout",
     "output_type": "stream",
     "text": [
      "Oops, this user is existed. Since DELETE is only supported with v2 tables. Multiple data for this user will be stored in table.\n"
     ]
    },
    {
     "name": "stderr",
     "output_type": "stream",
     "text": [
      "                                                                                \r"
     ]
    },
    {
     "name": "stdout",
     "output_type": "stream",
     "text": [
      "Oops, this user is existed. Since DELETE is only supported with v2 tables. Multiple data for this user will be stored in table.\n"
     ]
    },
    {
     "name": "stderr",
     "output_type": "stream",
     "text": [
      "                                                                                \r"
     ]
    },
    {
     "name": "stdout",
     "output_type": "stream",
     "text": [
      "Oops, this user is existed. Since DELETE is only supported with v2 tables. Multiple data for this user will be stored in table.\n"
     ]
    },
    {
     "name": "stderr",
     "output_type": "stream",
     "text": [
      "                                                                                \r"
     ]
    },
    {
     "name": "stdout",
     "output_type": "stream",
     "text": [
      "Oops, this user is existed. Since DELETE is only supported with v2 tables. Multiple data for this user will be stored in table.\n"
     ]
    },
    {
     "name": "stderr",
     "output_type": "stream",
     "text": [
      "                                                                                \r"
     ]
    },
    {
     "name": "stdout",
     "output_type": "stream",
     "text": [
      "Oops, this user is existed. Since DELETE is only supported with v2 tables. Multiple data for this user will be stored in table.\n"
     ]
    },
    {
     "name": "stderr",
     "output_type": "stream",
     "text": [
      "                                                                                \r"
     ]
    },
    {
     "name": "stdout",
     "output_type": "stream",
     "text": [
      "Oops, this user is existed. Since DELETE is only supported with v2 tables. Multiple data for this user will be stored in table.\n"
     ]
    },
    {
     "name": "stderr",
     "output_type": "stream",
     "text": [
      "                                                                                \r"
     ]
    },
    {
     "name": "stdout",
     "output_type": "stream",
     "text": [
      "Oops, this user is existed. Since DELETE is only supported with v2 tables. Multiple data for this user will be stored in table.\n"
     ]
    },
    {
     "name": "stderr",
     "output_type": "stream",
     "text": [
      "                                                                                \r"
     ]
    },
    {
     "name": "stdout",
     "output_type": "stream",
     "text": [
      "Oops, this user is existed. Since DELETE is only supported with v2 tables. Multiple data for this user will be stored in table.\n"
     ]
    },
    {
     "name": "stderr",
     "output_type": "stream",
     "text": [
      "                                                                                \r"
     ]
    },
    {
     "name": "stdout",
     "output_type": "stream",
     "text": [
      "Oops, this user is existed. Since DELETE is only supported with v2 tables. Multiple data for this user will be stored in table.\n"
     ]
    },
    {
     "name": "stderr",
     "output_type": "stream",
     "text": [
      "                                                                                \r"
     ]
    },
    {
     "name": "stdout",
     "output_type": "stream",
     "text": [
      "Oops, this user is existed. Since DELETE is only supported with v2 tables. Multiple data for this user will be stored in table.\n"
     ]
    },
    {
     "name": "stderr",
     "output_type": "stream",
     "text": [
      "                                                                                \r"
     ]
    },
    {
     "name": "stdout",
     "output_type": "stream",
     "text": [
      "Oops, this user is existed. Since DELETE is only supported with v2 tables. Multiple data for this user will be stored in table.\n"
     ]
    },
    {
     "name": "stderr",
     "output_type": "stream",
     "text": [
      "                                                                                \r"
     ]
    },
    {
     "name": "stdout",
     "output_type": "stream",
     "text": [
      "Oops, this user is existed. Since DELETE is only supported with v2 tables. Multiple data for this user will be stored in table.\n"
     ]
    },
    {
     "name": "stderr",
     "output_type": "stream",
     "text": [
      "                                                                                \r"
     ]
    },
    {
     "name": "stdout",
     "output_type": "stream",
     "text": [
      "Oops, this user is existed. Since DELETE is only supported with v2 tables. Multiple data for this user will be stored in table.\n"
     ]
    },
    {
     "name": "stderr",
     "output_type": "stream",
     "text": [
      "                                                                                \r"
     ]
    },
    {
     "name": "stdout",
     "output_type": "stream",
     "text": [
      "Oops, this user is existed. Since DELETE is only supported with v2 tables. Multiple data for this user will be stored in table.\n"
     ]
    },
    {
     "name": "stderr",
     "output_type": "stream",
     "text": [
      "                                                                                \r"
     ]
    },
    {
     "name": "stdout",
     "output_type": "stream",
     "text": [
      "Oops, this user is existed. Since DELETE is only supported with v2 tables. Multiple data for this user will be stored in table.\n"
     ]
    },
    {
     "name": "stderr",
     "output_type": "stream",
     "text": [
      "                                                                                \r"
     ]
    },
    {
     "name": "stdout",
     "output_type": "stream",
     "text": [
      "Oops, this user is existed. Since DELETE is only supported with v2 tables. Multiple data for this user will be stored in table.\n"
     ]
    },
    {
     "name": "stderr",
     "output_type": "stream",
     "text": [
      "                                                                                \r"
     ]
    },
    {
     "name": "stdout",
     "output_type": "stream",
     "text": [
      "Oops, this user is existed. Since DELETE is only supported with v2 tables. Multiple data for this user will be stored in table.\n"
     ]
    },
    {
     "name": "stderr",
     "output_type": "stream",
     "text": [
      "                                                                                \r"
     ]
    },
    {
     "name": "stdout",
     "output_type": "stream",
     "text": [
      "Oops, this user is existed. Since DELETE is only supported with v2 tables. Multiple data for this user will be stored in table.\n"
     ]
    },
    {
     "name": "stderr",
     "output_type": "stream",
     "text": [
      "                                                                                \r"
     ]
    },
    {
     "name": "stdout",
     "output_type": "stream",
     "text": [
      "Oops, this user is existed. Since DELETE is only supported with v2 tables. Multiple data for this user will be stored in table.\n"
     ]
    },
    {
     "name": "stderr",
     "output_type": "stream",
     "text": [
      "                                                                                \r"
     ]
    },
    {
     "name": "stdout",
     "output_type": "stream",
     "text": [
      "Oops, this user is existed. Since DELETE is only supported with v2 tables. Multiple data for this user will be stored in table.\n"
     ]
    },
    {
     "name": "stderr",
     "output_type": "stream",
     "text": [
      "                                                                                \r"
     ]
    },
    {
     "name": "stdout",
     "output_type": "stream",
     "text": [
      "Oops, this user is existed. Since DELETE is only supported with v2 tables. Multiple data for this user will be stored in table.\n"
     ]
    },
    {
     "name": "stderr",
     "output_type": "stream",
     "text": [
      "                                                                                \r"
     ]
    },
    {
     "name": "stdout",
     "output_type": "stream",
     "text": [
      "Oops, this user is existed. Since DELETE is only supported with v2 tables. Multiple data for this user will be stored in table.\n"
     ]
    },
    {
     "name": "stderr",
     "output_type": "stream",
     "text": [
      "                                                                                \r"
     ]
    },
    {
     "name": "stdout",
     "output_type": "stream",
     "text": [
      "Oops, this user is existed. Since DELETE is only supported with v2 tables. Multiple data for this user will be stored in table.\n"
     ]
    },
    {
     "name": "stderr",
     "output_type": "stream",
     "text": [
      "                                                                                \r"
     ]
    },
    {
     "name": "stdout",
     "output_type": "stream",
     "text": [
      "Oops, this user is existed. Since DELETE is only supported with v2 tables. Multiple data for this user will be stored in table.\n"
     ]
    },
    {
     "name": "stderr",
     "output_type": "stream",
     "text": [
      "                                                                                \r"
     ]
    },
    {
     "name": "stdout",
     "output_type": "stream",
     "text": [
      "Oops, this user is existed. Since DELETE is only supported with v2 tables. Multiple data for this user will be stored in table.\n"
     ]
    },
    {
     "name": "stderr",
     "output_type": "stream",
     "text": [
      "                                                                                \r"
     ]
    },
    {
     "name": "stdout",
     "output_type": "stream",
     "text": [
      "Oops, this user is existed. Since DELETE is only supported with v2 tables. Multiple data for this user will be stored in table.\n"
     ]
    },
    {
     "name": "stderr",
     "output_type": "stream",
     "text": [
      "                                                                                \r"
     ]
    },
    {
     "name": "stdout",
     "output_type": "stream",
     "text": [
      "Oops, this user is existed. Since DELETE is only supported with v2 tables. Multiple data for this user will be stored in table.\n"
     ]
    },
    {
     "name": "stderr",
     "output_type": "stream",
     "text": [
      "                                                                                \r"
     ]
    },
    {
     "name": "stdout",
     "output_type": "stream",
     "text": [
      "Oops, this user is existed. Since DELETE is only supported with v2 tables. Multiple data for this user will be stored in table.\n"
     ]
    },
    {
     "name": "stderr",
     "output_type": "stream",
     "text": [
      "                                                                                \r"
     ]
    },
    {
     "name": "stdout",
     "output_type": "stream",
     "text": [
      "Oops, this user is existed. Since DELETE is only supported with v2 tables. Multiple data for this user will be stored in table.\n"
     ]
    },
    {
     "name": "stderr",
     "output_type": "stream",
     "text": [
      "                                                                                \r"
     ]
    },
    {
     "name": "stdout",
     "output_type": "stream",
     "text": [
      "Oops, this user is existed. Since DELETE is only supported with v2 tables. Multiple data for this user will be stored in table.\n"
     ]
    },
    {
     "name": "stderr",
     "output_type": "stream",
     "text": [
      "                                                                                \r"
     ]
    },
    {
     "name": "stdout",
     "output_type": "stream",
     "text": [
      "Oops, this user is existed. Since DELETE is only supported with v2 tables. Multiple data for this user will be stored in table.\n"
     ]
    },
    {
     "name": "stderr",
     "output_type": "stream",
     "text": [
      "                                                                                \r"
     ]
    },
    {
     "name": "stdout",
     "output_type": "stream",
     "text": [
      "Oops, this user is existed. Since DELETE is only supported with v2 tables. Multiple data for this user will be stored in table.\n"
     ]
    },
    {
     "name": "stderr",
     "output_type": "stream",
     "text": [
      "                                                                                \r"
     ]
    },
    {
     "name": "stdout",
     "output_type": "stream",
     "text": [
      "Oops, this user is existed. Since DELETE is only supported with v2 tables. Multiple data for this user will be stored in table.\n"
     ]
    },
    {
     "name": "stderr",
     "output_type": "stream",
     "text": [
      "                                                                                \r"
     ]
    },
    {
     "name": "stdout",
     "output_type": "stream",
     "text": [
      "Oops, this user is existed. Since DELETE is only supported with v2 tables. Multiple data for this user will be stored in table.\n"
     ]
    },
    {
     "name": "stderr",
     "output_type": "stream",
     "text": [
      "                                                                                \r"
     ]
    },
    {
     "name": "stdout",
     "output_type": "stream",
     "text": [
      "Oops, this user is existed. Since DELETE is only supported with v2 tables. Multiple data for this user will be stored in table.\n"
     ]
    },
    {
     "name": "stderr",
     "output_type": "stream",
     "text": [
      "                                                                                \r"
     ]
    },
    {
     "name": "stdout",
     "output_type": "stream",
     "text": [
      "Oops, this user is existed. Since DELETE is only supported with v2 tables. Multiple data for this user will be stored in table.\n"
     ]
    },
    {
     "name": "stderr",
     "output_type": "stream",
     "text": [
      "                                                                                \r"
     ]
    },
    {
     "name": "stdout",
     "output_type": "stream",
     "text": [
      "Oops, this user is existed. Since DELETE is only supported with v2 tables. Multiple data for this user will be stored in table.\n"
     ]
    },
    {
     "name": "stderr",
     "output_type": "stream",
     "text": [
      "                                                                                \r"
     ]
    },
    {
     "name": "stdout",
     "output_type": "stream",
     "text": [
      "Oops, this user is existed. Since DELETE is only supported with v2 tables. Multiple data for this user will be stored in table.\n"
     ]
    },
    {
     "name": "stderr",
     "output_type": "stream",
     "text": [
      "                                                                                \r"
     ]
    },
    {
     "name": "stdout",
     "output_type": "stream",
     "text": [
      "Oops, this user is existed. Since DELETE is only supported with v2 tables. Multiple data for this user will be stored in table.\n"
     ]
    },
    {
     "name": "stderr",
     "output_type": "stream",
     "text": [
      "                                                                                \r"
     ]
    },
    {
     "name": "stdout",
     "output_type": "stream",
     "text": [
      "Oops, this user is existed. Since DELETE is only supported with v2 tables. Multiple data for this user will be stored in table.\n"
     ]
    },
    {
     "name": "stderr",
     "output_type": "stream",
     "text": [
      "                                                                                \r"
     ]
    },
    {
     "name": "stdout",
     "output_type": "stream",
     "text": [
      "Oops, this user is existed. Since DELETE is only supported with v2 tables. Multiple data for this user will be stored in table.\n"
     ]
    },
    {
     "name": "stderr",
     "output_type": "stream",
     "text": [
      "                                                                                \r"
     ]
    },
    {
     "name": "stdout",
     "output_type": "stream",
     "text": [
      "Oops, this user is existed. Since DELETE is only supported with v2 tables. Multiple data for this user will be stored in table.\n"
     ]
    },
    {
     "name": "stderr",
     "output_type": "stream",
     "text": [
      "                                                                                \r"
     ]
    },
    {
     "name": "stdout",
     "output_type": "stream",
     "text": [
      "Oops, this user is existed. Since DELETE is only supported with v2 tables. Multiple data for this user will be stored in table.\n"
     ]
    },
    {
     "name": "stderr",
     "output_type": "stream",
     "text": [
      "                                                                                \r"
     ]
    },
    {
     "name": "stdout",
     "output_type": "stream",
     "text": [
      "Oops, this user is existed. Since DELETE is only supported with v2 tables. Multiple data for this user will be stored in table.\n"
     ]
    },
    {
     "name": "stderr",
     "output_type": "stream",
     "text": [
      "                                                                                \r"
     ]
    },
    {
     "name": "stdout",
     "output_type": "stream",
     "text": [
      "Oops, this user is existed. Since DELETE is only supported with v2 tables. Multiple data for this user will be stored in table.\n"
     ]
    },
    {
     "name": "stderr",
     "output_type": "stream",
     "text": [
      "                                                                                \r"
     ]
    },
    {
     "name": "stdout",
     "output_type": "stream",
     "text": [
      "Oops, this user is existed. Since DELETE is only supported with v2 tables. Multiple data for this user will be stored in table.\n"
     ]
    },
    {
     "name": "stderr",
     "output_type": "stream",
     "text": [
      "                                                                                \r"
     ]
    },
    {
     "name": "stdout",
     "output_type": "stream",
     "text": [
      "Oops, this user is existed. Since DELETE is only supported with v2 tables. Multiple data for this user will be stored in table.\n"
     ]
    },
    {
     "name": "stderr",
     "output_type": "stream",
     "text": [
      "                                                                                \r"
     ]
    },
    {
     "name": "stdout",
     "output_type": "stream",
     "text": [
      "Oops, this user is existed. Since DELETE is only supported with v2 tables. Multiple data for this user will be stored in table.\n"
     ]
    },
    {
     "name": "stderr",
     "output_type": "stream",
     "text": [
      "                                                                                \r"
     ]
    },
    {
     "name": "stdout",
     "output_type": "stream",
     "text": [
      "Oops, this user is existed. Since DELETE is only supported with v2 tables. Multiple data for this user will be stored in table.\n"
     ]
    },
    {
     "name": "stderr",
     "output_type": "stream",
     "text": [
      "                                                                                \r"
     ]
    },
    {
     "name": "stdout",
     "output_type": "stream",
     "text": [
      "Oops, this user is existed. Since DELETE is only supported with v2 tables. Multiple data for this user will be stored in table.\n"
     ]
    },
    {
     "name": "stderr",
     "output_type": "stream",
     "text": [
      "                                                                                \r"
     ]
    },
    {
     "name": "stdout",
     "output_type": "stream",
     "text": [
      "Oops, this user is existed. Since DELETE is only supported with v2 tables. Multiple data for this user will be stored in table.\n"
     ]
    },
    {
     "name": "stderr",
     "output_type": "stream",
     "text": [
      "                                                                                \r"
     ]
    },
    {
     "name": "stdout",
     "output_type": "stream",
     "text": [
      "Oops, this user is existed. Since DELETE is only supported with v2 tables. Multiple data for this user will be stored in table.\n"
     ]
    },
    {
     "name": "stderr",
     "output_type": "stream",
     "text": [
      "                                                                                \r"
     ]
    },
    {
     "name": "stdout",
     "output_type": "stream",
     "text": [
      "Oops, this user is existed. Since DELETE is only supported with v2 tables. Multiple data for this user will be stored in table.\n"
     ]
    },
    {
     "name": "stderr",
     "output_type": "stream",
     "text": [
      "                                                                                \r"
     ]
    },
    {
     "name": "stdout",
     "output_type": "stream",
     "text": [
      "Oops, this user is existed. Since DELETE is only supported with v2 tables. Multiple data for this user will be stored in table.\n"
     ]
    },
    {
     "name": "stderr",
     "output_type": "stream",
     "text": [
      "                                                                                \r"
     ]
    },
    {
     "name": "stdout",
     "output_type": "stream",
     "text": [
      "Oops, this user is existed. Since DELETE is only supported with v2 tables. Multiple data for this user will be stored in table.\n"
     ]
    },
    {
     "name": "stderr",
     "output_type": "stream",
     "text": [
      "                                                                                \r"
     ]
    },
    {
     "name": "stdout",
     "output_type": "stream",
     "text": [
      "Oops, this user is existed. Since DELETE is only supported with v2 tables. Multiple data for this user will be stored in table.\n"
     ]
    },
    {
     "name": "stderr",
     "output_type": "stream",
     "text": [
      "                                                                                \r"
     ]
    },
    {
     "name": "stdout",
     "output_type": "stream",
     "text": [
      "Oops, this user is existed. Since DELETE is only supported with v2 tables. Multiple data for this user will be stored in table.\n"
     ]
    },
    {
     "name": "stderr",
     "output_type": "stream",
     "text": [
      "                                                                                \r"
     ]
    },
    {
     "name": "stdout",
     "output_type": "stream",
     "text": [
      "Oops, this user is existed. Since DELETE is only supported with v2 tables. Multiple data for this user will be stored in table.\n"
     ]
    },
    {
     "name": "stderr",
     "output_type": "stream",
     "text": [
      "                                                                                \r"
     ]
    },
    {
     "name": "stdout",
     "output_type": "stream",
     "text": [
      "Oops, this user is existed. Since DELETE is only supported with v2 tables. Multiple data for this user will be stored in table.\n"
     ]
    },
    {
     "name": "stderr",
     "output_type": "stream",
     "text": [
      "                                                                                \r"
     ]
    },
    {
     "name": "stdout",
     "output_type": "stream",
     "text": [
      "Oops, this user is existed. Since DELETE is only supported with v2 tables. Multiple data for this user will be stored in table.\n"
     ]
    },
    {
     "name": "stderr",
     "output_type": "stream",
     "text": [
      "                                                                                \r"
     ]
    },
    {
     "name": "stdout",
     "output_type": "stream",
     "text": [
      "Oops, this user is existed. Since DELETE is only supported with v2 tables. Multiple data for this user will be stored in table.\n"
     ]
    },
    {
     "name": "stderr",
     "output_type": "stream",
     "text": [
      "                                                                                \r"
     ]
    },
    {
     "name": "stdout",
     "output_type": "stream",
     "text": [
      "Oops, this user is existed. Since DELETE is only supported with v2 tables. Multiple data for this user will be stored in table.\n"
     ]
    },
    {
     "name": "stderr",
     "output_type": "stream",
     "text": [
      "                                                                                \r"
     ]
    },
    {
     "name": "stdout",
     "output_type": "stream",
     "text": [
      "Oops, this user is existed. Since DELETE is only supported with v2 tables. Multiple data for this user will be stored in table.\n"
     ]
    },
    {
     "name": "stderr",
     "output_type": "stream",
     "text": [
      "                                                                                \r"
     ]
    },
    {
     "name": "stdout",
     "output_type": "stream",
     "text": [
      "Oops, this user is existed. Since DELETE is only supported with v2 tables. Multiple data for this user will be stored in table.\n"
     ]
    },
    {
     "name": "stderr",
     "output_type": "stream",
     "text": [
      "                                                                                \r"
     ]
    },
    {
     "name": "stdout",
     "output_type": "stream",
     "text": [
      "Oops, this user is existed. Since DELETE is only supported with v2 tables. Multiple data for this user will be stored in table.\n"
     ]
    },
    {
     "name": "stderr",
     "output_type": "stream",
     "text": [
      "                                                                                \r"
     ]
    },
    {
     "name": "stdout",
     "output_type": "stream",
     "text": [
      "Oops, this user is existed. Since DELETE is only supported with v2 tables. Multiple data for this user will be stored in table.\n"
     ]
    },
    {
     "name": "stderr",
     "output_type": "stream",
     "text": [
      "                                                                                \r"
     ]
    },
    {
     "name": "stdout",
     "output_type": "stream",
     "text": [
      "Oops, this user is existed. Since DELETE is only supported with v2 tables. Multiple data for this user will be stored in table.\n"
     ]
    },
    {
     "name": "stderr",
     "output_type": "stream",
     "text": [
      "                                                                                \r"
     ]
    },
    {
     "name": "stdout",
     "output_type": "stream",
     "text": [
      "Oops, this user is existed. Since DELETE is only supported with v2 tables. Multiple data for this user will be stored in table.\n"
     ]
    },
    {
     "name": "stderr",
     "output_type": "stream",
     "text": [
      "                                                                                \r"
     ]
    },
    {
     "name": "stdout",
     "output_type": "stream",
     "text": [
      "Oops, this user is existed. Since DELETE is only supported with v2 tables. Multiple data for this user will be stored in table.\n"
     ]
    },
    {
     "name": "stderr",
     "output_type": "stream",
     "text": [
      "                                                                                \r"
     ]
    },
    {
     "name": "stdout",
     "output_type": "stream",
     "text": [
      "Oops, this user is existed. Since DELETE is only supported with v2 tables. Multiple data for this user will be stored in table.\n"
     ]
    },
    {
     "name": "stderr",
     "output_type": "stream",
     "text": [
      "                                                                                \r"
     ]
    },
    {
     "name": "stdout",
     "output_type": "stream",
     "text": [
      "Oops, this user is existed. Since DELETE is only supported with v2 tables. Multiple data for this user will be stored in table.\n"
     ]
    },
    {
     "name": "stderr",
     "output_type": "stream",
     "text": [
      "                                                                                \r"
     ]
    },
    {
     "name": "stdout",
     "output_type": "stream",
     "text": [
      "Oops, this user is existed. Since DELETE is only supported with v2 tables. Multiple data for this user will be stored in table.\n"
     ]
    },
    {
     "name": "stderr",
     "output_type": "stream",
     "text": [
      "                                                                                \r"
     ]
    },
    {
     "name": "stdout",
     "output_type": "stream",
     "text": [
      "Oops, this user is existed. Since DELETE is only supported with v2 tables. Multiple data for this user will be stored in table.\n"
     ]
    },
    {
     "name": "stderr",
     "output_type": "stream",
     "text": [
      "                                                                                \r"
     ]
    },
    {
     "name": "stdout",
     "output_type": "stream",
     "text": [
      "Oops, this user is existed. Since DELETE is only supported with v2 tables. Multiple data for this user will be stored in table.\n"
     ]
    },
    {
     "name": "stderr",
     "output_type": "stream",
     "text": [
      "                                                                                \r"
     ]
    },
    {
     "name": "stdout",
     "output_type": "stream",
     "text": [
      "Oops, this user is existed. Since DELETE is only supported with v2 tables. Multiple data for this user will be stored in table.\n"
     ]
    },
    {
     "name": "stderr",
     "output_type": "stream",
     "text": [
      "                                                                                \r"
     ]
    },
    {
     "name": "stdout",
     "output_type": "stream",
     "text": [
      "Oops, this user is existed. Since DELETE is only supported with v2 tables. Multiple data for this user will be stored in table.\n"
     ]
    },
    {
     "name": "stderr",
     "output_type": "stream",
     "text": [
      "                                                                                \r"
     ]
    },
    {
     "name": "stdout",
     "output_type": "stream",
     "text": [
      "Oops, this user is existed. Since DELETE is only supported with v2 tables. Multiple data for this user will be stored in table.\n"
     ]
    },
    {
     "name": "stderr",
     "output_type": "stream",
     "text": [
      "                                                                                \r"
     ]
    },
    {
     "name": "stdout",
     "output_type": "stream",
     "text": [
      "Oops, this user is existed. Since DELETE is only supported with v2 tables. Multiple data for this user will be stored in table.\n"
     ]
    },
    {
     "name": "stderr",
     "output_type": "stream",
     "text": [
      "                                                                                \r"
     ]
    },
    {
     "name": "stdout",
     "output_type": "stream",
     "text": [
      "Oops, this user is existed. Since DELETE is only supported with v2 tables. Multiple data for this user will be stored in table.\n"
     ]
    },
    {
     "name": "stderr",
     "output_type": "stream",
     "text": [
      "                                                                                \r"
     ]
    },
    {
     "name": "stdout",
     "output_type": "stream",
     "text": [
      "Oops, this user is existed. Since DELETE is only supported with v2 tables. Multiple data for this user will be stored in table.\n"
     ]
    },
    {
     "name": "stderr",
     "output_type": "stream",
     "text": [
      "                                                                                \r"
     ]
    },
    {
     "name": "stdout",
     "output_type": "stream",
     "text": [
      "Oops, this user is existed. Since DELETE is only supported with v2 tables. Multiple data for this user will be stored in table.\n"
     ]
    },
    {
     "name": "stderr",
     "output_type": "stream",
     "text": [
      "                                                                                \r"
     ]
    },
    {
     "name": "stdout",
     "output_type": "stream",
     "text": [
      "Oops, this user is existed. Since DELETE is only supported with v2 tables. Multiple data for this user will be stored in table.\n"
     ]
    },
    {
     "name": "stderr",
     "output_type": "stream",
     "text": [
      "                                                                                \r"
     ]
    },
    {
     "name": "stdout",
     "output_type": "stream",
     "text": [
      "Oops, this user is existed. Since DELETE is only supported with v2 tables. Multiple data for this user will be stored in table.\n"
     ]
    },
    {
     "name": "stderr",
     "output_type": "stream",
     "text": [
      "                                                                                \r"
     ]
    },
    {
     "name": "stdout",
     "output_type": "stream",
     "text": [
      "Oops, this user is existed. Since DELETE is only supported with v2 tables. Multiple data for this user will be stored in table.\n"
     ]
    },
    {
     "name": "stderr",
     "output_type": "stream",
     "text": [
      "                                                                                \r"
     ]
    },
    {
     "name": "stdout",
     "output_type": "stream",
     "text": [
      "Oops, this user is existed. Since DELETE is only supported with v2 tables. Multiple data for this user will be stored in table.\n"
     ]
    },
    {
     "name": "stderr",
     "output_type": "stream",
     "text": [
      "                                                                                \r"
     ]
    },
    {
     "name": "stdout",
     "output_type": "stream",
     "text": [
      "Oops, this user is existed. Since DELETE is only supported with v2 tables. Multiple data for this user will be stored in table.\n"
     ]
    },
    {
     "name": "stderr",
     "output_type": "stream",
     "text": [
      "                                                                                \r"
     ]
    },
    {
     "name": "stdout",
     "output_type": "stream",
     "text": [
      "Oops, this user is existed. Since DELETE is only supported with v2 tables. Multiple data for this user will be stored in table.\n"
     ]
    },
    {
     "name": "stderr",
     "output_type": "stream",
     "text": [
      "                                                                                \r"
     ]
    },
    {
     "name": "stdout",
     "output_type": "stream",
     "text": [
      "Oops, this user is existed. Since DELETE is only supported with v2 tables. Multiple data for this user will be stored in table.\n"
     ]
    },
    {
     "name": "stderr",
     "output_type": "stream",
     "text": [
      "                                                                                \r"
     ]
    },
    {
     "name": "stdout",
     "output_type": "stream",
     "text": [
      "Oops, this user is existed. Since DELETE is only supported with v2 tables. Multiple data for this user will be stored in table.\n"
     ]
    },
    {
     "name": "stderr",
     "output_type": "stream",
     "text": [
      "                                                                                \r"
     ]
    },
    {
     "name": "stdout",
     "output_type": "stream",
     "text": [
      "Oops, this user is existed. Since DELETE is only supported with v2 tables. Multiple data for this user will be stored in table.\n"
     ]
    },
    {
     "name": "stderr",
     "output_type": "stream",
     "text": [
      "                                                                                \r"
     ]
    },
    {
     "name": "stdout",
     "output_type": "stream",
     "text": [
      "Oops, this user is existed. Since DELETE is only supported with v2 tables. Multiple data for this user will be stored in table.\n"
     ]
    },
    {
     "name": "stderr",
     "output_type": "stream",
     "text": [
      "                                                                                \r"
     ]
    },
    {
     "name": "stdout",
     "output_type": "stream",
     "text": [
      "Oops, this user is existed. Since DELETE is only supported with v2 tables. Multiple data for this user will be stored in table.\n"
     ]
    },
    {
     "name": "stderr",
     "output_type": "stream",
     "text": [
      "                                                                                \r"
     ]
    },
    {
     "name": "stdout",
     "output_type": "stream",
     "text": [
      "Oops, this user is existed. Since DELETE is only supported with v2 tables. Multiple data for this user will be stored in table.\n"
     ]
    },
    {
     "name": "stderr",
     "output_type": "stream",
     "text": [
      "                                                                                \r"
     ]
    },
    {
     "name": "stdout",
     "output_type": "stream",
     "text": [
      "Oops, this user is existed. Since DELETE is only supported with v2 tables. Multiple data for this user will be stored in table.\n"
     ]
    },
    {
     "name": "stderr",
     "output_type": "stream",
     "text": [
      "                                                                                \r"
     ]
    },
    {
     "name": "stdout",
     "output_type": "stream",
     "text": [
      "Oops, this user is existed. Since DELETE is only supported with v2 tables. Multiple data for this user will be stored in table.\n"
     ]
    },
    {
     "name": "stderr",
     "output_type": "stream",
     "text": [
      "                                                                                \r"
     ]
    },
    {
     "name": "stdout",
     "output_type": "stream",
     "text": [
      "Oops, this user is existed. Since DELETE is only supported with v2 tables. Multiple data for this user will be stored in table.\n"
     ]
    },
    {
     "name": "stderr",
     "output_type": "stream",
     "text": [
      "                                                                                \r"
     ]
    },
    {
     "name": "stdout",
     "output_type": "stream",
     "text": [
      "Oops, this user is existed. Since DELETE is only supported with v2 tables. Multiple data for this user will be stored in table.\n"
     ]
    },
    {
     "name": "stderr",
     "output_type": "stream",
     "text": [
      "                                                                                \r"
     ]
    },
    {
     "name": "stdout",
     "output_type": "stream",
     "text": [
      "Oops, this user is existed. Since DELETE is only supported with v2 tables. Multiple data for this user will be stored in table.\n"
     ]
    },
    {
     "name": "stderr",
     "output_type": "stream",
     "text": [
      "                                                                                \r"
     ]
    },
    {
     "name": "stdout",
     "output_type": "stream",
     "text": [
      "Oops, this user is existed. Since DELETE is only supported with v2 tables. Multiple data for this user will be stored in table.\n"
     ]
    },
    {
     "name": "stderr",
     "output_type": "stream",
     "text": [
      "                                                                                \r"
     ]
    },
    {
     "name": "stdout",
     "output_type": "stream",
     "text": [
      "Oops, this user is existed. Since DELETE is only supported with v2 tables. Multiple data for this user will be stored in table.\n"
     ]
    },
    {
     "name": "stderr",
     "output_type": "stream",
     "text": [
      "                                                                                \r"
     ]
    },
    {
     "name": "stdout",
     "output_type": "stream",
     "text": [
      "Oops, this user is existed. Since DELETE is only supported with v2 tables. Multiple data for this user will be stored in table.\n"
     ]
    },
    {
     "name": "stderr",
     "output_type": "stream",
     "text": [
      "                                                                                \r"
     ]
    },
    {
     "name": "stdout",
     "output_type": "stream",
     "text": [
      "Oops, this user is existed. Since DELETE is only supported with v2 tables. Multiple data for this user will be stored in table.\n"
     ]
    },
    {
     "name": "stderr",
     "output_type": "stream",
     "text": [
      "                                                                                \r"
     ]
    },
    {
     "name": "stdout",
     "output_type": "stream",
     "text": [
      "Oops, this user is existed. Since DELETE is only supported with v2 tables. Multiple data for this user will be stored in table.\n"
     ]
    },
    {
     "name": "stderr",
     "output_type": "stream",
     "text": [
      "                                                                                \r"
     ]
    },
    {
     "name": "stdout",
     "output_type": "stream",
     "text": [
      "Oops, this user is existed. Since DELETE is only supported with v2 tables. Multiple data for this user will be stored in table.\n"
     ]
    },
    {
     "name": "stderr",
     "output_type": "stream",
     "text": [
      "                                                                                \r"
     ]
    },
    {
     "name": "stdout",
     "output_type": "stream",
     "text": [
      "Oops, this user is existed. Since DELETE is only supported with v2 tables. Multiple data for this user will be stored in table.\n"
     ]
    },
    {
     "name": "stderr",
     "output_type": "stream",
     "text": [
      "                                                                                \r"
     ]
    },
    {
     "name": "stdout",
     "output_type": "stream",
     "text": [
      "Oops, this user is existed. Since DELETE is only supported with v2 tables. Multiple data for this user will be stored in table.\n"
     ]
    },
    {
     "name": "stderr",
     "output_type": "stream",
     "text": [
      "                                                                                \r"
     ]
    },
    {
     "name": "stdout",
     "output_type": "stream",
     "text": [
      "Oops, this user is existed. Since DELETE is only supported with v2 tables. Multiple data for this user will be stored in table.\n"
     ]
    },
    {
     "name": "stderr",
     "output_type": "stream",
     "text": [
      "                                                                                \r"
     ]
    },
    {
     "name": "stdout",
     "output_type": "stream",
     "text": [
      "Oops, this user is existed. Since DELETE is only supported with v2 tables. Multiple data for this user will be stored in table.\n"
     ]
    },
    {
     "name": "stderr",
     "output_type": "stream",
     "text": [
      "                                                                                \r"
     ]
    },
    {
     "name": "stdout",
     "output_type": "stream",
     "text": [
      "Oops, this user is existed. Since DELETE is only supported with v2 tables. Multiple data for this user will be stored in table.\n"
     ]
    },
    {
     "name": "stderr",
     "output_type": "stream",
     "text": [
      "                                                                                \r"
     ]
    },
    {
     "name": "stdout",
     "output_type": "stream",
     "text": [
      "Oops, this user is existed. Since DELETE is only supported with v2 tables. Multiple data for this user will be stored in table.\n"
     ]
    },
    {
     "name": "stderr",
     "output_type": "stream",
     "text": [
      "IOPub message rate exceeded.===============>                    (224 + 4) / 373]\n",
      "The notebook server will temporarily stop sending output\n",
      "to the client in order to avoid crashing it.\n",
      "To change this limit, set the config variable\n",
      "`--NotebookApp.iopub_msg_rate_limit`.\n",
      "\n",
      "Current values:\n",
      "NotebookApp.iopub_msg_rate_limit=1000.0 (msgs/sec)\n",
      "NotebookApp.rate_limit_window=3.0 (secs)\n",
      "\n",
      "                                                                                \r"
     ]
    },
    {
     "name": "stdout",
     "output_type": "stream",
     "text": [
      "Oops, this user is existed. Since DELETE is only supported with v2 tables. Multiple data for this user will be stored in table.\n"
     ]
    },
    {
     "name": "stderr",
     "output_type": "stream",
     "text": [
      "                                                                                \r"
     ]
    },
    {
     "name": "stdout",
     "output_type": "stream",
     "text": [
      "Oops, this user is existed. Since DELETE is only supported with v2 tables. Multiple data for this user will be stored in table.\n"
     ]
    },
    {
     "name": "stderr",
     "output_type": "stream",
     "text": [
      "                                                                                \r"
     ]
    },
    {
     "name": "stdout",
     "output_type": "stream",
     "text": [
      "Oops, this user is existed. Since DELETE is only supported with v2 tables. Multiple data for this user will be stored in table.\n"
     ]
    },
    {
     "name": "stderr",
     "output_type": "stream",
     "text": [
      "                                                                                \r"
     ]
    },
    {
     "name": "stdout",
     "output_type": "stream",
     "text": [
      "Oops, this user is existed. Since DELETE is only supported with v2 tables. Multiple data for this user will be stored in table.\n"
     ]
    },
    {
     "name": "stderr",
     "output_type": "stream",
     "text": [
      "                                                                                \r"
     ]
    },
    {
     "name": "stdout",
     "output_type": "stream",
     "text": [
      "Oops, this user is existed. Since DELETE is only supported with v2 tables. Multiple data for this user will be stored in table.\n"
     ]
    },
    {
     "name": "stderr",
     "output_type": "stream",
     "text": [
      "                                                                                \r"
     ]
    },
    {
     "name": "stdout",
     "output_type": "stream",
     "text": [
      "Oops, this user is existed. Since DELETE is only supported with v2 tables. Multiple data for this user will be stored in table.\n"
     ]
    },
    {
     "name": "stderr",
     "output_type": "stream",
     "text": [
      "                                                                                \r"
     ]
    },
    {
     "name": "stdout",
     "output_type": "stream",
     "text": [
      "Oops, this user is existed. Since DELETE is only supported with v2 tables. Multiple data for this user will be stored in table.\n"
     ]
    },
    {
     "name": "stderr",
     "output_type": "stream",
     "text": [
      "                                                                                \r"
     ]
    },
    {
     "name": "stdout",
     "output_type": "stream",
     "text": [
      "Oops, this user is existed. Since DELETE is only supported with v2 tables. Multiple data for this user will be stored in table.\n"
     ]
    },
    {
     "name": "stderr",
     "output_type": "stream",
     "text": [
      "                                                                                \r"
     ]
    },
    {
     "name": "stdout",
     "output_type": "stream",
     "text": [
      "Oops, this user is existed. Since DELETE is only supported with v2 tables. Multiple data for this user will be stored in table.\n"
     ]
    },
    {
     "name": "stderr",
     "output_type": "stream",
     "text": [
      "                                                                                \r"
     ]
    },
    {
     "name": "stdout",
     "output_type": "stream",
     "text": [
      "Oops, this user is existed. Since DELETE is only supported with v2 tables. Multiple data for this user will be stored in table.\n"
     ]
    },
    {
     "name": "stderr",
     "output_type": "stream",
     "text": [
      "                                                                                \r"
     ]
    },
    {
     "name": "stdout",
     "output_type": "stream",
     "text": [
      "Oops, this user is existed. Since DELETE is only supported with v2 tables. Multiple data for this user will be stored in table.\n"
     ]
    },
    {
     "name": "stderr",
     "output_type": "stream",
     "text": [
      "                                                                                \r"
     ]
    },
    {
     "name": "stdout",
     "output_type": "stream",
     "text": [
      "Oops, this user is existed. Since DELETE is only supported with v2 tables. Multiple data for this user will be stored in table.\n"
     ]
    },
    {
     "name": "stderr",
     "output_type": "stream",
     "text": [
      "                                                                                \r"
     ]
    },
    {
     "name": "stdout",
     "output_type": "stream",
     "text": [
      "Oops, this user is existed. Since DELETE is only supported with v2 tables. Multiple data for this user will be stored in table.\n"
     ]
    },
    {
     "name": "stderr",
     "output_type": "stream",
     "text": [
      "                                                                                \r"
     ]
    },
    {
     "name": "stdout",
     "output_type": "stream",
     "text": [
      "Oops, this user is existed. Since DELETE is only supported with v2 tables. Multiple data for this user will be stored in table.\n"
     ]
    },
    {
     "name": "stderr",
     "output_type": "stream",
     "text": [
      "                                                                                \r"
     ]
    },
    {
     "name": "stdout",
     "output_type": "stream",
     "text": [
      "Oops, this user is existed. Since DELETE is only supported with v2 tables. Multiple data for this user will be stored in table.\n"
     ]
    },
    {
     "name": "stderr",
     "output_type": "stream",
     "text": [
      "                                                                                \r"
     ]
    },
    {
     "name": "stdout",
     "output_type": "stream",
     "text": [
      "Oops, this user is existed. Since DELETE is only supported with v2 tables. Multiple data for this user will be stored in table.\n"
     ]
    },
    {
     "name": "stderr",
     "output_type": "stream",
     "text": [
      "                                                                                \r"
     ]
    },
    {
     "name": "stdout",
     "output_type": "stream",
     "text": [
      "Oops, this user is existed. Since DELETE is only supported with v2 tables. Multiple data for this user will be stored in table.\n"
     ]
    },
    {
     "name": "stderr",
     "output_type": "stream",
     "text": [
      "                                                                                \r"
     ]
    },
    {
     "name": "stdout",
     "output_type": "stream",
     "text": [
      "Oops, this user is existed. Since DELETE is only supported with v2 tables. Multiple data for this user will be stored in table.\n"
     ]
    },
    {
     "name": "stderr",
     "output_type": "stream",
     "text": [
      "                                                                                \r"
     ]
    },
    {
     "name": "stdout",
     "output_type": "stream",
     "text": [
      "Oops, this user is existed. Since DELETE is only supported with v2 tables. Multiple data for this user will be stored in table.\n"
     ]
    },
    {
     "name": "stderr",
     "output_type": "stream",
     "text": [
      "                                                                                \r"
     ]
    },
    {
     "name": "stdout",
     "output_type": "stream",
     "text": [
      "Oops, this user is existed. Since DELETE is only supported with v2 tables. Multiple data for this user will be stored in table.\n"
     ]
    },
    {
     "name": "stderr",
     "output_type": "stream",
     "text": [
      "                                                                                \r"
     ]
    },
    {
     "name": "stdout",
     "output_type": "stream",
     "text": [
      "Oops, this user is existed. Since DELETE is only supported with v2 tables. Multiple data for this user will be stored in table.\n"
     ]
    },
    {
     "name": "stderr",
     "output_type": "stream",
     "text": [
      "                                                                                \r"
     ]
    },
    {
     "name": "stdout",
     "output_type": "stream",
     "text": [
      "Oops, this user is existed. Since DELETE is only supported with v2 tables. Multiple data for this user will be stored in table.\n"
     ]
    },
    {
     "name": "stderr",
     "output_type": "stream",
     "text": [
      "                                                                                \r"
     ]
    },
    {
     "name": "stdout",
     "output_type": "stream",
     "text": [
      "Oops, this user is existed. Since DELETE is only supported with v2 tables. Multiple data for this user will be stored in table.\n"
     ]
    },
    {
     "name": "stderr",
     "output_type": "stream",
     "text": [
      "                                                                                \r"
     ]
    },
    {
     "name": "stdout",
     "output_type": "stream",
     "text": [
      "Oops, this user is existed. Since DELETE is only supported with v2 tables. Multiple data for this user will be stored in table.\n"
     ]
    },
    {
     "name": "stderr",
     "output_type": "stream",
     "text": [
      "                                                                                \r"
     ]
    },
    {
     "name": "stdout",
     "output_type": "stream",
     "text": [
      "Oops, this user is existed. Since DELETE is only supported with v2 tables. Multiple data for this user will be stored in table.\n"
     ]
    },
    {
     "name": "stderr",
     "output_type": "stream",
     "text": [
      "                                                                                \r"
     ]
    },
    {
     "name": "stdout",
     "output_type": "stream",
     "text": [
      "Oops, this user is existed. Since DELETE is only supported with v2 tables. Multiple data for this user will be stored in table.\n"
     ]
    },
    {
     "name": "stderr",
     "output_type": "stream",
     "text": [
      "                                                                                \r"
     ]
    },
    {
     "name": "stdout",
     "output_type": "stream",
     "text": [
      "Oops, this user is existed. Since DELETE is only supported with v2 tables. Multiple data for this user will be stored in table.\n"
     ]
    },
    {
     "name": "stderr",
     "output_type": "stream",
     "text": [
      "                                                                                \r"
     ]
    },
    {
     "name": "stdout",
     "output_type": "stream",
     "text": [
      "Oops, this user is existed. Since DELETE is only supported with v2 tables. Multiple data for this user will be stored in table.\n"
     ]
    },
    {
     "name": "stderr",
     "output_type": "stream",
     "text": [
      "                                                                                \r"
     ]
    },
    {
     "name": "stdout",
     "output_type": "stream",
     "text": [
      "Oops, this user is existed. Since DELETE is only supported with v2 tables. Multiple data for this user will be stored in table.\n"
     ]
    },
    {
     "name": "stderr",
     "output_type": "stream",
     "text": [
      "                                                                                \r"
     ]
    },
    {
     "name": "stdout",
     "output_type": "stream",
     "text": [
      "Oops, this user is existed. Since DELETE is only supported with v2 tables. Multiple data for this user will be stored in table.\n"
     ]
    },
    {
     "name": "stderr",
     "output_type": "stream",
     "text": [
      "                                                                                \r"
     ]
    },
    {
     "name": "stdout",
     "output_type": "stream",
     "text": [
      "Oops, this user is existed. Since DELETE is only supported with v2 tables. Multiple data for this user will be stored in table.\n"
     ]
    },
    {
     "name": "stderr",
     "output_type": "stream",
     "text": [
      "                                                                                \r"
     ]
    },
    {
     "name": "stdout",
     "output_type": "stream",
     "text": [
      "Oops, this user is existed. Since DELETE is only supported with v2 tables. Multiple data for this user will be stored in table.\n"
     ]
    },
    {
     "name": "stderr",
     "output_type": "stream",
     "text": [
      "                                                                                \r"
     ]
    },
    {
     "name": "stdout",
     "output_type": "stream",
     "text": [
      "Oops, this user is existed. Since DELETE is only supported with v2 tables. Multiple data for this user will be stored in table.\n"
     ]
    },
    {
     "name": "stderr",
     "output_type": "stream",
     "text": [
      "                                                                                \r"
     ]
    },
    {
     "name": "stdout",
     "output_type": "stream",
     "text": [
      "Oops, this user is existed. Since DELETE is only supported with v2 tables. Multiple data for this user will be stored in table.\n"
     ]
    },
    {
     "name": "stderr",
     "output_type": "stream",
     "text": [
      "                                                                                \r"
     ]
    },
    {
     "name": "stdout",
     "output_type": "stream",
     "text": [
      "Oops, this user is existed. Since DELETE is only supported with v2 tables. Multiple data for this user will be stored in table.\n"
     ]
    },
    {
     "name": "stderr",
     "output_type": "stream",
     "text": [
      "                                                                                \r"
     ]
    },
    {
     "name": "stdout",
     "output_type": "stream",
     "text": [
      "Oops, this user is existed. Since DELETE is only supported with v2 tables. Multiple data for this user will be stored in table.\n"
     ]
    },
    {
     "name": "stderr",
     "output_type": "stream",
     "text": [
      "                                                                                \r"
     ]
    },
    {
     "name": "stdout",
     "output_type": "stream",
     "text": [
      "Oops, this user is existed. Since DELETE is only supported with v2 tables. Multiple data for this user will be stored in table.\n"
     ]
    },
    {
     "name": "stderr",
     "output_type": "stream",
     "text": [
      "                                                                                \r"
     ]
    },
    {
     "name": "stdout",
     "output_type": "stream",
     "text": [
      "Oops, this user is existed. Since DELETE is only supported with v2 tables. Multiple data for this user will be stored in table.\n"
     ]
    },
    {
     "name": "stderr",
     "output_type": "stream",
     "text": [
      "                                                                                \r"
     ]
    },
    {
     "name": "stdout",
     "output_type": "stream",
     "text": [
      "Oops, this user is existed. Since DELETE is only supported with v2 tables. Multiple data for this user will be stored in table.\n"
     ]
    },
    {
     "name": "stderr",
     "output_type": "stream",
     "text": [
      "                                                                                \r"
     ]
    },
    {
     "name": "stdout",
     "output_type": "stream",
     "text": [
      "Oops, this user is existed. Since DELETE is only supported with v2 tables. Multiple data for this user will be stored in table.\n"
     ]
    },
    {
     "name": "stderr",
     "output_type": "stream",
     "text": [
      "                                                                                \r"
     ]
    },
    {
     "name": "stdout",
     "output_type": "stream",
     "text": [
      "Oops, this user is existed. Since DELETE is only supported with v2 tables. Multiple data for this user will be stored in table.\n"
     ]
    },
    {
     "name": "stderr",
     "output_type": "stream",
     "text": [
      "                                                                                \r"
     ]
    },
    {
     "name": "stdout",
     "output_type": "stream",
     "text": [
      "Oops, this user is existed. Since DELETE is only supported with v2 tables. Multiple data for this user will be stored in table.\n"
     ]
    },
    {
     "name": "stderr",
     "output_type": "stream",
     "text": [
      "                                                                                \r"
     ]
    },
    {
     "name": "stdout",
     "output_type": "stream",
     "text": [
      "Oops, this user is existed. Since DELETE is only supported with v2 tables. Multiple data for this user will be stored in table.\n"
     ]
    },
    {
     "name": "stderr",
     "output_type": "stream",
     "text": [
      "                                                                                \r"
     ]
    },
    {
     "name": "stdout",
     "output_type": "stream",
     "text": [
      "Oops, this user is existed. Since DELETE is only supported with v2 tables. Multiple data for this user will be stored in table.\n"
     ]
    },
    {
     "name": "stderr",
     "output_type": "stream",
     "text": [
      "                                                                                \r"
     ]
    },
    {
     "name": "stdout",
     "output_type": "stream",
     "text": [
      "Oops, this user is existed. Since DELETE is only supported with v2 tables. Multiple data for this user will be stored in table.\n"
     ]
    },
    {
     "name": "stderr",
     "output_type": "stream",
     "text": [
      "                                                                                \r"
     ]
    },
    {
     "name": "stdout",
     "output_type": "stream",
     "text": [
      "Oops, this user is existed. Since DELETE is only supported with v2 tables. Multiple data for this user will be stored in table.\n"
     ]
    },
    {
     "name": "stderr",
     "output_type": "stream",
     "text": [
      "                                                                                \r"
     ]
    },
    {
     "name": "stdout",
     "output_type": "stream",
     "text": [
      "Oops, this user is existed. Since DELETE is only supported with v2 tables. Multiple data for this user will be stored in table.\n"
     ]
    },
    {
     "name": "stderr",
     "output_type": "stream",
     "text": [
      "                                                                                \r"
     ]
    },
    {
     "name": "stdout",
     "output_type": "stream",
     "text": [
      "Oops, this user is existed. Since DELETE is only supported with v2 tables. Multiple data for this user will be stored in table.\n"
     ]
    },
    {
     "name": "stderr",
     "output_type": "stream",
     "text": [
      "                                                                                \r"
     ]
    },
    {
     "name": "stdout",
     "output_type": "stream",
     "text": [
      "Oops, this user is existed. Since DELETE is only supported with v2 tables. Multiple data for this user will be stored in table.\n"
     ]
    },
    {
     "name": "stderr",
     "output_type": "stream",
     "text": [
      "                                                                                \r"
     ]
    },
    {
     "name": "stdout",
     "output_type": "stream",
     "text": [
      "Oops, this user is existed. Since DELETE is only supported with v2 tables. Multiple data for this user will be stored in table.\n"
     ]
    },
    {
     "name": "stderr",
     "output_type": "stream",
     "text": [
      "                                                                                \r"
     ]
    },
    {
     "name": "stdout",
     "output_type": "stream",
     "text": [
      "Oops, this user is existed. Since DELETE is only supported with v2 tables. Multiple data for this user will be stored in table.\n"
     ]
    },
    {
     "name": "stderr",
     "output_type": "stream",
     "text": [
      "                                                                                \r"
     ]
    },
    {
     "name": "stdout",
     "output_type": "stream",
     "text": [
      "Oops, this user is existed. Since DELETE is only supported with v2 tables. Multiple data for this user will be stored in table.\n"
     ]
    },
    {
     "name": "stderr",
     "output_type": "stream",
     "text": [
      "                                                                                \r"
     ]
    },
    {
     "name": "stdout",
     "output_type": "stream",
     "text": [
      "Oops, this user is existed. Since DELETE is only supported with v2 tables. Multiple data for this user will be stored in table.\n"
     ]
    },
    {
     "name": "stderr",
     "output_type": "stream",
     "text": [
      "                                                                                \r"
     ]
    },
    {
     "name": "stdout",
     "output_type": "stream",
     "text": [
      "Oops, this user is existed. Since DELETE is only supported with v2 tables. Multiple data for this user will be stored in table.\n"
     ]
    },
    {
     "name": "stderr",
     "output_type": "stream",
     "text": [
      "                                                                                \r"
     ]
    },
    {
     "name": "stdout",
     "output_type": "stream",
     "text": [
      "Oops, this user is existed. Since DELETE is only supported with v2 tables. Multiple data for this user will be stored in table.\n"
     ]
    },
    {
     "name": "stderr",
     "output_type": "stream",
     "text": [
      "                                                                                \r"
     ]
    },
    {
     "name": "stdout",
     "output_type": "stream",
     "text": [
      "Oops, this user is existed. Since DELETE is only supported with v2 tables. Multiple data for this user will be stored in table.\n"
     ]
    },
    {
     "name": "stderr",
     "output_type": "stream",
     "text": [
      "                                                                                \r"
     ]
    },
    {
     "name": "stdout",
     "output_type": "stream",
     "text": [
      "Oops, this user is existed. Since DELETE is only supported with v2 tables. Multiple data for this user will be stored in table.\n"
     ]
    },
    {
     "name": "stderr",
     "output_type": "stream",
     "text": [
      "                                                                                \r"
     ]
    },
    {
     "name": "stdout",
     "output_type": "stream",
     "text": [
      "Oops, this user is existed. Since DELETE is only supported with v2 tables. Multiple data for this user will be stored in table.\n"
     ]
    },
    {
     "name": "stderr",
     "output_type": "stream",
     "text": [
      "                                                                                \r"
     ]
    },
    {
     "name": "stdout",
     "output_type": "stream",
     "text": [
      "Oops, this user is existed. Since DELETE is only supported with v2 tables. Multiple data for this user will be stored in table.\n"
     ]
    },
    {
     "name": "stderr",
     "output_type": "stream",
     "text": [
      "                                                                                \r"
     ]
    },
    {
     "name": "stdout",
     "output_type": "stream",
     "text": [
      "Oops, this user is existed. Since DELETE is only supported with v2 tables. Multiple data for this user will be stored in table.\n"
     ]
    },
    {
     "name": "stderr",
     "output_type": "stream",
     "text": [
      "                                                                                \r"
     ]
    },
    {
     "name": "stdout",
     "output_type": "stream",
     "text": [
      "Oops, this user is existed. Since DELETE is only supported with v2 tables. Multiple data for this user will be stored in table.\n"
     ]
    },
    {
     "name": "stderr",
     "output_type": "stream",
     "text": [
      "                                                                                \r"
     ]
    },
    {
     "name": "stdout",
     "output_type": "stream",
     "text": [
      "Oops, this user is existed. Since DELETE is only supported with v2 tables. Multiple data for this user will be stored in table.\n"
     ]
    },
    {
     "name": "stderr",
     "output_type": "stream",
     "text": [
      "                                                                                \r"
     ]
    },
    {
     "name": "stdout",
     "output_type": "stream",
     "text": [
      "Oops, this user is existed. Since DELETE is only supported with v2 tables. Multiple data for this user will be stored in table.\n"
     ]
    },
    {
     "name": "stderr",
     "output_type": "stream",
     "text": [
      "                                                                                \r"
     ]
    },
    {
     "name": "stdout",
     "output_type": "stream",
     "text": [
      "Oops, this user is existed. Since DELETE is only supported with v2 tables. Multiple data for this user will be stored in table.\n"
     ]
    },
    {
     "name": "stderr",
     "output_type": "stream",
     "text": [
      "                                                                                \r"
     ]
    },
    {
     "name": "stdout",
     "output_type": "stream",
     "text": [
      "Oops, this user is existed. Since DELETE is only supported with v2 tables. Multiple data for this user will be stored in table.\n"
     ]
    },
    {
     "name": "stderr",
     "output_type": "stream",
     "text": [
      "                                                                                \r"
     ]
    },
    {
     "name": "stdout",
     "output_type": "stream",
     "text": [
      "Oops, this user is existed. Since DELETE is only supported with v2 tables. Multiple data for this user will be stored in table.\n"
     ]
    },
    {
     "name": "stderr",
     "output_type": "stream",
     "text": [
      "                                                                                \r"
     ]
    },
    {
     "name": "stdout",
     "output_type": "stream",
     "text": [
      "Oops, this user is existed. Since DELETE is only supported with v2 tables. Multiple data for this user will be stored in table.\n"
     ]
    },
    {
     "name": "stderr",
     "output_type": "stream",
     "text": [
      "                                                                                \r"
     ]
    },
    {
     "name": "stdout",
     "output_type": "stream",
     "text": [
      "Oops, this user is existed. Since DELETE is only supported with v2 tables. Multiple data for this user will be stored in table.\n"
     ]
    },
    {
     "name": "stderr",
     "output_type": "stream",
     "text": [
      "                                                                                \r"
     ]
    },
    {
     "name": "stdout",
     "output_type": "stream",
     "text": [
      "Oops, this user is existed. Since DELETE is only supported with v2 tables. Multiple data for this user will be stored in table.\n"
     ]
    },
    {
     "name": "stderr",
     "output_type": "stream",
     "text": [
      "                                                                                \r"
     ]
    },
    {
     "name": "stdout",
     "output_type": "stream",
     "text": [
      "Oops, this user is existed. Since DELETE is only supported with v2 tables. Multiple data for this user will be stored in table.\n"
     ]
    },
    {
     "name": "stderr",
     "output_type": "stream",
     "text": [
      "                                                                                \r"
     ]
    },
    {
     "name": "stdout",
     "output_type": "stream",
     "text": [
      "Oops, this user is existed. Since DELETE is only supported with v2 tables. Multiple data for this user will be stored in table.\n"
     ]
    },
    {
     "name": "stderr",
     "output_type": "stream",
     "text": [
      "                                                                                \r"
     ]
    },
    {
     "name": "stdout",
     "output_type": "stream",
     "text": [
      "Oops, this user is existed. Since DELETE is only supported with v2 tables. Multiple data for this user will be stored in table.\n"
     ]
    },
    {
     "name": "stderr",
     "output_type": "stream",
     "text": [
      "                                                                                \r"
     ]
    },
    {
     "name": "stdout",
     "output_type": "stream",
     "text": [
      "Oops, this user is existed. Since DELETE is only supported with v2 tables. Multiple data for this user will be stored in table.\n"
     ]
    },
    {
     "name": "stderr",
     "output_type": "stream",
     "text": [
      "                                                                                \r"
     ]
    },
    {
     "name": "stdout",
     "output_type": "stream",
     "text": [
      "Oops, this user is existed. Since DELETE is only supported with v2 tables. Multiple data for this user will be stored in table.\n"
     ]
    },
    {
     "name": "stderr",
     "output_type": "stream",
     "text": [
      "                                                                                \r"
     ]
    },
    {
     "name": "stdout",
     "output_type": "stream",
     "text": [
      "Oops, this user is existed. Since DELETE is only supported with v2 tables. Multiple data for this user will be stored in table.\n"
     ]
    },
    {
     "name": "stderr",
     "output_type": "stream",
     "text": [
      "                                                                                \r"
     ]
    },
    {
     "name": "stdout",
     "output_type": "stream",
     "text": [
      "Oops, this user is existed. Since DELETE is only supported with v2 tables. Multiple data for this user will be stored in table.\n"
     ]
    },
    {
     "name": "stderr",
     "output_type": "stream",
     "text": [
      "                                                                                \r"
     ]
    },
    {
     "name": "stdout",
     "output_type": "stream",
     "text": [
      "Oops, this user is existed. Since DELETE is only supported with v2 tables. Multiple data for this user will be stored in table.\n"
     ]
    },
    {
     "name": "stderr",
     "output_type": "stream",
     "text": [
      "                                                                                \r"
     ]
    },
    {
     "name": "stdout",
     "output_type": "stream",
     "text": [
      "Oops, this user is existed. Since DELETE is only supported with v2 tables. Multiple data for this user will be stored in table.\n"
     ]
    },
    {
     "name": "stderr",
     "output_type": "stream",
     "text": [
      "                                                                                \r"
     ]
    },
    {
     "name": "stdout",
     "output_type": "stream",
     "text": [
      "Oops, this user is existed. Since DELETE is only supported with v2 tables. Multiple data for this user will be stored in table.\n"
     ]
    },
    {
     "name": "stderr",
     "output_type": "stream",
     "text": [
      "                                                                                \r"
     ]
    },
    {
     "name": "stdout",
     "output_type": "stream",
     "text": [
      "Oops, this user is existed. Since DELETE is only supported with v2 tables. Multiple data for this user will be stored in table.\n"
     ]
    },
    {
     "name": "stderr",
     "output_type": "stream",
     "text": [
      "                                                                                \r"
     ]
    },
    {
     "name": "stdout",
     "output_type": "stream",
     "text": [
      "Oops, this user is existed. Since DELETE is only supported with v2 tables. Multiple data for this user will be stored in table.\n"
     ]
    },
    {
     "name": "stderr",
     "output_type": "stream",
     "text": [
      "                                                                                \r"
     ]
    },
    {
     "name": "stdout",
     "output_type": "stream",
     "text": [
      "Oops, this user is existed. Since DELETE is only supported with v2 tables. Multiple data for this user will be stored in table.\n"
     ]
    },
    {
     "name": "stderr",
     "output_type": "stream",
     "text": [
      "                                                                                \r"
     ]
    },
    {
     "name": "stdout",
     "output_type": "stream",
     "text": [
      "Oops, this user is existed. Since DELETE is only supported with v2 tables. Multiple data for this user will be stored in table.\n"
     ]
    },
    {
     "name": "stderr",
     "output_type": "stream",
     "text": [
      "                                                                                \r"
     ]
    },
    {
     "name": "stdout",
     "output_type": "stream",
     "text": [
      "Oops, this user is existed. Since DELETE is only supported with v2 tables. Multiple data for this user will be stored in table.\n"
     ]
    },
    {
     "name": "stderr",
     "output_type": "stream",
     "text": [
      "                                                                                \r"
     ]
    },
    {
     "name": "stdout",
     "output_type": "stream",
     "text": [
      "Oops, this user is existed. Since DELETE is only supported with v2 tables. Multiple data for this user will be stored in table.\n"
     ]
    },
    {
     "name": "stderr",
     "output_type": "stream",
     "text": [
      "                                                                                \r"
     ]
    },
    {
     "name": "stdout",
     "output_type": "stream",
     "text": [
      "Oops, this user is existed. Since DELETE is only supported with v2 tables. Multiple data for this user will be stored in table.\n"
     ]
    },
    {
     "name": "stderr",
     "output_type": "stream",
     "text": [
      "                                                                                \r"
     ]
    },
    {
     "name": "stdout",
     "output_type": "stream",
     "text": [
      "Oops, this user is existed. Since DELETE is only supported with v2 tables. Multiple data for this user will be stored in table.\n"
     ]
    },
    {
     "name": "stderr",
     "output_type": "stream",
     "text": [
      "                                                                                \r"
     ]
    },
    {
     "name": "stdout",
     "output_type": "stream",
     "text": [
      "Oops, this user is existed. Since DELETE is only supported with v2 tables. Multiple data for this user will be stored in table.\n"
     ]
    },
    {
     "name": "stderr",
     "output_type": "stream",
     "text": [
      "                                                                                \r"
     ]
    },
    {
     "name": "stdout",
     "output_type": "stream",
     "text": [
      "Oops, this user is existed. Since DELETE is only supported with v2 tables. Multiple data for this user will be stored in table.\n"
     ]
    },
    {
     "name": "stderr",
     "output_type": "stream",
     "text": [
      "                                                                                \r"
     ]
    },
    {
     "name": "stdout",
     "output_type": "stream",
     "text": [
      "Oops, this user is existed. Since DELETE is only supported with v2 tables. Multiple data for this user will be stored in table.\n"
     ]
    },
    {
     "name": "stderr",
     "output_type": "stream",
     "text": [
      "                                                                                \r"
     ]
    },
    {
     "name": "stdout",
     "output_type": "stream",
     "text": [
      "Oops, this user is existed. Since DELETE is only supported with v2 tables. Multiple data for this user will be stored in table.\n"
     ]
    },
    {
     "name": "stderr",
     "output_type": "stream",
     "text": [
      "                                                                                \r"
     ]
    },
    {
     "name": "stdout",
     "output_type": "stream",
     "text": [
      "Oops, this user is existed. Since DELETE is only supported with v2 tables. Multiple data for this user will be stored in table.\n"
     ]
    },
    {
     "name": "stderr",
     "output_type": "stream",
     "text": [
      "                                                                                \r"
     ]
    },
    {
     "name": "stdout",
     "output_type": "stream",
     "text": [
      "Oops, this user is existed. Since DELETE is only supported with v2 tables. Multiple data for this user will be stored in table.\n"
     ]
    },
    {
     "name": "stderr",
     "output_type": "stream",
     "text": [
      "                                                                                \r"
     ]
    },
    {
     "name": "stdout",
     "output_type": "stream",
     "text": [
      "Oops, this user is existed. Since DELETE is only supported with v2 tables. Multiple data for this user will be stored in table.\n"
     ]
    },
    {
     "name": "stderr",
     "output_type": "stream",
     "text": [
      "                                                                                \r"
     ]
    },
    {
     "name": "stdout",
     "output_type": "stream",
     "text": [
      "Oops, this user is existed. Since DELETE is only supported with v2 tables. Multiple data for this user will be stored in table.\n"
     ]
    },
    {
     "name": "stderr",
     "output_type": "stream",
     "text": [
      "                                                                                \r"
     ]
    },
    {
     "name": "stdout",
     "output_type": "stream",
     "text": [
      "Oops, this user is existed. Since DELETE is only supported with v2 tables. Multiple data for this user will be stored in table.\n"
     ]
    },
    {
     "name": "stderr",
     "output_type": "stream",
     "text": [
      "                                                                                \r"
     ]
    },
    {
     "name": "stdout",
     "output_type": "stream",
     "text": [
      "Oops, this user is existed. Since DELETE is only supported with v2 tables. Multiple data for this user will be stored in table.\n"
     ]
    },
    {
     "name": "stderr",
     "output_type": "stream",
     "text": [
      "IOPub message rate exceeded.                                     (52 + 4) / 423]\n",
      "The notebook server will temporarily stop sending output\n",
      "to the client in order to avoid crashing it.\n",
      "To change this limit, set the config variable\n",
      "`--NotebookApp.iopub_msg_rate_limit`.\n",
      "\n",
      "Current values:\n",
      "NotebookApp.iopub_msg_rate_limit=1000.0 (msgs/sec)\n",
      "NotebookApp.rate_limit_window=3.0 (secs)\n",
      "\n",
      "                                                                                \r"
     ]
    },
    {
     "name": "stdout",
     "output_type": "stream",
     "text": [
      "Oops, this user is existed. Since DELETE is only supported with v2 tables. Multiple data for this user will be stored in table.\n"
     ]
    },
    {
     "name": "stderr",
     "output_type": "stream",
     "text": [
      "                                                                                \r"
     ]
    },
    {
     "name": "stdout",
     "output_type": "stream",
     "text": [
      "Oops, this user is existed. Since DELETE is only supported with v2 tables. Multiple data for this user will be stored in table.\n"
     ]
    },
    {
     "name": "stderr",
     "output_type": "stream",
     "text": [
      "                                                                                \r"
     ]
    },
    {
     "name": "stdout",
     "output_type": "stream",
     "text": [
      "Oops, this user is existed. Since DELETE is only supported with v2 tables. Multiple data for this user will be stored in table.\n"
     ]
    },
    {
     "name": "stderr",
     "output_type": "stream",
     "text": [
      "                                                                                \r"
     ]
    },
    {
     "name": "stdout",
     "output_type": "stream",
     "text": [
      "Oops, this user is existed. Since DELETE is only supported with v2 tables. Multiple data for this user will be stored in table.\n"
     ]
    },
    {
     "name": "stderr",
     "output_type": "stream",
     "text": [
      "                                                                                \r"
     ]
    },
    {
     "name": "stdout",
     "output_type": "stream",
     "text": [
      "Oops, this user is existed. Since DELETE is only supported with v2 tables. Multiple data for this user will be stored in table.\n"
     ]
    },
    {
     "name": "stderr",
     "output_type": "stream",
     "text": [
      "                                                                                \r"
     ]
    },
    {
     "name": "stdout",
     "output_type": "stream",
     "text": [
      "Oops, this user is existed. Since DELETE is only supported with v2 tables. Multiple data for this user will be stored in table.\n"
     ]
    },
    {
     "name": "stderr",
     "output_type": "stream",
     "text": [
      "                                                                                \r"
     ]
    },
    {
     "name": "stdout",
     "output_type": "stream",
     "text": [
      "Oops, this user is existed. Since DELETE is only supported with v2 tables. Multiple data for this user will be stored in table.\n"
     ]
    },
    {
     "name": "stderr",
     "output_type": "stream",
     "text": [
      "                                                                                \r"
     ]
    },
    {
     "name": "stdout",
     "output_type": "stream",
     "text": [
      "Oops, this user is existed. Since DELETE is only supported with v2 tables. Multiple data for this user will be stored in table.\n"
     ]
    },
    {
     "name": "stderr",
     "output_type": "stream",
     "text": [
      "                                                                                \r"
     ]
    },
    {
     "name": "stdout",
     "output_type": "stream",
     "text": [
      "Oops, this user is existed. Since DELETE is only supported with v2 tables. Multiple data for this user will be stored in table.\n"
     ]
    },
    {
     "name": "stderr",
     "output_type": "stream",
     "text": [
      "                                                                                \r"
     ]
    },
    {
     "name": "stdout",
     "output_type": "stream",
     "text": [
      "Oops, this user is existed. Since DELETE is only supported with v2 tables. Multiple data for this user will be stored in table.\n"
     ]
    },
    {
     "name": "stderr",
     "output_type": "stream",
     "text": [
      "                                                                                \r"
     ]
    },
    {
     "name": "stdout",
     "output_type": "stream",
     "text": [
      "Oops, this user is existed. Since DELETE is only supported with v2 tables. Multiple data for this user will be stored in table.\n"
     ]
    },
    {
     "name": "stderr",
     "output_type": "stream",
     "text": [
      "                                                                                \r"
     ]
    },
    {
     "name": "stdout",
     "output_type": "stream",
     "text": [
      "Oops, this user is existed. Since DELETE is only supported with v2 tables. Multiple data for this user will be stored in table.\n"
     ]
    },
    {
     "name": "stderr",
     "output_type": "stream",
     "text": [
      "                                                                                \r"
     ]
    },
    {
     "name": "stdout",
     "output_type": "stream",
     "text": [
      "Oops, this user is existed. Since DELETE is only supported with v2 tables. Multiple data for this user will be stored in table.\n"
     ]
    },
    {
     "name": "stderr",
     "output_type": "stream",
     "text": [
      "                                                                                \r"
     ]
    },
    {
     "name": "stdout",
     "output_type": "stream",
     "text": [
      "Oops, this user is existed. Since DELETE is only supported with v2 tables. Multiple data for this user will be stored in table.\n"
     ]
    },
    {
     "name": "stderr",
     "output_type": "stream",
     "text": [
      "                                                                                \r"
     ]
    },
    {
     "name": "stdout",
     "output_type": "stream",
     "text": [
      "Oops, this user is existed. Since DELETE is only supported with v2 tables. Multiple data for this user will be stored in table.\n"
     ]
    },
    {
     "name": "stderr",
     "output_type": "stream",
     "text": [
      "                                                                                \r"
     ]
    },
    {
     "name": "stdout",
     "output_type": "stream",
     "text": [
      "Oops, this user is existed. Since DELETE is only supported with v2 tables. Multiple data for this user will be stored in table.\n"
     ]
    },
    {
     "name": "stderr",
     "output_type": "stream",
     "text": [
      "                                                                                \r"
     ]
    },
    {
     "name": "stdout",
     "output_type": "stream",
     "text": [
      "Oops, this user is existed. Since DELETE is only supported with v2 tables. Multiple data for this user will be stored in table.\n"
     ]
    },
    {
     "name": "stderr",
     "output_type": "stream",
     "text": [
      "                                                                                \r"
     ]
    },
    {
     "name": "stdout",
     "output_type": "stream",
     "text": [
      "Oops, this user is existed. Since DELETE is only supported with v2 tables. Multiple data for this user will be stored in table.\n"
     ]
    },
    {
     "name": "stderr",
     "output_type": "stream",
     "text": [
      "                                                                                \r"
     ]
    },
    {
     "name": "stdout",
     "output_type": "stream",
     "text": [
      "Oops, this user is existed. Since DELETE is only supported with v2 tables. Multiple data for this user will be stored in table.\n"
     ]
    },
    {
     "name": "stderr",
     "output_type": "stream",
     "text": [
      "                                                                                \r"
     ]
    },
    {
     "name": "stdout",
     "output_type": "stream",
     "text": [
      "Oops, this user is existed. Since DELETE is only supported with v2 tables. Multiple data for this user will be stored in table.\n"
     ]
    },
    {
     "name": "stderr",
     "output_type": "stream",
     "text": [
      "                                                                                \r"
     ]
    },
    {
     "name": "stdout",
     "output_type": "stream",
     "text": [
      "Oops, this user is existed. Since DELETE is only supported with v2 tables. Multiple data for this user will be stored in table.\n"
     ]
    },
    {
     "name": "stderr",
     "output_type": "stream",
     "text": [
      "                                                                                \r"
     ]
    },
    {
     "name": "stdout",
     "output_type": "stream",
     "text": [
      "Oops, this user is existed. Since DELETE is only supported with v2 tables. Multiple data for this user will be stored in table.\n"
     ]
    },
    {
     "name": "stderr",
     "output_type": "stream",
     "text": [
      "                                                                                \r"
     ]
    },
    {
     "name": "stdout",
     "output_type": "stream",
     "text": [
      "Oops, this user is existed. Since DELETE is only supported with v2 tables. Multiple data for this user will be stored in table.\n"
     ]
    },
    {
     "name": "stderr",
     "output_type": "stream",
     "text": [
      "                                                                                \r"
     ]
    },
    {
     "name": "stdout",
     "output_type": "stream",
     "text": [
      "Oops, this user is existed. Since DELETE is only supported with v2 tables. Multiple data for this user will be stored in table.\n"
     ]
    },
    {
     "name": "stderr",
     "output_type": "stream",
     "text": [
      "                                                                                \r"
     ]
    },
    {
     "name": "stdout",
     "output_type": "stream",
     "text": [
      "Oops, this user is existed. Since DELETE is only supported with v2 tables. Multiple data for this user will be stored in table.\n"
     ]
    },
    {
     "name": "stderr",
     "output_type": "stream",
     "text": [
      "                                                                                \r"
     ]
    },
    {
     "name": "stdout",
     "output_type": "stream",
     "text": [
      "Oops, this user is existed. Since DELETE is only supported with v2 tables. Multiple data for this user will be stored in table.\n"
     ]
    },
    {
     "name": "stderr",
     "output_type": "stream",
     "text": [
      "                                                                                \r"
     ]
    },
    {
     "name": "stdout",
     "output_type": "stream",
     "text": [
      "Oops, this user is existed. Since DELETE is only supported with v2 tables. Multiple data for this user will be stored in table.\n"
     ]
    },
    {
     "name": "stderr",
     "output_type": "stream",
     "text": [
      "                                                                                \r"
     ]
    },
    {
     "name": "stdout",
     "output_type": "stream",
     "text": [
      "Oops, this user is existed. Since DELETE is only supported with v2 tables. Multiple data for this user will be stored in table.\n"
     ]
    },
    {
     "name": "stderr",
     "output_type": "stream",
     "text": [
      "                                                                                \r"
     ]
    },
    {
     "name": "stdout",
     "output_type": "stream",
     "text": [
      "Oops, this user is existed. Since DELETE is only supported with v2 tables. Multiple data for this user will be stored in table.\n"
     ]
    },
    {
     "name": "stderr",
     "output_type": "stream",
     "text": [
      "                                                                                \r"
     ]
    },
    {
     "name": "stdout",
     "output_type": "stream",
     "text": [
      "Oops, this user is existed. Since DELETE is only supported with v2 tables. Multiple data for this user will be stored in table.\n"
     ]
    },
    {
     "name": "stderr",
     "output_type": "stream",
     "text": [
      "                                                                                \r"
     ]
    },
    {
     "name": "stdout",
     "output_type": "stream",
     "text": [
      "Oops, this user is existed. Since DELETE is only supported with v2 tables. Multiple data for this user will be stored in table.\n"
     ]
    },
    {
     "name": "stderr",
     "output_type": "stream",
     "text": [
      "                                                                                \r"
     ]
    },
    {
     "name": "stdout",
     "output_type": "stream",
     "text": [
      "Oops, this user is existed. Since DELETE is only supported with v2 tables. Multiple data for this user will be stored in table.\n"
     ]
    },
    {
     "name": "stderr",
     "output_type": "stream",
     "text": [
      "                                                                                \r"
     ]
    },
    {
     "name": "stdout",
     "output_type": "stream",
     "text": [
      "Oops, this user is existed. Since DELETE is only supported with v2 tables. Multiple data for this user will be stored in table.\n"
     ]
    },
    {
     "name": "stderr",
     "output_type": "stream",
     "text": [
      "[Stage 32279:============================================>      (412 + 4) / 475]\r"
     ]
    }
   ],
   "source": [
    "with open(\"/home/hx152/Project/tweet_project/Dataset/corona-out-3\", \"r\") as f1:\n",
    "    for line in f1:\n",
    "        try:\n",
    "            data = json.loads(line)\n",
    "            insert_with_df(data, table_name='user_basic_info', table_schema=user_basic_info_schema)\n",
    "        except json.JSONDecodeError:\n",
    "            pass"
   ]
  },
  {
   "cell_type": "code",
   "execution_count": 8,
   "id": "2b63778c",
   "metadata": {
    "scrolled": false
   },
   "outputs": [
    {
     "name": "stderr",
     "output_type": "stream",
     "text": [
      "[Stage 0:======================================================>(583 + 4) / 590]\r"
     ]
    },
    {
     "name": "stdout",
     "output_type": "stream",
     "text": [
      "+-----------+\n",
      "|number_rows|\n",
      "+-----------+\n",
      "|       9425|\n",
      "+-----------+\n",
      "\n"
     ]
    },
    {
     "name": "stderr",
     "output_type": "stream",
     "text": [
      "\r",
      "                                                                                \r"
     ]
    }
   ],
   "source": [
    "spark.sql(\"SELECT count(*) number_rows FROM user_basic_info\").show()"
   ]
  },
  {
   "cell_type": "code",
   "execution_count": 9,
   "id": "61e7b12e",
   "metadata": {},
   "outputs": [
    {
     "name": "stdout",
     "output_type": "stream",
     "text": [
      "+-------------------+---------------------------------+\n",
      "|                 id|                             name|\n",
      "+-------------------+---------------------------------+\n",
      "|1101495976215355393|             🕉️सनातनी/देशप्रे...|\n",
      "|1017594475139555329|             राष्ट्र भक्त वागस...|\n",
      "|1202425207928938498|             जट्ट💪बिजेंद्र चै...|\n",
      "|1202425207928938498|             जट्ट💪बिजेंद्र चै...|\n",
      "| 867319391804850176|             🇮🇳राष्ट्र सर्वप...|\n",
      "|1099308267132469249|             ఎప్పటికీ జనసేన కో...|\n",
      "|1108021519223906307|             महेश पंडित 🚩जय श...|\n",
      "|1204003466441420800|             लक्ष्मी मीणा झोंप...|\n",
      "| 932051823384436736|             மன்னார்குடி கிருஷ...|\n",
      "|          430915342|             जीशान उद्दीन (घर ...|\n",
      "|         2148304002|             DRdhirendra sao ग...|\n",
      "|          259215001|             Fight #ChineseCor...|\n",
      "|         3309830041|             #ईशान#(भावी प्रधा...|\n",
      "| 700640520058462208|             Rakesh Aggarwal र...|\n",
      "|           54802072|南造云子（中の人岩田）@5/2ビブ...|\n",
      "|1160818340773822466|             मानवता परमो धर्म ...|\n",
      "| 837898363139940352|             Shuvankar Mandi (...|\n",
      "| 874395095113453570|             RADEN. JR @#⃢ˈ⃢ˈ⃢...|\n",
      "|         1108118953|             🇮🇳 रजत वर्मा सू...|\n",
      "| 877039802390020097|             सरिता नेगी (🕉)🚩...|\n",
      "+-------------------+---------------------------------+\n",
      "only showing top 20 rows\n",
      "\n"
     ]
    }
   ],
   "source": [
    "spark.sql(\"SELECT id, name FROM user_basic_info\").show()"
   ]
  }
 ],
 "metadata": {
  "kernelspec": {
   "display_name": "Python 3 (ipykernel)",
   "language": "python",
   "name": "python3"
  },
  "language_info": {
   "codemirror_mode": {
    "name": "ipython",
    "version": 3
   },
   "file_extension": ".py",
   "mimetype": "text/x-python",
   "name": "python",
   "nbconvert_exporter": "python",
   "pygments_lexer": "ipython3",
   "version": "3.10.10"
  }
 },
 "nbformat": 4,
 "nbformat_minor": 5
}
