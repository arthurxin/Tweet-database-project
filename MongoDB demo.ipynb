{
 "cells": [
  {
   "cell_type": "code",
   "execution_count": 1,
   "id": "d4e026c0",
   "metadata": {},
   "outputs": [],
   "source": [
    "import json"
   ]
  },
  {
   "cell_type": "code",
   "execution_count": 2,
   "id": "fbc267f3",
   "metadata": {},
   "outputs": [],
   "source": [
    "result = list()"
   ]
  },
  {
   "cell_type": "code",
   "execution_count": 3,
   "id": "0901a356",
   "metadata": {},
   "outputs": [],
   "source": [
    "with open(\"/home/hx152/Project/tweet_project/Dataset/corona-out-3\", \"r\") as f1:\n",
    "    for line in f1:\n",
    "        result += [line]"
   ]
  },
  {
   "cell_type": "code",
   "execution_count": 4,
   "id": "f9fa73a5",
   "metadata": {},
   "outputs": [],
   "source": [
    "data = json.loads(result[0])"
   ]
  },
  {
   "cell_type": "code",
   "execution_count": 5,
   "id": "c01ec27c",
   "metadata": {},
   "outputs": [
    {
     "data": {
      "text/plain": [
       "203832"
      ]
     },
     "execution_count": 5,
     "metadata": {},
     "output_type": "execute_result"
    }
   ],
   "source": [
    "len(result)"
   ]
  },
  {
   "cell_type": "code",
   "execution_count": 6,
   "id": "a512b9fd",
   "metadata": {},
   "outputs": [
    {
     "data": {
      "text/plain": [
       "'Sat Apr 25 12:21:41 +0000 2020'"
      ]
     },
     "execution_count": 6,
     "metadata": {},
     "output_type": "execute_result"
    }
   ],
   "source": [
    "data['created_at']"
   ]
  },
  {
   "cell_type": "code",
   "execution_count": 7,
   "id": "3ce423d9",
   "metadata": {},
   "outputs": [
    {
     "name": "stdout",
     "output_type": "stream",
     "text": [
      "{'created_at': 'Sat Apr 25 12:21:41 +0000 2020', 'id': 1254022770679320576, 'id_str': '1254022770679320576', 'text': 'É isto, ou vou morrer sem ar ou com o corona https://t.co/O0Y7B3Koj4', 'display_text_range': [0, 44], 'source': '<a href=\"http://twitter.com/download/android\" rel=\"nofollow\">Twitter for Android</a>', 'truncated': False, 'in_reply_to_status_id': None, 'in_reply_to_status_id_str': None, 'in_reply_to_user_id': None, 'in_reply_to_user_id_str': None, 'in_reply_to_screen_name': None, 'user': {'id': 804046791348015107, 'id_str': '804046791348015107', 'name': 'Bi Sex Uau', 'screen_name': 'B_King69', 'location': 'Acre, Brasil', 'url': 'https://www.instagram.com/?hl=pt-br', 'description': 'se for da minha família já pode voltar daq mesmo', 'translator_type': 'none', 'protected': False, 'verified': False, 'followers_count': 89, 'friends_count': 173, 'listed_count': 0, 'favourites_count': 5446, 'statuses_count': 4728, 'created_at': 'Wed Nov 30 19:37:48 +0000 2016', 'utc_offset': None, 'time_zone': None, 'geo_enabled': False, 'lang': None, 'contributors_enabled': False, 'is_translator': False, 'profile_background_color': 'F5F8FA', 'profile_background_image_url': '', 'profile_background_image_url_https': '', 'profile_background_tile': False, 'profile_link_color': '1DA1F2', 'profile_sidebar_border_color': 'C0DEED', 'profile_sidebar_fill_color': 'DDEEF6', 'profile_text_color': '333333', 'profile_use_background_image': True, 'profile_image_url': 'http://pbs.twimg.com/profile_images/1210794971231477761/hLtokcV-_normal.jpg', 'profile_image_url_https': 'https://pbs.twimg.com/profile_images/1210794971231477761/hLtokcV-_normal.jpg', 'profile_banner_url': 'https://pbs.twimg.com/profile_banners/804046791348015107/1577511053', 'default_profile': True, 'default_profile_image': False, 'following': None, 'follow_request_sent': None, 'notifications': None}, 'geo': None, 'coordinates': None, 'place': None, 'contributors': None, 'is_quote_status': False, 'quote_count': 0, 'reply_count': 0, 'retweet_count': 0, 'favorite_count': 0, 'entities': {'hashtags': [], 'urls': [], 'user_mentions': [], 'symbols': [], 'media': [{'id': 1254022759824461824, 'id_str': '1254022759824461824', 'indices': [45, 68], 'media_url': 'http://pbs.twimg.com/media/EWcvDlOXkAAznwM.jpg', 'media_url_https': 'https://pbs.twimg.com/media/EWcvDlOXkAAznwM.jpg', 'url': 'https://t.co/O0Y7B3Koj4', 'display_url': 'pic.twitter.com/O0Y7B3Koj4', 'expanded_url': 'https://twitter.com/B_King69/status/1254022770679320576/photo/1', 'type': 'photo', 'sizes': {'thumb': {'w': 150, 'h': 150, 'resize': 'crop'}, 'small': {'w': 345, 'h': 680, 'resize': 'fit'}, 'medium': {'w': 608, 'h': 1200, 'resize': 'fit'}, 'large': {'w': 1038, 'h': 2048, 'resize': 'fit'}}}]}, 'extended_entities': {'media': [{'id': 1254022759824461824, 'id_str': '1254022759824461824', 'indices': [45, 68], 'media_url': 'http://pbs.twimg.com/media/EWcvDlOXkAAznwM.jpg', 'media_url_https': 'https://pbs.twimg.com/media/EWcvDlOXkAAznwM.jpg', 'url': 'https://t.co/O0Y7B3Koj4', 'display_url': 'pic.twitter.com/O0Y7B3Koj4', 'expanded_url': 'https://twitter.com/B_King69/status/1254022770679320576/photo/1', 'type': 'photo', 'sizes': {'thumb': {'w': 150, 'h': 150, 'resize': 'crop'}, 'small': {'w': 345, 'h': 680, 'resize': 'fit'}, 'medium': {'w': 608, 'h': 1200, 'resize': 'fit'}, 'large': {'w': 1038, 'h': 2048, 'resize': 'fit'}}}]}, 'favorited': False, 'retweeted': False, 'possibly_sensitive': False, 'filter_level': 'low', 'lang': 'pt', 'timestamp_ms': '1587817301803'}\n"
     ]
    }
   ],
   "source": [
    "print(data)"
   ]
  },
  {
   "cell_type": "markdown",
   "id": "cc5b6196",
   "metadata": {},
   "source": [
    "# Mongodb"
   ]
  },
  {
   "cell_type": "code",
   "execution_count": 3,
   "id": "1df2f12c",
   "metadata": {},
   "outputs": [],
   "source": [
    "import pymongo\n",
    " \n",
    "myclient = pymongo.MongoClient(\"mongodb://localhost:27017/\")\n",
    "mydb = myclient[\"tweet\"] # create a database test under the client"
   ]
  },
  {
   "cell_type": "code",
   "execution_count": 4,
   "id": "d387d3cc",
   "metadata": {},
   "outputs": [
    {
     "data": {
      "text/plain": [
       "['origional_data']"
      ]
     },
     "execution_count": 4,
     "metadata": {},
     "output_type": "execute_result"
    }
   ],
   "source": [
    "mydb.list_collection_names()"
   ]
  },
  {
   "cell_type": "code",
   "execution_count": 12,
   "id": "63c06592",
   "metadata": {},
   "outputs": [],
   "source": [
    "mycol = mydb[\"origional_data\"] # create a collection(table) sites under the database test if not exist, use the collection if exist\n",
    "#mycol.drop() # clear the collection"
   ]
  },
  {
   "cell_type": "code",
   "execution_count": 13,
   "id": "65f5df67",
   "metadata": {},
   "outputs": [],
   "source": [
    "for i in range(len(result)):\n",
    "    try:\n",
    "        mydict = json.loads(result[i])\n",
    "        mycol.insert_one(mydict)\n",
    "    except json.JSONDecodeError:\n",
    "        pass"
   ]
  },
  {
   "cell_type": "markdown",
   "id": "2194f0c7",
   "metadata": {},
   "source": [
    "# Querry"
   ]
  },
  {
   "cell_type": "code",
   "execution_count": 14,
   "id": "d1ec7f4d",
   "metadata": {},
   "outputs": [],
   "source": [
    "import pymongo\n",
    " \n",
    "myclient = pymongo.MongoClient(\"mongodb://localhost:27017/\")"
   ]
  },
  {
   "cell_type": "code",
   "execution_count": 15,
   "id": "049b94a8",
   "metadata": {},
   "outputs": [
    {
     "data": {
      "text/plain": [
       "['admin', 'config', 'local', 'tweet']"
      ]
     },
     "execution_count": 15,
     "metadata": {},
     "output_type": "execute_result"
    }
   ],
   "source": [
    "myclient.list_database_names()"
   ]
  },
  {
   "cell_type": "code",
   "execution_count": 16,
   "id": "5b425b81",
   "metadata": {},
   "outputs": [],
   "source": [
    "mydb = myclient[\"tweet\"] # create a database test under the client"
   ]
  },
  {
   "cell_type": "code",
   "execution_count": 17,
   "id": "82b90248",
   "metadata": {},
   "outputs": [
    {
     "data": {
      "text/plain": [
       "['origional_data']"
      ]
     },
     "execution_count": 17,
     "metadata": {},
     "output_type": "execute_result"
    }
   ],
   "source": [
    "mydb.list_collection_names()"
   ]
  },
  {
   "cell_type": "code",
   "execution_count": 18,
   "id": "3db65add",
   "metadata": {},
   "outputs": [],
   "source": [
    "mycol = mydb[\"origional_data\"] "
   ]
  },
  {
   "cell_type": "code",
   "execution_count": 19,
   "id": "9ae84ece",
   "metadata": {},
   "outputs": [],
   "source": [
    "myquery = { \"timestamp_ms\" : {\"$lt\" : \"1587817301813\"}}\n",
    "mydoc = mycol.find(myquery).limit(3)"
   ]
  },
  {
   "cell_type": "code",
   "execution_count": 21,
   "id": "d9a8e845",
   "metadata": {},
   "outputs": [],
   "source": [
    "for x in mydoc:\n",
    "    print(x)"
   ]
  },
  {
   "cell_type": "code",
   "execution_count": 22,
   "id": "2f699cc8",
   "metadata": {},
   "outputs": [],
   "source": [
    "myquery = { \"entities.hashtags\" : {\"$ne\" : \"[]\"}}\n",
    "mydoc = mycol.find(myquery).limit(3)"
   ]
  },
  {
   "cell_type": "code",
   "execution_count": 23,
   "id": "19035ba2",
   "metadata": {},
   "outputs": [
    {
     "name": "stdout",
     "output_type": "stream",
     "text": [
      "{'_id': ObjectId('643d530c4b62f9a4076dfcf9'), 'created_at': 'Sat Apr 25 12:21:41 +0000 2020', 'id': 1254022770679320576, 'id_str': '1254022770679320576', 'text': 'É isto, ou vou morrer sem ar ou com o corona https://t.co/O0Y7B3Koj4', 'display_text_range': [0, 44], 'source': '<a href=\"http://twitter.com/download/android\" rel=\"nofollow\">Twitter for Android</a>', 'truncated': False, 'in_reply_to_status_id': None, 'in_reply_to_status_id_str': None, 'in_reply_to_user_id': None, 'in_reply_to_user_id_str': None, 'in_reply_to_screen_name': None, 'user': {'id': 804046791348015107, 'id_str': '804046791348015107', 'name': 'Bi Sex Uau', 'screen_name': 'B_King69', 'location': 'Acre, Brasil', 'url': 'https://www.instagram.com/?hl=pt-br', 'description': 'se for da minha família já pode voltar daq mesmo', 'translator_type': 'none', 'protected': False, 'verified': False, 'followers_count': 89, 'friends_count': 173, 'listed_count': 0, 'favourites_count': 5446, 'statuses_count': 4728, 'created_at': 'Wed Nov 30 19:37:48 +0000 2016', 'utc_offset': None, 'time_zone': None, 'geo_enabled': False, 'lang': None, 'contributors_enabled': False, 'is_translator': False, 'profile_background_color': 'F5F8FA', 'profile_background_image_url': '', 'profile_background_image_url_https': '', 'profile_background_tile': False, 'profile_link_color': '1DA1F2', 'profile_sidebar_border_color': 'C0DEED', 'profile_sidebar_fill_color': 'DDEEF6', 'profile_text_color': '333333', 'profile_use_background_image': True, 'profile_image_url': 'http://pbs.twimg.com/profile_images/1210794971231477761/hLtokcV-_normal.jpg', 'profile_image_url_https': 'https://pbs.twimg.com/profile_images/1210794971231477761/hLtokcV-_normal.jpg', 'profile_banner_url': 'https://pbs.twimg.com/profile_banners/804046791348015107/1577511053', 'default_profile': True, 'default_profile_image': False, 'following': None, 'follow_request_sent': None, 'notifications': None}, 'geo': None, 'coordinates': None, 'place': None, 'contributors': None, 'is_quote_status': False, 'quote_count': 0, 'reply_count': 0, 'retweet_count': 0, 'favorite_count': 0, 'entities': {'hashtags': [], 'urls': [], 'user_mentions': [], 'symbols': [], 'media': [{'id': 1254022759824461824, 'id_str': '1254022759824461824', 'indices': [45, 68], 'media_url': 'http://pbs.twimg.com/media/EWcvDlOXkAAznwM.jpg', 'media_url_https': 'https://pbs.twimg.com/media/EWcvDlOXkAAznwM.jpg', 'url': 'https://t.co/O0Y7B3Koj4', 'display_url': 'pic.twitter.com/O0Y7B3Koj4', 'expanded_url': 'https://twitter.com/B_King69/status/1254022770679320576/photo/1', 'type': 'photo', 'sizes': {'thumb': {'w': 150, 'h': 150, 'resize': 'crop'}, 'small': {'w': 345, 'h': 680, 'resize': 'fit'}, 'medium': {'w': 608, 'h': 1200, 'resize': 'fit'}, 'large': {'w': 1038, 'h': 2048, 'resize': 'fit'}}}]}, 'extended_entities': {'media': [{'id': 1254022759824461824, 'id_str': '1254022759824461824', 'indices': [45, 68], 'media_url': 'http://pbs.twimg.com/media/EWcvDlOXkAAznwM.jpg', 'media_url_https': 'https://pbs.twimg.com/media/EWcvDlOXkAAznwM.jpg', 'url': 'https://t.co/O0Y7B3Koj4', 'display_url': 'pic.twitter.com/O0Y7B3Koj4', 'expanded_url': 'https://twitter.com/B_King69/status/1254022770679320576/photo/1', 'type': 'photo', 'sizes': {'thumb': {'w': 150, 'h': 150, 'resize': 'crop'}, 'small': {'w': 345, 'h': 680, 'resize': 'fit'}, 'medium': {'w': 608, 'h': 1200, 'resize': 'fit'}, 'large': {'w': 1038, 'h': 2048, 'resize': 'fit'}}}]}, 'favorited': False, 'retweeted': False, 'possibly_sensitive': False, 'filter_level': 'low', 'lang': 'pt', 'timestamp_ms': '1587817301803'}\n",
      "{'_id': ObjectId('643d530c4b62f9a4076dfcfa'), 'created_at': 'Sat Apr 25 12:21:41 +0000 2020', 'id': 1254022770746372096, 'id_str': '1254022770746372096', 'text': 'Schöne Runde mit dem Rennrad ✌️\\n#sport #corona https://t.co/Uglj9YJPI1', 'display_text_range': [0, 46], 'source': '<a href=\"http://twitter.com/download/iphone\" rel=\"nofollow\">Twitter for iPhone</a>', 'truncated': False, 'in_reply_to_status_id': None, 'in_reply_to_status_id_str': None, 'in_reply_to_user_id': None, 'in_reply_to_user_id_str': None, 'in_reply_to_screen_name': None, 'user': {'id': 2242948745, 'id_str': '2242948745', 'name': 'Thomas Krause', 'screen_name': 'tho1965', 'location': None, 'url': None, 'description': 'Sportredakteur @nordkurier 🏃\\u200d♂️🚴\\u200d♂️⚽️', 'translator_type': 'none', 'protected': False, 'verified': False, 'followers_count': 173, 'friends_count': 685, 'listed_count': 9, 'favourites_count': 2184, 'statuses_count': 1865, 'created_at': 'Wed Dec 25 09:13:33 +0000 2013', 'utc_offset': None, 'time_zone': None, 'geo_enabled': True, 'lang': None, 'contributors_enabled': False, 'is_translator': False, 'profile_background_color': '000000', 'profile_background_image_url': 'http://abs.twimg.com/images/themes/theme1/bg.png', 'profile_background_image_url_https': 'https://abs.twimg.com/images/themes/theme1/bg.png', 'profile_background_tile': False, 'profile_link_color': '91D2FA', 'profile_sidebar_border_color': '000000', 'profile_sidebar_fill_color': '000000', 'profile_text_color': '000000', 'profile_use_background_image': False, 'profile_image_url': 'http://pbs.twimg.com/profile_images/1235271878132060161/v6QDnXLL_normal.jpg', 'profile_image_url_https': 'https://pbs.twimg.com/profile_images/1235271878132060161/v6QDnXLL_normal.jpg', 'profile_banner_url': 'https://pbs.twimg.com/profile_banners/2242948745/1587058715', 'default_profile': False, 'default_profile_image': False, 'following': None, 'follow_request_sent': None, 'notifications': None}, 'geo': None, 'coordinates': None, 'place': {'id': '6c741a421f6c33ff', 'url': 'https://api.twitter.com/1.1/geo/id/6c741a421f6c33ff.json', 'place_type': 'city', 'name': 'Altentreptow', 'full_name': 'Altentreptow, Deutschland', 'country_code': 'DE', 'country': 'Deutschland', 'bounding_box': {'type': 'Polygon', 'coordinates': [[[13.171441, 53.650793], [13.171441, 53.74755], [13.312498, 53.74755], [13.312498, 53.650793]]]}, 'attributes': {}}, 'contributors': None, 'is_quote_status': False, 'quote_count': 0, 'reply_count': 0, 'retweet_count': 0, 'favorite_count': 0, 'entities': {'hashtags': [{'text': 'sport', 'indices': [32, 38]}, {'text': 'corona', 'indices': [39, 46]}], 'urls': [], 'user_mentions': [], 'symbols': [], 'media': [{'id': 1254022763834155008, 'id_str': '1254022763834155008', 'indices': [47, 70], 'media_url': 'http://pbs.twimg.com/media/EWcvD0KWoAAIMuu.jpg', 'media_url_https': 'https://pbs.twimg.com/media/EWcvD0KWoAAIMuu.jpg', 'url': 'https://t.co/Uglj9YJPI1', 'display_url': 'pic.twitter.com/Uglj9YJPI1', 'expanded_url': 'https://twitter.com/tho1965/status/1254022770746372096/photo/1', 'type': 'photo', 'sizes': {'thumb': {'w': 150, 'h': 150, 'resize': 'crop'}, 'small': {'w': 680, 'h': 680, 'resize': 'fit'}, 'medium': {'w': 1200, 'h': 1200, 'resize': 'fit'}, 'large': {'w': 2048, 'h': 2048, 'resize': 'fit'}}}]}, 'extended_entities': {'media': [{'id': 1254022763834155008, 'id_str': '1254022763834155008', 'indices': [47, 70], 'media_url': 'http://pbs.twimg.com/media/EWcvD0KWoAAIMuu.jpg', 'media_url_https': 'https://pbs.twimg.com/media/EWcvD0KWoAAIMuu.jpg', 'url': 'https://t.co/Uglj9YJPI1', 'display_url': 'pic.twitter.com/Uglj9YJPI1', 'expanded_url': 'https://twitter.com/tho1965/status/1254022770746372096/photo/1', 'type': 'photo', 'sizes': {'thumb': {'w': 150, 'h': 150, 'resize': 'crop'}, 'small': {'w': 680, 'h': 680, 'resize': 'fit'}, 'medium': {'w': 1200, 'h': 1200, 'resize': 'fit'}, 'large': {'w': 2048, 'h': 2048, 'resize': 'fit'}}}]}, 'favorited': False, 'retweeted': False, 'possibly_sensitive': False, 'filter_level': 'low', 'lang': 'de', 'timestamp_ms': '1587817301819'}\n",
      "{'_id': ObjectId('643d530c4b62f9a4076dfcfb'), 'created_at': 'Sat Apr 25 12:21:42 +0000 2020', 'id': 1254022772558368768, 'id_str': '1254022772558368768', 'text': 'RT @BJP4India: India’s war with Corona is ongoing.\\n\\nPlay your part and make sure no one around you starves.\\n\\nYour contribution to defeat hu…', 'source': '<a href=\"http://twitter.com/download/android\" rel=\"nofollow\">Twitter for Android</a>', 'truncated': False, 'in_reply_to_status_id': None, 'in_reply_to_status_id_str': None, 'in_reply_to_user_id': None, 'in_reply_to_user_id_str': None, 'in_reply_to_screen_name': None, 'user': {'id': 908326492718764034, 'id_str': '908326492718764034', 'name': 'शचीन्द्र पाण्डेय', 'screen_name': 'im_S_pandey', 'location': 'Amethi Uttar Pradesh', 'url': None, 'description': 'Official Twitter Handel Shachindra Pandey (@im_s_pandey) BJP IT Department Amethi District\\n Fallow by Narendra Modi \\n (@narendramodi) ji', 'translator_type': 'none', 'protected': False, 'verified': False, 'followers_count': 2362, 'friends_count': 202, 'listed_count': 3, 'favourites_count': 30668, 'statuses_count': 48906, 'created_at': 'Thu Sep 14 13:48:06 +0000 2017', 'utc_offset': None, 'time_zone': None, 'geo_enabled': True, 'lang': None, 'contributors_enabled': False, 'is_translator': False, 'profile_background_color': 'F5F8FA', 'profile_background_image_url': '', 'profile_background_image_url_https': '', 'profile_background_tile': False, 'profile_link_color': '1DA1F2', 'profile_sidebar_border_color': 'C0DEED', 'profile_sidebar_fill_color': 'DDEEF6', 'profile_text_color': '333333', 'profile_use_background_image': True, 'profile_image_url': 'http://pbs.twimg.com/profile_images/1252819913820925952/PdvkxSTA_normal.jpg', 'profile_image_url_https': 'https://pbs.twimg.com/profile_images/1252819913820925952/PdvkxSTA_normal.jpg', 'profile_banner_url': 'https://pbs.twimg.com/profile_banners/908326492718764034/1579091829', 'default_profile': True, 'default_profile_image': False, 'following': None, 'follow_request_sent': None, 'notifications': None}, 'geo': None, 'coordinates': None, 'place': None, 'contributors': None, 'retweeted_status': {'created_at': 'Sat Apr 25 07:30:12 +0000 2020', 'id': 1253949413191344128, 'id_str': '1253949413191344128', 'text': 'India’s war with Corona is ongoing.\\n\\nPlay your part and make sure no one around you starves.\\n\\nYour contribution to… https://t.co/lKhbsMFpIA', 'display_text_range': [0, 140], 'source': '<a href=\"https://mobile.twitter.com\" rel=\"nofollow\">Twitter Web App</a>', 'truncated': True, 'in_reply_to_status_id': None, 'in_reply_to_status_id_str': None, 'in_reply_to_user_id': None, 'in_reply_to_user_id_str': None, 'in_reply_to_screen_name': None, 'user': {'id': 207809313, 'id_str': '207809313', 'name': 'BJP', 'screen_name': 'BJP4India', 'location': '6-A, Deen Dayal Upadhyay Marg,', 'url': 'http://www.bjp.org', 'description': \"Official Twitter account of the Bharatiya Janata Party (BJP), world's largest political party. भारतीय जनता पार्टी (भाजपा)\\n\\nhttp://instagram.com/bjp4india\", 'translator_type': 'none', 'protected': False, 'verified': True, 'followers_count': 13481667, 'friends_count': 3, 'listed_count': 3018, 'favourites_count': 0, 'statuses_count': 200315, 'created_at': 'Tue Oct 26 02:19:07 +0000 2010', 'utc_offset': None, 'time_zone': None, 'geo_enabled': True, 'lang': None, 'contributors_enabled': False, 'is_translator': False, 'profile_background_color': 'C0DEED', 'profile_background_image_url': 'http://abs.twimg.com/images/themes/theme1/bg.png', 'profile_background_image_url_https': 'https://abs.twimg.com/images/themes/theme1/bg.png', 'profile_background_tile': False, 'profile_link_color': '0084B4', 'profile_sidebar_border_color': 'FFFFFF', 'profile_sidebar_fill_color': 'DDEEF6', 'profile_text_color': '333333', 'profile_use_background_image': False, 'profile_image_url': 'http://pbs.twimg.com/profile_images/812531108092874753/frVON4bm_normal.jpg', 'profile_image_url_https': 'https://pbs.twimg.com/profile_images/812531108092874753/frVON4bm_normal.jpg', 'profile_banner_url': 'https://pbs.twimg.com/profile_banners/207809313/1583155635', 'default_profile': False, 'default_profile_image': False, 'following': None, 'follow_request_sent': None, 'notifications': None}, 'geo': None, 'coordinates': None, 'place': None, 'contributors': None, 'is_quote_status': False, 'extended_tweet': {'full_text': 'India’s war with Corona is ongoing.\\n\\nPlay your part and make sure no one around you starves.\\n\\nYour contribution to defeat hunger is as valuable as defeating Corona.\\n\\n#FeedTheNeedy https://t.co/TUWf2nqPgZ', 'display_text_range': [0, 179], 'entities': {'hashtags': [{'text': 'FeedTheNeedy', 'indices': [166, 179]}], 'urls': [], 'user_mentions': [], 'symbols': [], 'media': [{'id': 1253949383403425793, 'id_str': '1253949383403425793', 'indices': [180, 203], 'media_url': 'http://pbs.twimg.com/media/EWbsUgwU0AEQ3G0.jpg', 'media_url_https': 'https://pbs.twimg.com/media/EWbsUgwU0AEQ3G0.jpg', 'url': 'https://t.co/TUWf2nqPgZ', 'display_url': 'pic.twitter.com/TUWf2nqPgZ', 'expanded_url': 'https://twitter.com/BJP4India/status/1253949413191344128/photo/1', 'type': 'photo', 'sizes': {'thumb': {'w': 150, 'h': 150, 'resize': 'crop'}, 'small': {'w': 680, 'h': 680, 'resize': 'fit'}, 'large': {'w': 1200, 'h': 1200, 'resize': 'fit'}, 'medium': {'w': 1200, 'h': 1200, 'resize': 'fit'}}}]}, 'extended_entities': {'media': [{'id': 1253949383403425793, 'id_str': '1253949383403425793', 'indices': [180, 203], 'media_url': 'http://pbs.twimg.com/media/EWbsUgwU0AEQ3G0.jpg', 'media_url_https': 'https://pbs.twimg.com/media/EWbsUgwU0AEQ3G0.jpg', 'url': 'https://t.co/TUWf2nqPgZ', 'display_url': 'pic.twitter.com/TUWf2nqPgZ', 'expanded_url': 'https://twitter.com/BJP4India/status/1253949413191344128/photo/1', 'type': 'photo', 'sizes': {'thumb': {'w': 150, 'h': 150, 'resize': 'crop'}, 'small': {'w': 680, 'h': 680, 'resize': 'fit'}, 'large': {'w': 1200, 'h': 1200, 'resize': 'fit'}, 'medium': {'w': 1200, 'h': 1200, 'resize': 'fit'}}}]}}, 'quote_count': 16, 'reply_count': 101, 'retweet_count': 340, 'favorite_count': 1870, 'entities': {'hashtags': [], 'urls': [{'url': 'https://t.co/lKhbsMFpIA', 'expanded_url': 'https://twitter.com/i/web/status/1253949413191344128', 'display_url': 'twitter.com/i/web/status/1…', 'indices': [116, 139]}], 'user_mentions': [], 'symbols': []}, 'favorited': False, 'retweeted': False, 'possibly_sensitive': False, 'filter_level': 'low', 'lang': 'en'}, 'is_quote_status': False, 'quote_count': 0, 'reply_count': 0, 'retweet_count': 0, 'favorite_count': 0, 'entities': {'hashtags': [], 'urls': [], 'user_mentions': [{'screen_name': 'BJP4India', 'name': 'BJP', 'id': 207809313, 'id_str': '207809313', 'indices': [3, 13]}], 'symbols': []}, 'favorited': False, 'retweeted': False, 'filter_level': 'low', 'lang': 'en', 'timestamp_ms': '1587817302251'}\n"
     ]
    }
   ],
   "source": [
    "for x in mydoc:\n",
    "    print(x)"
   ]
  },
  {
   "cell_type": "code",
   "execution_count": 24,
   "id": "fa23f8c0",
   "metadata": {},
   "outputs": [
    {
     "ename": "SyntaxError",
     "evalue": "can't use starred expression here (651289110.py, line 4)",
     "output_type": "error",
     "traceback": [
      "\u001b[0;36m  Cell \u001b[0;32mIn[24], line 4\u001b[0;36m\u001b[0m\n\u001b[0;31m    *about\u001b[0m\n\u001b[0m    ^\u001b[0m\n\u001b[0;31mSyntaxError\u001b[0m\u001b[0;31m:\u001b[0m can't use starred expression here\n"
     ]
    }
   ],
   "source": [
    "# TODO\n",
    "# Cat\n",
    "'the course about stat'\n",
    "*about"
   ]
  },
  {
   "cell_type": "code",
   "execution_count": null,
   "id": "e053be49",
   "metadata": {},
   "outputs": [],
   "source": [
    "# TODO\n",
    "# Dev\n",
    "retweet,favorite, quota"
   ]
  },
  {
   "cell_type": "code",
   "execution_count": 10,
   "id": "443a77b7",
   "metadata": {},
   "outputs": [
    {
     "name": "stdout",
     "output_type": "stream",
     "text": [
      "1587817301803\n",
      "1587817301819\n",
      "1587817302251\n",
      "1587817302255\n",
      "1587817302327\n"
     ]
    }
   ],
   "source": [
    "for i in range(10):\n",
    "    if i%2==0:\n",
    "        data = json.loads(result[i])\n",
    "        print(data['timestamp_ms'])"
   ]
  },
  {
   "cell_type": "code",
   "execution_count": 9,
   "id": "8015d59d",
   "metadata": {},
   "outputs": [
    {
     "data": {
      "text/plain": [
       "'{\"created_at\":\"Sat Apr 25 12:21:41 +0000 2020\",\"id\":1254022770746372096,\"id_str\":\"1254022770746372096\",\"text\":\"Sch\\\\u00f6ne Runde mit dem Rennrad \\\\u270c\\\\ufe0f\\\\n#sport #corona https:\\\\/\\\\/t.co\\\\/Uglj9YJPI1\",\"display_text_range\":[0,46],\"source\":\"\\\\u003ca href=\\\\\"http:\\\\/\\\\/twitter.com\\\\/download\\\\/iphone\\\\\" rel=\\\\\"nofollow\\\\\"\\\\u003eTwitter for iPhone\\\\u003c\\\\/a\\\\u003e\",\"truncated\":false,\"in_reply_to_status_id\":null,\"in_reply_to_status_id_str\":null,\"in_reply_to_user_id\":null,\"in_reply_to_user_id_str\":null,\"in_reply_to_screen_name\":null,\"user\":{\"id\":2242948745,\"id_str\":\"2242948745\",\"name\":\"Thomas Krause\",\"screen_name\":\"tho1965\",\"location\":null,\"url\":null,\"description\":\"Sportredakteur @nordkurier \\\\ud83c\\\\udfc3\\\\u200d\\\\u2642\\\\ufe0f\\\\ud83d\\\\udeb4\\\\u200d\\\\u2642\\\\ufe0f\\\\u26bd\\\\ufe0f\",\"translator_type\":\"none\",\"protected\":false,\"verified\":false,\"followers_count\":173,\"friends_count\":685,\"listed_count\":9,\"favourites_count\":2184,\"statuses_count\":1865,\"created_at\":\"Wed Dec 25 09:13:33 +0000 2013\",\"utc_offset\":null,\"time_zone\":null,\"geo_enabled\":true,\"lang\":null,\"contributors_enabled\":false,\"is_translator\":false,\"profile_background_color\":\"000000\",\"profile_background_image_url\":\"http:\\\\/\\\\/abs.twimg.com\\\\/images\\\\/themes\\\\/theme1\\\\/bg.png\",\"profile_background_image_url_https\":\"https:\\\\/\\\\/abs.twimg.com\\\\/images\\\\/themes\\\\/theme1\\\\/bg.png\",\"profile_background_tile\":false,\"profile_link_color\":\"91D2FA\",\"profile_sidebar_border_color\":\"000000\",\"profile_sidebar_fill_color\":\"000000\",\"profile_text_color\":\"000000\",\"profile_use_background_image\":false,\"profile_image_url\":\"http:\\\\/\\\\/pbs.twimg.com\\\\/profile_images\\\\/1235271878132060161\\\\/v6QDnXLL_normal.jpg\",\"profile_image_url_https\":\"https:\\\\/\\\\/pbs.twimg.com\\\\/profile_images\\\\/1235271878132060161\\\\/v6QDnXLL_normal.jpg\",\"profile_banner_url\":\"https:\\\\/\\\\/pbs.twimg.com\\\\/profile_banners\\\\/2242948745\\\\/1587058715\",\"default_profile\":false,\"default_profile_image\":false,\"following\":null,\"follow_request_sent\":null,\"notifications\":null},\"geo\":null,\"coordinates\":null,\"place\":{\"id\":\"6c741a421f6c33ff\",\"url\":\"https:\\\\/\\\\/api.twitter.com\\\\/1.1\\\\/geo\\\\/id\\\\/6c741a421f6c33ff.json\",\"place_type\":\"city\",\"name\":\"Altentreptow\",\"full_name\":\"Altentreptow, Deutschland\",\"country_code\":\"DE\",\"country\":\"Deutschland\",\"bounding_box\":{\"type\":\"Polygon\",\"coordinates\":[[[13.171441,53.650793],[13.171441,53.747550],[13.312498,53.747550],[13.312498,53.650793]]]},\"attributes\":{}},\"contributors\":null,\"is_quote_status\":false,\"quote_count\":0,\"reply_count\":0,\"retweet_count\":0,\"favorite_count\":0,\"entities\":{\"hashtags\":[{\"text\":\"sport\",\"indices\":[32,38]},{\"text\":\"corona\",\"indices\":[39,46]}],\"urls\":[],\"user_mentions\":[],\"symbols\":[],\"media\":[{\"id\":1254022763834155008,\"id_str\":\"1254022763834155008\",\"indices\":[47,70],\"media_url\":\"http:\\\\/\\\\/pbs.twimg.com\\\\/media\\\\/EWcvD0KWoAAIMuu.jpg\",\"media_url_https\":\"https:\\\\/\\\\/pbs.twimg.com\\\\/media\\\\/EWcvD0KWoAAIMuu.jpg\",\"url\":\"https:\\\\/\\\\/t.co\\\\/Uglj9YJPI1\",\"display_url\":\"pic.twitter.com\\\\/Uglj9YJPI1\",\"expanded_url\":\"https:\\\\/\\\\/twitter.com\\\\/tho1965\\\\/status\\\\/1254022770746372096\\\\/photo\\\\/1\",\"type\":\"photo\",\"sizes\":{\"thumb\":{\"w\":150,\"h\":150,\"resize\":\"crop\"},\"small\":{\"w\":680,\"h\":680,\"resize\":\"fit\"},\"medium\":{\"w\":1200,\"h\":1200,\"resize\":\"fit\"},\"large\":{\"w\":2048,\"h\":2048,\"resize\":\"fit\"}}}]},\"extended_entities\":{\"media\":[{\"id\":1254022763834155008,\"id_str\":\"1254022763834155008\",\"indices\":[47,70],\"media_url\":\"http:\\\\/\\\\/pbs.twimg.com\\\\/media\\\\/EWcvD0KWoAAIMuu.jpg\",\"media_url_https\":\"https:\\\\/\\\\/pbs.twimg.com\\\\/media\\\\/EWcvD0KWoAAIMuu.jpg\",\"url\":\"https:\\\\/\\\\/t.co\\\\/Uglj9YJPI1\",\"display_url\":\"pic.twitter.com\\\\/Uglj9YJPI1\",\"expanded_url\":\"https:\\\\/\\\\/twitter.com\\\\/tho1965\\\\/status\\\\/1254022770746372096\\\\/photo\\\\/1\",\"type\":\"photo\",\"sizes\":{\"thumb\":{\"w\":150,\"h\":150,\"resize\":\"crop\"},\"small\":{\"w\":680,\"h\":680,\"resize\":\"fit\"},\"medium\":{\"w\":1200,\"h\":1200,\"resize\":\"fit\"},\"large\":{\"w\":2048,\"h\":2048,\"resize\":\"fit\"}}}]},\"favorited\":false,\"retweeted\":false,\"possibly_sensitive\":false,\"filter_level\":\"low\",\"lang\":\"de\",\"timestamp_ms\":\"1587817301819\"}\\n'"
      ]
     },
     "execution_count": 9,
     "metadata": {},
     "output_type": "execute_result"
    }
   ],
   "source": [
    "result[2]"
   ]
  },
  {
   "cell_type": "code",
   "execution_count": null,
   "id": "02d68d74",
   "metadata": {},
   "outputs": [],
   "source": []
  }
 ],
 "metadata": {
  "kernelspec": {
   "display_name": "Python 3 (ipykernel)",
   "language": "python",
   "name": "python3"
  },
  "language_info": {
   "codemirror_mode": {
    "name": "ipython",
    "version": 3
   },
   "file_extension": ".py",
   "mimetype": "text/x-python",
   "name": "python",
   "nbconvert_exporter": "python",
   "pygments_lexer": "ipython3",
   "version": "3.10.10"
  }
 },
 "nbformat": 4,
 "nbformat_minor": 5
}
