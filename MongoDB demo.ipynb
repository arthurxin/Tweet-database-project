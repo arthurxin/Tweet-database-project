{
 "cells": [
  {
   "cell_type": "code",
   "execution_count": 1,
   "id": "d4e026c0",
   "metadata": {},
   "outputs": [],
   "source": [
    "import json"
   ]
  },
  {
   "cell_type": "code",
   "execution_count": 2,
   "id": "fbc267f3",
   "metadata": {},
   "outputs": [],
   "source": [
    "result = list()"
   ]
  },
  {
   "cell_type": "code",
   "execution_count": 3,
   "id": "0901a356",
   "metadata": {},
   "outputs": [],
   "source": [
    "with open(\"/home/hx152/Project/tweet_project/Dataset/corona-out-3\", \"r\") as f1:\n",
    "    for line in f1:\n",
    "        result += [line]"
   ]
  },
  {
   "cell_type": "code",
   "execution_count": 12,
   "id": "f9fa73a5",
   "metadata": {},
   "outputs": [],
   "source": [
    "data = json.loads(result[1000])"
   ]
  },
  {
   "cell_type": "code",
   "execution_count": 13,
   "id": "c01ec27c",
   "metadata": {},
   "outputs": [
    {
     "data": {
      "text/plain": [
       "203832"
      ]
     },
     "execution_count": 13,
     "metadata": {},
     "output_type": "execute_result"
    }
   ],
   "source": [
    "len(result)"
   ]
  },
  {
   "cell_type": "code",
   "execution_count": 14,
   "id": "a512b9fd",
   "metadata": {},
   "outputs": [
    {
     "data": {
      "text/plain": [
       "'Sat Apr 25 12:22:28 +0000 2020'"
      ]
     },
     "execution_count": 14,
     "metadata": {},
     "output_type": "execute_result"
    }
   ],
   "source": [
    "data['created_at']"
   ]
  },
  {
   "cell_type": "code",
   "execution_count": 15,
   "id": "3ce423d9",
   "metadata": {},
   "outputs": [
    {
     "name": "stdout",
     "output_type": "stream",
     "text": [
      "{'created_at': 'Sat Apr 25 12:22:28 +0000 2020', 'id': 1254022965177376769, 'id_str': '1254022965177376769', 'text': 'RT @Supriya23bh: 8 LAKH 😳😱😱... Please #StayAtHome  #Gujarat अहमदाबाद : म्युनिसिपल कमिश्नर का दावा, मई के अंत तक हो सकते हैं कोरोना के 8 लाख…', 'source': '<a href=\"http://twitter.com/download/android\" rel=\"nofollow\">Twitter for Android</a>', 'truncated': False, 'in_reply_to_status_id': None, 'in_reply_to_status_id_str': None, 'in_reply_to_user_id': None, 'in_reply_to_user_id_str': None, 'in_reply_to_screen_name': None, 'user': {'id': 1178130261302636545, 'id_str': '1178130261302636545', 'name': 'अजित गजानन हळदणकर', 'screen_name': 'HaldankarRavi', 'location': 'Thane', 'url': None, 'description': \"😎😇Change doesn't happen overnight it's a long battle contribute towards changing 1 life it's  worth it...😎😇 \\n☠️🛑Bhakts Stay Away🛑☠️\", 'translator_type': 'none', 'protected': False, 'verified': False, 'followers_count': 45, 'friends_count': 222, 'listed_count': 0, 'favourites_count': 49, 'statuses_count': 32613, 'created_at': 'Sun Sep 29 02:12:26 +0000 2019', 'utc_offset': None, 'time_zone': None, 'geo_enabled': False, 'lang': None, 'contributors_enabled': False, 'is_translator': False, 'profile_background_color': 'F5F8FA', 'profile_background_image_url': '', 'profile_background_image_url_https': '', 'profile_background_tile': False, 'profile_link_color': '1DA1F2', 'profile_sidebar_border_color': 'C0DEED', 'profile_sidebar_fill_color': 'DDEEF6', 'profile_text_color': '333333', 'profile_use_background_image': True, 'profile_image_url': 'http://pbs.twimg.com/profile_images/1181071857920819200/O_S0VSK1_normal.jpg', 'profile_image_url_https': 'https://pbs.twimg.com/profile_images/1181071857920819200/O_S0VSK1_normal.jpg', 'profile_banner_url': 'https://pbs.twimg.com/profile_banners/1178130261302636545/1570424450', 'default_profile': True, 'default_profile_image': False, 'following': None, 'follow_request_sent': None, 'notifications': None}, 'geo': None, 'coordinates': None, 'place': None, 'contributors': None, 'retweeted_status': {'created_at': 'Fri Apr 24 17:09:57 +0000 2020', 'id': 1253732927998836737, 'id_str': '1253732927998836737', 'text': '8 LAKH 😳😱😱... Please #StayAtHome  #Gujarat अहमदाबाद : म्युनिसिपल कमिश्नर का दावा, मई के अंत तक हो सकते हैं कोरोना… https://t.co/fk7zYtGUqV', 'source': '<a href=\"http://twitter.com/download/iphone\" rel=\"nofollow\">Twitter for iPhone</a>', 'truncated': True, 'in_reply_to_status_id': None, 'in_reply_to_status_id_str': None, 'in_reply_to_user_id': None, 'in_reply_to_user_id_str': None, 'in_reply_to_screen_name': None, 'user': {'id': 72283791, 'id_str': '72283791', 'name': 'Supriya Bhardwaj', 'screen_name': 'Supriya23bh', 'location': 'New Delhi', 'url': None, 'description': 'Traveller !!! \"Who in the World Am I?\\' Ah, that\\'s the Great Puzzle ... !!!”', 'translator_type': 'none', 'protected': False, 'verified': False, 'followers_count': 68315, 'friends_count': 1110, 'listed_count': 144, 'favourites_count': 17967, 'statuses_count': 28089, 'created_at': 'Mon Sep 07 13:46:15 +0000 2009', 'utc_offset': None, 'time_zone': None, 'geo_enabled': False, 'lang': None, 'contributors_enabled': False, 'is_translator': False, 'profile_background_color': '642D8B', 'profile_background_image_url': 'http://abs.twimg.com/images/themes/theme10/bg.gif', 'profile_background_image_url_https': 'https://abs.twimg.com/images/themes/theme10/bg.gif', 'profile_background_tile': True, 'profile_link_color': 'FF0000', 'profile_sidebar_border_color': '65B0DA', 'profile_sidebar_fill_color': '7AC3EE', 'profile_text_color': '3D1957', 'profile_use_background_image': True, 'profile_image_url': 'http://pbs.twimg.com/profile_images/1246684681593974784/v7ggabQT_normal.jpg', 'profile_image_url_https': 'https://pbs.twimg.com/profile_images/1246684681593974784/v7ggabQT_normal.jpg', 'profile_banner_url': 'https://pbs.twimg.com/profile_banners/72283791/1586067943', 'default_profile': False, 'default_profile_image': False, 'following': None, 'follow_request_sent': None, 'notifications': None}, 'geo': None, 'coordinates': None, 'place': None, 'contributors': None, 'is_quote_status': False, 'extended_tweet': {'full_text': '8 LAKH 😳😱😱... Please #StayAtHome  #Gujarat अहमदाबाद : म्युनिसिपल कमिश्नर का दावा, मई के अंत तक हो सकते हैं कोरोना के 8 लाख मरीज - There may be 8 lakh #Corona patients in Ahmedabad by the End of May says Municipal Commissioner Vijay Nehra https://t.co/cDm4heNemf', 'display_text_range': [0, 261], 'entities': {'hashtags': [{'text': 'StayAtHome', 'indices': [21, 32]}, {'text': 'Gujarat', 'indices': [34, 42]}, {'text': 'Corona', 'indices': [150, 157]}], 'urls': [{'url': 'https://t.co/cDm4heNemf', 'expanded_url': 'https://navbharattimes.indiatimes.com/state/gujarat/ahmedabad/there-may-be-eight-lakh-covid-19-patients-in-ahmedabad-by-the-end-of-may-says-municipal-commissioner-vijay-nehra/articleshow/75353290.cms?utm_source=twitter&utm_campaign=nbtmobile&utm_medium=referral', 'display_url': 'navbharattimes.indiatimes.com/state/gujarat/…', 'indices': [238, 261]}], 'user_mentions': [], 'symbols': []}}, 'quote_count': 2, 'reply_count': 12, 'retweet_count': 75, 'favorite_count': 251, 'entities': {'hashtags': [{'text': 'StayAtHome', 'indices': [21, 32]}, {'text': 'Gujarat', 'indices': [34, 42]}], 'urls': [{'url': 'https://t.co/fk7zYtGUqV', 'expanded_url': 'https://twitter.com/i/web/status/1253732927998836737', 'display_url': 'twitter.com/i/web/status/1…', 'indices': [115, 138]}], 'user_mentions': [], 'symbols': []}, 'favorited': False, 'retweeted': False, 'possibly_sensitive': False, 'filter_level': 'low', 'lang': 'und'}, 'is_quote_status': False, 'quote_count': 0, 'reply_count': 0, 'retweet_count': 0, 'favorite_count': 0, 'entities': {'hashtags': [{'text': 'StayAtHome', 'indices': [38, 49]}, {'text': 'Gujarat', 'indices': [51, 59]}], 'urls': [], 'user_mentions': [{'screen_name': 'Supriya23bh', 'name': 'Supriya Bhardwaj', 'id': 72283791, 'id_str': '72283791', 'indices': [3, 15]}], 'symbols': []}, 'favorited': False, 'retweeted': False, 'filter_level': 'low', 'lang': 'und', 'timestamp_ms': '1587817348175'}\n"
     ]
    }
   ],
   "source": [
    "print(data)"
   ]
  },
  {
   "cell_type": "markdown",
   "id": "cc5b6196",
   "metadata": {},
   "source": [
    "# Mongodb"
   ]
  },
  {
   "cell_type": "code",
   "execution_count": 3,
   "id": "1df2f12c",
   "metadata": {},
   "outputs": [],
   "source": [
    "import pymongo\n",
    " \n",
    "myclient = pymongo.MongoClient(\"mongodb://localhost:27017/\")\n",
    "mydb = myclient[\"tweet\"] # create a database test under the client"
   ]
  },
  {
   "cell_type": "code",
   "execution_count": 4,
   "id": "d387d3cc",
   "metadata": {},
   "outputs": [
    {
     "data": {
      "text/plain": [
       "['origional_data']"
      ]
     },
     "execution_count": 4,
     "metadata": {},
     "output_type": "execute_result"
    }
   ],
   "source": [
    "mydb.list_collection_names()"
   ]
  },
  {
   "cell_type": "code",
   "execution_count": 12,
   "id": "63c06592",
   "metadata": {},
   "outputs": [],
   "source": [
    "mycol = mydb[\"origional_data\"] # create a collection(table) sites under the database test if not exist, use the collection if exist\n",
    "#mycol.drop() # clear the collection"
   ]
  },
  {
   "cell_type": "code",
   "execution_count": 13,
   "id": "65f5df67",
   "metadata": {},
   "outputs": [],
   "source": [
    "for i in range(len(result)):\n",
    "    try:\n",
    "        mydict = json.loads(result[i])\n",
    "        mycol.insert(mydict)\n",
    "    except json.JSONDecodeError:\n",
    "        pass"
   ]
  },
  {
   "cell_type": "markdown",
   "id": "2194f0c7",
   "metadata": {},
   "source": [
    "# Querry"
   ]
  },
  {
   "cell_type": "code",
   "execution_count": 7,
   "id": "d1ec7f4d",
   "metadata": {},
   "outputs": [],
   "source": [
    "import pymongo\n",
    " \n",
    "myclient = pymongo.MongoClient(\"mongodb://localhost:27017/\")"
   ]
  },
  {
   "cell_type": "code",
   "execution_count": 8,
   "id": "049b94a8",
   "metadata": {},
   "outputs": [
    {
     "name": "stdout",
     "output_type": "stream",
     "text": [
      "['admin', 'config', 'local', 'tweet', 'tweet_project']\n"
     ]
    }
   ],
   "source": [
    "# myclient.list_database_names()\n",
    "print(myclient.list_database_names())"
   ]
  },
  {
   "cell_type": "code",
   "execution_count": 9,
   "id": "5b425b81",
   "metadata": {},
   "outputs": [],
   "source": [
    "mydb = myclient[\"tweet\"] # create a database test under the client"
   ]
  },
  {
   "cell_type": "code",
   "execution_count": 10,
   "id": "82b90248",
   "metadata": {},
   "outputs": [
    {
     "data": {
      "text/plain": [
       "['quoted_tweet_test',\n",
       " 'origional_data',\n",
       " 'original_tweet_test',\n",
       " 'retweeted_tweet_test',\n",
       " 'retweeted_tweet',\n",
       " 'reply_tweet',\n",
       " 'original_tweet',\n",
       " 'quoted_tweet']"
      ]
     },
     "execution_count": 10,
     "metadata": {},
     "output_type": "execute_result"
    }
   ],
   "source": [
    "mydb.list_collection_names()"
   ]
  },
  {
   "cell_type": "code",
   "execution_count": 11,
   "id": "3db65add",
   "metadata": {},
   "outputs": [],
   "source": [
    "mycol = mydb[\"origional_data\"] "
   ]
  },
  {
   "cell_type": "code",
   "execution_count": 28,
   "id": "fa38482f",
   "metadata": {},
   "outputs": [
    {
     "name": "stdout",
     "output_type": "stream",
     "text": [
      "{'_id': ObjectId('6443cfdf02455c3da8a98cee'), 'id': 1, 'timestamp_ms': 10, 'title': ['11', '10']}\n"
     ]
    }
   ],
   "source": [
    "myquery = { 'id' : 1}\n",
    "mydoc = mycol.find(myquery).limit(1)\n",
    "for x in mydoc:\n",
    "    print(x)"
   ]
  },
  {
   "cell_type": "code",
   "execution_count": 7,
   "id": "7f441175",
   "metadata": {},
   "outputs": [
    {
     "data": {
      "text/plain": [
       "<pymongo.results.InsertOneResult at 0x7f7e742d4e80>"
      ]
     },
     "execution_count": 7,
     "metadata": {},
     "output_type": "execute_result"
    }
   ],
   "source": [
    "mycol.insert_one(\n",
    "                {\"id\":1,\"timestamp_ms\":10}\n",
    "                  )"
   ]
  },
  {
   "cell_type": "code",
   "execution_count": 15,
   "id": "114f8b30",
   "metadata": {},
   "outputs": [
    {
     "data": {
      "text/plain": [
       "<pymongo.results.UpdateResult at 0x7f7e642aa8c0>"
      ]
     },
     "execution_count": 15,
     "metadata": {},
     "output_type": "execute_result"
    }
   ],
   "source": [
    "mycol.update_one(\n",
    "                {\"id\":1},\n",
    "                {\"$set\":{\"title\":[\"10\",]}}\n",
    "                  )"
   ]
  },
  {
   "cell_type": "code",
   "execution_count": 27,
   "id": "5810a186",
   "metadata": {},
   "outputs": [
    {
     "data": {
      "text/plain": [
       "<pymongo.results.UpdateResult at 0x7f7e4dc41680>"
      ]
     },
     "execution_count": 27,
     "metadata": {},
     "output_type": "execute_result"
    }
   ],
   "source": [
    "myquery = { 'id' : 1}\n",
    "fields = \"title\"\n",
    "mydoc = mycol.find(myquery,{fields:1}).limit(1)\n",
    "for x in mydoc:\n",
    "    if fields in x:\n",
    "        update_list = [\"11\",] + x[fields]\n",
    "    else:\n",
    "        update_list = [\"11\",]\n",
    "mycol.update_one({\"id\":1},{\"$set\":{fields:update_list}})"
   ]
  },
  {
   "cell_type": "code",
   "execution_count": 12,
   "id": "9f64e265",
   "metadata": {},
   "outputs": [
    {
     "name": "stdout",
     "output_type": "stream",
     "text": [
      "{'_id': ObjectId('643d530c4b62f9a4076dff06'), 'created_at': 'Sat Apr 25 12:22:30 +0000 2020', 'id': 1254022973427789826, 'id_str': '1254022973427789826', 'text': 'Aggiungiamo alla lista https://t.co/zL8uWeYZJJ', 'source': '<a href=\"http://twitter.com/download/android\" rel=\"nofollow\">Twitter for Android</a>', 'truncated': False, 'in_reply_to_status_id': 1254018290072129536, 'in_reply_to_status_id_str': '1254018290072129536', 'in_reply_to_user_id': 406912789, 'in_reply_to_user_id_str': '406912789', 'in_reply_to_screen_name': 'Renato_Corghi', 'user': {'id': 406912789, 'id_str': '406912789', 'name': 'Renato Corghi', 'screen_name': 'Renato_Corghi', 'location': 'Roma', 'url': None, 'description': 'Vanta il rimarchevole successo di essere riuscito a far ragionare un grillino sul Web. Ci tiene a specificare che non parla abitualmente di sé in terza persona.', 'translator_type': 'none', 'protected': False, 'verified': False, 'followers_count': 2499, 'friends_count': 168, 'listed_count': 14, 'favourites_count': 23549, 'statuses_count': 31130, 'created_at': 'Mon Nov 07 11:12:21 +0000 2011', 'utc_offset': None, 'time_zone': None, 'geo_enabled': True, 'lang': None, 'contributors_enabled': False, 'is_translator': False, 'profile_background_color': '022330', 'profile_background_image_url': 'http://abs.twimg.com/images/themes/theme15/bg.png', 'profile_background_image_url_https': 'https://abs.twimg.com/images/themes/theme15/bg.png', 'profile_background_tile': False, 'profile_link_color': '0084B4', 'profile_sidebar_border_color': 'A8C7F7', 'profile_sidebar_fill_color': 'C0DFEC', 'profile_text_color': '333333', 'profile_use_background_image': True, 'profile_image_url': 'http://pbs.twimg.com/profile_images/868996934333329408/IBR_798b_normal.jpg', 'profile_image_url_https': 'https://pbs.twimg.com/profile_images/868996934333329408/IBR_798b_normal.jpg', 'profile_banner_url': 'https://pbs.twimg.com/profile_banners/406912789/1537742261', 'default_profile': False, 'default_profile_image': False, 'following': None, 'follow_request_sent': None, 'notifications': None}, 'geo': None, 'coordinates': None, 'place': {'id': '7d588036fe12e124', 'url': 'https://api.twitter.com/1.1/geo/id/7d588036fe12e124.json', 'place_type': 'city', 'name': 'Roma', 'full_name': 'Roma, Lazio', 'country_code': 'IT', 'country': 'Italia', 'bounding_box': {'type': 'Polygon', 'coordinates': [[[12.234427, 41.655874], [12.234427, 42.140959], [12.855864, 42.140959], [12.855864, 41.655874]]]}, 'attributes': {}}, 'contributors': None, 'quoted_status_id': 1239983243367190532, 'quoted_status_id_str': '1239983243367190532', 'quoted_status': {'created_at': 'Tue Mar 17 18:33:37 +0000 2020', 'id': 1239983243367190532, 'id_str': '1239983243367190532', 'text': \"Ricapitolando\\n\\nSolo nell'ultimo anno, media USA costretti a comunicare:\\n\\n- Che fosse inutile sparare all'Uragano\\n-… https://t.co/zYpGAawcdj\", 'display_text_range': [0, 140], 'source': '<a href=\"https://mobile.twitter.com\" rel=\"nofollow\">Twitter Web App</a>', 'truncated': True, 'in_reply_to_status_id': None, 'in_reply_to_status_id_str': None, 'in_reply_to_user_id': None, 'in_reply_to_user_id_str': None, 'in_reply_to_screen_name': None, 'user': {'id': 406912789, 'id_str': '406912789', 'name': 'Renato Corghi', 'screen_name': 'Renato_Corghi', 'location': 'Roma', 'url': None, 'description': 'Vanta il rimarchevole successo di essere riuscito a far ragionare un grillino sul Web. Ci tiene a specificare che non parla abitualmente di sé in terza persona.', 'translator_type': 'none', 'protected': False, 'verified': False, 'followers_count': 2499, 'friends_count': 168, 'listed_count': 14, 'favourites_count': 23549, 'statuses_count': 31129, 'created_at': 'Mon Nov 07 11:12:21 +0000 2011', 'utc_offset': None, 'time_zone': None, 'geo_enabled': True, 'lang': None, 'contributors_enabled': False, 'is_translator': False, 'profile_background_color': '022330', 'profile_background_image_url': 'http://abs.twimg.com/images/themes/theme15/bg.png', 'profile_background_image_url_https': 'https://abs.twimg.com/images/themes/theme15/bg.png', 'profile_background_tile': False, 'profile_link_color': '0084B4', 'profile_sidebar_border_color': 'A8C7F7', 'profile_sidebar_fill_color': 'C0DFEC', 'profile_text_color': '333333', 'profile_use_background_image': True, 'profile_image_url': 'http://pbs.twimg.com/profile_images/868996934333329408/IBR_798b_normal.jpg', 'profile_image_url_https': 'https://pbs.twimg.com/profile_images/868996934333329408/IBR_798b_normal.jpg', 'profile_banner_url': 'https://pbs.twimg.com/profile_banners/406912789/1537742261', 'default_profile': False, 'default_profile_image': False, 'following': None, 'follow_request_sent': None, 'notifications': None}, 'geo': None, 'coordinates': None, 'place': None, 'contributors': None, 'quoted_status_id': 1239888212207841282, 'quoted_status_id_str': '1239888212207841282', 'is_quote_status': True, 'extended_tweet': {'full_text': \"Ricapitolando\\n\\nSolo nell'ultimo anno, media USA costretti a comunicare:\\n\\n- Che fosse inutile sparare all'Uragano\\n- Che la birra Corona non avesse niente a che fare col virus\\n- Di non chiamare la polizia se la carta igienica è finita\\n\\nIU ES EI! IU ES EI!\\n\\n#COVID19 #QuarantineLife https://t.co/jzYCq87AYC https://t.co/0y1dH5c7k6\", 'display_text_range': [0, 303], 'entities': {'hashtags': [{'text': 'COVID19', 'indices': [255, 263]}, {'text': 'QuarantineLife', 'indices': [264, 279]}], 'urls': [{'url': 'https://t.co/jzYCq87AYC', 'expanded_url': 'https://twitter.com/USATODAY/status/1239888212207841282', 'display_url': 'twitter.com/USATODAY/statu…', 'indices': [280, 303]}], 'user_mentions': [], 'symbols': [], 'media': [{'id': 1239983016673447941, 'id_str': '1239983016673447941', 'indices': [304, 327], 'media_url': 'http://pbs.twimg.com/tweet_video_thumb/ETVN--RWkAUMW1J.jpg', 'media_url_https': 'https://pbs.twimg.com/tweet_video_thumb/ETVN--RWkAUMW1J.jpg', 'url': 'https://t.co/0y1dH5c7k6', 'display_url': 'pic.twitter.com/0y1dH5c7k6', 'expanded_url': 'https://twitter.com/Renato_Corghi/status/1239983243367190532/photo/1', 'type': 'animated_gif', 'video_info': {'aspect_ratio': [240, 181], 'variants': [{'bitrate': 0, 'content_type': 'video/mp4', 'url': 'https://video.twimg.com/tweet_video/ETVN--RWkAUMW1J.mp4'}]}, 'sizes': {'thumb': {'w': 150, 'h': 150, 'resize': 'crop'}, 'large': {'w': 480, 'h': 362, 'resize': 'fit'}, 'small': {'w': 480, 'h': 362, 'resize': 'fit'}, 'medium': {'w': 480, 'h': 362, 'resize': 'fit'}}}]}, 'extended_entities': {'media': [{'id': 1239983016673447941, 'id_str': '1239983016673447941', 'indices': [304, 327], 'media_url': 'http://pbs.twimg.com/tweet_video_thumb/ETVN--RWkAUMW1J.jpg', 'media_url_https': 'https://pbs.twimg.com/tweet_video_thumb/ETVN--RWkAUMW1J.jpg', 'url': 'https://t.co/0y1dH5c7k6', 'display_url': 'pic.twitter.com/0y1dH5c7k6', 'expanded_url': 'https://twitter.com/Renato_Corghi/status/1239983243367190532/photo/1', 'type': 'animated_gif', 'video_info': {'aspect_ratio': [240, 181], 'variants': [{'bitrate': 0, 'content_type': 'video/mp4', 'url': 'https://video.twimg.com/tweet_video/ETVN--RWkAUMW1J.mp4'}]}, 'sizes': {'thumb': {'w': 150, 'h': 150, 'resize': 'crop'}, 'large': {'w': 480, 'h': 362, 'resize': 'fit'}, 'small': {'w': 480, 'h': 362, 'resize': 'fit'}, 'medium': {'w': 480, 'h': 362, 'resize': 'fit'}}}]}}, 'quote_count': 0, 'reply_count': 0, 'retweet_count': 2, 'favorite_count': 2, 'entities': {'hashtags': [], 'urls': [{'url': 'https://t.co/zYpGAawcdj', 'expanded_url': 'https://twitter.com/i/web/status/1239983243367190532', 'display_url': 'twitter.com/i/web/status/1…', 'indices': [116, 139]}], 'user_mentions': [], 'symbols': []}, 'favorited': False, 'retweeted': False, 'possibly_sensitive': False, 'filter_level': 'low', 'lang': 'it'}, 'quoted_status_permalink': {'url': 'https://t.co/zL8uWeYZJJ', 'expanded': 'https://twitter.com/Renato_Corghi/status/1239983243367190532?s=19', 'display': 'twitter.com/Renato_Corghi/…'}, 'is_quote_status': True, 'quote_count': 0, 'reply_count': 0, 'retweet_count': 0, 'favorite_count': 0, 'entities': {'hashtags': [], 'urls': [{'url': 'https://t.co/zL8uWeYZJJ', 'expanded_url': 'https://twitter.com/Renato_Corghi/status/1239983243367190532?s=19', 'display_url': 'twitter.com/Renato_Corghi/…', 'indices': [23, 46]}], 'user_mentions': [], 'symbols': []}, 'favorited': False, 'retweeted': False, 'possibly_sensitive': False, 'filter_level': 'low', 'lang': 'it', 'timestamp_ms': '1587817350142'}\n"
     ]
    }
   ],
   "source": [
    "myquery = { \"id_str\" : \"1254022973427789826\"}\n",
    "mydoc = mycol.find(myquery).limit(1)\n",
    "for x in mydoc:\n",
    "    print(x)"
   ]
  },
  {
   "cell_type": "code",
   "execution_count": 7,
   "id": "9ae84ece",
   "metadata": {},
   "outputs": [],
   "source": [
    "myquery = { \"timestamp_ms\" : {\"$lt\" : \"1587817301813\"}}\n",
    "mydoc = mycol.find(myquery).limit(3)"
   ]
  },
  {
   "cell_type": "code",
   "execution_count": 58,
   "id": "d9a8e845",
   "metadata": {},
   "outputs": [],
   "source": [
    "for x in mydoc:\n",
    "    print(x)"
   ]
  },
  {
   "cell_type": "code",
   "execution_count": 14,
   "id": "2f699cc8",
   "metadata": {},
   "outputs": [],
   "source": [
    "myquery = { \"entities.hashtags\" : {\"$ne\" : []},\"extended_entities.entities.hashtags\" : {\"$ne\" : []}}\n",
    "mydoc = mycol.find(myquery).limit(1)"
   ]
  },
  {
   "cell_type": "code",
   "execution_count": 15,
   "id": "19035ba2",
   "metadata": {},
   "outputs": [
    {
     "name": "stdout",
     "output_type": "stream",
     "text": [
      "{'_id': ObjectId('643d530c4b62f9a4076dfcfa'), 'created_at': 'Sat Apr 25 12:21:41 +0000 2020', 'id': 1254022770746372096, 'id_str': '1254022770746372096', 'text': 'Schöne Runde mit dem Rennrad ✌️\\n#sport #corona https://t.co/Uglj9YJPI1', 'display_text_range': [0, 46], 'source': '<a href=\"http://twitter.com/download/iphone\" rel=\"nofollow\">Twitter for iPhone</a>', 'truncated': False, 'in_reply_to_status_id': None, 'in_reply_to_status_id_str': None, 'in_reply_to_user_id': None, 'in_reply_to_user_id_str': None, 'in_reply_to_screen_name': None, 'user': {'id': 2242948745, 'id_str': '2242948745', 'name': 'Thomas Krause', 'screen_name': 'tho1965', 'location': None, 'url': None, 'description': 'Sportredakteur @nordkurier 🏃\\u200d♂️🚴\\u200d♂️⚽️', 'translator_type': 'none', 'protected': False, 'verified': False, 'followers_count': 173, 'friends_count': 685, 'listed_count': 9, 'favourites_count': 2184, 'statuses_count': 1865, 'created_at': 'Wed Dec 25 09:13:33 +0000 2013', 'utc_offset': None, 'time_zone': None, 'geo_enabled': True, 'lang': None, 'contributors_enabled': False, 'is_translator': False, 'profile_background_color': '000000', 'profile_background_image_url': 'http://abs.twimg.com/images/themes/theme1/bg.png', 'profile_background_image_url_https': 'https://abs.twimg.com/images/themes/theme1/bg.png', 'profile_background_tile': False, 'profile_link_color': '91D2FA', 'profile_sidebar_border_color': '000000', 'profile_sidebar_fill_color': '000000', 'profile_text_color': '000000', 'profile_use_background_image': False, 'profile_image_url': 'http://pbs.twimg.com/profile_images/1235271878132060161/v6QDnXLL_normal.jpg', 'profile_image_url_https': 'https://pbs.twimg.com/profile_images/1235271878132060161/v6QDnXLL_normal.jpg', 'profile_banner_url': 'https://pbs.twimg.com/profile_banners/2242948745/1587058715', 'default_profile': False, 'default_profile_image': False, 'following': None, 'follow_request_sent': None, 'notifications': None}, 'geo': None, 'coordinates': None, 'place': {'id': '6c741a421f6c33ff', 'url': 'https://api.twitter.com/1.1/geo/id/6c741a421f6c33ff.json', 'place_type': 'city', 'name': 'Altentreptow', 'full_name': 'Altentreptow, Deutschland', 'country_code': 'DE', 'country': 'Deutschland', 'bounding_box': {'type': 'Polygon', 'coordinates': [[[13.171441, 53.650793], [13.171441, 53.74755], [13.312498, 53.74755], [13.312498, 53.650793]]]}, 'attributes': {}}, 'contributors': None, 'is_quote_status': False, 'quote_count': 0, 'reply_count': 0, 'retweet_count': 0, 'favorite_count': 0, 'entities': {'hashtags': [{'text': 'sport', 'indices': [32, 38]}, {'text': 'corona', 'indices': [39, 46]}], 'urls': [], 'user_mentions': [], 'symbols': [], 'media': [{'id': 1254022763834155008, 'id_str': '1254022763834155008', 'indices': [47, 70], 'media_url': 'http://pbs.twimg.com/media/EWcvD0KWoAAIMuu.jpg', 'media_url_https': 'https://pbs.twimg.com/media/EWcvD0KWoAAIMuu.jpg', 'url': 'https://t.co/Uglj9YJPI1', 'display_url': 'pic.twitter.com/Uglj9YJPI1', 'expanded_url': 'https://twitter.com/tho1965/status/1254022770746372096/photo/1', 'type': 'photo', 'sizes': {'thumb': {'w': 150, 'h': 150, 'resize': 'crop'}, 'small': {'w': 680, 'h': 680, 'resize': 'fit'}, 'medium': {'w': 1200, 'h': 1200, 'resize': 'fit'}, 'large': {'w': 2048, 'h': 2048, 'resize': 'fit'}}}]}, 'extended_entities': {'media': [{'id': 1254022763834155008, 'id_str': '1254022763834155008', 'indices': [47, 70], 'media_url': 'http://pbs.twimg.com/media/EWcvD0KWoAAIMuu.jpg', 'media_url_https': 'https://pbs.twimg.com/media/EWcvD0KWoAAIMuu.jpg', 'url': 'https://t.co/Uglj9YJPI1', 'display_url': 'pic.twitter.com/Uglj9YJPI1', 'expanded_url': 'https://twitter.com/tho1965/status/1254022770746372096/photo/1', 'type': 'photo', 'sizes': {'thumb': {'w': 150, 'h': 150, 'resize': 'crop'}, 'small': {'w': 680, 'h': 680, 'resize': 'fit'}, 'medium': {'w': 1200, 'h': 1200, 'resize': 'fit'}, 'large': {'w': 2048, 'h': 2048, 'resize': 'fit'}}}]}, 'favorited': False, 'retweeted': False, 'possibly_sensitive': False, 'filter_level': 'low', 'lang': 'de', 'timestamp_ms': '1587817301819'}\n"
     ]
    }
   ],
   "source": [
    "for x in mydoc:\n",
    "    print(x)"
   ]
  },
  {
   "cell_type": "code",
   "execution_count": 24,
   "id": "fa23f8c0",
   "metadata": {},
   "outputs": [
    {
     "ename": "SyntaxError",
     "evalue": "can't use starred expression here (651289110.py, line 4)",
     "output_type": "error",
     "traceback": [
      "\u001b[0;36m  Cell \u001b[0;32mIn[24], line 4\u001b[0;36m\u001b[0m\n\u001b[0;31m    *about\u001b[0m\n\u001b[0m    ^\u001b[0m\n\u001b[0;31mSyntaxError\u001b[0m\u001b[0;31m:\u001b[0m can't use starred expression here\n"
     ]
    }
   ],
   "source": [
    "# TODO\n",
    "# Cat\n",
    "'the course about stat'\n",
    "*about"
   ]
  },
  {
   "cell_type": "code",
   "execution_count": null,
   "id": "e053be49",
   "metadata": {},
   "outputs": [],
   "source": [
    "# TODO\n",
    "# Dev\n",
    "retweet,favorite, quota"
   ]
  },
  {
   "cell_type": "code",
   "execution_count": 10,
   "id": "443a77b7",
   "metadata": {},
   "outputs": [
    {
     "name": "stdout",
     "output_type": "stream",
     "text": [
      "1587817301803\n",
      "1587817301819\n",
      "1587817302251\n",
      "1587817302255\n",
      "1587817302327\n"
     ]
    }
   ],
   "source": [
    "for i in range(10):\n",
    "    if i%2==0:\n",
    "        data = json.loads(result[i])\n",
    "        print(data['timestamp_ms'])"
   ]
  },
  {
   "cell_type": "code",
   "execution_count": 9,
   "id": "8015d59d",
   "metadata": {},
   "outputs": [
    {
     "data": {
      "text/plain": [
       "'{\"created_at\":\"Sat Apr 25 12:21:41 +0000 2020\",\"id\":1254022770746372096,\"id_str\":\"1254022770746372096\",\"text\":\"Sch\\\\u00f6ne Runde mit dem Rennrad \\\\u270c\\\\ufe0f\\\\n#sport #corona https:\\\\/\\\\/t.co\\\\/Uglj9YJPI1\",\"display_text_range\":[0,46],\"source\":\"\\\\u003ca href=\\\\\"http:\\\\/\\\\/twitter.com\\\\/download\\\\/iphone\\\\\" rel=\\\\\"nofollow\\\\\"\\\\u003eTwitter for iPhone\\\\u003c\\\\/a\\\\u003e\",\"truncated\":false,\"in_reply_to_status_id\":null,\"in_reply_to_status_id_str\":null,\"in_reply_to_user_id\":null,\"in_reply_to_user_id_str\":null,\"in_reply_to_screen_name\":null,\"user\":{\"id\":2242948745,\"id_str\":\"2242948745\",\"name\":\"Thomas Krause\",\"screen_name\":\"tho1965\",\"location\":null,\"url\":null,\"description\":\"Sportredakteur @nordkurier \\\\ud83c\\\\udfc3\\\\u200d\\\\u2642\\\\ufe0f\\\\ud83d\\\\udeb4\\\\u200d\\\\u2642\\\\ufe0f\\\\u26bd\\\\ufe0f\",\"translator_type\":\"none\",\"protected\":false,\"verified\":false,\"followers_count\":173,\"friends_count\":685,\"listed_count\":9,\"favourites_count\":2184,\"statuses_count\":1865,\"created_at\":\"Wed Dec 25 09:13:33 +0000 2013\",\"utc_offset\":null,\"time_zone\":null,\"geo_enabled\":true,\"lang\":null,\"contributors_enabled\":false,\"is_translator\":false,\"profile_background_color\":\"000000\",\"profile_background_image_url\":\"http:\\\\/\\\\/abs.twimg.com\\\\/images\\\\/themes\\\\/theme1\\\\/bg.png\",\"profile_background_image_url_https\":\"https:\\\\/\\\\/abs.twimg.com\\\\/images\\\\/themes\\\\/theme1\\\\/bg.png\",\"profile_background_tile\":false,\"profile_link_color\":\"91D2FA\",\"profile_sidebar_border_color\":\"000000\",\"profile_sidebar_fill_color\":\"000000\",\"profile_text_color\":\"000000\",\"profile_use_background_image\":false,\"profile_image_url\":\"http:\\\\/\\\\/pbs.twimg.com\\\\/profile_images\\\\/1235271878132060161\\\\/v6QDnXLL_normal.jpg\",\"profile_image_url_https\":\"https:\\\\/\\\\/pbs.twimg.com\\\\/profile_images\\\\/1235271878132060161\\\\/v6QDnXLL_normal.jpg\",\"profile_banner_url\":\"https:\\\\/\\\\/pbs.twimg.com\\\\/profile_banners\\\\/2242948745\\\\/1587058715\",\"default_profile\":false,\"default_profile_image\":false,\"following\":null,\"follow_request_sent\":null,\"notifications\":null},\"geo\":null,\"coordinates\":null,\"place\":{\"id\":\"6c741a421f6c33ff\",\"url\":\"https:\\\\/\\\\/api.twitter.com\\\\/1.1\\\\/geo\\\\/id\\\\/6c741a421f6c33ff.json\",\"place_type\":\"city\",\"name\":\"Altentreptow\",\"full_name\":\"Altentreptow, Deutschland\",\"country_code\":\"DE\",\"country\":\"Deutschland\",\"bounding_box\":{\"type\":\"Polygon\",\"coordinates\":[[[13.171441,53.650793],[13.171441,53.747550],[13.312498,53.747550],[13.312498,53.650793]]]},\"attributes\":{}},\"contributors\":null,\"is_quote_status\":false,\"quote_count\":0,\"reply_count\":0,\"retweet_count\":0,\"favorite_count\":0,\"entities\":{\"hashtags\":[{\"text\":\"sport\",\"indices\":[32,38]},{\"text\":\"corona\",\"indices\":[39,46]}],\"urls\":[],\"user_mentions\":[],\"symbols\":[],\"media\":[{\"id\":1254022763834155008,\"id_str\":\"1254022763834155008\",\"indices\":[47,70],\"media_url\":\"http:\\\\/\\\\/pbs.twimg.com\\\\/media\\\\/EWcvD0KWoAAIMuu.jpg\",\"media_url_https\":\"https:\\\\/\\\\/pbs.twimg.com\\\\/media\\\\/EWcvD0KWoAAIMuu.jpg\",\"url\":\"https:\\\\/\\\\/t.co\\\\/Uglj9YJPI1\",\"display_url\":\"pic.twitter.com\\\\/Uglj9YJPI1\",\"expanded_url\":\"https:\\\\/\\\\/twitter.com\\\\/tho1965\\\\/status\\\\/1254022770746372096\\\\/photo\\\\/1\",\"type\":\"photo\",\"sizes\":{\"thumb\":{\"w\":150,\"h\":150,\"resize\":\"crop\"},\"small\":{\"w\":680,\"h\":680,\"resize\":\"fit\"},\"medium\":{\"w\":1200,\"h\":1200,\"resize\":\"fit\"},\"large\":{\"w\":2048,\"h\":2048,\"resize\":\"fit\"}}}]},\"extended_entities\":{\"media\":[{\"id\":1254022763834155008,\"id_str\":\"1254022763834155008\",\"indices\":[47,70],\"media_url\":\"http:\\\\/\\\\/pbs.twimg.com\\\\/media\\\\/EWcvD0KWoAAIMuu.jpg\",\"media_url_https\":\"https:\\\\/\\\\/pbs.twimg.com\\\\/media\\\\/EWcvD0KWoAAIMuu.jpg\",\"url\":\"https:\\\\/\\\\/t.co\\\\/Uglj9YJPI1\",\"display_url\":\"pic.twitter.com\\\\/Uglj9YJPI1\",\"expanded_url\":\"https:\\\\/\\\\/twitter.com\\\\/tho1965\\\\/status\\\\/1254022770746372096\\\\/photo\\\\/1\",\"type\":\"photo\",\"sizes\":{\"thumb\":{\"w\":150,\"h\":150,\"resize\":\"crop\"},\"small\":{\"w\":680,\"h\":680,\"resize\":\"fit\"},\"medium\":{\"w\":1200,\"h\":1200,\"resize\":\"fit\"},\"large\":{\"w\":2048,\"h\":2048,\"resize\":\"fit\"}}}]},\"favorited\":false,\"retweeted\":false,\"possibly_sensitive\":false,\"filter_level\":\"low\",\"lang\":\"de\",\"timestamp_ms\":\"1587817301819\"}\\n'"
      ]
     },
     "execution_count": 9,
     "metadata": {},
     "output_type": "execute_result"
    }
   ],
   "source": [
    "result[2]"
   ]
  },
  {
   "cell_type": "code",
   "execution_count": null,
   "id": "02d68d74",
   "metadata": {},
   "outputs": [],
   "source": []
  }
 ],
 "metadata": {
  "kernelspec": {
   "display_name": "Python 3 (ipykernel)",
   "language": "python",
   "name": "python3"
  },
  "language_info": {
   "codemirror_mode": {
    "name": "ipython",
    "version": 3
   },
   "file_extension": ".py",
   "mimetype": "text/x-python",
   "name": "python",
   "nbconvert_exporter": "python",
   "pygments_lexer": "ipython3",
   "version": "3.10.10"
  }
 },
 "nbformat": 4,
 "nbformat_minor": 5
}
