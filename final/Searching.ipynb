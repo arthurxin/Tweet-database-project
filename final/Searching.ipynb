{
 "cells": [
  {
   "cell_type": "code",
   "execution_count": 3,
   "id": "8de314d9",
   "metadata": {},
   "outputs": [],
   "source": [
    "import json\n",
    "import pymongo\n",
    " \n",
    "client = pymongo.MongoClient(\"mongodb://localhost:27017/\")\n",
    "\n",
    "db = client[\"tweet_project\"]\n",
    "\n",
    "origin_col = db[\"origin_tweet\"]\n",
    "reply_col = db[\"reply_tweet\"]\n",
    "retweet_col = db[\"retweet_tweet\"]\n",
    "quote_col = db[\"quote_tweet\"]"
   ]
  },
  {
   "cell_type": "markdown",
   "id": "b77808a8",
   "metadata": {},
   "source": [
    "# tweetid searching"
   ]
  },
  {
   "cell_type": "code",
   "execution_count": 5,
   "id": "06871cfd",
   "metadata": {},
   "outputs": [],
   "source": [
    "doc = origin_col.find().limit(1)"
   ]
  },
  {
   "cell_type": "code",
   "execution_count": 6,
   "id": "15c9c149",
   "metadata": {},
   "outputs": [
    {
     "name": "stdout",
     "output_type": "stream",
     "text": [
      "{'_id': ObjectId('64425aa92b4f18030a636eb0'), 'tweet_id': '1254022770679320576', 'text': 'É isto, ou vou morrer sem ar ou com o corona https://t.co/O0Y7B3Koj4', 'hashtags': [], 'userid': '804046791348015107', 'username': 'Bi Sex Uau', 'user_screen_name': 'B_King69', 'quote_count': 0, 'reply_count': 0, 'retweet_count': 0, 'favorite_count': 0, 'timestamp_ms': '1587817301803'}\n"
     ]
    }
   ],
   "source": [
    "for x in doc:\n",
    "    print(x)"
   ]
  },
  {
   "cell_type": "code",
   "execution_count": null,
   "id": "c41c6a65",
   "metadata": {},
   "outputs": [],
   "source": [
    "query = { 'tweet_id' : \"1254022770679320576\"}\n",
    "origin_col.find({}\n",
    "               )"
   ]
  },
  {
   "cell_type": "markdown",
   "id": "e45f4607",
   "metadata": {},
   "source": [
    "# hashtag searching"
   ]
  },
  {
   "cell_type": "markdown",
   "id": "33f6274b",
   "metadata": {},
   "source": [
    "# keyword searching"
   ]
  }
 ],
 "metadata": {
  "kernelspec": {
   "display_name": "Python 3 (ipykernel)",
   "language": "python",
   "name": "python3"
  },
  "language_info": {
   "codemirror_mode": {
    "name": "ipython",
    "version": 3
   },
   "file_extension": ".py",
   "mimetype": "text/x-python",
   "name": "python",
   "nbconvert_exporter": "python",
   "pygments_lexer": "ipython3",
   "version": "3.10.10"
  }
 },
 "nbformat": 4,
 "nbformat_minor": 5
}
