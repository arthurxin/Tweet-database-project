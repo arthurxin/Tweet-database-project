{
 "cells": [
  {
   "cell_type": "code",
   "execution_count": 1,
   "id": "bce4d248",
   "metadata": {},
   "outputs": [],
   "source": [
    "import socket\n",
    "import re\n",
    "from tweet_search import tweet_search"
   ]
  },
  {
   "cell_type": "code",
   "execution_count": 2,
   "id": "7bd767d1",
   "metadata": {},
   "outputs": [],
   "source": [
    "search = tweet_search()"
   ]
  },
  {
   "cell_type": "code",
   "execution_count": null,
   "id": "359482d8",
   "metadata": {
    "scrolled": true
   },
   "outputs": [
    {
     "name": "stdout",
     "output_type": "stream",
     "text": [
      "start sever...\n",
      "searching_result sented\n",
      "searching_result sented\n"
     ]
    }
   ],
   "source": [
    "host = socket.gethostname()\n",
    "ip_port = (host, 18000)\n",
    "\n",
    "sk = socket.socket()\n",
    "sk.bind(ip_port)\n",
    "sk.listen(5)\n",
    "print('start sever...')\n",
    "while True:\n",
    "    conn, address = sk.accept()\n",
    "    client_data = conn.recv(1024).decode()\n",
    "    if client_data == \"exit\":\n",
    "        exit(\"close connection\")\n",
    "        break\n",
    "    elif client_data != \"\":\n",
    "#         querry,content = client_data.split(\",\")\n",
    "#         cache_db.push(querry,content)\n",
    "#         print(\"information from %s client：%s\" % (address, client_data))\n",
    "#         conn.sendall('sever received'.encode())\n",
    "        \n",
    "        content = search.keyword_search(client_data)\n",
    "        conn.sendall(str(content).encode())\n",
    "        print(\"searching_result sent\")\n",
    "        \n",
    "conn.close()"
   ]
  },
  {
   "cell_type": "code",
   "execution_count": 8,
   "id": "dd75f7e6",
   "metadata": {},
   "outputs": [],
   "source": [
    "import os\n",
    "import re\n",
    "def shutdown_sever():\n",
    "    cmd = 'netstat -tunlp | grep ' + str(18000)\n",
    "    f = os.popen(cmd)\n",
    "    for line in f.readlines():\n",
    "        line = line.replace(\"\\n\", \"\")\n",
    "        line = re.sub(' +', ' ', line)\n",
    "        if line != '':\n",
    "            res = line.split(' ')\n",
    "            porcess = res[-2].split(\"/\")[0]\n",
    "            cmd = 'kill -9 ' + porcess\n",
    "            os.system(cmd)"
   ]
  },
  {
   "cell_type": "code",
   "execution_count": 9,
   "id": "71d7db88",
   "metadata": {},
   "outputs": [
    {
     "name": "stderr",
     "output_type": "stream",
     "text": [
      "(Not all processes could be identified, non-owned process info\n",
      " will not be shown, you would have to be root to see it all.)\n"
     ]
    }
   ],
   "source": [
    "shutdown_sever()"
   ]
  },
  {
   "cell_type": "code",
   "execution_count": null,
   "id": "500fa824",
   "metadata": {},
   "outputs": [],
   "source": []
  }
 ],
 "metadata": {
  "kernelspec": {
   "display_name": "Python 3 (ipykernel)",
   "language": "python",
   "name": "python3"
  },
  "language_info": {
   "codemirror_mode": {
    "name": "ipython",
    "version": 3
   },
   "file_extension": ".py",
   "mimetype": "text/x-python",
   "name": "python",
   "nbconvert_exporter": "python",
   "pygments_lexer": "ipython3",
   "version": "3.10.10"
  }
 },
 "nbformat": 4,
 "nbformat_minor": 5
}
