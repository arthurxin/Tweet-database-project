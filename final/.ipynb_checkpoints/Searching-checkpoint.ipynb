{
 "cells": [
  {
   "cell_type": "code",
   "execution_count": 13,
   "id": "53a213ee",
   "metadata": {},
   "outputs": [],
   "source": [
    "import json\n",
    "import pymongo\n",
    " \n",
    "client = pymongo.MongoClient(\"mongodb://localhost:27017/\")\n",
    "\n",
    "db = client[\"tweet_project\"]\n",
    "\n",
    "origin_col = db[\"origin_tweet\"]\n",
    "reply_col = db[\"reply_tweet\"]\n",
    "retweet_col = db[\"retweet_tweet\"]\n",
    "quote_col = db[\"quote_tweet\"]"
   ]
  },
  {
   "cell_type": "markdown",
   "id": "69ed94fd",
   "metadata": {},
   "source": [
    "# tweetid searching"
   ]
  },
  {
   "cell_type": "markdown",
   "id": "9aa1621f",
   "metadata": {},
   "source": [
    "## searching a tweetid and return all information related to the tweetid"
   ]
  },
  {
   "cell_type": "code",
   "execution_count": 11,
   "id": "9a2c1e71",
   "metadata": {},
   "outputs": [],
   "source": [
    "doc = reply_col.find({\"favorite_count\":{\"$gt\":10}}).limit(1)"
   ]
  },
  {
   "cell_type": "code",
   "execution_count": 12,
   "id": "8a20218d",
   "metadata": {},
   "outputs": [
    {
     "name": "stdout",
     "output_type": "stream",
     "text": [
      "{'_id': ObjectId('64425b022b4f18030a636f0d'), 'tweet_id': '1254022887297576960', 'text': '@realDonaldTrump @TripleH 50k de@d in US due to Corona.. focus there man..', 'hashtags': [], 'userid': '392773603', 'username': 'Paresh Rawal fan', 'user_screen_name': 'Babu_Bhaiyaa', 'quote_count': 2, 'reply_count': 15, 'retweet_count': 6, 'favorite_count': 138, 'timestamp_ms': '1587822932160', 'reply_to_tweeet_id': '1254022414058631170', 'reply_to_user_id': '25073877', 'reply_to_user_name': 'realDonaldTrump', 'retweeted_list': ['1254046386108145664', '1254031752709824512', '1254029150135836673', '1254028869100875777', '1254023564841246721'], 'reply_list': ['1254023733423099904'], 'quoted_list': ['1254024166728036352']}\n"
     ]
    }
   ],
   "source": [
    "for x in doc:\n",
    "    print(x)"
   ]
  },
  {
   "cell_type": "code",
   "execution_count": null,
   "id": "886f4745",
   "metadata": {},
   "outputs": [],
   "source": [
    "querry_tweet_id = \"1254022770679320576\"\n",
    "query = { 'tweet_id' : querry_tweet_id}\n",
    "origin_col.find({}\n",
    "               )"
   ]
  },
  {
   "cell_type": "markdown",
   "id": "7871b42d",
   "metadata": {},
   "source": [
    "# retweet searching"
   ]
  },
  {
   "cell_type": "markdown",
   "id": "5d0c64c5",
   "metadata": {},
   "source": [
    "# quote searching"
   ]
  },
  {
   "cell_type": "markdown",
   "id": "00cda3cc",
   "metadata": {},
   "source": [
    "# hashtag searching"
   ]
  },
  {
   "cell_type": "markdown",
   "id": "911adf6b",
   "metadata": {},
   "source": [
    "# keyword searching"
   ]
  }
 ],
 "metadata": {
  "kernelspec": {
   "display_name": "Python 3 (ipykernel)",
   "language": "python",
   "name": "python3"
  },
  "language_info": {
   "codemirror_mode": {
    "name": "ipython",
    "version": 3
   },
   "file_extension": ".py",
   "mimetype": "text/x-python",
   "name": "python",
   "nbconvert_exporter": "python",
   "pygments_lexer": "ipython3",
   "version": "3.10.10"
  }
 },
 "nbformat": 4,
 "nbformat_minor": 5
}
