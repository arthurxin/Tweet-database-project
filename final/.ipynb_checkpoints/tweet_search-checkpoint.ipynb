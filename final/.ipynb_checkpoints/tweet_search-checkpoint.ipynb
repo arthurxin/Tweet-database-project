{
 "cells": [
  {
   "cell_type": "code",
   "execution_count": 1,
   "id": "59b706d6",
   "metadata": {},
   "outputs": [],
   "source": [
    "from cache_database import cache_database\n",
    "from Mongosearch import Mongosearch"
   ]
  },
  {
   "cell_type": "code",
   "execution_count": 6,
   "id": "ec040f4c",
   "metadata": {},
   "outputs": [],
   "source": [
    "class tweet_search(object):\n",
    "    def __init__(self):\n",
    "        cache_file_path = \"\"\n",
    "        self.cache_db = cache_database(cache_file_path)\n",
    "        self.ms = Mongosearch()\n",
    "        \n",
    "    def cache_search(self, in_querry):\n",
    "        out_querry,out_content = self.cache_db.search(in_querry)\n",
    "        cache_output = out_querry+\":\"+out_content\n",
    "        return cache_output\n",
    "    \n",
    "    def keyword_search(self, in_querry):\n",
    "        try:\n",
    "            output = self.cache_search(in_querry)\n",
    "            self.cache_search.push(in_querry,output)\n",
    "            return output\n",
    "        except KeyError as e:\n",
    "            output = self.ms.keyword_search(in_querry)\n",
    "            self.cache_search.push(in_querry,output)\n",
    "            return output\n",
    "    \n",
    "    def hashtag_search(self, in_querry):\n",
    "        try:\n",
    "            output = self.cache_search(in_querry)\n",
    "            self.cache_search.push(in_querry,output)\n",
    "            return output\n",
    "        except KeyError as e:\n",
    "            output = self.ms.hashtag_search(in_querry)\n",
    "            self.cache_search.push(in_querry,output)\n",
    "            return output\n",
    "    \n",
    "    def user_search(self, in_querry):\n",
    "        try:\n",
    "            output = self.cache_search(in_querry)\n",
    "            self.cache_search.push(in_querry,output)\n",
    "            return output\n",
    "        except KeyError as e:\n",
    "            pass # TODO use user search function\n",
    "            pass # TODO use use simple tweetid search to get all tweet of the user\n",
    "    \n",
    "    def tweetid_search(self, in_querry):\n",
    "        try:\n",
    "            output = self.cache_search(in_querry)\n",
    "            self.cache_search.push(in_querry,output)\n",
    "            return output\n",
    "        except KeyError as e:\n",
    "            output = self.ms.complete_tweetid_search(in_querry)\n",
    "            self.cache_search.push(in_querry,output)\n",
    "            return output\n",
    "        \n",
    "    def quote_list_search(self, in_querry):\n",
    "        try:\n",
    "            output = self.cache_search(in_querry)\n",
    "            self.cache_search.push(in_querry,output)\n",
    "            return output\n",
    "        except KeyError as e:\n",
    "            output = self.ms.quote_list_search(in_querry)\n",
    "            self.cache_search.push(in_querry,output)\n",
    "            return output\n",
    "        \n",
    "    def retweet_list_search(self, in_querry):\n",
    "        try:\n",
    "            output = self.cache_search(in_querry)\n",
    "            self.cache_search.push(in_querry,output)\n",
    "            return output\n",
    "        except KeyError as e:\n",
    "            output = self.ms.retweet_list_search(in_querry)\n",
    "            self.cache_search.push(in_querry,output)\n",
    "            return output"
   ]
  },
  {
   "cell_type": "code",
   "execution_count": 7,
   "id": "e2a650fc",
   "metadata": {},
   "outputs": [],
   "source": [
    "search_function = tweet_search()"
   ]
  },
  {
   "cell_type": "code",
   "execution_count": 9,
   "id": "3442f971",
   "metadata": {},
   "outputs": [
    {
     "name": "stdout",
     "output_type": "stream",
     "text": [
      "CPU times: user 6 µs, sys: 0 ns, total: 6 µs\n",
      "Wall time: 9.54 µs\n"
     ]
    },
    {
     "data": {
      "text/plain": [
       "'querry1:content1'"
      ]
     },
     "execution_count": 9,
     "metadata": {},
     "output_type": "execute_result"
    }
   ],
   "source": [
    "%%time\n",
    "search_function.hashtag_search(\"querry1\")"
   ]
  },
  {
   "cell_type": "code",
   "execution_count": null,
   "id": "170f0e29",
   "metadata": {},
   "outputs": [],
   "source": []
  }
 ],
 "metadata": {
  "kernelspec": {
   "display_name": "Python 3 (ipykernel)",
   "language": "python",
   "name": "python3"
  },
  "language_info": {
   "codemirror_mode": {
    "name": "ipython",
    "version": 3
   },
   "file_extension": ".py",
   "mimetype": "text/x-python",
   "name": "python",
   "nbconvert_exporter": "python",
   "pygments_lexer": "ipython3",
   "version": "3.10.10"
  }
 },
 "nbformat": 4,
 "nbformat_minor": 5
}
