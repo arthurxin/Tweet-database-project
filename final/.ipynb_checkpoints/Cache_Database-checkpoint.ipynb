{
 "cells": [
  {
   "cell_type": "code",
   "execution_count": 1,
   "id": "fdbdb522",
   "metadata": {},
   "outputs": [],
   "source": [
    "import pickle\n",
    "import heapq\n",
    "import time\n",
    "import os\n",
    "\n",
    "class cache_database(object):\n",
    "    \n",
    "    def __init__(self,file_path):\n",
    "        self.max_item_saved = 30 # number of max searching result saved\n",
    "        self.every_item_cleaned = 3 # number of cleaned item when max searching result arrived\n",
    "        self.file_path = file_path\n",
    "        self.list_file_path = self.file_path+\"cache_database_list.pkl\"\n",
    "        self.dict_file_path = self.file_path+\"cache_database_dict.pkl\"\n",
    "        try:\n",
    "            with open(self.list_file_path, \"r\") as f:\n",
    "                self._queue = pickle.load(f)\n",
    "            with open(self.dict_file_path, \"r\") as f:\n",
    "                self._dict = pickle.load(f)\n",
    "        except:\n",
    "            self._queue = list()\n",
    "            self._dict = dict()\n",
    "    \n",
    "    def search(self, querry):\n",
    "        (timestamp_list, querry, content) = self._dict[querry]\n",
    "        return querry, content\n",
    "                      \n",
    "    def push(self, querry, content):\n",
    "        \"\"\"\n",
    "        Smallest heap, node will be oldest querry\n",
    "        Time complexity : O(logN)\n",
    "        \"\"\"\n",
    "        timestamp_ms = str(int(time.time()*1000))\n",
    "        heapq.heappush(self._queue, (timestamp_ms, querry, content))\n",
    "        if querry in self._dict:\n",
    "            timestamp_list = self._dict[querry][0] + [timestamp_ms,]\n",
    "        else:\n",
    "            timestamp_list = [timestamp_ms,]\n",
    "        self._dict[querry] = (timestamp_list, querry, content)\n",
    "        \n",
    "        if self.qsize() >= self.max_item_saved:\n",
    "            for i in range(self.every_item_cleaned):\n",
    "                self.pop()\n",
    "            with open(self.list_file_path, \"wb\") as f:\n",
    "                pickle.dump(self._queue, f)\n",
    "            with open(self.dict_file_path, \"wb\") as f:\n",
    "                pickle.dump(self._dict, f)       \n",
    "        else:\n",
    "            with open(self.list_file_path, \"wb\") as f:\n",
    "                pickle.dump(self._queue, f)\n",
    "            with open(self.dict_file_path, \"wb\") as f:\n",
    "                pickle.dump(self._dict, f)\n",
    "\n",
    "    def pop(self):\n",
    "        \"\"\"\n",
    "        Time complexity : O(logN)\n",
    "        \"\"\"\n",
    "        timestamp_ms, querry, content = heapq.heappop(self._queue)\n",
    "        self._dict[querry][0].pop(timestamp_ms)\n",
    "        if len(self._dict[querry][0]) == 0:\n",
    "            self._dict.pop(querry)\n",
    "        return timestamp_ms, querry, content\n",
    "\n",
    "    def qsize(self):\n",
    "        return len(self._queue)\n",
    "\n",
    "    def clean_memory(self):\n",
    "        self._queue = list()\n",
    "        self._dict = dict()\n",
    "        if os.path.exists(self.list_file_path):\n",
    "            os.remove(self.list_file_path) \n",
    "        if os.path.exists(self.dict_file_path):\n",
    "            os.remove(self.dict_file_path)"
   ]
  },
  {
   "cell_type": "code",
   "execution_count": 2,
   "id": "1ac7c5f6",
   "metadata": {},
   "outputs": [],
   "source": [
    "file_path = \"\""
   ]
  },
  {
   "cell_type": "code",
   "execution_count": 3,
   "id": "d38b717e",
   "metadata": {},
   "outputs": [],
   "source": [
    "list_file_path = file_path+\"cache_database_list.pkl\"\n",
    "dict_file_path = file_path+\"cache_database_dict.pkl\""
   ]
  },
  {
   "cell_type": "code",
   "execution_count": 4,
   "id": "ad601f9b",
   "metadata": {},
   "outputs": [],
   "source": [
    "with open(list_file_path, \"rb\") as f:\n",
    "#     print(pickle.load(f))\n",
    "    _queue = pickle.load(f)"
   ]
  },
  {
   "cell_type": "code",
   "execution_count": 5,
   "id": "070ea4fc",
   "metadata": {},
   "outputs": [
    {
     "data": {
      "text/plain": [
       "[('1682536176461', 'querry2', 'content2'),\n",
       " ('1682536177283', 'querry1', 'content1')]"
      ]
     },
     "execution_count": 5,
     "metadata": {},
     "output_type": "execute_result"
    }
   ],
   "source": [
    "_queue"
   ]
  },
  {
   "cell_type": "code",
   "execution_count": 6,
   "id": "7046b4b1",
   "metadata": {},
   "outputs": [
    {
     "ename": "ValueError",
     "evalue": "dictionary update sequence element #0 has length 1; 2 is required",
     "output_type": "error",
     "traceback": [
      "\u001b[0;31m---------------------------------------------------------------------------\u001b[0m",
      "\u001b[0;31mValueError\u001b[0m                                Traceback (most recent call last)",
      "Cell \u001b[0;32mIn[6], line 4\u001b[0m\n\u001b[1;32m      2\u001b[0m     _queue \u001b[38;5;241m=\u001b[39m \u001b[38;5;28mlist\u001b[39m(pickle\u001b[38;5;241m.\u001b[39mload(f))\n\u001b[1;32m      3\u001b[0m \u001b[38;5;28;01mwith\u001b[39;00m \u001b[38;5;28mopen\u001b[39m(dict_file_path, \u001b[38;5;124m\"\u001b[39m\u001b[38;5;124mrb\u001b[39m\u001b[38;5;124m\"\u001b[39m) \u001b[38;5;28;01mas\u001b[39;00m f:\n\u001b[0;32m----> 4\u001b[0m     _dict \u001b[38;5;241m=\u001b[39m \u001b[38;5;28;43mdict\u001b[39;49m\u001b[43m(\u001b[49m\u001b[43mpickle\u001b[49m\u001b[38;5;241;43m.\u001b[39;49m\u001b[43mload\u001b[49m\u001b[43m(\u001b[49m\u001b[43mf\u001b[49m\u001b[43m)\u001b[49m\u001b[43m)\u001b[49m\n",
      "\u001b[0;31mValueError\u001b[0m: dictionary update sequence element #0 has length 1; 2 is required"
     ]
    }
   ],
   "source": [
    "with open(list_file_path, \"rb\") as f:\n",
    "    _queue = list(pickle.load(f))\n",
    "with open(dict_file_path, \"rb\") as f:\n",
    "    _dict = dict(pickle.load(f))"
   ]
  },
  {
   "cell_type": "code",
   "execution_count": 9,
   "id": "8a226b08",
   "metadata": {},
   "outputs": [],
   "source": [
    "client_cache = cache_database(file_path)"
   ]
  },
  {
   "cell_type": "code",
   "execution_count": 10,
   "id": "8d62d213",
   "metadata": {},
   "outputs": [
    {
     "data": {
      "text/plain": [
       "[]"
      ]
     },
     "execution_count": 10,
     "metadata": {},
     "output_type": "execute_result"
    }
   ],
   "source": [
    "client_cache._queue"
   ]
  },
  {
   "cell_type": "code",
   "execution_count": 11,
   "id": "c0ea62a4",
   "metadata": {},
   "outputs": [],
   "source": [
    "client_cache.clean_memory()"
   ]
  },
  {
   "cell_type": "code",
   "execution_count": 12,
   "id": "0ea0bd9f",
   "metadata": {},
   "outputs": [],
   "source": [
    "querry = \"querry2\"\n",
    "content = \"content2\"\n",
    "client_cache.push(querry,content)"
   ]
  },
  {
   "cell_type": "code",
   "execution_count": 13,
   "id": "945693f8",
   "metadata": {},
   "outputs": [],
   "source": [
    "querry = \"querry1\"\n",
    "content = \"content1\"\n",
    "client_cache.push(querry,content)"
   ]
  },
  {
   "cell_type": "code",
   "execution_count": 9,
   "id": "95bedbe8",
   "metadata": {},
   "outputs": [
    {
     "data": {
      "text/plain": [
       "[('1682351740319', 'querry2', 'content2'),\n",
       " ('1682351740734', 'querry1', 'content1')]"
      ]
     },
     "execution_count": 9,
     "metadata": {},
     "output_type": "execute_result"
    }
   ],
   "source": [
    "client_cache._queue"
   ]
  },
  {
   "cell_type": "code",
   "execution_count": 10,
   "id": "68361be7",
   "metadata": {},
   "outputs": [
    {
     "data": {
      "text/plain": [
       "{'querry2': (['1682351740319'], 'querry2', 'content2'),\n",
       " 'querry1': (['1682351740734'], 'querry1', 'content1')}"
      ]
     },
     "execution_count": 10,
     "metadata": {},
     "output_type": "execute_result"
    }
   ],
   "source": [
    "client_cache._dict"
   ]
  },
  {
   "cell_type": "code",
   "execution_count": 11,
   "id": "8866b573",
   "metadata": {},
   "outputs": [
    {
     "data": {
      "text/plain": [
       "('querry2', 'content2')"
      ]
     },
     "execution_count": 11,
     "metadata": {},
     "output_type": "execute_result"
    }
   ],
   "source": [
    "client_cache.search(\"querry2\")"
   ]
  },
  {
   "cell_type": "code",
   "execution_count": null,
   "id": "041b4bfc",
   "metadata": {},
   "outputs": [],
   "source": []
  }
 ],
 "metadata": {
  "kernelspec": {
   "display_name": "Python 3 (ipykernel)",
   "language": "python",
   "name": "python3"
  },
  "language_info": {
   "codemirror_mode": {
    "name": "ipython",
    "version": 3
   },
   "file_extension": ".py",
   "mimetype": "text/x-python",
   "name": "python",
   "nbconvert_exporter": "python",
   "pygments_lexer": "ipython3",
   "version": "3.10.10"
  }
 },
 "nbformat": 4,
 "nbformat_minor": 5
}
