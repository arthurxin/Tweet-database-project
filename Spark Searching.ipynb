{
 "cells": [
  {
   "cell_type": "code",
   "execution_count": 1,
   "id": "136097f9",
   "metadata": {},
   "outputs": [
    {
     "name": "stderr",
     "output_type": "stream",
     "text": [
      "Setting default log level to \"WARN\".\n",
      "To adjust logging level use sc.setLogLevel(newLevel). For SparkR, use setLogLevel(newLevel).\n"
     ]
    },
    {
     "name": "stdout",
     "output_type": "stream",
     "text": [
      "23/04/19 20:00:17 WARN NativeCodeLoader: Unable to load native-hadoop library for your platform... using builtin-java classes where applicable\n",
      "23/04/19 20:00:18 WARN Utils: Service 'SparkUI' could not bind on port 4040. Attempting port 4041.\n"
     ]
    }
   ],
   "source": [
    "import json\n",
    "from pyspark.sql import SparkSession, Row\n",
    "spark = SparkSession.builder.getOrCreate()\n",
    "sc = spark.sparkContext"
   ]
  },
  {
   "cell_type": "code",
   "execution_count": 2,
   "id": "cbfd6160",
   "metadata": {},
   "outputs": [
    {
     "data": {
      "text/plain": [
       "'/home/hx152/Project/tweet_project/hx/Tweet-database-project'"
      ]
     },
     "execution_count": 2,
     "metadata": {},
     "output_type": "execute_result"
    }
   ],
   "source": [
    "pwd()"
   ]
  },
  {
   "cell_type": "code",
   "execution_count": 5,
   "id": "0cf0b51c",
   "metadata": {},
   "outputs": [],
   "source": [
    "# data = spark.read.text(\"hdfs:/data/corona-out-3\", lineSep=\"\\r\\n\\n\")"
   ]
  },
  {
   "cell_type": "code",
   "execution_count": 6,
   "id": "d43edac6",
   "metadata": {},
   "outputs": [],
   "source": [
    "# data = spark.read.text(\"file:/home/hx152/Project/tweet_project/Dataset/corona-out-3\", lineSep=\"\\r\\n\\n\")"
   ]
  },
  {
   "cell_type": "code",
   "execution_count": 35,
   "id": "bb77429f",
   "metadata": {},
   "outputs": [],
   "source": [
    "data = spark.read.text(\"file:/home/hx152/Project/tweet_project/Dataset/test_data\", lineSep=\"\\n\\n\")"
   ]
  },
  {
   "cell_type": "code",
   "execution_count": 36,
   "id": "ad671914",
   "metadata": {},
   "outputs": [
    {
     "data": {
      "text/plain": [
       "[Row(value='{\"created_at\":\"Sun Apr 12 18:27:25 +0000 2020\",\"id\":1249403767180668930,\"id_str\":\"1249403767180668930\",\"text\":\"RT @nuffsaidny: wishing death on people is weirdo behavior.\",\"source\":\"\\\\u003ca href=\\\\\"http:\\\\/\\\\/twitter.com\\\\/download\\\\/iphone\\\\\" rel=\\\\\"nofollow\\\\\"\\\\u003eTwitter for iPhone\\\\u003c\\\\/a\\\\u003e\",\"truncated\":false,\"in_reply_to_status_id\":null,\"in_reply_to_status_id_str\":null,\"in_reply_to_user_id\":null,\"in_reply_to_user_id_str\":null,\"in_reply_to_screen_name\":null,\"user\":{\"id\":1242817830946508801,\"id_str\":\"1242817830946508801\",\"name\":\"juwelz v\",\"screen_name\":\"juwelz_v\",\"location\":\"Lower East Side, Manhattan\",\"url\":\"https:\\\\/\\\\/linktr.ee\\\\/juwelzv\",\"description\":\"Event Lyfe LLC .. Brand Ambassador: #visionarysociety Music Manager: @ssizzzlee & @tmoneybeatsbang Production\\\\ud83c\\\\udfa5\\\\ud83d\\\\udcf8 #BringNyCultureBack \\\\ud83c\\\\udf0a\\\\ud83c\\\\udf0a\\\\ud83c\\\\udf0a !!\",\"translator_type\":\"none\",\"protected\":false,\"verified\":false,\"followers_count\":43,\"friends_count\":118,\"listed_count\":0,\"favourites_count\":722,\"statuses_count\":906,\"created_at\":\"Wed Mar 25 14:17:28 +0000 2020\",\"utc_offset\":null,\"time_zone\":null,\"geo_enabled\":false,\"lang\":null,\"contributors_enabled\":false,\"is_translator\":false,\"profile_background_color\":\"F5F8FA\",\"profile_background_image_url\":\"\",\"profile_background_image_url_https\":\"\",\"profile_background_tile\":false,\"profile_link_color\":\"1DA1F2\",\"profile_sidebar_border_color\":\"C0DEED\",\"profile_sidebar_fill_color\":\"DDEEF6\",\"profile_text_color\":\"333333\",\"profile_use_background_image\":true,\"profile_image_url\":\"http:\\\\/\\\\/pbs.twimg.com\\\\/profile_images\\\\/1246253579805089797\\\\/Ks1MrEDW_normal.jpg\",\"profile_image_url_https\":\"https:\\\\/\\\\/pbs.twimg.com\\\\/profile_images\\\\/1246253579805089797\\\\/Ks1MrEDW_normal.jpg\",\"profile_banner_url\":\"https:\\\\/\\\\/pbs.twimg.com\\\\/profile_banners\\\\/1242817830946508801\\\\/1585146985\",\"default_profile\":true,\"default_profile_image\":false,\"following\":null,\"follow_request_sent\":null,\"notifications\":null},\"geo\":null,\"coordinates\":null,\"place\":null,\"contributors\":null,\"retweeted_status\":{\"created_at\":\"Sun Apr 12 16:48:01 +0000 2020\",\"id\":1249378751349231616,\"id_str\":\"1249378751349231616\",\"text\":\"wishing death on people is weirdo behavior.\",\"source\":\"\\\\u003ca href=\\\\\"http:\\\\/\\\\/twitter.com\\\\/download\\\\/iphone\\\\\" rel=\\\\\"nofollow\\\\\"\\\\u003eTwitter for iPhone\\\\u003c\\\\/a\\\\u003e\",\"truncated\":false,\"in_reply_to_status_id\":null,\"in_reply_to_status_id_str\":null,\"in_reply_to_user_id\":null,\"in_reply_to_user_id_str\":null,\"in_reply_to_screen_name\":null,\"user\":{\"id\":16144221,\"id_str\":\"16144221\",\"name\":\"NUFF\",\"screen_name\":\"nuffsaidny\",\"location\":null,\"url\":null,\"description\":\"instagram: @nuffsaidny \\\\ud83c\\\\uddf9\\\\ud83c\\\\uddf9\",\"translator_type\":\"regular\",\"protected\":false,\"verified\":false,\"followers_count\":17112,\"friends_count\":1515,\"listed_count\":874,\"favourites_count\":15790,\"statuses_count\":2599,\"created_at\":\"Fri Sep 05 14:28:41 +0000 2008\",\"utc_offset\":null,\"time_zone\":null,\"geo_enabled\":true,\"lang\":null,\"contributors_enabled\":false,\"is_translator\":false,\"profile_background_color\":\"C0DEED\",\"profile_background_image_url\":\"http:\\\\/\\\\/abs.twimg.com\\\\/images\\\\/themes\\\\/theme1\\\\/bg.png\",\"profile_background_image_url_https\":\"https:\\\\/\\\\/abs.twimg.com\\\\/images\\\\/themes\\\\/theme1\\\\/bg.png\",\"profile_background_tile\":true,\"profile_link_color\":\"E81C4F\",\"profile_sidebar_border_color\":\"000000\",\"profile_sidebar_fill_color\":\"000000\",\"profile_text_color\":\"000000\",\"profile_use_background_image\":true,\"profile_image_url\":\"http:\\\\/\\\\/pbs.twimg.com\\\\/profile_images\\\\/1240511913152282624\\\\/I024wGWG_normal.jpg\",\"profile_image_url_https\":\"https:\\\\/\\\\/pbs.twimg.com\\\\/profile_images\\\\/1240511913152282624\\\\/I024wGWG_normal.jpg\",\"default_profile\":false,\"default_profile_image\":false,\"following\":null,\"follow_request_sent\":null,\"notifications\":null},\"geo\":null,\"coordinates\":null,\"place\":null,\"contributors\":null,\"quoted_status_id\":1249315454797168641,\"quoted_status_id_str\":\"1249315454797168641\",\"quoted_status\":{\"created_at\":\"Sun Apr 12 12:36:30 +0000 2020\",\"id\":1249315454797168641,\"id_str\":\"1249315454797168641\",\"text\":\"I pray my haters die of corona virus \\\\ud83d\\\\ude37\",\"source\":\"\\\\u003ca href=\\\\\"http:\\\\/\\\\/twitter.com\\\\/download\\\\/iphone\\\\\" rel=\\\\\"nofollow\\\\\"\\\\u003eTwitter for iPhone\\\\u003c\\\\/a\\\\u003e\",\"truncated\":false,\"in_reply_to_status_id\":null,\"in_reply_to_status_id_str\":null,\"in_reply_to_user_id\":null,\"in_reply_to_user_id_str\":null,\"in_reply_to_screen_name\":null,\"user\":{\"id\":46769281,\"id_str\":\"46769281\",\"name\":\"Gucci Mane\",\"screen_name\":\"gucci1017\",\"location\":\"EAST ATLANTA\",\"url\":\"https:\\\\/\\\\/guccimane.lnk.to\\\\/Woptober2\",\"description\":\"Major Label Recording Artist, signed to Atlantic Records. | wizopbooking@gmail.com\",\"translator_type\":\"none\",\"protected\":false,\"verified\":true,\"followers_count\":8483937,\"friends_count\":1,\"listed_count\":10366,\"favourites_count\":11016,\"statuses_count\":21123,\"created_at\":\"Fri Jun 12 22:52:05 +0000 2009\",\"utc_offset\":null,\"time_zone\":null,\"geo_enabled\":false,\"lang\":null,\"contributors_enabled\":false,\"is_translator\":false,\"profile_background_color\":\"000000\",\"profile_background_image_url\":\"http:\\\\/\\\\/abs.twimg.com\\\\/images\\\\/themes\\\\/theme14\\\\/bg.gif\",\"profile_background_image_url_https\":\"https:\\\\/\\\\/abs.twimg.com\\\\/images\\\\/themes\\\\/theme14\\\\/bg.gif\",\"profile_background_tile\":false,\"profile_link_color\":\"009999\",\"profile_sidebar_border_color\":\"FFFFFF\",\"profile_sidebar_fill_color\":\"EFEFEF\",\"profile_text_color\":\"333333\",\"profile_use_background_image\":true,\"profile_image_url\":\"http:\\\\/\\\\/pbs.twimg.com\\\\/profile_images\\\\/1236396637284700161\\\\/cq6xECoN_normal.jpg\",\"profile_image_url_https\":\"https:\\\\/\\\\/pbs.twimg.com\\\\/profile_images\\\\/1236396637284700161\\\\/cq6xECoN_normal.jpg\",\"profile_banner_url\":\"https:\\\\/\\\\/pbs.twimg.com\\\\/profile_banners\\\\/46769281\\\\/1583614905\",\"default_profile\":false,\"default_profile_image\":false,\"following\":null,\"follow_request_sent\":null,\"notifications\":null},\"geo\":null,\"coordinates\":null,\"place\":null,\"contributors\":null,\"is_quote_status\":false,\"quote_count\":3376,\"reply_count\":1956,\"retweet_count\":9246,\"favorite_count\":33006,\"entities\":{\"hashtags\":[],\"urls\":[],\"user_mentions\":[],\"symbols\":[]},\"favorited\":false,\"retweeted\":false,\"filter_level\":\"low\",\"lang\":\"en\"},\"quoted_status_permalink\":{\"url\":\"https:\\\\/\\\\/t.co\\\\/FdZ3Hxzfwl\",\"expanded\":\"https:\\\\/\\\\/twitter.com\\\\/gucci1017\\\\/status\\\\/1249315454797168641\",\"display\":\"twitter.com\\\\/gucci1017\\\\/stat\\\\u2026\"},\"is_quote_status\":true,\"quote_count\":1,\"reply_count\":1,\"retweet_count\":24,\"favorite_count\":50,\"entities\":{\"hashtags\":[],\"urls\":[],\"user_mentions\":[],\"symbols\":[]},\"favorited\":false,\"retweeted\":false,\"filter_level\":\"low\",\"lang\":\"en\"},\"quoted_status_id\":1249315454797168641,\"quoted_status_id_str\":\"1249315454797168641\",\"quoted_status\":{\"created_at\":\"Sun Apr 12 12:36:30 +0000 2020\",\"id\":1249315454797168641,\"id_str\":\"1249315454797168641\",\"text\":\"I pray my haters die of corona virus \\\\ud83d\\\\ude37\",\"source\":\"\\\\u003ca href=\\\\\"http:\\\\/\\\\/twitter.com\\\\/download\\\\/iphone\\\\\" rel=\\\\\"nofollow\\\\\"\\\\u003eTwitter for iPhone\\\\u003c\\\\/a\\\\u003e\",\"truncated\":false,\"in_reply_to_status_id\":null,\"in_reply_to_status_id_str\":null,\"in_reply_to_user_id\":null,\"in_reply_to_user_id_str\":null,\"in_reply_to_screen_name\":null,\"user\":{\"id\":46769281,\"id_str\":\"46769281\",\"name\":\"Gucci Mane\",\"screen_name\":\"gucci1017\",\"location\":\"EAST ATLANTA\",\"url\":\"https:\\\\/\\\\/guccimane.lnk.to\\\\/Woptober2\",\"description\":\"Major Label Recording Artist, signed to Atlantic Records. | wizopbooking@gmail.com\",\"translator_type\":\"none\",\"protected\":false,\"verified\":true,\"followers_count\":8483937,\"friends_count\":1,\"listed_count\":10366,\"favourites_count\":11016,\"statuses_count\":21123,\"created_at\":\"Fri Jun 12 22:52:05 +0000 2009\",\"utc_offset\":null,\"time_zone\":null,\"geo_enabled\":false,\"lang\":null,\"contributors_enabled\":false,\"is_translator\":false,\"profile_background_color\":\"000000\",\"profile_background_image_url\":\"http:\\\\/\\\\/abs.twimg.com\\\\/images\\\\/themes\\\\/theme14\\\\/bg.gif\",\"profile_background_image_url_https\":\"https:\\\\/\\\\/abs.twimg.com\\\\/images\\\\/themes\\\\/theme14\\\\/bg.gif\",\"profile_background_tile\":false,\"profile_link_color\":\"009999\",\"profile_sidebar_border_color\":\"FFFFFF\",\"profile_sidebar_fill_color\":\"EFEFEF\",\"profile_text_color\":\"333333\",\"profile_use_background_image\":true,\"profile_image_url\":\"http:\\\\/\\\\/pbs.twimg.com\\\\/profile_images\\\\/1236396637284700161\\\\/cq6xECoN_normal.jpg\",\"profile_image_url_https\":\"https:\\\\/\\\\/pbs.twimg.com\\\\/profile_images\\\\/1236396637284700161\\\\/cq6xECoN_normal.jpg\",\"profile_banner_url\":\"https:\\\\/\\\\/pbs.twimg.com\\\\/profile_banners\\\\/46769281\\\\/1583614905\",\"default_profile\":false,\"default_profile_image\":false,\"following\":null,\"follow_request_sent\":null,\"notifications\":null},\"geo\":null,\"coordinates\":null,\"place\":null,\"contributors\":null,\"is_quote_status\":false,\"quote_count\":3376,\"reply_count\":1956,\"retweet_count\":9246,\"favorite_count\":33006,\"entities\":{\"hashtags\":[],\"urls\":[],\"user_mentions\":[],\"symbols\":[]},\"favorited\":false,\"retweeted\":false,\"filter_level\":\"low\",\"lang\":\"en\"},\"quoted_status_permalink\":{\"url\":\"https:\\\\/\\\\/t.co\\\\/FdZ3Hxzfwl\",\"expanded\":\"https:\\\\/\\\\/twitter.com\\\\/gucci1017\\\\/status\\\\/1249315454797168641\",\"display\":\"twitter.com\\\\/gucci1017\\\\/stat\\\\u2026\"},\"is_quote_status\":true,\"quote_count\":0,\"reply_count\":0,\"retweet_count\":0,\"favorite_count\":0,\"entities\":{\"hashtags\":[],\"urls\":[],\"user_mentions\":[{\"screen_name\":\"nuffsaidny\",\"name\":\"NUFF\",\"id\":16144221,\"id_str\":\"16144221\",\"indices\":[3,14]}],\"symbols\":[]},\"favorited\":false,\"retweeted\":false,\"filter_level\":\"low\",\"lang\":\"en\",\"timestamp_ms\":\"1586716045552\"}')]"
      ]
     },
     "execution_count": 36,
     "metadata": {},
     "output_type": "execute_result"
    }
   ],
   "source": [
    "a = data.take(1)\n",
    "a"
   ]
  },
  {
   "cell_type": "markdown",
   "id": "d1642c37",
   "metadata": {},
   "source": [
    "# Json process"
   ]
  },
  {
   "cell_type": "code",
   "execution_count": 37,
   "id": "1519d590",
   "metadata": {},
   "outputs": [
    {
     "data": {
      "text/plain": [
       "'{\"created_at\":\"Sun Apr 12 18:27:25 +0000 2020\",\"id\":1249403767180668930,\"id_str\":\"1249403767180668930\",\"text\":\"RT @nuffsaidny: wishing death on people is weirdo behavior.\",\"source\":\"\\\\u003ca href=\\\\\"http:\\\\/\\\\/twitter.com\\\\/download\\\\/iphone\\\\\" rel=\\\\\"nofollow\\\\\"\\\\u003eTwitter for iPhone\\\\u003c\\\\/a\\\\u003e\",\"truncated\":false,\"in_reply_to_status_id\":null,\"in_reply_to_status_id_str\":null,\"in_reply_to_user_id\":null,\"in_reply_to_user_id_str\":null,\"in_reply_to_screen_name\":null,\"user\":{\"id\":1242817830946508801,\"id_str\":\"1242817830946508801\",\"name\":\"juwelz v\",\"screen_name\":\"juwelz_v\",\"location\":\"Lower East Side, Manhattan\",\"url\":\"https:\\\\/\\\\/linktr.ee\\\\/juwelzv\",\"description\":\"Event Lyfe LLC .. Brand Ambassador: #visionarysociety Music Manager: @ssizzzlee & @tmoneybeatsbang Production\\\\ud83c\\\\udfa5\\\\ud83d\\\\udcf8 #BringNyCultureBack \\\\ud83c\\\\udf0a\\\\ud83c\\\\udf0a\\\\ud83c\\\\udf0a !!\",\"translator_type\":\"none\",\"protected\":false,\"verified\":false,\"followers_count\":43,\"friends_count\":118,\"listed_count\":0,\"favourites_count\":722,\"statuses_count\":906,\"created_at\":\"Wed Mar 25 14:17:28 +0000 2020\",\"utc_offset\":null,\"time_zone\":null,\"geo_enabled\":false,\"lang\":null,\"contributors_enabled\":false,\"is_translator\":false,\"profile_background_color\":\"F5F8FA\",\"profile_background_image_url\":\"\",\"profile_background_image_url_https\":\"\",\"profile_background_tile\":false,\"profile_link_color\":\"1DA1F2\",\"profile_sidebar_border_color\":\"C0DEED\",\"profile_sidebar_fill_color\":\"DDEEF6\",\"profile_text_color\":\"333333\",\"profile_use_background_image\":true,\"profile_image_url\":\"http:\\\\/\\\\/pbs.twimg.com\\\\/profile_images\\\\/1246253579805089797\\\\/Ks1MrEDW_normal.jpg\",\"profile_image_url_https\":\"https:\\\\/\\\\/pbs.twimg.com\\\\/profile_images\\\\/1246253579805089797\\\\/Ks1MrEDW_normal.jpg\",\"profile_banner_url\":\"https:\\\\/\\\\/pbs.twimg.com\\\\/profile_banners\\\\/1242817830946508801\\\\/1585146985\",\"default_profile\":true,\"default_profile_image\":false,\"following\":null,\"follow_request_sent\":null,\"notifications\":null},\"geo\":null,\"coordinates\":null,\"place\":null,\"contributors\":null,\"retweeted_status\":{\"created_at\":\"Sun Apr 12 16:48:01 +0000 2020\",\"id\":1249378751349231616,\"id_str\":\"1249378751349231616\",\"text\":\"wishing death on people is weirdo behavior.\",\"source\":\"\\\\u003ca href=\\\\\"http:\\\\/\\\\/twitter.com\\\\/download\\\\/iphone\\\\\" rel=\\\\\"nofollow\\\\\"\\\\u003eTwitter for iPhone\\\\u003c\\\\/a\\\\u003e\",\"truncated\":false,\"in_reply_to_status_id\":null,\"in_reply_to_status_id_str\":null,\"in_reply_to_user_id\":null,\"in_reply_to_user_id_str\":null,\"in_reply_to_screen_name\":null,\"user\":{\"id\":16144221,\"id_str\":\"16144221\",\"name\":\"NUFF\",\"screen_name\":\"nuffsaidny\",\"location\":null,\"url\":null,\"description\":\"instagram: @nuffsaidny \\\\ud83c\\\\uddf9\\\\ud83c\\\\uddf9\",\"translator_type\":\"regular\",\"protected\":false,\"verified\":false,\"followers_count\":17112,\"friends_count\":1515,\"listed_count\":874,\"favourites_count\":15790,\"statuses_count\":2599,\"created_at\":\"Fri Sep 05 14:28:41 +0000 2008\",\"utc_offset\":null,\"time_zone\":null,\"geo_enabled\":true,\"lang\":null,\"contributors_enabled\":false,\"is_translator\":false,\"profile_background_color\":\"C0DEED\",\"profile_background_image_url\":\"http:\\\\/\\\\/abs.twimg.com\\\\/images\\\\/themes\\\\/theme1\\\\/bg.png\",\"profile_background_image_url_https\":\"https:\\\\/\\\\/abs.twimg.com\\\\/images\\\\/themes\\\\/theme1\\\\/bg.png\",\"profile_background_tile\":true,\"profile_link_color\":\"E81C4F\",\"profile_sidebar_border_color\":\"000000\",\"profile_sidebar_fill_color\":\"000000\",\"profile_text_color\":\"000000\",\"profile_use_background_image\":true,\"profile_image_url\":\"http:\\\\/\\\\/pbs.twimg.com\\\\/profile_images\\\\/1240511913152282624\\\\/I024wGWG_normal.jpg\",\"profile_image_url_https\":\"https:\\\\/\\\\/pbs.twimg.com\\\\/profile_images\\\\/1240511913152282624\\\\/I024wGWG_normal.jpg\",\"default_profile\":false,\"default_profile_image\":false,\"following\":null,\"follow_request_sent\":null,\"notifications\":null},\"geo\":null,\"coordinates\":null,\"place\":null,\"contributors\":null,\"quoted_status_id\":1249315454797168641,\"quoted_status_id_str\":\"1249315454797168641\",\"quoted_status\":{\"created_at\":\"Sun Apr 12 12:36:30 +0000 2020\",\"id\":1249315454797168641,\"id_str\":\"1249315454797168641\",\"text\":\"I pray my haters die of corona virus \\\\ud83d\\\\ude37\",\"source\":\"\\\\u003ca href=\\\\\"http:\\\\/\\\\/twitter.com\\\\/download\\\\/iphone\\\\\" rel=\\\\\"nofollow\\\\\"\\\\u003eTwitter for iPhone\\\\u003c\\\\/a\\\\u003e\",\"truncated\":false,\"in_reply_to_status_id\":null,\"in_reply_to_status_id_str\":null,\"in_reply_to_user_id\":null,\"in_reply_to_user_id_str\":null,\"in_reply_to_screen_name\":null,\"user\":{\"id\":46769281,\"id_str\":\"46769281\",\"name\":\"Gucci Mane\",\"screen_name\":\"gucci1017\",\"location\":\"EAST ATLANTA\",\"url\":\"https:\\\\/\\\\/guccimane.lnk.to\\\\/Woptober2\",\"description\":\"Major Label Recording Artist, signed to Atlantic Records. | wizopbooking@gmail.com\",\"translator_type\":\"none\",\"protected\":false,\"verified\":true,\"followers_count\":8483937,\"friends_count\":1,\"listed_count\":10366,\"favourites_count\":11016,\"statuses_count\":21123,\"created_at\":\"Fri Jun 12 22:52:05 +0000 2009\",\"utc_offset\":null,\"time_zone\":null,\"geo_enabled\":false,\"lang\":null,\"contributors_enabled\":false,\"is_translator\":false,\"profile_background_color\":\"000000\",\"profile_background_image_url\":\"http:\\\\/\\\\/abs.twimg.com\\\\/images\\\\/themes\\\\/theme14\\\\/bg.gif\",\"profile_background_image_url_https\":\"https:\\\\/\\\\/abs.twimg.com\\\\/images\\\\/themes\\\\/theme14\\\\/bg.gif\",\"profile_background_tile\":false,\"profile_link_color\":\"009999\",\"profile_sidebar_border_color\":\"FFFFFF\",\"profile_sidebar_fill_color\":\"EFEFEF\",\"profile_text_color\":\"333333\",\"profile_use_background_image\":true,\"profile_image_url\":\"http:\\\\/\\\\/pbs.twimg.com\\\\/profile_images\\\\/1236396637284700161\\\\/cq6xECoN_normal.jpg\",\"profile_image_url_https\":\"https:\\\\/\\\\/pbs.twimg.com\\\\/profile_images\\\\/1236396637284700161\\\\/cq6xECoN_normal.jpg\",\"profile_banner_url\":\"https:\\\\/\\\\/pbs.twimg.com\\\\/profile_banners\\\\/46769281\\\\/1583614905\",\"default_profile\":false,\"default_profile_image\":false,\"following\":null,\"follow_request_sent\":null,\"notifications\":null},\"geo\":null,\"coordinates\":null,\"place\":null,\"contributors\":null,\"is_quote_status\":false,\"quote_count\":3376,\"reply_count\":1956,\"retweet_count\":9246,\"favorite_count\":33006,\"entities\":{\"hashtags\":[],\"urls\":[],\"user_mentions\":[],\"symbols\":[]},\"favorited\":false,\"retweeted\":false,\"filter_level\":\"low\",\"lang\":\"en\"},\"quoted_status_permalink\":{\"url\":\"https:\\\\/\\\\/t.co\\\\/FdZ3Hxzfwl\",\"expanded\":\"https:\\\\/\\\\/twitter.com\\\\/gucci1017\\\\/status\\\\/1249315454797168641\",\"display\":\"twitter.com\\\\/gucci1017\\\\/stat\\\\u2026\"},\"is_quote_status\":true,\"quote_count\":1,\"reply_count\":1,\"retweet_count\":24,\"favorite_count\":50,\"entities\":{\"hashtags\":[],\"urls\":[],\"user_mentions\":[],\"symbols\":[]},\"favorited\":false,\"retweeted\":false,\"filter_level\":\"low\",\"lang\":\"en\"},\"quoted_status_id\":1249315454797168641,\"quoted_status_id_str\":\"1249315454797168641\",\"quoted_status\":{\"created_at\":\"Sun Apr 12 12:36:30 +0000 2020\",\"id\":1249315454797168641,\"id_str\":\"1249315454797168641\",\"text\":\"I pray my haters die of corona virus \\\\ud83d\\\\ude37\",\"source\":\"\\\\u003ca href=\\\\\"http:\\\\/\\\\/twitter.com\\\\/download\\\\/iphone\\\\\" rel=\\\\\"nofollow\\\\\"\\\\u003eTwitter for iPhone\\\\u003c\\\\/a\\\\u003e\",\"truncated\":false,\"in_reply_to_status_id\":null,\"in_reply_to_status_id_str\":null,\"in_reply_to_user_id\":null,\"in_reply_to_user_id_str\":null,\"in_reply_to_screen_name\":null,\"user\":{\"id\":46769281,\"id_str\":\"46769281\",\"name\":\"Gucci Mane\",\"screen_name\":\"gucci1017\",\"location\":\"EAST ATLANTA\",\"url\":\"https:\\\\/\\\\/guccimane.lnk.to\\\\/Woptober2\",\"description\":\"Major Label Recording Artist, signed to Atlantic Records. | wizopbooking@gmail.com\",\"translator_type\":\"none\",\"protected\":false,\"verified\":true,\"followers_count\":8483937,\"friends_count\":1,\"listed_count\":10366,\"favourites_count\":11016,\"statuses_count\":21123,\"created_at\":\"Fri Jun 12 22:52:05 +0000 2009\",\"utc_offset\":null,\"time_zone\":null,\"geo_enabled\":false,\"lang\":null,\"contributors_enabled\":false,\"is_translator\":false,\"profile_background_color\":\"000000\",\"profile_background_image_url\":\"http:\\\\/\\\\/abs.twimg.com\\\\/images\\\\/themes\\\\/theme14\\\\/bg.gif\",\"profile_background_image_url_https\":\"https:\\\\/\\\\/abs.twimg.com\\\\/images\\\\/themes\\\\/theme14\\\\/bg.gif\",\"profile_background_tile\":false,\"profile_link_color\":\"009999\",\"profile_sidebar_border_color\":\"FFFFFF\",\"profile_sidebar_fill_color\":\"EFEFEF\",\"profile_text_color\":\"333333\",\"profile_use_background_image\":true,\"profile_image_url\":\"http:\\\\/\\\\/pbs.twimg.com\\\\/profile_images\\\\/1236396637284700161\\\\/cq6xECoN_normal.jpg\",\"profile_image_url_https\":\"https:\\\\/\\\\/pbs.twimg.com\\\\/profile_images\\\\/1236396637284700161\\\\/cq6xECoN_normal.jpg\",\"profile_banner_url\":\"https:\\\\/\\\\/pbs.twimg.com\\\\/profile_banners\\\\/46769281\\\\/1583614905\",\"default_profile\":false,\"default_profile_image\":false,\"following\":null,\"follow_request_sent\":null,\"notifications\":null},\"geo\":null,\"coordinates\":null,\"place\":null,\"contributors\":null,\"is_quote_status\":false,\"quote_count\":3376,\"reply_count\":1956,\"retweet_count\":9246,\"favorite_count\":33006,\"entities\":{\"hashtags\":[],\"urls\":[],\"user_mentions\":[],\"symbols\":[]},\"favorited\":false,\"retweeted\":false,\"filter_level\":\"low\",\"lang\":\"en\"},\"quoted_status_permalink\":{\"url\":\"https:\\\\/\\\\/t.co\\\\/FdZ3Hxzfwl\",\"expanded\":\"https:\\\\/\\\\/twitter.com\\\\/gucci1017\\\\/status\\\\/1249315454797168641\",\"display\":\"twitter.com\\\\/gucci1017\\\\/stat\\\\u2026\"},\"is_quote_status\":true,\"quote_count\":0,\"reply_count\":0,\"retweet_count\":0,\"favorite_count\":0,\"entities\":{\"hashtags\":[],\"urls\":[],\"user_mentions\":[{\"screen_name\":\"nuffsaidny\",\"name\":\"NUFF\",\"id\":16144221,\"id_str\":\"16144221\",\"indices\":[3,14]}],\"symbols\":[]},\"favorited\":false,\"retweeted\":false,\"filter_level\":\"low\",\"lang\":\"en\",\"timestamp_ms\":\"1586716045552\"}'"
      ]
     },
     "execution_count": 37,
     "metadata": {},
     "output_type": "execute_result"
    }
   ],
   "source": [
    "a[0][0]"
   ]
  },
  {
   "cell_type": "code",
   "execution_count": 38,
   "id": "44eb51ab",
   "metadata": {},
   "outputs": [],
   "source": [
    "tweet_data =  json.loads(a[0][0])"
   ]
  },
  {
   "cell_type": "code",
   "execution_count": 39,
   "id": "9a31cfb3",
   "metadata": {
    "scrolled": true
   },
   "outputs": [
    {
     "data": {
      "text/plain": [
       "{'created_at': 'Sun Apr 12 18:27:25 +0000 2020',\n",
       " 'id': 1249403767180668930,\n",
       " 'id_str': '1249403767180668930',\n",
       " 'text': 'RT @nuffsaidny: wishing death on people is weirdo behavior.',\n",
       " 'source': '<a href=\"http://twitter.com/download/iphone\" rel=\"nofollow\">Twitter for iPhone</a>',\n",
       " 'truncated': False,\n",
       " 'in_reply_to_status_id': None,\n",
       " 'in_reply_to_status_id_str': None,\n",
       " 'in_reply_to_user_id': None,\n",
       " 'in_reply_to_user_id_str': None,\n",
       " 'in_reply_to_screen_name': None,\n",
       " 'user': {'id': 1242817830946508801,\n",
       "  'id_str': '1242817830946508801',\n",
       "  'name': 'juwelz v',\n",
       "  'screen_name': 'juwelz_v',\n",
       "  'location': 'Lower East Side, Manhattan',\n",
       "  'url': 'https://linktr.ee/juwelzv',\n",
       "  'description': 'Event Lyfe LLC .. Brand Ambassador: #visionarysociety Music Manager: @ssizzzlee & @tmoneybeatsbang Production🎥📸 #BringNyCultureBack 🌊🌊🌊 !!',\n",
       "  'translator_type': 'none',\n",
       "  'protected': False,\n",
       "  'verified': False,\n",
       "  'followers_count': 43,\n",
       "  'friends_count': 118,\n",
       "  'listed_count': 0,\n",
       "  'favourites_count': 722,\n",
       "  'statuses_count': 906,\n",
       "  'created_at': 'Wed Mar 25 14:17:28 +0000 2020',\n",
       "  'utc_offset': None,\n",
       "  'time_zone': None,\n",
       "  'geo_enabled': False,\n",
       "  'lang': None,\n",
       "  'contributors_enabled': False,\n",
       "  'is_translator': False,\n",
       "  'profile_background_color': 'F5F8FA',\n",
       "  'profile_background_image_url': '',\n",
       "  'profile_background_image_url_https': '',\n",
       "  'profile_background_tile': False,\n",
       "  'profile_link_color': '1DA1F2',\n",
       "  'profile_sidebar_border_color': 'C0DEED',\n",
       "  'profile_sidebar_fill_color': 'DDEEF6',\n",
       "  'profile_text_color': '333333',\n",
       "  'profile_use_background_image': True,\n",
       "  'profile_image_url': 'http://pbs.twimg.com/profile_images/1246253579805089797/Ks1MrEDW_normal.jpg',\n",
       "  'profile_image_url_https': 'https://pbs.twimg.com/profile_images/1246253579805089797/Ks1MrEDW_normal.jpg',\n",
       "  'profile_banner_url': 'https://pbs.twimg.com/profile_banners/1242817830946508801/1585146985',\n",
       "  'default_profile': True,\n",
       "  'default_profile_image': False,\n",
       "  'following': None,\n",
       "  'follow_request_sent': None,\n",
       "  'notifications': None},\n",
       " 'geo': None,\n",
       " 'coordinates': None,\n",
       " 'place': None,\n",
       " 'contributors': None,\n",
       " 'retweeted_status': {'created_at': 'Sun Apr 12 16:48:01 +0000 2020',\n",
       "  'id': 1249378751349231616,\n",
       "  'id_str': '1249378751349231616',\n",
       "  'text': 'wishing death on people is weirdo behavior.',\n",
       "  'source': '<a href=\"http://twitter.com/download/iphone\" rel=\"nofollow\">Twitter for iPhone</a>',\n",
       "  'truncated': False,\n",
       "  'in_reply_to_status_id': None,\n",
       "  'in_reply_to_status_id_str': None,\n",
       "  'in_reply_to_user_id': None,\n",
       "  'in_reply_to_user_id_str': None,\n",
       "  'in_reply_to_screen_name': None,\n",
       "  'user': {'id': 16144221,\n",
       "   'id_str': '16144221',\n",
       "   'name': 'NUFF',\n",
       "   'screen_name': 'nuffsaidny',\n",
       "   'location': None,\n",
       "   'url': None,\n",
       "   'description': 'instagram: @nuffsaidny 🇹🇹',\n",
       "   'translator_type': 'regular',\n",
       "   'protected': False,\n",
       "   'verified': False,\n",
       "   'followers_count': 17112,\n",
       "   'friends_count': 1515,\n",
       "   'listed_count': 874,\n",
       "   'favourites_count': 15790,\n",
       "   'statuses_count': 2599,\n",
       "   'created_at': 'Fri Sep 05 14:28:41 +0000 2008',\n",
       "   'utc_offset': None,\n",
       "   'time_zone': None,\n",
       "   'geo_enabled': True,\n",
       "   'lang': None,\n",
       "   'contributors_enabled': False,\n",
       "   'is_translator': False,\n",
       "   'profile_background_color': 'C0DEED',\n",
       "   'profile_background_image_url': 'http://abs.twimg.com/images/themes/theme1/bg.png',\n",
       "   'profile_background_image_url_https': 'https://abs.twimg.com/images/themes/theme1/bg.png',\n",
       "   'profile_background_tile': True,\n",
       "   'profile_link_color': 'E81C4F',\n",
       "   'profile_sidebar_border_color': '000000',\n",
       "   'profile_sidebar_fill_color': '000000',\n",
       "   'profile_text_color': '000000',\n",
       "   'profile_use_background_image': True,\n",
       "   'profile_image_url': 'http://pbs.twimg.com/profile_images/1240511913152282624/I024wGWG_normal.jpg',\n",
       "   'profile_image_url_https': 'https://pbs.twimg.com/profile_images/1240511913152282624/I024wGWG_normal.jpg',\n",
       "   'default_profile': False,\n",
       "   'default_profile_image': False,\n",
       "   'following': None,\n",
       "   'follow_request_sent': None,\n",
       "   'notifications': None},\n",
       "  'geo': None,\n",
       "  'coordinates': None,\n",
       "  'place': None,\n",
       "  'contributors': None,\n",
       "  'quoted_status_id': 1249315454797168641,\n",
       "  'quoted_status_id_str': '1249315454797168641',\n",
       "  'quoted_status': {'created_at': 'Sun Apr 12 12:36:30 +0000 2020',\n",
       "   'id': 1249315454797168641,\n",
       "   'id_str': '1249315454797168641',\n",
       "   'text': 'I pray my haters die of corona virus 😷',\n",
       "   'source': '<a href=\"http://twitter.com/download/iphone\" rel=\"nofollow\">Twitter for iPhone</a>',\n",
       "   'truncated': False,\n",
       "   'in_reply_to_status_id': None,\n",
       "   'in_reply_to_status_id_str': None,\n",
       "   'in_reply_to_user_id': None,\n",
       "   'in_reply_to_user_id_str': None,\n",
       "   'in_reply_to_screen_name': None,\n",
       "   'user': {'id': 46769281,\n",
       "    'id_str': '46769281',\n",
       "    'name': 'Gucci Mane',\n",
       "    'screen_name': 'gucci1017',\n",
       "    'location': 'EAST ATLANTA',\n",
       "    'url': 'https://guccimane.lnk.to/Woptober2',\n",
       "    'description': 'Major Label Recording Artist, signed to Atlantic Records. | wizopbooking@gmail.com',\n",
       "    'translator_type': 'none',\n",
       "    'protected': False,\n",
       "    'verified': True,\n",
       "    'followers_count': 8483937,\n",
       "    'friends_count': 1,\n",
       "    'listed_count': 10366,\n",
       "    'favourites_count': 11016,\n",
       "    'statuses_count': 21123,\n",
       "    'created_at': 'Fri Jun 12 22:52:05 +0000 2009',\n",
       "    'utc_offset': None,\n",
       "    'time_zone': None,\n",
       "    'geo_enabled': False,\n",
       "    'lang': None,\n",
       "    'contributors_enabled': False,\n",
       "    'is_translator': False,\n",
       "    'profile_background_color': '000000',\n",
       "    'profile_background_image_url': 'http://abs.twimg.com/images/themes/theme14/bg.gif',\n",
       "    'profile_background_image_url_https': 'https://abs.twimg.com/images/themes/theme14/bg.gif',\n",
       "    'profile_background_tile': False,\n",
       "    'profile_link_color': '009999',\n",
       "    'profile_sidebar_border_color': 'FFFFFF',\n",
       "    'profile_sidebar_fill_color': 'EFEFEF',\n",
       "    'profile_text_color': '333333',\n",
       "    'profile_use_background_image': True,\n",
       "    'profile_image_url': 'http://pbs.twimg.com/profile_images/1236396637284700161/cq6xECoN_normal.jpg',\n",
       "    'profile_image_url_https': 'https://pbs.twimg.com/profile_images/1236396637284700161/cq6xECoN_normal.jpg',\n",
       "    'profile_banner_url': 'https://pbs.twimg.com/profile_banners/46769281/1583614905',\n",
       "    'default_profile': False,\n",
       "    'default_profile_image': False,\n",
       "    'following': None,\n",
       "    'follow_request_sent': None,\n",
       "    'notifications': None},\n",
       "   'geo': None,\n",
       "   'coordinates': None,\n",
       "   'place': None,\n",
       "   'contributors': None,\n",
       "   'is_quote_status': False,\n",
       "   'quote_count': 3376,\n",
       "   'reply_count': 1956,\n",
       "   'retweet_count': 9246,\n",
       "   'favorite_count': 33006,\n",
       "   'entities': {'hashtags': [],\n",
       "    'urls': [],\n",
       "    'user_mentions': [],\n",
       "    'symbols': []},\n",
       "   'favorited': False,\n",
       "   'retweeted': False,\n",
       "   'filter_level': 'low',\n",
       "   'lang': 'en'},\n",
       "  'quoted_status_permalink': {'url': 'https://t.co/FdZ3Hxzfwl',\n",
       "   'expanded': 'https://twitter.com/gucci1017/status/1249315454797168641',\n",
       "   'display': 'twitter.com/gucci1017/stat…'},\n",
       "  'is_quote_status': True,\n",
       "  'quote_count': 1,\n",
       "  'reply_count': 1,\n",
       "  'retweet_count': 24,\n",
       "  'favorite_count': 50,\n",
       "  'entities': {'hashtags': [], 'urls': [], 'user_mentions': [], 'symbols': []},\n",
       "  'favorited': False,\n",
       "  'retweeted': False,\n",
       "  'filter_level': 'low',\n",
       "  'lang': 'en'},\n",
       " 'quoted_status_id': 1249315454797168641,\n",
       " 'quoted_status_id_str': '1249315454797168641',\n",
       " 'quoted_status': {'created_at': 'Sun Apr 12 12:36:30 +0000 2020',\n",
       "  'id': 1249315454797168641,\n",
       "  'id_str': '1249315454797168641',\n",
       "  'text': 'I pray my haters die of corona virus 😷',\n",
       "  'source': '<a href=\"http://twitter.com/download/iphone\" rel=\"nofollow\">Twitter for iPhone</a>',\n",
       "  'truncated': False,\n",
       "  'in_reply_to_status_id': None,\n",
       "  'in_reply_to_status_id_str': None,\n",
       "  'in_reply_to_user_id': None,\n",
       "  'in_reply_to_user_id_str': None,\n",
       "  'in_reply_to_screen_name': None,\n",
       "  'user': {'id': 46769281,\n",
       "   'id_str': '46769281',\n",
       "   'name': 'Gucci Mane',\n",
       "   'screen_name': 'gucci1017',\n",
       "   'location': 'EAST ATLANTA',\n",
       "   'url': 'https://guccimane.lnk.to/Woptober2',\n",
       "   'description': 'Major Label Recording Artist, signed to Atlantic Records. | wizopbooking@gmail.com',\n",
       "   'translator_type': 'none',\n",
       "   'protected': False,\n",
       "   'verified': True,\n",
       "   'followers_count': 8483937,\n",
       "   'friends_count': 1,\n",
       "   'listed_count': 10366,\n",
       "   'favourites_count': 11016,\n",
       "   'statuses_count': 21123,\n",
       "   'created_at': 'Fri Jun 12 22:52:05 +0000 2009',\n",
       "   'utc_offset': None,\n",
       "   'time_zone': None,\n",
       "   'geo_enabled': False,\n",
       "   'lang': None,\n",
       "   'contributors_enabled': False,\n",
       "   'is_translator': False,\n",
       "   'profile_background_color': '000000',\n",
       "   'profile_background_image_url': 'http://abs.twimg.com/images/themes/theme14/bg.gif',\n",
       "   'profile_background_image_url_https': 'https://abs.twimg.com/images/themes/theme14/bg.gif',\n",
       "   'profile_background_tile': False,\n",
       "   'profile_link_color': '009999',\n",
       "   'profile_sidebar_border_color': 'FFFFFF',\n",
       "   'profile_sidebar_fill_color': 'EFEFEF',\n",
       "   'profile_text_color': '333333',\n",
       "   'profile_use_background_image': True,\n",
       "   'profile_image_url': 'http://pbs.twimg.com/profile_images/1236396637284700161/cq6xECoN_normal.jpg',\n",
       "   'profile_image_url_https': 'https://pbs.twimg.com/profile_images/1236396637284700161/cq6xECoN_normal.jpg',\n",
       "   'profile_banner_url': 'https://pbs.twimg.com/profile_banners/46769281/1583614905',\n",
       "   'default_profile': False,\n",
       "   'default_profile_image': False,\n",
       "   'following': None,\n",
       "   'follow_request_sent': None,\n",
       "   'notifications': None},\n",
       "  'geo': None,\n",
       "  'coordinates': None,\n",
       "  'place': None,\n",
       "  'contributors': None,\n",
       "  'is_quote_status': False,\n",
       "  'quote_count': 3376,\n",
       "  'reply_count': 1956,\n",
       "  'retweet_count': 9246,\n",
       "  'favorite_count': 33006,\n",
       "  'entities': {'hashtags': [], 'urls': [], 'user_mentions': [], 'symbols': []},\n",
       "  'favorited': False,\n",
       "  'retweeted': False,\n",
       "  'filter_level': 'low',\n",
       "  'lang': 'en'},\n",
       " 'quoted_status_permalink': {'url': 'https://t.co/FdZ3Hxzfwl',\n",
       "  'expanded': 'https://twitter.com/gucci1017/status/1249315454797168641',\n",
       "  'display': 'twitter.com/gucci1017/stat…'},\n",
       " 'is_quote_status': True,\n",
       " 'quote_count': 0,\n",
       " 'reply_count': 0,\n",
       " 'retweet_count': 0,\n",
       " 'favorite_count': 0,\n",
       " 'entities': {'hashtags': [],\n",
       "  'urls': [],\n",
       "  'user_mentions': [{'screen_name': 'nuffsaidny',\n",
       "    'name': 'NUFF',\n",
       "    'id': 16144221,\n",
       "    'id_str': '16144221',\n",
       "    'indices': [3, 14]}],\n",
       "  'symbols': []},\n",
       " 'favorited': False,\n",
       " 'retweeted': False,\n",
       " 'filter_level': 'low',\n",
       " 'lang': 'en',\n",
       " 'timestamp_ms': '1586716045552'}"
      ]
     },
     "execution_count": 39,
     "metadata": {},
     "output_type": "execute_result"
    }
   ],
   "source": [
    "tweet_data"
   ]
  },
  {
   "cell_type": "code",
   "execution_count": 40,
   "id": "f5b87881",
   "metadata": {},
   "outputs": [],
   "source": [
    "tweet_id = tweet_data['id']\n",
    "usr_id = tweet_data['user']['id']\n",
    "comment_id = tweet_data['in_reply_to_status_id']"
   ]
  },
  {
   "cell_type": "markdown",
   "id": "ead232a3",
   "metadata": {},
   "source": [
    "# userid_tweetid_dict"
   ]
  },
  {
   "cell_type": "code",
   "execution_count": 41,
   "id": "ef46505d",
   "metadata": {},
   "outputs": [],
   "source": [
    "def get_userid_and_tweetid(tweet_data):\n",
    "    tweet_data =  json.loads(tweet_data[0])\n",
    "    tweet_id = tweet_data['id']\n",
    "    user_id = tweet_data['user']['id']\n",
    "    return (user_id,[tweet_id])"
   ]
  },
  {
   "cell_type": "code",
   "execution_count": 42,
   "id": "6cc2f3a3",
   "metadata": {},
   "outputs": [],
   "source": [
    "a = data.rdd.map(get_userid_and_tweetid)"
   ]
  },
  {
   "cell_type": "code",
   "execution_count": 43,
   "id": "21143298",
   "metadata": {},
   "outputs": [
    {
     "data": {
      "text/plain": [
       "[(1242817830946508801, [1249403767180668930]),\n",
       " (1225145123920588805, [1249403768023678982]),\n",
       " (101007632, [1249403769193779202]),\n",
       " (1230170166614482944, [1249403769567227906]),\n",
       " (4707764075, [1249403770435493888]),\n",
       " (988174833849634816, [1249403770360016896])]"
      ]
     },
     "execution_count": 43,
     "metadata": {},
     "output_type": "execute_result"
    }
   ],
   "source": [
    "a.collect()"
   ]
  },
  {
   "cell_type": "code",
   "execution_count": 44,
   "id": "2ff2b821",
   "metadata": {},
   "outputs": [],
   "source": [
    "userid_tweetid_dict = a.reduceByKey(lambda v1,v2:v1+v2).collectAsMap()"
   ]
  },
  {
   "cell_type": "code",
   "execution_count": 45,
   "id": "294f1e71",
   "metadata": {},
   "outputs": [
    {
     "data": {
      "text/plain": [
       "{1242817830946508801: [1249403767180668930],\n",
       " 1225145123920588805: [1249403768023678982],\n",
       " 101007632: [1249403769193779202],\n",
       " 1230170166614482944: [1249403769567227906],\n",
       " 4707764075: [1249403770435493888],\n",
       " 988174833849634816: [1249403770360016896]}"
      ]
     },
     "execution_count": 45,
     "metadata": {},
     "output_type": "execute_result"
    }
   ],
   "source": [
    "userid_tweetid_dict"
   ]
  },
  {
   "cell_type": "markdown",
   "id": "bb3fb6ea",
   "metadata": {},
   "source": [
    "# tweetid_quota_id_dict"
   ]
  },
  {
   "cell_type": "code",
   "execution_count": null,
   "id": "05be5d68",
   "metadata": {},
   "outputs": [],
   "source": []
  }
 ],
 "metadata": {
  "kernelspec": {
   "display_name": "Python 3 (ipykernel)",
   "language": "python",
   "name": "python3"
  },
  "language_info": {
   "codemirror_mode": {
    "name": "ipython",
    "version": 3
   },
   "file_extension": ".py",
   "mimetype": "text/x-python",
   "name": "python",
   "nbconvert_exporter": "python",
   "pygments_lexer": "ipython3",
   "version": "3.10.10"
  }
 },
 "nbformat": 4,
 "nbformat_minor": 5
}
