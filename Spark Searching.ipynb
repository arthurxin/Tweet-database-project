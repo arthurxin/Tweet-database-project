{
 "cells": [
  {
   "cell_type": "code",
   "execution_count": 1,
   "id": "136097f9",
   "metadata": {},
   "outputs": [
    {
     "name": "stderr",
     "output_type": "stream",
     "text": [
      "Setting default log level to \"WARN\".\n",
      "To adjust logging level use sc.setLogLevel(newLevel). For SparkR, use setLogLevel(newLevel).\n"
     ]
    },
    {
     "name": "stdout",
     "output_type": "stream",
     "text": [
      "23/04/18 19:58:26 WARN NativeCodeLoader: Unable to load native-hadoop library for your platform... using builtin-java classes where applicable\n",
      "23/04/18 19:58:27 WARN Utils: Service 'SparkUI' could not bind on port 4040. Attempting port 4041.\n"
     ]
    }
   ],
   "source": [
    "from pyspark.sql import SparkSession\n",
    "spark = SparkSession.builder.getOrCreate()\n",
    "sc = spark.sparkContext"
   ]
  },
  {
   "cell_type": "code",
   "execution_count": 2,
   "id": "cbfd6160",
   "metadata": {},
   "outputs": [
    {
     "data": {
      "text/plain": [
       "'/home/hx152/Project/tweet_project/Catherine Zhou/Tweet-database-project'"
      ]
     },
     "execution_count": 2,
     "metadata": {},
     "output_type": "execute_result"
    }
   ],
   "source": [
    "pwd()"
   ]
  },
  {
   "cell_type": "code",
   "execution_count": 3,
   "id": "d43edac6",
   "metadata": {},
   "outputs": [],
   "source": [
    "data = spark.read.text(\"file:/home/hx152/Project/tweet_project/Dataset/corona-out-3\", lineSep=\"/n\")"
   ]
  },
  {
   "cell_type": "code",
   "execution_count": 4,
   "id": "ad671914",
   "metadata": {},
   "outputs": [
    {
     "name": "stderr",
     "output_type": "stream",
     "text": [
      "\r",
      "[Stage 0:>                                                          (0 + 1) / 1]\r",
      "\r",
      "                                                                                \r"
     ]
    },
    {
     "data": {
      "text/plain": [
       "[Row(value='{\"created_at\":\"Sat Apr 25 12:21:41 +0000 2020\",\"id\":1254022770679320576,\"id_str\":\"1254022770679320576\",\"text\":\"\\\\u00c9 isto, ou vou morrer sem ar ou com o corona https:\\\\/\\\\/t.co\\\\/O0Y7B3Koj4\",\"display_text_range\":[0,44],\"source\":\"\\\\u003ca href=\\\\\"http:\\\\/\\\\/twitter.com\\\\/download\\\\/android\\\\\" rel=\\\\\"nofollow\\\\\"\\\\u003eTwitter for Android\\\\u003c\\\\/a\\\\u003e\",\"truncated\":false,\"in_reply_to_status_id\":null,\"in_reply_to_status_id_str\":null,\"in_reply_to_user_id\":null,\"in_reply_to_user_id_str\":null,\"in_reply_to_screen_name\":null,\"user\":{\"id\":804046791348015107,\"id_str\":\"804046791348015107\",\"name\":\"Bi Sex Uau\",\"screen_name\":\"B_King69\",\"location\":\"Acre, Brasil\",\"url\":\"https:\\\\/\\\\/www.instagram.com\\\\/?hl=pt-br\",\"description\":\"se for da minha fam\\\\u00edlia j\\\\u00e1 pode voltar daq mesmo\",\"translator_type\":\"none\",\"protected\":false,\"verified\":false,\"followers_count\":89,\"friends_count\":173,\"listed_count\":0,\"favourites_count\":5446,\"statuses_count\":4728,\"created_at\":\"Wed Nov 30 19:37:48 +0000 2016\",\"utc_offset\":null,\"time_zone\":null,\"geo_enabled\":false,\"lang\":null,\"contributors_enabled\":false,\"is_translator\":false,\"profile_background_color\":\"F5F8FA\",\"profile_background_image_url\":\"\",\"profile_background_image_url_https\":\"\",\"profile_background_tile\":false,\"profile_link_color\":\"1DA1F2\",\"profile_sidebar_border_color\":\"C0DEED\",\"profile_sidebar_fill_color\":\"DDEEF6\",\"profile_text_color\":\"333333\",\"profile_use_background_image\":true,\"profile_image_url\":\"http:\\\\/\\\\/pbs.twimg.com\\\\/profile_images\\\\/1210794971231477761\\\\/hLtokcV-_normal.jpg\",\"profile_image_url_https\":\"https:\\\\/\\\\/pbs.twimg.com\\\\/profile_images\\\\/1210794971231477761\\\\/hLtokcV-_normal.jpg\",\"profile_banner_url\":\"https:\\\\/\\\\/pbs.twimg.com\\\\/profile_banners\\\\/804046791348015107\\\\/1577511053\",\"default_profile\":true,\"default_profile_image\":false,\"following\":null,\"follow_request_sent\":null,\"notifications\":null},\"geo\":null,\"coordinates\":null,\"place\":null,\"contributors\":null,\"is_quote_status\":false,\"quote_count\":0,\"reply_count\":0,\"retweet_count\":0,\"favorite_count\":0,\"entities\":{\"hashtags\":[],\"urls\":[],\"user_mentions\":[],\"symbols\":[],\"media\":[{\"id\":1254022759824461824,\"id_str\":\"1254022759824461824\",\"indices\":[45,68],\"media_url\":\"http:\\\\/\\\\/pbs.twimg.com\\\\/media\\\\/EWcvDlOXkAAznwM.jpg\",\"media_url_https\":\"https:\\\\/\\\\/pbs.twimg.com\\\\/media\\\\/EWcvDlOXkAAznwM.jpg\",\"url\":\"https:\\\\/\\\\/t.co\\\\/O0Y7B3Koj4\",\"display_url\":\"pic.twitter.com\\\\/O0Y7B3Koj4\",\"expanded_url\":\"https:\\\\/\\\\/twitter.com\\\\/B_King69\\\\/status\\\\/1254022770679320576\\\\/photo\\\\/1\",\"type\":\"photo\",\"sizes\":{\"thumb\":{\"w\":150,\"h\":150,\"resize\":\"crop\"},\"small\":{\"w\":345,\"h\":680,\"resize\":\"fit\"},\"medium\":{\"w\":608,\"h\":1200,\"resize\":\"fit\"},\"large\":{\"w\":1038,\"h\":2048,\"resize\":\"fit\"}}}]},\"extended_entities\":{\"media\":[{\"id\":1254022759824461824,\"id_str\":\"1254022759824461824\",\"indices\":[45,68],\"media_url\":\"http:\\\\/\\\\/pbs.twimg.com\\\\/media\\\\/EWcvDlOXkAAznwM.jpg\",\"media_url_https\":\"https:\\\\/\\\\/pbs.twimg.com\\\\/media\\\\/EWcvDlOXkAAznwM.jpg\",\"url\":\"https:\\\\/\\\\/t.co\\\\/O0Y7B3Koj4\",\"display_url\":\"pic.twitter.com\\\\/O0Y7B3Koj4\",\"expanded_url\":\"https:\\\\/\\\\/twitter.com\\\\/B_King69\\\\/status\\\\/1254022770679320576\\\\/photo\\\\/1\",\"type\":\"photo\",\"sizes\":{\"thumb\":{\"w\":150,\"h\":150,\"resize\":\"crop\"},\"small\":{\"w\":345,\"h\":680,\"resize\":\"fit\"},\"medium\":{\"w\":608,\"h\":1200,\"resize\":\"fit\"},\"large\":{\"w\":1038,\"h\":2048,\"resize\":\"fit\"}}}]},\"favorited\":false,\"retweeted\":false,\"possibly_sensitive\":false,\"filter_level\":\"low\",\"lang\":\"pt\",\"timestamp_ms\":\"1587817301803\"}\\r\\n\\n{\"created_at\":\"Sat Apr 25 12:21:41 +0000 2020\",\"id\":1254022770746372096,\"id_str\":\"1254022770746372096\",\"text\":\"Sch\\\\u00f6ne Runde mit dem Rennrad \\\\u270c\\\\ufe0f\\\\n#sport #corona https:\\\\/\\\\/t.co\\\\/Uglj9YJPI1\",\"display_text_range\":[0,46],\"source\":\"\\\\u003ca href=\\\\\"http:\\\\/\\\\/twitter.com\\\\/download\\\\/iphone\\\\\" rel=\\\\\"nofollow\\\\\"\\\\u003eTwitter for iPhone\\\\u003c\\\\/a\\\\u003e\",\"truncated\":false,\"in_reply_to_status_id\":null,\"in_reply_to_status_id_str\":null,\"in_reply_to_user_id\":null,\"in_reply_to_user_id_str\":null,\"in_reply_to_screen_name\":null,\"user\":{\"id\":2242948745,\"id_str\":\"2242948745\",\"name\":\"Thomas Krause\",\"screen_name\":\"tho1965\",\"location\":null,\"url\":null,\"description\":\"Sportredakteur @nordkurier \\\\ud83c\\\\udfc3\\\\u200d\\\\u2642\\\\ufe0f\\\\ud83d\\\\udeb4\\\\u200d\\\\u2642\\\\ufe0f\\\\u26bd\\\\ufe0f\",\"translator_type\":\"none\",\"protected\":false,\"verified\":false,\"followers_count\":173,\"friends_count\":685,\"listed_count\":9,\"favourites_count\":2184,\"statuses_count\":1865,\"created_at\":\"Wed Dec 25 09:13:33 +0000 2013\",\"utc_offset\":null,\"time_zone\":null,\"geo_enabled\":true,\"lang\":null,\"contributors_enabled\":false,\"is_translator\":false,\"profile_background_color\":\"000000\",\"profile_background_image_url\":\"http:\\\\/\\\\/abs.twimg.com\\\\/images\\\\/themes\\\\/theme1\\\\/bg.png\",\"profile_background_image_url_https\":\"https:\\\\/\\\\/abs.twimg.com\\\\/images\\\\/themes\\\\/theme1\\\\/bg.png\",\"profile_background_tile\":false,\"profile_link_color\":\"91D2FA\",\"profile_sidebar_border_color\":\"000000\",\"profile_sidebar_fill_color\":\"000000\",\"profile_text_color\":\"000000\",\"profile_use_background_image\":false,\"profile_image_url\":\"http:\\\\/\\\\/pbs.twimg.com\\\\/profile_images\\\\/1235271878132060161\\\\/v6QDnXLL_normal.jpg\",\"profile_image_url_https\":\"https:\\\\/\\\\/pbs.twimg.com\\\\/profile_images\\\\/1235271878132060161\\\\/v6QDnXLL_normal.jpg\",\"profile_banner_url\":\"https:\\\\/\\\\/pbs.twimg.com\\\\/profile_banners\\\\/2242948745\\\\/1587058715\",\"default_profile\":false,\"default_profile_image\":false,\"following\":null,\"follow_request_sent\":null,\"notifications\":null},\"geo\":null,\"coordinates\":null,\"place\":{\"id\":\"6c741a421f6c33ff\",\"url\":\"https:\\\\/\\\\/api.twitter.com\\\\/1.1\\\\/geo\\\\/id\\\\/6c741a421f6c33ff.json\",\"place_type\":\"city\",\"name\":\"Altentreptow\",\"full_name\":\"Altentreptow, Deutschland\",\"country_code\":\"DE\",\"country\":\"Deutschland\",\"bounding_box\":{\"type\":\"Polygon\",\"coordinates\":[[[13.171441,53.650793],[13.171441,53.747550],[13.312498,53.747550],[13.312498,53.650793]]]},\"attributes\":{}},\"contributors\":null,\"is_quote_status\":false,\"quote_count\":0,\"reply_count\":0,\"retweet_count\":0,\"favorite_count\":0,\"entities\":{\"hashtags\":[{\"text\":\"sport\",\"indices\":[32,38]},{\"text\":\"corona\",\"indices\":[39,46]}],\"urls\":[],\"user_mentions\":[],\"symbols\":[],\"media\":[{\"id\":1254022763834155008,\"id_str\":\"1254022763834155008\",\"indices\":[47,70],\"media_url\":\"http:\\\\/\\\\/pbs.twimg.com\\\\/media\\\\/EWcvD0KWoAAIMuu.jpg\",\"media_url_https\":\"https:\\\\/\\\\/pbs.twimg.com\\\\/media\\\\/EWcvD0KWoAAIMuu.jpg\",\"url\":\"https:\\\\/\\\\/t.co\\\\/Uglj9YJPI1\",\"display_url\":\"pic.twitter.com\\\\/Uglj9YJPI1\",\"expanded_url\":\"https:\\\\/\\\\/twitter.com\\\\/tho1965\\\\/status\\\\/1254022770746372096\\\\/photo\\\\/1\",\"type\":\"photo\",\"sizes\":{\"thumb\":{\"w\":150,\"h\":150,\"resize\":\"crop\"},\"small\":{\"w\":680,\"h\":680,\"resize\":\"fit\"},\"medium\":{\"w\":1200,\"h\":1200,\"resize\":\"fit\"},\"large\":{\"w\":2048,\"h\":2048,\"resize\":\"fit\"}}}]},\"extended_entities\":{\"media\":[{\"id\":1254022763834155008,\"id_str\":\"1254022763834155008\",\"indices\":[47,70],\"media_url\":\"http:\\\\/\\\\/pbs.twimg.com\\\\/media\\\\/EWcvD0KWoAAIMuu.jpg\",\"media_url_https\":\"https:\\\\/\\\\/pbs.twimg.com\\\\/media\\\\/EWcvD0KWoAAIMuu.jpg\",\"url\":\"https:\\\\/\\\\/t.co\\\\/Uglj9YJPI1\",\"display_url\":\"pic.twitter.com\\\\/Uglj9YJPI1\",\"expanded_url\":\"https:\\\\/\\\\/twitter.com\\\\/tho1965\\\\/status\\\\/1254022770746372096\\\\/photo\\\\/1\",\"type\":\"photo\",\"sizes\":{\"thumb\":{\"w\":150,\"h\":150,\"resize\":\"crop\"},\"small\":{\"w\":680,\"h\":680,\"resize\":\"fit\"},\"medium\":{\"w\":1200,\"h\":1200,\"resize\":\"fit\"},\"large\":{\"w\":2048,\"h\":2048,\"resize\":\"fit\"}}}]},\"favorited\":false,\"retweeted\":false,\"possibly_sensitive\":false,\"filter_level\":\"low\",\"lang\":\"de\",\"timestamp_ms\":\"1587817301819\"}\\r\\n\\n{\"created_at\":\"Sat Apr 25 12:21:42 +0000 2020\",\"id\":1254022772558368768,\"id_str\":\"1254022772558368768\",\"text\":\"RT @BJP4India: India\\\\u2019s war with Corona is ongoing.\\\\n\\\\nPlay your part and make sure no one around you starves.\\\\n\\\\nYour contribution to defeat hu\\\\u2026\",\"source\":\"\\\\u003ca href=\\\\\"http:\\\\/\\\\/twitter.com\\\\/download\\\\/android\\\\\" rel=\\\\\"nofollow\\\\\"\\\\u003eTwitter for Android\\\\u003c\\\\/a\\\\u003e\",\"truncated\":false,\"in_reply_to_status_id\":null,\"in_reply_to_status_id_str\":null,\"in_reply_to_user_id\":null,\"in_reply_to_user_id_str\":null,\"in_reply_to_screen_name\":null,\"user\":{\"id\":908326492718764034,\"id_str\":\"908326492718764034\",\"name\":\"\\\\u0936\\\\u091a\\\\u0940\\\\u0928\\\\u094d\\\\u0926\\\\u094d\\\\u0930 \\\\u092a\\\\u093e\\\\u0923\\\\u094d\\\\u0921\\\\u0947\\\\u092f\",\"screen_name\":\"im_S_pandey\",\"location\":\"Amethi Uttar Pradesh\",\"url\":null,\"description\":\"Official Twitter Handel Shachindra Pandey (@im_s_pandey) BJP IT Department Amethi District\\\\n Fallow by Narendra Modi \\\\n (@narendramodi) ji\",\"translator_type\":\"none\",\"protected\":false,\"verified\":false,\"followers_count\":2362,\"friends_count\":202,\"listed_count\":3,\"favourites_count\":30668,\"statuses_count\":48906,\"created_at\":\"Thu Sep 14 13:48:06 +0000 2017\",\"utc_offset\":null,\"time_zone\":null,\"geo_enabled\":true,\"lang\":null,\"contributors_enabled\":false,\"is_translator\":false,\"profile_background_color\":\"F5F8FA\",\"profile_background_image_url\":\"\",\"profile_background_image_url_https\":\"\",\"profile_background_tile\":false,\"profile_link_color\":\"1DA1F2\",\"profile_sidebar_border_color\":\"C0DEED\",\"profile_sidebar_fill_color\":\"DDEEF6\",\"profile_text_color\":\"333333\",\"profile_use_background_image\":true,\"profile_image_url\":\"http:\\\\/\\\\/pbs.twimg.com\\\\/profile_images\\\\/1252819913820925952\\\\/PdvkxSTA_normal.jpg\",\"profile_image_url_https\":\"https:\\\\/\\\\/pbs.twimg.com\\\\/profile_images\\\\/1252819913820925952\\\\/PdvkxSTA_normal.jpg\",\"profile_banner_url\":\"https:\\\\/\\\\/pbs.twimg.com\\\\/profile_banners\\\\/908326492718764034\\\\/1579091829\",\"default_profile\":true,\"default_profile_image\":false,\"following\":null,\"follow_request_sent\":null,\"notifications\":null},\"geo\":null,\"coordinates\":null,\"place\":null,\"contributors\":null,\"retweeted_status\":{\"created_at\":\"Sat Apr 25 07:30:12 +0000 2020\",\"id\":1253949413191344128,\"id_str\":\"1253949413191344128\",\"text\":\"India\\\\u2019s war with Corona is ongoing.\\\\n\\\\nPlay your part and make sure no one around you starves.\\\\n\\\\nYour contribution to\\\\u2026 https:\\\\/\\\\/t.co\\\\/lKhbsMFpIA\",\"display_text_range\":[0,140],\"source\":\"\\\\u003ca href=\\\\\"https:\\\\/\\\\/mobile.twitter.com\\\\\" rel=\\\\\"nofollow\\\\\"\\\\u003eTwitter Web App\\\\u003c\\\\/a\\\\u003e\",\"truncated\":true,\"in_reply_to_status_id\":null,\"in_reply_to_status_id_str\":null,\"in_reply_to_user_id\":null,\"in_reply_to_user_id_str\":null,\"in_reply_to_screen_name\":null,\"user\":{\"id\":207809313,\"id_str\":\"207809313\",\"name\":\"BJP\",\"screen_name\":\"BJP4India\",\"location\":\"6-A, Deen Dayal Upadhyay Marg,\",\"url\":\"http:\\\\/\\\\/www.bjp.org\",\"description\":\"Official Twitter account of the Bharatiya Janata Party (BJP), world\\'s largest political party. \\\\u092d\\\\u093e\\\\u0930\\\\u0924\\\\u0940\\\\u092f \\\\u091c\\\\u0928\\\\u0924\\\\u093e \\\\u092a\\\\u093e\\\\u0930\\\\u094d\\\\u091f\\\\u0940 (\\\\u092d\\\\u093e\\\\u091c\\\\u092a\\\\u093e)\\\\n\\\\nhttp:\\\\/\\\\/instagram.com\\\\/bjp4india\",\"translator_type\":\"none\",\"protected\":false,\"verified\":true,\"followers_count\":13481667,\"friends_count\":3,\"listed_count\":3018,\"favourites_count\":0,\"statuses_count\":200315,\"created_at\":\"Tue Oct 26 02:19:07 +0000 2010\",\"utc_offset\":null,\"time_zone\":null,\"geo_enabled\":true,\"lang\":null,\"contributors_enabled\":false,\"is_translator\":false,\"profile_background_color\":\"C0DEED\",\"profile_background_image_url\":\"http:\\\\/\\\\/abs.twimg.com\\\\/images\\\\/themes\\\\/theme1\\\\/bg.png\",\"profile_background_image_url_https\":\"https:\\\\/\\\\/abs.twimg.com\\\\/images\\\\/themes\\\\/theme1\\\\/bg.png\",\"profile_background_tile\":false,\"profile_link_color\":\"0084B4\",\"profile_sidebar_border_color\":\"FFFFFF\",\"profile_sidebar_fill_color\":\"DDEEF6\",\"profile_text_color\":\"333333\",\"profile_use_background_image\":false,\"profile_image_url\":\"http:\\\\/\\\\/pbs.twimg.com\\\\/profile_images\\\\/812531108092874753\\\\/frVON4bm_normal.jpg\",\"profile_image_url_https\":\"https:\\\\/\\\\/pbs.twimg.com\\\\/profile_images\\\\/812531108092874753\\\\/frVON4bm_normal.jpg\",\"profile_banner_url\":\"https:\\\\/\\\\/pbs.twimg.com\\\\/profile_banners\\\\/207809313\\\\/1583155635\",\"default_profile\":false,\"default_profile_image\":false,\"following\":null,\"follow_request_sent\":null,\"notifications\":null},\"geo\":null,\"coordinates\":null,\"place\":null,\"contributors\":null,\"is_quote_status\":false,\"extended_tweet\":{\"full_text\":\"India\\\\u2019s war with Corona is ongoing.\\\\n\\\\nPlay your part and make sure no one around you starves.\\\\n\\\\nYour contribution to defeat hunger is as valuable as defeating Corona.\\\\n\\\\n#FeedTheNeedy https:\\\\/\\\\/t.co\\\\/TUWf2nqPgZ\",\"display_text_range\":[0,179],\"entities\":{\"hashtags\":[{\"text\":\"FeedTheNeedy\",\"indices\":[166,179]}],\"urls\":[],\"user_mentions\":[],\"symbols\":[],\"media\":[{\"id\":1253949383403425793,\"id_str\":\"1253949383403425793\",\"indices\":[180,203],\"media_url\":\"http:\\\\/\\\\/pbs.twimg.com\\\\/media\\\\/EWbsUgwU0AEQ3G0.jpg\",\"media_url_https\":\"https:\\\\/\\\\/pbs.twimg.com\\\\/media\\\\/EWbsUgwU0AEQ3G0.jpg\",\"url\":\"https:\\\\/\\\\/t.co\\\\/TUWf2nqPgZ\",\"display_url\":\"pic.twitter.com\\\\/TUWf2nqPgZ\",\"expanded_url\":\"https:\\\\/\\\\/twitter.com\\\\/BJP4India\\\\/status\\\\/1253949413191344128\\\\/photo\\\\/1\",\"type\":\"photo\",\"sizes\":{\"thumb\":{\"w\":150,\"h\":150,\"resize\":\"crop\"},\"small\":{\"w\":680,\"h\":680,\"resize\":\"fit\"},\"large\":{\"w\":1200,\"h\":1200,\"resize\":\"fit\"},\"medium\":{\"w\":1200,\"h\":1200,\"resize\":\"fit\"}}}]},\"extended_entities\":{\"media\":[{\"id\":1253949383403425793,\"id_str\":\"1253949383403425793\",\"indices\":[180,203],\"media_url\":\"http:\\\\/\\\\/pbs.twimg.com\\\\/media\\\\/EWbsUgwU0AEQ3G0.jpg\",\"media_url_https\":\"https:\\\\/\\\\/pbs.twimg.com\\\\/media\\\\/EWbsUgwU0AEQ3G0.jpg\",\"url\":\"https:\\\\/\\\\/t.co\\\\/TUWf2nqPgZ\",\"display_url\":\"pic.twitter.com\\\\/TUWf2nqPgZ\",\"expanded_url\":\"https:\\\\/\\\\/twitter.com\\\\/BJP4India\\\\/status\\\\/1253949413191344128\\\\/photo\\\\/1\",\"type\":\"photo\",\"sizes\":{\"thumb\":{\"w\":150,\"h\":150,\"resize\":\"crop\"},\"small\":{\"w\":680,\"h\":680,\"resize\":\"fit\"},\"large\":{\"w\":1200,\"h\":1200,\"resize\":\"fit\"},\"medium\":{\"w\":1200,\"h\":1200,\"resize\":\"fit\"}}}]}},\"quote_count\":16,\"reply_count\":101,\"retweet_count\":340,\"favorite_count\":1870,\"entities\":{\"hashtags\":[],\"urls\":[{\"url\":\"https:\\\\/\\\\/t.co\\\\/lKhbsMFpIA\",\"expanded_url\":\"https:\\\\/\\\\/twitter.com\\\\/i\\\\/web\\\\/status\\\\/1253949413191344128\",\"display_url\":\"twitter.com\\\\/i\\\\/web\\\\/status\\\\/1\\\\u2026\",\"indices\":[116,139]}],\"user_mentions\":[],\"symbols\":[]},\"favorited\":false,\"retweeted\":false,\"possibly_sensitive\":false,\"filter_level\":\"low\",\"lang\":\"en\"},\"is_quote_status\":false,\"quote_count\":0,\"reply_count\":0,\"retweet_count\":0,\"favorite_count\":0,\"entities\":{\"hashtags\":[],\"urls\":[],\"user_mentions\":[{\"screen_name\":\"BJP4India\",\"name\":\"BJP\",\"id\":207809313,\"id_str\":\"207809313\",\"indices\":[3,13]}],\"symbols\":[]},\"favorited\":false,\"retweeted\":false,\"filter_level\":\"low\",\"lang\":\"en\",\"timestamp_ms\":\"1587817302251\"}\\r\\n\\n{\"created_at\":\"Sat Apr 25 12:21:42 +0000 2020\",\"id\":1254022772575043586,\"id_str\":\"1254022772575043586\",\"text\":\"Was sollen 150 Euro Computerzuschuss bringen? Wer wartet die Computer in den 427 NRW Kommunen (Schultr\\\\u00e4ger) wer die\\\\u2026 https:\\\\/\\\\/t.co\\\\/wRAGYwMovO\",\"source\":\"\\\\u003ca href=\\\\\"https:\\\\/\\\\/mobile.twitter.com\\\\\" rel=\\\\\"nofollow\\\\\"\\\\u003eTwitter Web App\\\\u003c\\\\/a\\\\u003e\",\"truncated\":true,\"in_reply_to_status_id\":null,\"in_reply_to_status_id_str\":null,\"in_reply_to_user_id\":null,\"in_reply_to_user_id_str\":null,\"in_reply_to_screen_name\":null,\"user\":{\"id\":2929344220,\"id_str\":\"2929344220\",\"name\":\"Ralf Schmitz\",\"screen_name\":\"RusticusArat\",\"location\":\"\\\\ud83c\\\\udde94790 Provinz \",\"url\":null,\"description\":\"BWLer,ex Offz,Tw meistens zwischen T\\\\u00fcr & Angel. \\\\nGender* sind eine Zumutung\\\\n\\\\nRT \\\\u2260 endorsement\",\"translator_type\":\"none\",\"protected\":false,\"verified\":false,\"followers_count\":778,\"friends_count\":733,\"listed_count\":2,\"favourites_count\":32024,\"statuses_count\":30551,\"created_at\":\"Thu Dec 18 10:19:26 +0000 2014\",\"utc_offset\":null,\"time_zone\":null,\"geo_enabled\":false,\"lang\":null,\"contributors_enabled\":false,\"is_translator\":false,\"profile_background_color\":\"C0DEED\",\"profile_background_image_url\":\"http:\\\\/\\\\/abs.twimg.com\\\\/images\\\\/themes\\\\/theme1\\\\/bg.png\",\"profile_background_image_url_https\":\"https:\\\\/\\\\/abs.twimg.com\\\\/images\\\\/themes\\\\/theme1\\\\/bg.png\",\"profile_background_tile\":false,\"profile_link_color\":\"1DA1F2\",\"profile_sidebar_border_color\":\"C0DEED\",\"profile_sidebar_fill_color\":\"DDEEF6\",\"profile_text_color\":\"333333\",\"profile_use_background_image\":true,\"profile_image_url\":\"http:\\\\/\\\\/pbs.twimg.com\\\\/profile_images\\\\/1103690114629287936\\\\/vHdM_TRU_normal.jpg\",\"profile_image_url_https\":\"https:\\\\/\\\\/pbs.twimg.com\\\\/profile_images\\\\/1103690114629287936\\\\/vHdM_TRU_normal.jpg\",\"profile_banner_url\":\"https:\\\\/\\\\/pbs.twimg.com\\\\/profile_banners\\\\/2929344220\\\\/1549819134\",\"default_profile\":true,\"default_profile_image\":false,\"following\":null,\"follow_request_sent\":null,\"notifications\":null},\"geo\":null,\"coordinates\":null,\"place\":null,\"contributors\":null,\"quoted_status_id\":1254016434658848769,\"quoted_status_id_str\":\"1254016434658848769\",\"quoted_status\":{\"created_at\":\"Sat Apr 25 11:56:31 +0000 2020\",\"id\":1254016434658848769,\"id_str\":\"1254016434658848769\",\"text\":\"Holt f\\\\u00fcr Kinder die Bazooka raus!  https:\\\\/\\\\/t.co\\\\/ag8HMEq6Vz\",\"source\":\"\\\\u003ca href=\\\\\"http:\\\\/\\\\/twitter.com\\\\/download\\\\/iphone\\\\\" rel=\\\\\"nofollow\\\\\"\\\\u003eTwitter for iPhone\\\\u003c\\\\/a\\\\u003e\",\"truncated\":false,\"in_reply_to_status_id\":null,\"in_reply_to_status_id_str\":null,\"in_reply_to_user_id\":null,\"in_reply_to_user_id_str\":null,\"in_reply_to_screen_name\":null,\"user\":{\"id\":928501014,\"id_str\":\"928501014\",\"name\":\"Marion Horn\",\"screen_name\":\"marionhorn\",\"location\":\"Berlin\",\"url\":null,\"description\":\"Fast 20 Jahre Axel Springer. Jetzt erstmal Atmen und Sport\",\"translator_type\":\"none\",\"protected\":false,\"verified\":true,\"followers_count\":23643,\"friends_count\":539,\"listed_count\":280,\"favourites_count\":2668,\"statuses_count\":7198,\"created_at\":\"Mon Nov 05 22:14:59 +0000 2012\",\"utc_offset\":null,\"time_zone\":null,\"geo_enabled\":true,\"lang\":null,\"contributors_enabled\":false,\"is_translator\":false,\"profile_background_color\":\"C0DEED\",\"profile_background_image_url\":\"http:\\\\/\\\\/abs.twimg.com\\\\/images\\\\/themes\\\\/theme1\\\\/bg.png\",\"profile_background_image_url_https\":\"https:\\\\/\\\\/abs.twimg.com\\\\/images\\\\/themes\\\\/theme1\\\\/bg.png\",\"profile_background_tile\":false,\"profile_link_color\":\"1DA1F2\",\"profile_sidebar_border_color\":\"C0DEED\",\"profile_sidebar_fill_color\":\"DDEEF6\",\"profile_text_color\":\"333333\",\"profile_use_background_image\":true,\"profile_image_url\":\"http:\\\\/\\\\/pbs.twimg.com\\\\/profile_images\\\\/1203061504804868096\\\\/deGcZtmA_normal.jpg\",\"profile_image_url_https\":\"https:\\\\/\\\\/pbs.twimg.com\\\\/profile_images\\\\/1203061504804868096\\\\/deGcZtmA_normal.jpg\",\"profile_banner_url\":\"https:\\\\/\\\\/pbs.twimg.com\\\\/profile_banners\\\\/928501014\\\\/1381080252\",\"default_profile\":true,\"default_profile_image\":false,\"following\":null,\"follow_request_sent\":null,\"notifications\":null},\"geo\":null,\"coordinates\":null,\"place\":null,\"contributors\":null,\"is_quote_status\":false,\"quote_count\":0,\"reply_count\":1,\"retweet_count\":0,\"favorite_count\":3,\"entities\":{\"hashtags\":[],\"urls\":[{\"url\":\"https:\\\\/\\\\/t.co\\\\/ag8HMEq6Vz\",\"expanded_url\":\"https:\\\\/\\\\/www.tagesspiegel.de\\\\/politik\\\\/kinder-verlieren-in-der-corona-krise-am-meisten-packt-fuer-die-kleinen-die-bazooka-aus\\\\/25772722.html\",\"display_url\":\"tagesspiegel.de\\\\/politik\\\\/kinder\\\\u2026\",\"indices\":[35,58]}],\"user_mentions\":[],\"symbols\":[]},\"favorited\":false,\"retweeted\":false,\"possibly_sensitive\":false,\"filter_level\":\"low\",\"lang\":\"de\"},\"quoted_status_permalink\":{\"url\":\"https:\\\\/\\\\/t.co\\\\/xn4jgGqfoY\",\"expanded\":\"https:\\\\/\\\\/twitter.com\\\\/marionhorn\\\\/status\\\\/1254016434658848769\",\"display\":\"twitter.com\\\\/marionhorn\\\\/sta\\\\u2026\"},\"is_quote_status\":true,\"extended_tweet\":{\"full_text\":\"Was sollen 150 Euro Computerzuschuss bringen? Wer wartet die Computer in den 427 NRW Kommunen (Schultr\\\\u00e4ger) wer die Server vor Ort. Lernen lebt von Face to Face . Sonst k\\\\u00f6nnten wir die Kinder betreut ( keine teure Lehrkraft) vor 1 Computer setzen &amp;zentral aus D\\\\u00fcsseldorf beschulen\",\"display_text_range\":[0,284],\"entities\":{\"hashtags\":[],\"urls\":[],\"user_mentions\":[],\"symbols\":[]}},\"quote_count\":0,\"reply_count\":0,\"retweet_count\":0,\"favorite_count\":0,\"entities\":{\"hashtags\":[],\"urls\":[{\"url\":\"https:\\\\/\\\\/t.co\\\\/wRAGYwMovO\",\"expanded_url\":\"https:\\\\/\\\\/twitter.com\\\\/i\\\\/web\\\\/status\\\\/1254022772575043586\",\"display_url\":\"twitter.com\\\\/i\\\\/web\\\\/status\\\\/1\\\\u2026\",\"indices\":[117,140]}],\"user_mentions\":[],\"symbols\":[]},\"favorited\":false,\"retweeted\":false,\"filter_level\":\"low\",\"lang\":\"de\",\"timestamp_ms\":\"1587817302255\"}\\r\\n\\n{\"created_at\":\"Sat Apr 25 12:21:42 +0000 2020\",\"id\":1254022772877131777,\"id_str\":\"1254022772877131777\",\"text\":\"RT @schrodingerk42: @ozkan_yalim @DurmusYillmaz \\\\nA\\\\u00e7\\\\u0131k kapal\\\\u0131 g\\\\u00f6r\\\\u00fc\\\\u015fler yasak oldu\\\\u011fu i\\\\u00e7in sadece telefon g\\\\u00f6r\\\\u00fc\\\\u015flerinde kendisinden haber alabi\\\\u2026\",\"source\":\"\\\\u003ca href=\\\\\"http:\\\\/\\\\/twitter.com\\\\/download\\\\/android\\\\\" rel=\\\\\"nofollow\\\\\"\\\\u003eTwitter for Android\\\\u003c\\\\/a\\\\u003e\",\"truncated\":false,\"in_reply_to_status_id\":null,\"in_reply_to_status_id_str\":null,\"in_reply_to_user_id\":null,\"in_reply_to_user_id_str\":null,\"in_reply_to_screen_name\":null,\"user\":{\"id\":1206650133976408064,\"id_str\":\"1206650133976408064\",\"name\":\"B\\\\u00fc\\\\u015fra \\\\u00d6zta\\\\u015f\",\"screen_name\":\"schrodingerk42\",\"location\":null,\"url\":null,\"description\":null,\"translator_type\":\"none\",\"protected\":false,\"verified\":false,\"followers_count\":318,\"friends_count\":220,\"listed_count\":0,\"favourites_count\":1974,\"statuses_count\":405,\"created_at\":\"Mon Dec 16 18:59:53 +0000 2019\",\"utc_offset\":null,\"time_zone\":null,\"geo_enabled\":false,\"lang\":null,\"contributors_enabled\":false,\"is_translator\":false,\"profile_background_color\":\"F5F8FA\",\"profile_background_image_url\":\"\",\"profile_background_image_url_https\":\"\",\"profile_background_tile\":false,\"profile_link_color\":\"1DA1F2\",\"profile_sidebar_border_color\":\"C0DEED\",\"profile_sidebar_fill_color\":\"DDEEF6\",\"profile_text_color\":\"333333\",\"profile_use_background_image\":true,\"profile_image_url\":\"http:\\\\/\\\\/pbs.twimg.com\\\\/profile_images\\\\/1252587987864616962\\\\/YHmt6u8v_normal.jpg\",\"profile_image_url_https\":\"https:\\\\/\\\\/pbs.twimg.com\\\\/profile_images\\\\/1252587987864616962\\\\/YHmt6u8v_normal.jpg\",\"profile_banner_url\":\"https:\\\\/\\\\/pbs.twimg.com\\\\/profile_banners\\\\/1206650133976408064\\\\/1580601960\",\"default_profile\":true,\"default_profile_image\":false,\"following\":null,\"follow_request_sent\":null,\"notifications\":null},\"geo\":null,\"coordinates\":null,\"place\":null,\"contributors\":null,\"retweeted_status\":{\"created_at\":\"Tue Apr 21 12:34:00 +0000 2020\",\"id\":1252576316135739392,\"id_str\":\"1252576316135739392\",\"text\":\"@ozkan_yalim @DurmusYillmaz \\\\nA\\\\u00e7\\\\u0131k kapal\\\\u0131 g\\\\u00f6r\\\\u00fc\\\\u015fler yasak oldu\\\\u011fu i\\\\u00e7in sadece telefon g\\\\u00f6r\\\\u00fc\\\\u015flerinde kendisinden haber a\\\\u2026 https:\\\\/\\\\/t.co\\\\/vAhzxTppCA\",\"source\":\"\\\\u003ca href=\\\\\"http:\\\\/\\\\/twitter.com\\\\/download\\\\/android\\\\\" rel=\\\\\"nofollow\\\\\"\\\\u003eTwitter for Android\\\\u003c\\\\/a\\\\u003e\",\"truncated\":true,\"in_reply_to_status_id\":1252575751259422721,\"in_reply_to_status_id_str\":\"1252575751259422721\",\"in_reply_to_user_id\":1206650133976408064,\"in_reply_to_user_id_str\":\"1206650133976408064\",\"in_reply_to_screen_name\":\"schrodingerk42\",\"user\":{\"id\":1206650133976408064,\"id_str\":\"1206650133976408064\",\"name\":\"B\\\\u00fc\\\\u015fra \\\\u00d6zta\\\\u015f\",\"screen_name\":\"schrodingerk42\",\"location\":null,\"url\":null,\"description\":null,\"translator_type\":\"none\",\"protected\":false,\"verified\":false,\"followers_count\":318,\"friends_count\":220,\"listed_count\":0,\"favourites_count\":1974,\"statuses_count\":404,\"created_at\":\"Mon Dec 16 18:59:53 +0000 2019\",\"utc_offset\":null,\"time_zone\":null,\"geo_enabled\":false,\"lang\":null,\"contributors_enabled\":false,\"is_translator\":false,\"profile_background_color\":\"F5F8FA\",\"profile_background_image_url\":\"\",\"profile_background_image_url_https\":\"\",\"profile_background_tile\":false,\"profile_link_color\":\"1DA1F2\",\"profile_sidebar_border_color\":\"C0DEED\",\"profile_sidebar_fill_color\":\"DDEEF6\",\"profile_text_color\":\"333333\",\"profile_use_background_image\":true,\"profile_image_url\":\"http:\\\\/\\\\/pbs.twimg.com\\\\/profile_images\\\\/1252587987864616962\\\\/YHmt6u8v_normal.jpg\",\"profile_image_url_https\":\"https:\\\\/\\\\/pbs.twimg.com\\\\/profile_images\\\\/1252587987864616962\\\\/YHmt6u8v_normal.jpg\",\"profile_banner_url\":\"https:\\\\/\\\\/pbs.twimg.com\\\\/profile_banners\\\\/1206650133976408064\\\\/1580601960\",\"default_profile\":true,\"default_profile_image\":false,\"following\":null,\"follow_request_sent\":null,\"notifications\":null},\"geo\":null,\"coordinates\":null,\"place\":null,\"contributors\":null,\"is_quote_status\":false,\"extended_tweet\":{\"full_text\":\"@ozkan_yalim @DurmusYillmaz \\\\nA\\\\u00e7\\\\u0131k kapal\\\\u0131 g\\\\u00f6r\\\\u00fc\\\\u015fler yasak oldu\\\\u011fu i\\\\u00e7in sadece telefon g\\\\u00f6r\\\\u00fc\\\\u015flerinde kendisinden haber alabiliyoruz ancak ameliyat olduktan sonraki hafta telefon g\\\\u00f6r\\\\u00fc\\\\u015f\\\\u00fcnde kendisi aramad\\\\u0131.Corona endi\\\\u015fesinin oldu\\\\u011fu \\\\u015fu g\\\\u00fcnlerde kendisinden haber alabilmek i\\\\u00e7in haftasonu+\",\"display_text_range\":[0,280],\"entities\":{\"hashtags\":[],\"urls\":[],\"user_mentions\":[{\"screen_name\":\"ozkan_yalim\",\"name\":\"\\\\u00d6zkan Yal\\\\u0131m\",\"id\":2972639925,\"id_str\":\"2972639925\",\"indices\":[0,12]},{\"screen_name\":\"DurmusYillmaz\",\"name\":\"Durmu\\\\u015f Y\\\\u0131lmaz\",\"id\":3062441200,\"id_str\":\"3062441200\",\"indices\":[13,27]}],\"symbols\":[]}},\"quote_count\":1,\"reply_count\":1,\"retweet_count\":72,\"favorite_count\":83,\"entities\":{\"hashtags\":[],\"urls\":[{\"url\":\"https:\\\\/\\\\/t.co\\\\/vAhzxTppCA\",\"expanded_url\":\"https:\\\\/\\\\/twitter.com\\\\/i\\\\/web\\\\/status\\\\/1252576316135739392\",\"display_url\":\"twitter.com\\\\/i\\\\/web\\\\/status\\\\/1\\\\u2026\",\"indices\":[117,140]}],\"user_mentions\":[{\"screen_name\":\"ozkan_yalim\",\"name\":\"\\\\u00d6zkan Yal\\\\u0131m\",\"id\":2972639925,\"id_str\":\"2972639925\",\"indices\":[0,12]},{\"screen_name\":\"DurmusYillmaz\",\"name\":\"Durmu\\\\u015f Y\\\\u0131lmaz\",\"id\":3062441200,\"id_str\":\"3062441200\",\"indices\":[13,27]}],\"symbols\":[]},\"favorited\":false,\"retweeted\":false,\"filter_level\":\"low\",\"lang\":\"tr\"},\"is_quote_status\":false,\"quote_count\":0,\"reply_count\":0,\"retweet_count\":0,\"favorite_count\":0,\"entities\":{\"hashtags\":[],\"urls\":[],\"user_mentions\":[{\"screen_name\":\"schrodingerk42\",\"name\":\"B\\\\u00fc\\\\u015fra \\\\u00d6zta\\\\u015f\",\"id\":1206650133976408064,\"id_str\":\"1206650133976408064\",\"indices\":[3,18]},{\"screen_name\":\"ozkan_yalim\",\"name\":\"\\\\u00d6zkan Yal\\\\u0131m\",\"id\":2972639925,\"id_str\":\"2972639925\",\"indices\":[20,32]},{\"screen_name\":\"DurmusYillmaz\",\"name\":\"Durmu\\\\u015f Y\\\\u0131lmaz\",\"id\":3062441200,\"id_str\":\"3062441200\",\"indices\":[33,47]}],\"symbols\":[]},\"favorited\":false,\"retweeted\":false,\"filter_level\":\"low\",\"lang\":\"tr\",\"timestamp_ms\":\"1587817302327\"}\\r\\n\\n{\"created_at\":\"Sat Apr 25 12:21:42 +0000 2020\",\"id\":1254022773149589510,\"id_str\":\"1254022773149589510\",\"text\":\"RT @MonstaXEurope: VIDEO | 25.04.20\\\\n\\\\n&gt; Monsta X appears on Yonhap News TV - Idol comeback through Corona... Turning on the Music industry.\\\\u2026\",\"source\":\"\\\\u003ca href=\\\\\"http:\\\\/\\\\/twitter.com\\\\/download\\\\/android\\\\\" rel=\\\\\"nofollow\\\\\"\\\\u003eTwitter for Android\\\\u003c\\\\/a\\\\u003e\",\"truncated\":false,\"in_reply_to_status_id\":null,\"in_reply_to_status_id_str\":null,\"in_reply_to_user_id\":null,\"in_reply_to_user_id_str\":null,\"in_reply_to_screen_name\":null,\"user\":{\"id\":1248123252,\"id_str\":\"1248123252\",\"name\":\"minhyuk.\",\"screen_name\":\"mizhyuklee\",\"location\":null,\"url\":\"https:\\\\/\\\\/twitter.com\\\\/OfficialMonstaX\",\"description\":\"NOT REAL - 93 \\\\ubaac\\\\uc2a4\\\\ud0c0\\\\uc5d1\\\\uc2a4 \\\\uc774\\\\ubbfc\\\\ud601 - \\\\ubaac\\\\ubca0\\\\ubca0\\'s.\",\"translator_type\":\"none\",\"protected\":false,\"verified\":false,\"followers_count\":1194,\"friends_count\":538,\"listed_count\":23,\"favourites_count\":1241,\"statuses_count\":157680,\"created_at\":\"Thu Mar 07 07:21:32 +0000 2013\",\"utc_offset\":null,\"time_zone\":null,\"geo_enabled\":false,\"lang\":null,\"contributors_enabled\":false,\"is_translator\":false,\"profile_background_color\":\"ACDED6\",\"profile_background_image_url\":\"http:\\\\/\\\\/abs.twimg.com\\\\/images\\\\/themes\\\\/theme1\\\\/bg.png\",\"profile_background_image_url_https\":\"https:\\\\/\\\\/abs.twimg.com\\\\/images\\\\/themes\\\\/theme1\\\\/bg.png\",\"profile_background_tile\":true,\"profile_link_color\":\"ABB8C2\",\"profile_sidebar_border_color\":\"FFFFFF\",\"profile_sidebar_fill_color\":\"DDEEF6\",\"profile_text_color\":\"333333\",\"profile_use_background_image\":true,\"profile_image_url\":\"http:\\\\/\\\\/pbs.twimg.com\\\\/profile_images\\\\/1253940703027015681\\\\')]"
      ]
     },
     "execution_count": 4,
     "metadata": {},
     "output_type": "execute_result"
    }
   ],
   "source": [
    "a = data.take(1)\n",
    "a"
   ]
  },
  {
   "cell_type": "code",
   "execution_count": 7,
   "id": "80dbdeb3",
   "metadata": {},
   "outputs": [
    {
     "name": "stdout",
     "output_type": "stream",
     "text": [
      "+--------------------+\n",
      "|               value|\n",
      "+--------------------+\n",
      "|{\"created_at\":\"Sa...|\n",
      "|8picphO_normal.jp...|\n",
      "|8picphO_normal.jp...|\n",
      "|ode\\/169087\",\"dis...|\n",
      "|ode\\/169087\",\"ind...|\n",
      "|a7dOxnl_normal.jp...|\n",
      "|a7dOxnl_normal.jp...|\n",
      "|g\\/podcast\\/the-v...|\n",
      "|         g\\/podcast\\|\n",
      "|igeria-battles-co...|\n",
      "|         g\\/podcast\\|\n",
      "|ig\\u2026\",\"indice...|\n",
      "|   ews\\/coronavirus\\|\n",
      "|ursing-homes-have...|\n",
      "|ews\\/coronavir\\u2...|\n",
      "|G3nORmt_normal.jp...|\n",
      "|G3nORmt_normal.jp...|\n",
      "|ews\\/mohali-coron...|\n",
      "|eunzigplus.de\\/au...|\n",
      "|eunzigplus.de\\/\",...|\n",
      "+--------------------+\n",
      "only showing top 20 rows\n",
      "\n"
     ]
    }
   ],
   "source": [
    "data.show()"
   ]
  },
  {
   "cell_type": "code",
   "execution_count": 8,
   "id": "f030a5d0",
   "metadata": {},
   "outputs": [
    {
     "ename": "TypeError",
     "evalue": "'Column' object is not callable",
     "output_type": "error",
     "traceback": [
      "\u001b[0;31m---------------------------------------------------------------------------\u001b[0m",
      "\u001b[0;31mTypeError\u001b[0m                                 Traceback (most recent call last)",
      "Cell \u001b[0;32mIn[8], line 1\u001b[0m\n\u001b[0;32m----> 1\u001b[0m \u001b[43mdata\u001b[49m\u001b[38;5;241;43m.\u001b[39;49m\u001b[43mvalue\u001b[49m\u001b[43m(\u001b[49m\u001b[43m)\u001b[49m\u001b[38;5;241m.\u001b[39mselect(\u001b[38;5;124m\"\u001b[39m\u001b[38;5;124mcreated_at\u001b[39m\u001b[38;5;124m\"\u001b[39m)\n",
      "\u001b[0;31mTypeError\u001b[0m: 'Column' object is not callable"
     ]
    }
   ],
   "source": [
    "data.value().select(\"created_at\")"
   ]
  },
  {
   "cell_type": "code",
   "execution_count": null,
   "id": "1277d8c5",
   "metadata": {},
   "outputs": [],
   "source": []
  }
 ],
 "metadata": {
  "kernelspec": {
   "display_name": "Python 3 (ipykernel)",
   "language": "python",
   "name": "python3"
  },
  "language_info": {
   "codemirror_mode": {
    "name": "ipython",
    "version": 3
   },
   "file_extension": ".py",
   "mimetype": "text/x-python",
   "name": "python",
   "nbconvert_exporter": "python",
   "pygments_lexer": "ipython3",
   "version": "3.10.10"
  }
 },
 "nbformat": 4,
 "nbformat_minor": 5
}
