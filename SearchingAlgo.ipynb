{
 "cells": [
  {
   "cell_type": "code",
   "execution_count": 1,
   "id": "6d17ab52",
   "metadata": {},
   "outputs": [],
   "source": [
    "import pymongo\n",
    " \n",
    "myclient = pymongo.MongoClient(\"mongodb://localhost:27017/\")"
   ]
  },
  {
   "cell_type": "code",
   "execution_count": 2,
   "id": "3cb5b714",
   "metadata": {},
   "outputs": [
    {
     "data": {
      "text/plain": [
       "['admin', 'config', 'local', 'tweet', 'tweet_project']"
      ]
     },
     "execution_count": 2,
     "metadata": {},
     "output_type": "execute_result"
    }
   ],
   "source": [
    "myclient.list_database_names()"
   ]
  },
  {
   "cell_type": "code",
   "execution_count": 3,
   "id": "8995d03e",
   "metadata": {},
   "outputs": [],
   "source": [
    "mydb = myclient[\"tweet_project\"] # create a database test under the client"
   ]
  },
  {
   "cell_type": "code",
   "execution_count": 4,
   "id": "aa59e4b6",
   "metadata": {},
   "outputs": [
    {
     "data": {
      "text/plain": [
       "['origin_tweet', 'retweet_tweet', 'reply_tweet', 'quote_tweet']"
      ]
     },
     "execution_count": 4,
     "metadata": {},
     "output_type": "execute_result"
    }
   ],
   "source": [
    "mydb.list_collection_names()"
   ]
  },
  {
   "cell_type": "code",
   "execution_count": 5,
   "id": "3e5521d3",
   "metadata": {},
   "outputs": [],
   "source": [
    "mycol = mydb[\"origin_tweet\"] "
   ]
  },
  {
   "cell_type": "code",
   "execution_count": 6,
   "id": "97a8b177",
   "metadata": {},
   "outputs": [
    {
     "ename": "NameError",
     "evalue": "name 'col_reply' is not defined",
     "output_type": "error",
     "traceback": [
      "\u001b[0;31m---------------------------------------------------------------------------\u001b[0m",
      "\u001b[0;31mNameError\u001b[0m                                 Traceback (most recent call last)",
      "Cell \u001b[0;32mIn[6], line 2\u001b[0m\n\u001b[1;32m      1\u001b[0m myquery \u001b[38;5;241m=\u001b[39m { \u001b[38;5;124m\"\u001b[39m\u001b[38;5;124mreply_list\u001b[39m\u001b[38;5;124m\"\u001b[39m : { \u001b[38;5;124m\"\u001b[39m\u001b[38;5;124m$exists\u001b[39m\u001b[38;5;124m\"\u001b[39m: \u001b[38;5;124m\"\u001b[39m\u001b[38;5;124mfalse\u001b[39m\u001b[38;5;124m\"\u001b[39m}}\n\u001b[0;32m----> 2\u001b[0m mydoc \u001b[38;5;241m=\u001b[39m \u001b[43mcol_reply\u001b[49m\u001b[38;5;241m.\u001b[39mfind(myquery)\u001b[38;5;241m.\u001b[39mlimit(\u001b[38;5;241m3\u001b[39m)\u001b[38;5;241m.\u001b[39msort(\u001b[38;5;124m'\u001b[39m\u001b[38;5;124mtimestamp_ms\u001b[39m\u001b[38;5;124m'\u001b[39m, \u001b[38;5;241m-\u001b[39m\u001b[38;5;241m1\u001b[39m)\n",
      "\u001b[0;31mNameError\u001b[0m: name 'col_reply' is not defined"
     ]
    }
   ],
   "source": [
    "myquery = { \"reply_list\" : { \"$exists\": \"false\"}}\n",
    "mydoc = col_reply.find(myquery).limit(3).sort('timestamp_ms', -1)"
   ]
  },
  {
   "cell_type": "code",
   "execution_count": 32,
   "id": "6f7948ea",
   "metadata": {
    "scrolled": true
   },
   "outputs": [
    {
     "name": "stdout",
     "output_type": "stream",
     "text": [
      "{'_id': ObjectId('644261f72b4f18030a64063b'), 'tweet_id': '1253932995905564673', 'text': \"@geertwilderspvv @WBHoekstra Waneer vertelt #PVV eindelijk eens de WAARHEID: die hele #lockdown is gebaseerd op foute, allang aangepaste, @WHO-cijfers: van 3,4% 'corona'doden naar 0,2%. Niks bijzonders, tóch lockdown? Waanzin! Massa-psychose. #HELP\\n\\nBeter ten halve gekeerd, ... 🇳🇱\\n\\nhttps://t.co/G65nHPMtlP\", 'hashtags': [{'text': 'PVV', 'indices': [44, 48]}, {'text': 'lockdown', 'indices': [86, 95]}, {'text': 'HELP', 'indices': [243, 248]}], 'userid': '1026753348744237057', 'username': 'Sven Groter_3', 'user_screen_name': '3Groter', 'quote_count': 1, 'reply_count': 6, 'retweet_count': 13, 'favorite_count': 34, 'timestamp_ms': '1587826107842', 'reply_to_tweeet_id': '1253927939713966086', 'reply_to_user_id': '41778159', 'reply_to_user_name': 'geertwilderspvv', 'reply_list': ['1254028189220945920'], 'retweeted_list': ['1254059705883860992', '1254057370428284928', '1254033842299699201']}\n",
      "{'_id': ObjectId('644260d12b4f18030a63f5de'), 'tweet_id': '1253987310300995584', 'text': '@Augstein Dr. Wordag wurde zerrissen, weil er behauptete Conra wäre schon immer anwesend, und ein gute Gruppe wäre bereits immun. Und ist auch Drosten drauf gekommen, und keiner merkt was man Wordag antat. Eine Entschuldigung wäre das Mindeste.\\n\\nhttps://t.co/jUgXyMRkRS', 'hashtags': [], 'userid': '1090319842161446912', 'username': 'UJE', 'user_screen_name': 'WildCar62382736', 'quote_count': 5, 'reply_count': 19, 'retweet_count': 64, 'favorite_count': 152, 'timestamp_ms': '1587826096719', 'reply_to_tweeet_id': '1253975457051131905', 'reply_to_user_id': '14619744', 'reply_to_user_name': 'Augstein', 'retweeted_list': ['1254059659230621702', '1254057503245172737', '1254055029276803073', '1254049183830597638', '1254048191974191110', '1254046799704272896', '1254046493612429312', '1254046137901858818', '1254044689625382918', '1254041229865758721', '1254039897423466499', '1254038995711004673', '1254038331987460097', '1254037297424732162', '1254034923721236487', '1254034893492944897', '1254033857256591361', '1254033774536466439', '1254033524698615808', '1254033294204768257', '1254032864926195712', '1254032127097745408', '1254032030637178880', '1254030790205333504', '1254030705027407872', '1254029433280790528', '1254029180276260866', '1254029154342797312', '1254028580331421696', '1254028456171573249', '1254028309966524416', '1254028049739374592', '1254028045545099264', '1254027641222582280', '1254027554073296898', '1254027542832599041', '1254026729041080322', '1254026487625388032', '1254026418251538432', '1254026381345914882', '1254026358503739392', '1254025952398622721', '1254025903304253441', '1254025802045423618', '1254025562135420929', '1254025498394529800', '1254025498117758976', '1254025486520463360', '1254024920427831297', '1254024889251565568', '1254024850370330625', '1254024617280319490', '1254024598217265153', '1254024404650078208', '1254024012298178560'], 'quoted_list': ['1254038751682203648', '1254037108873977856', '1254030868810735619', '1254025190603980801'], 'reply_list': ['1254031737161646081', '1254031737161646081', '1254025749763444737']}\n",
      "{'_id': ObjectId('644260b72b4f18030a63f2d5'), 'tweet_id': '1254017732724416513', 'text': '@radenrauf Assalamualaikum \\n\\nPergi kepasar membeli kuaci\\nKuaci dibeli sama si agi\\nAlangkah senangnya hati menyambut bulan suci\\nSemoga corona segera pergi\\n\\n#LoveStory https://t.co/pAIbeTs6m3', 'hashtags': [{'text': 'LoveStory', 'indices': [155, 165]}], 'userid': '612683107', 'username': 'jod', 'user_screen_name': 'jhodypramana', 'quote_count': 3, 'reply_count': 50, 'retweet_count': 8, 'favorite_count': 191, 'timestamp_ms': '1587826058574', 'reply_to_tweeet_id': '1254017346877833217', 'reply_to_user_id': '26970305', 'reply_to_user_name': 'radenrauf', 'quoted_list': ['1254050990417829888', '1254047972154728453', '1254023061851959297'], 'retweeted_list': ['1254059499238940673', '1254051645207359496', '1254047988592177153', '1254047254588973056', '1254047214789226497', '1254046983423012864', '1254046743781445633', '1254046701595156481'], 'reply_list': ['1254053277802487816']}\n"
     ]
    }
   ],
   "source": [
    "for x in mydoc:\n",
    "    print(x)"
   ]
  },
  {
   "cell_type": "code",
   "execution_count": 26,
   "id": "5c4f3f4a",
   "metadata": {},
   "outputs": [
    {
     "name": "stdout",
     "output_type": "stream",
     "text": [
      "{'_id': ObjectId('644260ef2b4f18030a63f850'), 'tweet_id': '1253927939713966086', 'text': 'Het is prima om KLM te helpen maar doe dan ook wat voor de gewone Nederlander in deze moeilijke tijden minister  @WBHoekstra: verlaag de huren en de btw op boodschappen, of schaf het eigen risico in de zorg af. Help bedrijven én burgers! \\n\\n#CoronaCrisis #corona \\n#Wilders #PVV', 'hashtags': [{'text': 'CoronaCrisis', 'indices': [240, 253]}, {'text': 'corona', 'indices': [254, 261]}, {'text': 'Wilders', 'indices': [263, 271]}, {'text': 'PVV', 'indices': [272, 276]}], 'userid': '41778159', 'username': 'Geert Wilders', 'user_screen_name': 'geertwilderspvv', 'quote_count': 28, 'reply_count': 120, 'retweet_count': 410, 'favorite_count': 1440, 'timestamp_ms': '1587826092395', 'retweeted_list': ['1254059641094504449', '1254058582292783110', '1254056926679367681', '1254056862514909187', '1254056793023614981', '1254056414282240007', '1254055374992412673', '1254053295318020096', '1254051967078486016', '1254051863181303809', '1254050840853315584', '1254049916307070976', '1254048925050449920', '1254048140619132928', '1254047794710679552', '1254046494501539841', '1254046130469572609', '1254046012181749760', '1254045273950769157', '1254045245714595841', '1254044023398039553', '1254043021127159810', '1254042395706081280', '1254041835368046593', '1254041145463758855', '1254040889938378753', '1254040137857740800', '1254039240779993088', '1254038457573412866', '1254038027644567553', '1254034899012595712', '1254034001691639809', '1254033195223388172', '1254032642812653568', '1254029975923101699', '1254029720049594368', '1254028581040205826', '1254026735135457280', '1254026174738698240', '1254025045770407939'], 'quoted_list': ['1254057785010147329', '1254048269593915392', '1254034272438161408', '1254029631042322432'], 'reply_list': ['1253932995905564673', '1253932995905564673', '1253932995905564673']}\n"
     ]
    }
   ],
   "source": [
    "myquery = { \"tweet_id\" : { \"$eq\": \"1253927939713966086\"}}\n",
    "mydoc = mycol.find(myquery).limit(3).sort('timestamp_ms', -1)\n",
    "for x in mydoc:\n",
    "    print(x)"
   ]
  },
  {
   "cell_type": "code",
   "execution_count": 7,
   "id": "3b09fa85",
   "metadata": {},
   "outputs": [],
   "source": [
    "col_reply = mydb[\"reply_tweet\"]\n",
    "col_quoted = mydb[\"quote_tweet\"]\n",
    "col_retweet = mydb[\"retweet_tweet\"]"
   ]
  },
  {
   "cell_type": "code",
   "execution_count": 8,
   "id": "ac2174d0",
   "metadata": {},
   "outputs": [],
   "source": [
    "import timeit"
   ]
  },
  {
   "cell_type": "code",
   "execution_count": 95,
   "id": "3127869e",
   "metadata": {},
   "outputs": [
    {
     "data": {
      "text/plain": [
       "{'_id_': {'v': 2, 'key': [('_id', 1)]},\n",
       " 'text_text_hashtags_text_tweet_id_-1': {'v': 2,\n",
       "  'key': [('_fts', 'text'), ('_ftsx', 1), ('tweet_id', -1)],\n",
       "  'weights': SON([('hashtags', 1), ('text', 1)]),\n",
       "  'default_language': 'english',\n",
       "  'language_override': 'language',\n",
       "  'textIndexVersion': 3}}"
      ]
     },
     "execution_count": 95,
     "metadata": {},
     "output_type": "execute_result"
    }
   ],
   "source": [
    "#Creating indexes\n",
    "# resp = mycol.create_index([(\"text\", -1)])\n",
    "# print(\"index response\", resp)\n",
    "\n",
    "# mycol.createIndex(({\"text\": 'text', \"hashtag\":'text'}))\n",
    "\n",
    "# mycol.create_index([(\"tweet_id\",-1),(\"text\", -1)])\n",
    "# each_tweet[\"hashtags\"], each_tweet[\"username\"]\n",
    "\n",
    "# col_reply = mydb[\"reply_tweet\"]\n",
    "# col_quoted = mydb[\"quote_tweet\"]\n",
    "# col_retweet = mydb[\"retweet_tweet\"]\n",
    "# col_retweet.create_index([(\"text\",-1), (\"username\", -1), (\"tweet_id\", -1), (\"favorite_count\", -1)])\n",
    "\n",
    "# collection.create_index([('your field', 'text')])\n",
    "# mycol.create_index([('hashtags','text')])\n",
    "# mycol.create_index([('text','text'),('tweet_id',-1)])\n",
    "col_reply.index_information()\n",
    "\n"
   ]
  },
  {
   "cell_type": "code",
   "execution_count": 103,
   "id": "25fae4ad",
   "metadata": {},
   "outputs": [],
   "source": [
    "mycol.drop_indexes()"
   ]
  },
  {
   "cell_type": "code",
   "execution_count": 140,
   "id": "3b5fe37e",
   "metadata": {},
   "outputs": [
    {
     "data": {
      "text/plain": [
       "<pymongo.results.UpdateResult at 0x7f65fddd2940>"
      ]
     },
     "execution_count": 140,
     "metadata": {},
     "output_type": "execute_result"
    }
   ],
   "source": [
    "mycol.update_many(\n",
    "    {},\n",
    "    [\n",
    "        { $multiply: [ \"$favorite_count\", 0.4] }\n",
    "        { $multiply: [ <expression1>, <expression2>, ... ] }\n",
    "        { $multiply: [ <expression1>, <expression2>, ... ] }\n",
    "        {\"$set\": {\"custom_score\": { \"$add\": [\"$favorite_count\", \"$reply_count\", \"$retweet_count\", \"$quote_count\"]}}}\n",
    "    ]\n",
    ")\n"
   ]
  },
  {
   "cell_type": "code",
   "execution_count": 138,
   "id": "2191ed51",
   "metadata": {},
   "outputs": [
    {
     "name": "stdout",
     "output_type": "stream",
     "text": [
      "key error or length error\n"
     ]
    }
   ],
   "source": [
    "# col_reply.drop_indexes()\n",
    "x = 0\n",
    "try:\n",
    "\n",
    "    for i in len(x):\n",
    "        print(x)\n",
    "except:\n",
    "    print(\"key error or length error\")"
   ]
  },
  {
   "cell_type": "code",
   "execution_count": 96,
   "id": "6abbfd30",
   "metadata": {},
   "outputs": [
    {
     "name": "stdout",
     "output_type": "stream",
     "text": [
      "\n",
      " Orginal tweet is: \n",
      " {'_id': ObjectId('644260ef2b4f18030a63f850'), 'tweet_id': '1253927939713966086', 'text': 'Het is prima om KLM te helpen maar doe dan ook wat voor de gewone Nederlander in deze moeilijke tijden minister  @WBHoekstra: verlaag de huren en de btw op boodschappen, of schaf het eigen risico in de zorg af. Help bedrijven én burgers! \\n\\n#CoronaCrisis #corona \\n#Wilders #PVV', 'hashtags': [{'text': 'CoronaCrisis', 'indices': [240, 253]}, {'text': 'corona', 'indices': [254, 261]}, {'text': 'Wilders', 'indices': [263, 271]}, {'text': 'PVV', 'indices': [272, 276]}], 'userid': '41778159', 'username': 'Geert Wilders', 'user_screen_name': 'geertwilderspvv', 'quote_count': 28, 'reply_count': 120, 'retweet_count': 410, 'favorite_count': 1440, 'timestamp_ms': '1587826092395', 'retweeted_list': ['1254059641094504449', '1254058582292783110', '1254056926679367681', '1254056862514909187', '1254056793023614981', '1254056414282240007', '1254055374992412673', '1254053295318020096', '1254051967078486016', '1254051863181303809', '1254050840853315584', '1254049916307070976', '1254048925050449920', '1254048140619132928', '1254047794710679552', '1254046494501539841', '1254046130469572609', '1254046012181749760', '1254045273950769157', '1254045245714595841', '1254044023398039553', '1254043021127159810', '1254042395706081280', '1254041835368046593', '1254041145463758855', '1254040889938378753', '1254040137857740800', '1254039240779993088', '1254038457573412866', '1254038027644567553', '1254034899012595712', '1254034001691639809', '1254033195223388172', '1254032642812653568', '1254029975923101699', '1254029720049594368', '1254028581040205826', '1254026735135457280', '1254026174738698240', '1254025045770407939'], 'quoted_list': ['1254057785010147329', '1254048269593915392', '1254034272438161408', '1254029631042322432'], 'reply_list': ['1253932995905564673', '1253932995905564673', '1253932995905564673'], 'custom_score': 1998}\n",
      "Replies to the above tweet are as follows\n",
      "['1253932995905564673', \"@geertwilderspvv @WBHoekstra Waneer vertelt #PVV eindelijk eens de WAARHEID: die hele #lockdown is gebaseerd op foute, allang aangepaste, @WHO-cijfers: van 3,4% 'corona'doden naar 0,2%. Niks bijzonders, tóch lockdown? Waanzin! Massa-psychose. #HELP\\n\\nBeter ten halve gekeerd, ... 🇳🇱\\n\\nhttps://t.co/G65nHPMtlP\", 'Sven Groter_3', 34]\n",
      "['1254028189220945920', '@3Groter @geertwilderspvv @WBHoekstra @WHO Ok @3Groter, laten we uitgaan van 0,2 % sterfte door corona \\n\\n~4000 doden volgens RIVM. (Cbs laten we ff voor wat het is)\\n\\nDan weet je een hoeveel mensen er besmet moeten zijn (naar 100% rekenen).\\n\\n0.2% X 500 = 100%\\n\\n4.000 (doden) x 500 = 2.000.000 (besmettingen)\\n\\nZeg t maar', 'Rollie 😏', 0]\n",
      "['1253932995905564673', \"@geertwilderspvv @WBHoekstra Waneer vertelt #PVV eindelijk eens de WAARHEID: die hele #lockdown is gebaseerd op foute, allang aangepaste, @WHO-cijfers: van 3,4% 'corona'doden naar 0,2%. Niks bijzonders, tóch lockdown? Waanzin! Massa-psychose. #HELP\\n\\nBeter ten halve gekeerd, ... 🇳🇱\\n\\nhttps://t.co/G65nHPMtlP\", 'Sven Groter_3', 34]\n",
      "['1254028189220945920', '@3Groter @geertwilderspvv @WBHoekstra @WHO Ok @3Groter, laten we uitgaan van 0,2 % sterfte door corona \\n\\n~4000 doden volgens RIVM. (Cbs laten we ff voor wat het is)\\n\\nDan weet je een hoeveel mensen er besmet moeten zijn (naar 100% rekenen).\\n\\n0.2% X 500 = 100%\\n\\n4.000 (doden) x 500 = 2.000.000 (besmettingen)\\n\\nZeg t maar', 'Rollie 😏', 0]\n",
      "['1253932995905564673', \"@geertwilderspvv @WBHoekstra Waneer vertelt #PVV eindelijk eens de WAARHEID: die hele #lockdown is gebaseerd op foute, allang aangepaste, @WHO-cijfers: van 3,4% 'corona'doden naar 0,2%. Niks bijzonders, tóch lockdown? Waanzin! Massa-psychose. #HELP\\n\\nBeter ten halve gekeerd, ... 🇳🇱\\n\\nhttps://t.co/G65nHPMtlP\", 'Sven Groter_3', 34]\n",
      "['1254028189220945920', '@3Groter @geertwilderspvv @WBHoekstra @WHO Ok @3Groter, laten we uitgaan van 0,2 % sterfte door corona \\n\\n~4000 doden volgens RIVM. (Cbs laten we ff voor wat het is)\\n\\nDan weet je een hoeveel mensen er besmet moeten zijn (naar 100% rekenen).\\n\\n0.2% X 500 = 100%\\n\\n4.000 (doden) x 500 = 2.000.000 (besmettingen)\\n\\nZeg t maar', 'Rollie 😏', 0]\n",
      "Quoted tweets to the above tweet are as follows\n",
      "['1254057785010147329', 'Zéér goed idee.', 'Toby Tanenbaum', 0]\n",
      "['1254048269593915392', 'RT @Johnlut2: Inderdaad. Maar voor de burgers wordt er niks gedaan, van de wal de sloot in ja.', 'bundy', 0]\n",
      "['1254034272438161408', 'Inderdaad. Maar voor de burgers wordt er niks gedaan, van de wal de sloot in ja.', 'Johnlut', 0]\n",
      "['1254029631042322432', 'Haha wat voor ons doen ja ons uitroeien moet van brussel en soros', 'mart', 0]\n",
      "Retweeted tweets to the above tweet are as follows\n",
      "['1254059641094504449', 'RT @geertwilderspvv: Het is prima om KLM te helpen maar doe dan ook wat voor de gewone Nederlander in deze moeilijke tijden minister  @WBHo…', 'michael🚜🚜🚜🚜', 0]\n",
      "['1254058582292783110', 'RT @geertwilderspvv: Het is prima om KLM te helpen maar doe dan ook wat voor de gewone Nederlander in deze moeilijke tijden minister  @WBHo…', 'Stiensky', 0]\n",
      "['1254056926679367681', 'RT @geertwilderspvv: Het is prima om KLM te helpen maar doe dan ook wat voor de gewone Nederlander in deze moeilijke tijden minister  @WBHo…', 'Ouwe Moekie', 0]\n",
      "['1254056862514909187', 'RT @geertwilderspvv: Het is prima om KLM te helpen maar doe dan ook wat voor de gewone Nederlander in deze moeilijke tijden minister  @WBHo…', 'TradingMonarch', 0]\n",
      "['1254056793023614981', 'RT @geertwilderspvv: Het is prima om KLM te helpen maar doe dan ook wat voor de gewone Nederlander in deze moeilijke tijden minister  @WBHo…', 'Gerard Schoutsen', 0]\n",
      "['1254056414282240007', 'RT @geertwilderspvv: Het is prima om KLM te helpen maar doe dan ook wat voor de gewone Nederlander in deze moeilijke tijden minister  @WBHo…', 'ellen de radder-kiev', 0]\n",
      "['1254055374992412673', 'RT @geertwilderspvv: Het is prima om KLM te helpen maar doe dan ook wat voor de gewone Nederlander in deze moeilijke tijden minister  @WBHo…', 'Man Pooja', 0]\n",
      "['1254053295318020096', 'RT @geertwilderspvv: Het is prima om KLM te helpen maar doe dan ook wat voor de gewone Nederlander in deze moeilijke tijden minister  @WBHo…', 'RdRunner', 0]\n",
      "['1254051967078486016', 'RT @geertwilderspvv: Het is prima om KLM te helpen maar doe dan ook wat voor de gewone Nederlander in deze moeilijke tijden minister  @WBHo…', 'Westland', 0]\n",
      "['1254051863181303809', 'RT @geertwilderspvv: Het is prima om KLM te helpen maar doe dan ook wat voor de gewone Nederlander in deze moeilijke tijden minister  @WBHo…', 'mysteryofapencil', 0]\n",
      "['1254050840853315584', 'RT @geertwilderspvv: Het is prima om KLM te helpen maar doe dan ook wat voor de gewone Nederlander in deze moeilijke tijden minister  @WBHo…', 'Hans Dalpac', 0]\n",
      "['1254049916307070976', 'RT @geertwilderspvv: Het is prima om KLM te helpen maar doe dan ook wat voor de gewone Nederlander in deze moeilijke tijden minister  @WBHo…', 'Popeye Kamper', 0]\n",
      "['1254048925050449920', 'RT @geertwilderspvv: Het is prima om KLM te helpen maar doe dan ook wat voor de gewone Nederlander in deze moeilijke tijden minister  @WBHo…', 'Robert Vall NEE TEGEN 5G', 0]\n",
      "['1254048140619132928', 'RT @geertwilderspvv: Het is prima om KLM te helpen maar doe dan ook wat voor de gewone Nederlander in deze moeilijke tijden minister  @WBHo…', 'JWBouwman', 0]\n",
      "['1254047794710679552', 'RT @geertwilderspvv: Het is prima om KLM te helpen maar doe dan ook wat voor de gewone Nederlander in deze moeilijke tijden minister  @WBHo…', 'nagigean', 0]\n",
      "['1254046494501539841', 'RT @geertwilderspvv: Het is prima om KLM te helpen maar doe dan ook wat voor de gewone Nederlander in deze moeilijke tijden minister  @WBHo…', 'Michelle Anousjka', 0]\n",
      "['1254046130469572609', 'RT @geertwilderspvv: Het is prima om KLM te helpen maar doe dan ook wat voor de gewone Nederlander in deze moeilijke tijden minister  @WBHo…', 'edgar blumenthal', 0]\n",
      "['1254046012181749760', 'RT @geertwilderspvv: Het is prima om KLM te helpen maar doe dan ook wat voor de gewone Nederlander in deze moeilijke tijden minister  @WBHo…', 'Rob Wolly', 0]\n",
      "['1254045273950769157', 'RT @geertwilderspvv: Het is prima om KLM te helpen maar doe dan ook wat voor de gewone Nederlander in deze moeilijke tijden minister  @WBHo…', 'Nikki', 0]\n"
     ]
    },
    {
     "name": "stdout",
     "output_type": "stream",
     "text": [
      "['1254045245714595841', 'RT @geertwilderspvv: Het is prima om KLM te helpen maar doe dan ook wat voor de gewone Nederlander in deze moeilijke tijden minister  @WBHo…', 'Annelies R', 0]\n",
      "['1254044023398039553', 'RT @geertwilderspvv: Het is prima om KLM te helpen maar doe dan ook wat voor de gewone Nederlander in deze moeilijke tijden minister  @WBHo…', 'Peter von Querfurt', 0]\n",
      "['1254043021127159810', 'RT @geertwilderspvv: Het is prima om KLM te helpen maar doe dan ook wat voor de gewone Nederlander in deze moeilijke tijden minister  @WBHo…', 'Delilah Hesselink', 0]\n",
      "['1254042395706081280', 'RT @geertwilderspvv: Het is prima om KLM te helpen maar doe dan ook wat voor de gewone Nederlander in deze moeilijke tijden minister  @WBHo…', '🌹🌺Sas🌺🌹', 0]\n",
      "['1254041835368046593', 'RT @geertwilderspvv: Het is prima om KLM te helpen maar doe dan ook wat voor de gewone Nederlander in deze moeilijke tijden minister  @WBHo…', 'Elly Weers', 0]\n",
      "['1254041145463758855', 'RT @geertwilderspvv: Het is prima om KLM te helpen maar doe dan ook wat voor de gewone Nederlander in deze moeilijke tijden minister  @WBHo…', 'Martin', 0]\n",
      "['1254040889938378753', 'RT @geertwilderspvv: Het is prima om KLM te helpen maar doe dan ook wat voor de gewone Nederlander in deze moeilijke tijden minister  @WBHo…', 'annette kiel', 0]\n",
      "['1254040137857740800', 'RT @geertwilderspvv: Het is prima om KLM te helpen maar doe dan ook wat voor de gewone Nederlander in deze moeilijke tijden minister  @WBHo…', 'Betul', 0]\n",
      "['1254039240779993088', 'RT @geertwilderspvv: Het is prima om KLM te helpen maar doe dan ook wat voor de gewone Nederlander in deze moeilijke tijden minister  @WBHo…', 'Saskia', 0]\n",
      "['1254038457573412866', 'RT @geertwilderspvv: Het is prima om KLM te helpen maar doe dan ook wat voor de gewone Nederlander in deze moeilijke tijden minister  @WBHo…', 'Windwens🔯 🚜🏗 🔯🇳🇱🇬🇷🇬🇷🇬🇷', 0]\n",
      "['1254038027644567553', 'RT @geertwilderspvv: Het is prima om KLM te helpen maar doe dan ook wat voor de gewone Nederlander in deze moeilijke tijden minister  @WBHo…', 'Pyromaan', 0]\n",
      "['1254034899012595712', 'RT @geertwilderspvv: Het is prima om KLM te helpen maar doe dan ook wat voor de gewone Nederlander in deze moeilijke tijden minister  @WBHo…', 'Toon van Dijk #blijfthuis', 0]\n",
      "['1254034001691639809', 'RT @geertwilderspvv: Het is prima om KLM te helpen maar doe dan ook wat voor de gewone Nederlander in deze moeilijke tijden minister  @WBHo…', 'Eric Jorem', 0]\n",
      "['1254033195223388172', 'RT @geertwilderspvv: Het is prima om KLM te helpen maar doe dan ook wat voor de gewone Nederlander in deze moeilijke tijden minister  @WBHo…', 'Odile Meijer', 0]\n",
      "['1254032642812653568', 'RT @geertwilderspvv: Het is prima om KLM te helpen maar doe dan ook wat voor de gewone Nederlander in deze moeilijke tijden minister  @WBHo…', 'Sjaak Kieft', 0]\n",
      "['1254029975923101699', 'RT @geertwilderspvv: Het is prima om KLM te helpen maar doe dan ook wat voor de gewone Nederlander in deze moeilijke tijden minister  @WBHo…', 'mk4y', 0]\n",
      "['1254029720049594368', 'RT @geertwilderspvv: Het is prima om KLM te helpen maar doe dan ook wat voor de gewone Nederlander in deze moeilijke tijden minister  @WBHo…', 'Harrie Rutten🇳🇱🇮🇱', 0]\n",
      "['1254028581040205826', 'RT @geertwilderspvv: Het is prima om KLM te helpen maar doe dan ook wat voor de gewone Nederlander in deze moeilijke tijden minister  @WBHo…', '🔊Nathalie Vargas', 0]\n",
      "['1254026735135457280', 'RT @geertwilderspvv: Het is prima om KLM te helpen maar doe dan ook wat voor de gewone Nederlander in deze moeilijke tijden minister  @WBHo…', 'Karel Kranig', 0]\n",
      "['1254026174738698240', 'RT @geertwilderspvv: Het is prima om KLM te helpen maar doe dan ook wat voor de gewone Nederlander in deze moeilijke tijden minister  @WBHo…', 'Mr Oizo🇳🇱🚜🏛️🇬🇧🇺🇸🇮🇱🇬🇷', 0]\n",
      "['1254025045770407939', 'RT @geertwilderspvv: Het is prima om KLM te helpen maar doe dan ook wat voor de gewone Nederlander in deze moeilijke tijden minister  @WBHo…', 'white2410', 0]\n"
     ]
    }
   ],
   "source": [
    "# %%timeit pass #-n 4 -r 2    \n",
    "\n",
    "\n",
    "def SearchAlgo(searchString, criteria, sortMethod = \"timestamp_ms\", numofEntries = 1, numofReplies= 100, numofQuotes = 100, numofRetweets = 100, minimumResult = 10):\n",
    "    if criteria in [\"keyword\", \"hashtags\", \"tweet_id\"]:\n",
    "        if criteria == \"keyword\":\n",
    "            myquery = {\"$text\": {\"$search\": None}}\n",
    "            myquery['$text']['$search'] = searchString\n",
    "            #We can also use favorite_count for sortMethod\n",
    "            mydoc = mycol.find(myquery).sort(sortMethod, 1).limit(numofEntries)\n",
    "        if criteria == \"hashtags\":\n",
    "            myquery = {\"hashtags.text\": {\"$eq\": None}}\n",
    "            myquery['hashtags.text']['$eq'] = searchString\n",
    "            mydoc = mycol.find(myquery).sort(sortMethod, -1).limit(numofEntries)\n",
    "        if criteria == \"tweet_id\":\n",
    "            myquery = {\"tweet_id\": {\"$eq\": None}}\n",
    "            myquery['tweet_id']['$eq'] = searchString\n",
    "            mydoc = mycol.find(myquery).sort(sortMethod, 1).limit(numofEntries)\n",
    "            mydoc = mycol.find(myquery).sort(sortMethod, -1).limit(numofEntries)\n",
    "    list_of_results_original = list(mydoc)\n",
    "    for each_tweet in list_of_results_original:\n",
    "        print(\"\\n Orginal tweet is: \\n\", each_tweet)\n",
    "        try:\n",
    "            print(\"Replies to the above tweet are as follows\")\n",
    "            for each_reply in range(min(len(each_tweet[\"reply_list\"]), numofReplies)):\n",
    "                reply_rec_list = recursive_reply(each_tweet[\"reply_list\"][each_reply], reply_rec_list = [])\n",
    "                [print(i) for i in reply_rec_list]\n",
    "        except:\n",
    "            print(\"Key missing for replies or no replies needed\")\n",
    "\n",
    "        try:\n",
    "            print(\"Quoted tweets to the above tweet are as follows\")\n",
    "            for each_quote in range(min(len(each_tweet[\"quoted_list\"]), numofQuotes)):\n",
    "                x = quote_tweet(each_tweet[\"quoted_list\"][each_quote])\n",
    "                print(x)\n",
    "        except:\n",
    "            print(\"Key missing or no quoted tweets needed\")\n",
    "\n",
    "        try:\n",
    "            print(\"Retweeted tweets to the above tweet are as follows\")\n",
    "            for each_retweet in range(min(len(each_tweet[\"retweeted_list\"]), numofRetweets)):\n",
    "                x = retweet_tweet(each_tweet[\"retweeted_list\"][each_retweet])\n",
    "                print(x)\n",
    "        except:\n",
    "            print(\"Key missing for retweets or no retweets needed\")\n",
    "            \n",
    "    if len(list_of_results_original) < minimumResult:\n",
    "        keywordSear_reply(searchString, numofEntries = 10-len(list_of_results_original))\n",
    "\n",
    "\n",
    "def recursive_reply(key, reply_rec_list):\n",
    "    reply_rec_list.append(reply_tweet(key))\n",
    "    myquery_rec_reply = {\"tweet_id\": {\"$eq\": None}}\n",
    "    myquery_rec_reply['tweet_id']['$eq'] = key\n",
    "    mydoc_rec_reply = list(col_reply.find(myquery_rec_reply))\n",
    "    for j_len in range(len(mydoc_rec_reply)):\n",
    "        if \"reply_list\" in mydoc_rec_reply[j_len].keys():\n",
    "            temp = mydoc_rec_reply[j_len][\"reply_list\"]\n",
    "            for each_reply in temp:\n",
    "                recursive_reply(each_reply, reply_rec_list)\n",
    "    return reply_rec_list\n",
    "\n",
    "            \n",
    "def reply_tweet(reply_id):\n",
    "    myquery_reply = { \"tweet_id\" : {\"$eq\" : None }}\n",
    "    myquery_reply['tweet_id']['$eq'] = reply_id\n",
    "    mydoc_reply = col_reply.find(myquery_reply)\n",
    "    sam = list(mydoc_reply)[0]\n",
    "    return [sam[\"tweet_id\"], sam[\"text\"], sam[\"username\"], sam[\"favorite_count\"]]\n",
    "\n",
    "def keywordSear_reply(searchStr, numofEntries):\n",
    "    criteria = \"keyword\"\n",
    "    sortMethod = \"timestamp_ms\"\n",
    "    if criteria == \"keyword\":\n",
    "        myquery = {\"$text\": {\"$search\": None}}\n",
    "        myquery['$text']['$search'] = searchStr\n",
    "            #We can also use favorite_count for sortMethod\n",
    "        mydoc = col_reply.find(myquery).sort(sortMethod, -1).limit(numofEntries)\n",
    "    z = list(mydoc)\n",
    "    for each_tweet in z:\n",
    "        print(\"\\n Search in reply yields: \\n\", each_tweet)\n",
    "\n",
    "        \n",
    "def quote_tweet(quote_id):\n",
    "    myquery_quote = { \"tweet_id\" : {\"$eq\" : None }}\n",
    "    myquery_quote['tweet_id']['$eq'] = quote_id\n",
    "    mydoc_quote = col_quoted.find(myquery_quote)\n",
    "    sam = list(mydoc_quote)[0]\n",
    "    return [sam[\"tweet_id\"], sam[\"text\"], sam[\"username\"], sam[\"favorite_count\"]]\n",
    "\n",
    "def retweet_tweet(retweet_id):\n",
    "    myquery_retweet = { \"tweet_id\" : {\"$eq\" : None }}\n",
    "    myquery_retweet['tweet_id']['$eq'] = retweet_id\n",
    "    mydoc_retweet = col_retweet.find(myquery_retweet)\n",
    "    sam = list(mydoc_retweet)[0]\n",
    "    return [sam[\"tweet_id\"], sam[\"text\"], sam[\"username\"], sam[\"favorite_count\"]]\n",
    "\n",
    "\n",
    "# SearchAlgo[\"\"]: Data set \n",
    "# mydoc = SearchAlgo(\"covid\", \"hashtags\")\n",
    "# [\"tweet_id\"], \n",
    "#             each_tweet[\"text\"], each_tweet[\"hashtags\"], each_tweet[\"username\"],each_tweet[\"quote_count\"], \n",
    "#             each_tweet[\"reply_count\"], each_tweet[\"retweet_count\"], each_tweet[\"favorite_count\"]\n",
    "# mydoc = keywordSear(\"covid\", \"keyword\")\n",
    "\n",
    "\n",
    "SearchAlgo(\"1253927939713966086\",\"tweet_id\", \"timestamp_ms\", 1)"
   ]
  },
  {
   "cell_type": "code",
   "execution_count": 71,
   "id": "56f002b4",
   "metadata": {
    "scrolled": true
   },
   "outputs": [
    {
     "name": "stdout",
     "output_type": "stream",
     "text": [
      "\n",
      " Orginal tweet is: \n",
      " {'_id': ObjectId('64425b582b4f18030a63df72'), 'tweet_id': '1254055023379701760', 'text': 'Media is spreading corona more through their hidden agenda. \\n@ImranKhanPTI should take action these media houses. \\n#molanaTariqJameel\\n#TributeToSainGMSyed\\nQuran\\n#24YearsOfPTIstruggle\\n#24YearsOfStruggle\\n#hamidmir #level4lockdown', 'hashtags': [{'text': 'molanaTariqJameel', 'indices': [115, 133]}, {'text': 'TributeToSainGMSyed', 'indices': [134, 154]}, {'text': '24YearsOfPTIstruggle', 'indices': [161, 182]}, {'text': '24YearsOfStruggle', 'indices': [183, 201]}, {'text': 'hamidmir', 'indices': [202, 211]}, {'text': 'level4lockdown', 'indices': [212, 227]}], 'userid': '239458972', 'username': 'Rizwan Ahmad', 'user_screen_name': 'rizwan_309g', 'quote_count': 0, 'reply_count': 0, 'retweet_count': 1, 'favorite_count': 0, 'timestamp_ms': '1587825601440', 'retweeted_list': ['1254057581879988230'], 'custom_score': 1, 'score': 0.5294117647058824}\n",
      "Replies to the above tweet are as follows\n",
      "No further replies needed\n",
      "Quoted tweets to the above tweet are as follows\n",
      "No further quoted tweets needed\n",
      "Retweeted tweets to the above tweet are as follows\n",
      "['1254057581879988230', 'RT @rizwan_309g: Media is spreading corona more through their hidden agenda. \\n@ImranKhanPTI should take action these media houses. \\n#molana…', 'Mohammed Ajaz Malik💗🇵🇰💓', 0]\n"
     ]
    },
    {
     "ename": "TypeError",
     "evalue": "SearchAlgo() missing 1 required positional argument: 'criteria'",
     "output_type": "error",
     "traceback": [
      "\u001b[0;31m---------------------------------------------------------------------------\u001b[0m",
      "\u001b[0;31mTypeError\u001b[0m                                 Traceback (most recent call last)",
      "Cell \u001b[0;32mIn[71], line 17\u001b[0m\n\u001b[1;32m     14\u001b[0m \u001b[38;5;28;01mdef\u001b[39;00m \u001b[38;5;21madvanced_search\u001b[39m(x):\n\u001b[1;32m     15\u001b[0m     SearchAlgo(x, \u001b[38;5;124m\"\u001b[39m\u001b[38;5;124mkeyword\u001b[39m\u001b[38;5;124m\"\u001b[39m, numofEntries \u001b[38;5;241m=\u001b[39m \u001b[38;5;241m1\u001b[39m, sortMethod \u001b[38;5;241m=\u001b[39m \u001b[38;5;124m\"\u001b[39m\u001b[38;5;124mtimestamp_ms\u001b[39m\u001b[38;5;124m\"\u001b[39m, numofReplies\u001b[38;5;241m=\u001b[39m \u001b[38;5;241m1000\u001b[39m, numofQuotes \u001b[38;5;241m=\u001b[39m \u001b[38;5;241m100\u001b[39m, numofRetweets \u001b[38;5;241m=\u001b[39m \u001b[38;5;241m100\u001b[39m, minimumResult \u001b[38;5;241m=\u001b[39m \u001b[38;5;241m10\u001b[39m)\n\u001b[0;32m---> 17\u001b[0m \u001b[43madvanced_search\u001b[49m\u001b[43m(\u001b[49m\u001b[38;5;124;43m\"\u001b[39;49m\u001b[38;5;124;43mquran\u001b[39;49m\u001b[38;5;124;43m\"\u001b[39;49m\u001b[43m)\u001b[49m\n",
      "Cell \u001b[0;32mIn[71], line 15\u001b[0m, in \u001b[0;36madvanced_search\u001b[0;34m(x)\u001b[0m\n\u001b[1;32m     14\u001b[0m \u001b[38;5;28;01mdef\u001b[39;00m \u001b[38;5;21madvanced_search\u001b[39m(x):\n\u001b[0;32m---> 15\u001b[0m     \u001b[43mSearchAlgo\u001b[49m\u001b[43m(\u001b[49m\u001b[43mx\u001b[49m\u001b[43m,\u001b[49m\u001b[43m \u001b[49m\u001b[38;5;124;43m\"\u001b[39;49m\u001b[38;5;124;43mkeyword\u001b[39;49m\u001b[38;5;124;43m\"\u001b[39;49m\u001b[43m,\u001b[49m\u001b[43m \u001b[49m\u001b[43mnumofEntries\u001b[49m\u001b[43m \u001b[49m\u001b[38;5;241;43m=\u001b[39;49m\u001b[43m \u001b[49m\u001b[38;5;241;43m1\u001b[39;49m\u001b[43m,\u001b[49m\u001b[43m \u001b[49m\u001b[43msortMethod\u001b[49m\u001b[43m \u001b[49m\u001b[38;5;241;43m=\u001b[39;49m\u001b[43m \u001b[49m\u001b[38;5;124;43m\"\u001b[39;49m\u001b[38;5;124;43mtimestamp_ms\u001b[39;49m\u001b[38;5;124;43m\"\u001b[39;49m\u001b[43m,\u001b[49m\u001b[43m \u001b[49m\u001b[43mnumofReplies\u001b[49m\u001b[38;5;241;43m=\u001b[39;49m\u001b[43m \u001b[49m\u001b[38;5;241;43m1000\u001b[39;49m\u001b[43m,\u001b[49m\u001b[43m \u001b[49m\u001b[43mnumofQuotes\u001b[49m\u001b[43m \u001b[49m\u001b[38;5;241;43m=\u001b[39;49m\u001b[43m \u001b[49m\u001b[38;5;241;43m100\u001b[39;49m\u001b[43m,\u001b[49m\u001b[43m \u001b[49m\u001b[43mnumofRetweets\u001b[49m\u001b[43m \u001b[49m\u001b[38;5;241;43m=\u001b[39;49m\u001b[43m \u001b[49m\u001b[38;5;241;43m100\u001b[39;49m\u001b[43m,\u001b[49m\u001b[43m \u001b[49m\u001b[43mminimumResult\u001b[49m\u001b[43m \u001b[49m\u001b[38;5;241;43m=\u001b[39;49m\u001b[43m \u001b[49m\u001b[38;5;241;43m10\u001b[39;49m\u001b[43m)\u001b[49m\n",
      "File \u001b[0;32m<timed exec>:51\u001b[0m, in \u001b[0;36mSearchAlgo\u001b[0;34m(searchString, criteria, sortMethod, numofEntries, numofReplies, numofQuotes, numofRetweets, minimumResult)\u001b[0m\n",
      "\u001b[0;31mTypeError\u001b[0m: SearchAlgo() missing 1 required positional argument: 'criteria'"
     ]
    }
   ],
   "source": [
    "#Wrapper Functions:\n",
    "##1. Search by Keyword\n",
    "def keywordSearch(x):\n",
    "    SearchAlgo(x, \"keyword\", numofEntries = 1, sortMethod = \"timestamp_ms\", numofReplies= 0, numofQuotes = 0, numofRetweets = 0, minimumResult=0)\n",
    "# keywordSearch(\"corona\")\n",
    "def hashtagSearch(x):\n",
    "    SearchAlgo(x, \"hashtags\", numofEntries = 10, sortMethod = \"timestamp_ms\", numofReplies= 0, numofQuotes = 0, numofRetweets = 0, minimumResult=0)\n",
    "hashtagSearch(\"zombie\")\n",
    "# def reply_specific_search(x):\n",
    "#     SearchAlgo(x, \"keyword\", numofEntries = 1, sortMethod = \"timestamp_ms\", numofReplies= 1000, numofQuotes = 100, numofRetweets = 100, minimumResult = 0)\n",
    "\n",
    "# # reply_specific_search(\"leader\")\n",
    "\n",
    "def advanced_search(x):\n",
    "    SearchAlgo(x, \"keyword\", numofEntries = 1, sortMethod = \"timestamp_ms\", numofReplies= 1000, numofQuotes = 100, numofRetweets = 100, minimumResult = 10)\n",
    "\n",
    "advanced_search(\"quran\")\n"
   ]
  },
  {
   "cell_type": "code",
   "execution_count": 101,
   "id": "94411853",
   "metadata": {},
   "outputs": [],
   "source": [
    "# myquery = { \"favorite_count\" : { \"$ne\": \"0\"}}\n",
    "# mydoc = col_reply.find(myquery).limit(5)"
   ]
  },
  {
   "cell_type": "code",
   "execution_count": 102,
   "id": "62cbdf97",
   "metadata": {},
   "outputs": [
    {
     "name": "stdout",
     "output_type": "stream",
     "text": [
      "{'_id': ObjectId('64425b022b4f18030a636eb2'), 'tweet_id': '1254022773598572544', 'text': '@VinceMcMahon @TripleH We hereby honor to announce that we have developed a brand new treatment method using UV rays / Laser Ray that might be used effectively for preventing all mankind from infectious virus.\\n\\n#covid #covid19 #Covid_19 #corona #vascular #endovascular https://t.co/YkVlYtJiGL', 'hashtags': [{'text': 'covid', 'indices': [211, 217]}, {'text': 'covid19', 'indices': [218, 226]}, {'text': 'Covid_19', 'indices': [227, 236]}, {'text': 'corona', 'indices': [237, 244]}, {'text': 'vascular', 'indices': [245, 254]}, {'text': 'endovascular', 'indices': [255, 268]}], 'userid': '1091660129894838272', 'username': 'Milli teknoloji', 'user_screen_name': 'milliteknoloj', 'quote_count': 0, 'reply_count': 0, 'retweet_count': 0, 'favorite_count': 0, 'timestamp_ms': '1587817302499', 'reply_to_tweeet_id': '1253768179517657088', 'reply_to_user_id': '1222639789', 'reply_to_user_name': 'VinceMcMahon'}\n",
      "{'_id': ObjectId('64425b022b4f18030a636eb4'), 'tweet_id': '1254022776207429633', 'text': '@MichaelTouby @ChinaDaily @RVsmtown @YRFairytales @SupportRV @rvelites @5REDVELVET your president is telling his people to inject bleach into their body as a way to cure Corona...might wanna worry about that first\\nhttps://t.co/yd7LOi21fN', 'hashtags': [], 'userid': '865733987561381888', 'username': 'ANH', 'user_screen_name': 'BritishKatieKim', 'quote_count': 0, 'reply_count': 1, 'retweet_count': 1, 'favorite_count': 1, 'timestamp_ms': '1587819107287', 'reply_to_tweeet_id': '1254013543470563328', 'reply_to_user_id': '719625570615758849', 'reply_to_user_name': 'MichaelTouby', 'retweeted_list': ['1254030343427907584']}\n",
      "{'_id': ObjectId('64425b022b4f18030a636eb9'), 'tweet_id': '1254022783249637376', 'text': '@HealthDeptBlo @jam_kamal https://t.co/lyMFMxQoVm\\nTHIS PRESS CONFERENCE IS SLAP ON ALL CREATED STRESS WDOUT PROPER KNOWLEDGE OF CORONA. DEATH RATES INCREASED IN THOSE COUNTRIES BLINDLY FOLLOWING LOCK DOWN BCZ COMMON SLOGAN\\n\" EARLY DIAGNOSIS &amp; EARLY TREATMENT OF DISEASE\" &amp; THIS IS NOT POSSIBLE IN LOCK DOWN', 'hashtags': [], 'userid': '847489262018641921', 'username': 'Dr. Yousuf Majeed', 'user_screen_name': 'dr_yousufmajeed', 'quote_count': 0, 'reply_count': 0, 'retweet_count': 0, 'favorite_count': 0, 'timestamp_ms': '1587817304800', 'reply_to_tweeet_id': '1253355298867249155', 'reply_to_user_id': '1233375852404101121', 'reply_to_user_name': 'HealthDeptBlo'}\n",
      "{'_id': ObjectId('64425b022b4f18030a636eba'), 'tweet_id': '1254022784193363969', 'text': '@realDonaldTrump @TuckerCarlson @FoxNews Reis don’t forget drink a glass of disinfectant every day anti-corona', 'hashtags': [], 'userid': '567891167', 'username': 'St.polat', 'user_screen_name': 'StPolat', 'quote_count': 0, 'reply_count': 0, 'retweet_count': 0, 'favorite_count': 0, 'timestamp_ms': '1587817305025', 'reply_to_tweeet_id': '1254021070379769856', 'reply_to_user_id': '25073877', 'reply_to_user_name': 'realDonaldTrump'}\n",
      "{'_id': ObjectId('64425b022b4f18030a636ebe'), 'tweet_id': '1254022785547923457', 'text': '@PARTHIPANG14 @boaperosa @mohandreamer Athu unaya mari pesitu sutravana padam kathu kuduka than corona vanthuruku', 'hashtags': [], 'userid': '852883926', 'username': 'Joseph Andrew', 'user_screen_name': 'sam195027', 'quote_count': 0, 'reply_count': 0, 'retweet_count': 0, 'favorite_count': 0, 'timestamp_ms': '1587817305348', 'reply_to_tweeet_id': '1253969464137150466', 'reply_to_user_id': '1125973377921851393', 'reply_to_user_name': 'PARTHIPANG14'}\n"
     ]
    }
   ],
   "source": [
    "# for x in mydoc:\n",
    "#     print(x)"
   ]
  },
  {
   "cell_type": "code",
   "execution_count": null,
   "id": "f95f80ce",
   "metadata": {},
   "outputs": [],
   "source": [
    "%%time\n",
    "\n",
    "\n",
    "def SearchAlgo(searchString, criteria, sortMethod = \"timestamp_ms\", numofEntries = 10, numofReplies= 10, numofQuotes = 10, numofRetweets = 10, minimumResult = 10):\n",
    "    if criteria in [\"keyword\", \"hashtags\", \"tweet_id\"]:\n",
    "        if criteria == \"keyword\":\n",
    "            myquery = {\"$text\": {\"$search\": None}}\n",
    "            myquery['$text']['$search'] = searchString\n",
    "#             myquery = {\"text\": {\"$regex\": None}}\n",
    "#             myquery['text']['$regex'] = f'.*{searchString}.*'\n",
    "            #We can also use favorite_count for sortMethod\n",
    "#        ).sort( { score: { $meta: \"textScore\" } } )\n",
    "# { $meta: <metaDataKeyword> }\n",
    "\n",
    "\n",
    "            mydoc = mycol.find(myquery, {'score' : {'$meta' : 'textScore' }}).sort([('score', {'$meta' : 'textScore' })]).limit(numofEntries)\n",
    "        if criteria == \"hashtags\":\n",
    "            myquery = {\"hashtags.text\": {\"$eq\": None}}\n",
    "            myquery['hashtags.text']['$eq'] = searchString\n",
    "            mydoc = mycol.find(myquery).sort(sortMethod, -1).limit(numofEntries)\n",
    "        if criteria == \"tweet_id\":\n",
    "            myquery = {\"tweet_id\": {\"$eq\": None}}\n",
    "            myquery['tweet_id']['$eq'] = searchString\n",
    "            mydoc = mycol.find(myquery).sort(sortMethod, 1).limit(numofEntries)\n",
    "            mydoc = mycol.find(myquery).sort(sortMethod, -1).limit(numofEntries)\n",
    "    list_of_results_original = list(mydoc)\n",
    "    for each_tweet in list_of_results_original:\n",
    "        print(\"\\n Orginal tweet is: \\n\", each_tweet)\n",
    "        try:\n",
    "            print(\"Replies to the above tweet are as follows\")\n",
    "            for each_reply in range(min(len(each_tweet[\"reply_list\"]), numofReplies)):\n",
    "                reply_rec_list = recursive_reply(each_tweet[\"reply_list\"][each_reply], reply_rec_list = [])\n",
    "                [print(i) for i in reply_rec_list]\n",
    "        except:\n",
    "            print(\"No further replies needed\")\n",
    "\n",
    "        try:\n",
    "            print(\"Quoted tweets to the above tweet are as follows\")\n",
    "            for each_quote in range(min(len(each_tweet[\"quoted_list\"]), numofQuotes)):\n",
    "                x = quote_tweet(each_tweet[\"quoted_list\"][each_quote])\n",
    "                print(x)\n",
    "        except:\n",
    "            print(\"No further quoted tweets needed\")\n",
    "\n",
    "        try:\n",
    "            print(\"Retweeted tweets to the above tweet are as follows\")\n",
    "            for each_retweet in range(min(len(each_tweet[\"retweeted_list\"]), numofRetweets)):\n",
    "                x = retweet_tweet(each_tweet[\"retweeted_list\"][each_retweet])\n",
    "                print(x)\n",
    "        except:\n",
    "            print(\"No further retweets needed\")\n",
    "            \n",
    "#     if len(list_of_results_original) < minimumResult:\n",
    "#         SearchAlgo(searchString, numofEntries = 10-len(list_of_results_original))\n",
    "\n",
    "\n",
    "def recursive_reply(key, reply_rec_list):\n",
    "    reply_rec_list.append(reply_tweet(key))\n",
    "    myquery_rec_reply = {\"tweet_id\": {\"$eq\": None}}\n",
    "    myquery_rec_reply['tweet_id']['$eq'] = key\n",
    "    mydoc_rec_reply = list(col_reply.find(myquery_rec_reply))\n",
    "    for j_len in range(len(mydoc_rec_reply)):\n",
    "        if \"reply_list\" in mydoc_rec_reply[j_len].keys():\n",
    "            temp = mydoc_rec_reply[j_len][\"reply_list\"]\n",
    "            for each_reply in temp:\n",
    "                recursive_reply(each_reply, reply_rec_list)\n",
    "    return reply_rec_list\n",
    "\n",
    "            \n",
    "def reply_tweet(reply_id):\n",
    "    myquery_reply = { \"tweet_id\" : {\"$eq\" : None }}\n",
    "    myquery_reply['tweet_id']['$eq'] = reply_id\n",
    "    mydoc_reply = mycol.find(myquery_reply)\n",
    "    sam = list(mydoc_reply)[0]\n",
    "    return [sam[\"tweet_id\"], sam[\"text\"], sam[\"username\"], sam[\"favorite_count\"]]\n",
    "\n",
    "def keywordSear_reply(searchStr, numofEntries):\n",
    "    criteria = \"keyword\"\n",
    "    sortMethod = \"timestamp_ms\"\n",
    "    if criteria == \"keyword\":\n",
    "#         myquery = {\"$text\": {\"$search\": None}}\n",
    "#         myquery['$text']['$search'] = searchStr\n",
    "        myquery = {\"text\": {\"$regex\": None}}\n",
    "        myquery['text']['$regex'] = f'.*{searchString}.*'\n",
    "        #We can also use favorite_count for sortMethod\n",
    "        mydoc = col_reply.find(myquery).sort(sortMethod, -1).limit(numofEntries)\n",
    "    z = list(mydoc)\n",
    "    for each_tweet in z:\n",
    "        print(\"\\n Search in reply yields: \\n\", each_tweet)\n",
    "        \n",
    "def top_10():\n",
    "    print(\"Random top tweets \")\n",
    "    mydoc = mycol.find().sort(\"custom_score\": -1).limit(10)\n",
    "#     $sort : { headline : 1 }\n",
    "#     mydoc = mycol.find().sort(\"name\")\n",
    "\n",
    "#     for x in mydoc:\n",
    "#         print(x)\n",
    "\n",
    "\n",
    "    print(list(mydoc))\n",
    "    \n",
    "top_10()\n",
    "        \n",
    "def quote_tweet(quote_id):\n",
    "    myquery_quote = { \"tweet_id\" : {\"$eq\" : None }}\n",
    "    myquery_quote['tweet_id']['$eq'] = quote_id\n",
    "    mydoc_quote = col_quoted.find(myquery_quote)\n",
    "    sam = list(mydoc_quote)[0]\n",
    "    return [sam[\"tweet_id\"], sam[\"text\"], sam[\"username\"], sam[\"favorite_count\"]]\n",
    "\n",
    "def retweet_tweet(retweet_id):\n",
    "    myquery_retweet = { \"tweet_id\" : {\"$eq\" : None }}\n",
    "    myquery_retweet['tweet_id']['$eq'] = retweet_id\n",
    "    mydoc_retweet = col_retweet.find(myquery_retweet)\n",
    "    sam = list(mydoc_retweet)[0]\n",
    "    return [sam[\"tweet_id\"], sam[\"text\"], sam[\"username\"], sam[\"favorite_count\"]]\n",
    "\n",
    "\n",
    "# SearchAlgo(\"covid\", \"keyword\")\n",
    "# SearchAlgo(\"I refuse to work for the hospital because bitch y’all\", \"keyword\")\n",
    "# SearchAlgo(\"Tik tok\", \"keyword\")\n",
    "# SearchAlgo(\"\\\"Go Corona\\\"\", \"keyword\")\n",
    "# SearchAlgo(\"Covid 19\", \"keyword\")\n",
    "\n",
    "\n",
    "# SearchAlgo(\"1253927939713966086\",\"tweet_id\", \"timestamp_ms\", 1)\n",
    "# SearchAlgo[\"\"]: Data set \n",
    "# mydoc = SearchAlgo(\"covid\", \"hashtags\")\n",
    "# [\"tweet_id\"], \n",
    "#             each_tweet[\"text\"], each_tweet[\"hashtags\"], each_tweet[\"username\"],each_tweet[\"quote_count\"], \n",
    "#             each_tweet[\"reply_count\"], each_tweet[\"retweet_count\"], each_tweet[\"favorite_count\"]\n",
    "\n"
   ]
  }
 ],
 "metadata": {
  "kernelspec": {
   "display_name": "Python 3 (ipykernel)",
   "language": "python",
   "name": "python3"
  },
  "language_info": {
   "codemirror_mode": {
    "name": "ipython",
    "version": 3
   },
   "file_extension": ".py",
   "mimetype": "text/x-python",
   "name": "python",
   "nbconvert_exporter": "python",
   "pygments_lexer": "ipython3",
   "version": "3.10.10"
  }
 },
 "nbformat": 4,
 "nbformat_minor": 5
}
