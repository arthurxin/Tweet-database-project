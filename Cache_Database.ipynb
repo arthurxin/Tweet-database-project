{
 "cells": [
  {
   "cell_type": "code",
   "execution_count": 2,
   "id": "754cf836",
   "metadata": {},
   "outputs": [],
   "source": [
    "import json\n",
    "from pyspark.sql import SparkSession, Row\n",
    "spark = SparkSession.builder.getOrCreate()\n",
    "sc = spark.sparkContext"
   ]
  },
  {
   "cell_type": "code",
   "execution_count": 3,
   "id": "4eba16b1",
   "metadata": {},
   "outputs": [],
   "source": [
    "rdd = sc.parallelize([('a', 7), ('a', 2), ('b', 2)])"
   ]
  },
  {
   "cell_type": "code",
   "execution_count": 4,
   "id": "af3da210",
   "metadata": {},
   "outputs": [],
   "source": [
    "import time\n",
    "t = int(time.time()*1000) # get current timestamp_ms"
   ]
  },
  {
   "cell_type": "markdown",
   "id": "65473e19",
   "metadata": {},
   "source": [
    "# Add timestamp"
   ]
  },
  {
   "cell_type": "code",
   "execution_count": 5,
   "id": "0a32ea16",
   "metadata": {},
   "outputs": [
    {
     "name": "stderr",
     "output_type": "stream",
     "text": [
      "                                                                                \r"
     ]
    },
    {
     "data": {
      "text/plain": [
       "['a', 'a', 'b']"
      ]
     },
     "execution_count": 5,
     "metadata": {},
     "output_type": "execute_result"
    }
   ],
   "source": [
    "rdd.map(lambda x:(x[0])).collect()"
   ]
  },
  {
   "cell_type": "markdown",
   "id": "bea29960",
   "metadata": {},
   "source": [
    "# get top k oldest"
   ]
  },
  {
   "cell_type": "code",
   "execution_count": 12,
   "id": "0217446e",
   "metadata": {},
   "outputs": [],
   "source": [
    "rdd = rdd.map(lambda x: x+(t,))"
   ]
  },
  {
   "cell_type": "code",
   "execution_count": 15,
   "id": "0e057e23",
   "metadata": {},
   "outputs": [],
   "source": [
    "result = rdd.top(2,key=lambda x:x[2])"
   ]
  },
  {
   "cell_type": "code",
   "execution_count": 16,
   "id": "ce213d9d",
   "metadata": {},
   "outputs": [
    {
     "data": {
      "text/plain": [
       "[('a', 7, 1682001463457), ('a', 2, 1682001463457)]"
      ]
     },
     "execution_count": 16,
     "metadata": {},
     "output_type": "execute_result"
    }
   ],
   "source": [
    "result"
   ]
  },
  {
   "cell_type": "code",
   "execution_count": 22,
   "id": "d3e83b5d",
   "metadata": {},
   "outputs": [
    {
     "data": {
      "text/plain": [
       "1682001463457"
      ]
     },
     "execution_count": 22,
     "metadata": {},
     "output_type": "execute_result"
    }
   ],
   "source": [
    "result[1][2]"
   ]
  },
  {
   "cell_type": "markdown",
   "id": "605e629d",
   "metadata": {},
   "source": [
    "# delete oldest k"
   ]
  },
  {
   "cell_type": "code",
   "execution_count": 19,
   "id": "bc10e0d6",
   "metadata": {},
   "outputs": [
    {
     "data": {
      "text/plain": [
       "[('a', 7, 1682001463457), ('a', 2, 1682001463457), ('b', 2, 1682001463457)]"
      ]
     },
     "execution_count": 19,
     "metadata": {},
     "output_type": "execute_result"
    }
   ],
   "source": [
    "rdd.collect()"
   ]
  },
  {
   "cell_type": "code",
   "execution_count": 23,
   "id": "1601ac74",
   "metadata": {},
   "outputs": [
    {
     "data": {
      "text/plain": [
       "[('a', 7), ('a', 2)]"
      ]
     },
     "execution_count": 23,
     "metadata": {},
     "output_type": "execute_result"
    }
   ],
   "source": [
    "rdd.filter(lambda x: x[2]>=result[1][2]).collect()\n",
    "[('a', 7), ('a', 2)]"
   ]
  },
  {
   "cell_type": "code",
   "execution_count": null,
   "id": "dcfc4ae1",
   "metadata": {},
   "outputs": [],
   "source": []
  }
 ],
 "metadata": {
  "kernelspec": {
   "display_name": "Python 3 (ipykernel)",
   "language": "python",
   "name": "python3"
  },
  "language_info": {
   "codemirror_mode": {
    "name": "ipython",
    "version": 3
   },
   "file_extension": ".py",
   "mimetype": "text/x-python",
   "name": "python",
   "nbconvert_exporter": "python",
   "pygments_lexer": "ipython3",
   "version": "3.10.10"
  }
 },
 "nbformat": 4,
 "nbformat_minor": 5
}
