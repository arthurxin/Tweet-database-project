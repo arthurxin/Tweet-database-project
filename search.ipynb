{
 "cells": [
  {
   "cell_type": "code",
   "execution_count": 11,
   "id": "6b90c2c9",
   "metadata": {},
   "outputs": [],
   "source": [
    "from pyspark.sql import SparkSession, SQLContext, Row\n",
    "from pyspark.sql.types import StructType, StructField, IntegerType, StringType, BooleanType, TimestampType, LongType, ArrayType\n",
    "import json\n",
    "from datetime import datetime\n",
    "\n",
    "class search_in_sparksql(object):\n",
    "    def __init__(self,):\n",
    "        # warehouse_location = \"hdfs://data/\"\n",
    "        \n",
    "        # Set the warehouse location\n",
    "        warehouse_location = \"file:///home/hx152/Project/tweet_project/Dataset\"\n",
    "        metastore_db_location = \"/home/hx152/Project/tweet_project/Dataset/metastore_db\"\n",
    "\n",
    "        self.spark = SparkSession.builder \\\n",
    "            .enableHiveSupport() \\\n",
    "            .config(\"spark.sql.warehouse.dir\", warehouse_location) \\\n",
    "            .config(\"spark.sql.legacy.createHiveTableByDefault\", False) \\\n",
    "            .config(\"javax.jdo.option.ConnectionURL\", f\"jdbc:derby:;databaseName={metastore_db_location};create=true\") \\\n",
    "            .appName(\"UserInformation\").getOrCreate()\n",
    "        sc = self.spark.sparkContext\n",
    "        self.sparksql = SQLContext(sc)\n",
    "        \n",
    "    def search_by_name(self, search_string, table_name=\"user_data.user_basic\"):\n",
    "        # Escape single quotes in the search string to avoid SQL injection\n",
    "        search_string = search_string.replace(\"'\", \"''\")\n",
    "\n",
    "        # Execute the SQL query\n",
    "        query = f\"\"\"\n",
    "            SELECT *\n",
    "            FROM {table_name}\n",
    "            WHERE name LIKE '%{search_string}%' OR screen_name LIKE '%{search_string}%'\n",
    "        \"\"\"\n",
    "        result = self.spark.sql(query)\n",
    "    \n",
    "        # Display the result\n",
    "        return result"
   ]
  },
  {
   "cell_type": "code",
   "execution_count": 12,
   "id": "74b513a2",
   "metadata": {},
   "outputs": [
    {
     "name": "stdout",
     "output_type": "stream",
     "text": [
      "23/04/25 22:54:45 WARN SparkSession: Using an existing Spark session; only runtime SQL configurations will take effect.\n"
     ]
    },
    {
     "data": {
      "text/plain": [
       "DataFrame[tweet_create_time: timestamp, tweet_id: bigint, user_id: bigint, name: string, screen_name: string, location: string, url: string, description: string, verified: boolean, created_at: timestamp, followers_count: int, friends_count: int, listed_count: int, favourites_count: int, statuses_count: int]"
      ]
     },
     "execution_count": 12,
     "metadata": {},
     "output_type": "execute_result"
    }
   ],
   "source": [
    "name = 'John'\n",
    "ss = search_in_sparksql()\n",
    "ss.search_by_name(name)"
   ]
  },
  {
   "cell_type": "code",
   "execution_count": null,
   "id": "97c88e13",
   "metadata": {},
   "outputs": [],
   "source": []
  }
 ],
 "metadata": {
  "kernelspec": {
   "display_name": "Python 3 (ipykernel)",
   "language": "python",
   "name": "python3"
  },
  "language_info": {
   "codemirror_mode": {
    "name": "ipython",
    "version": 3
   },
   "file_extension": ".py",
   "mimetype": "text/x-python",
   "name": "python",
   "nbconvert_exporter": "python",
   "pygments_lexer": "ipython3",
   "version": "3.10.10"
  }
 },
 "nbformat": 4,
 "nbformat_minor": 5
}
