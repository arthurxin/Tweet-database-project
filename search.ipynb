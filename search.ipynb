{
 "cells": [
  {
   "cell_type": "code",
   "execution_count": 22,
   "id": "6b90c2c9",
   "metadata": {},
   "outputs": [],
   "source": [
    "from pyspark.sql import SparkSession, SQLContext, Row\n",
    "from pyspark.sql.types import StructType, StructField, IntegerType, StringType, BooleanType, TimestampType, LongType, ArrayType\n",
    "import json\n",
    "from datetime import datetime\n",
    "\n",
    "class search_in_sparksql(object):\n",
    "    def __init__(self, search_string, table_name):\n",
    "        # warehouse_location = \"hdfs://data/\"\n",
    "        \n",
    "        # Set the warehouse location\n",
    "        warehouse_location = \"file:///home/hx152/Project/tweet_project/Dataset\"\n",
    "        metastore_db_location = \"/home/hx152/Project/tweet_project/Dataset/metastore_db\"\n",
    "\n",
    "        self.spark = SparkSession.builder \\\n",
    "            .enableHiveSupport() \\\n",
    "            .config(\"spark.sql.warehouse.dir\", warehouse_location) \\\n",
    "            .config(\"spark.sql.legacy.createHiveTableByDefault\", False) \\\n",
    "            .config(\"javax.jdo.option.ConnectionURL\", f\"jdbc:derby:;databaseName={metastore_db_location};create=true\") \\\n",
    "            .appName(\"UserInformation\").getOrCreate()\n",
    "        sc = self.spark.sparkContext\n",
    "        self.sparksql = SQLContext(sc)\n",
    "        \n",
    "        self.fuzzy_search_result = self.fuzzy_search_by_name(search_string, table_name)\n",
    "        self.exact_search_result = self.exact_search_by_name(search_string, table_name)\n",
    "        \n",
    "    def fuzzy_search_by_name(self, search_string, table_name):\n",
    "        # Escape single quotes in the search string to avoid SQL injection\n",
    "        search_string = search_string.replace(\"'\", \"''\")\n",
    "\n",
    "        # Execute the SQL query\n",
    "        fuzzy_search_query = f\"\"\"\n",
    "            SELECT *\n",
    "            FROM {table_name}\n",
    "            WHERE name LIKE '%{search_string}%' OR screen_name LIKE '%{search_string}%'\n",
    "        \"\"\"\n",
    "        result = self.spark.sql(fuzzy_search_query)\n",
    "        # Display the result\n",
    "        return result\n",
    "        \n",
    "    def exact_search_by_name(self, search_string, table_name):\n",
    "        # Escape single quotes in the search string to avoid SQL injection\n",
    "        search_string = search_string.replace(\"'\", \"''\")\n",
    "\n",
    "        # Execute the SQL query\n",
    "        exact_search_query = f\"\"\"\n",
    "            SELECT *\n",
    "            FROM {table_name}\n",
    "            WHERE name = '%{search_string}%' OR screen_name = '%{search_string}%'\n",
    "        \"\"\"\n",
    "        result = self.spark.sql(exact_search_query)   \n",
    "        # Display the result\n",
    "        return result"
   ]
  },
  {
   "cell_type": "markdown",
   "id": "6cc8ebfd",
   "metadata": {},
   "source": [
    "## Search"
   ]
  },
  {
   "cell_type": "code",
   "execution_count": 21,
   "id": "bb82364f",
   "metadata": {},
   "outputs": [
    {
     "name": "stdout",
     "output_type": "stream",
     "text": [
      "23/04/28 14:36:14 WARN SparkSession: Using an existing Spark session; only runtime SQL configurations will take effect.\n",
      "HERE IS THE RESULT FOR FUZZY SEARCH\n",
      "+-------+----------------+-----------+---------------+--------------------+--------------------+--------+-------------------+---------------+-------------+------------+----------------+--------------+--------------------+\n",
      "|user_id|            name|screen_name|       location|                 url|         description|verified|         created_at|followers_count|friends_count|listed_count|favourites_count|statuses_count|public_tweet_id_list|\n",
      "+-------+----------------+-----------+---------------+--------------------+--------------------+--------+-------------------+---------------+-------------+------------+----------------+--------------+--------------------+\n",
      "|8533902|barbara ondrisek|electrobabe|Vienna, Austria|https://electroba...|software engineer...|   false|2007-08-30 13:17:15|           1765|          556|         158|            4925|         16672|[1254026357098545...|\n",
      "+-------+----------------+-----------+---------------+--------------------+--------------------+--------+-------------------+---------------+-------------+------------+----------------+--------------+--------------------+\n",
      "\n",
      "NEXT IS THE RESULT FOR EXACT SEARCH\n",
      "+-------+----+-----------+--------+---+-----------+--------+----------+---------------+-------------+------------+----------------+--------------+--------------------+\n",
      "|user_id|name|screen_name|location|url|description|verified|created_at|followers_count|friends_count|listed_count|favourites_count|statuses_count|public_tweet_id_list|\n",
      "+-------+----+-----------+--------+---+-----------+--------+----------+---------------+-------------+------------+----------------+--------------+--------------------+\n",
      "+-------+----+-----------+--------+---+-----------+--------+----------+---------------+-------------+------------+----------------+--------------+--------------------+\n",
      "\n",
      "CPU times: user 5.98 ms, sys: 306 µs, total: 6.29 ms\n",
      "Wall time: 989 ms\n"
     ]
    }
   ],
   "source": [
    "%%time\n",
    "name = 'ondrisek'\n",
    "table_name=\"user_data.new_user_beta\"\n",
    "ss = search_in_sparksql(name, table_name)\n",
    "print(\"HERE IS THE RESULT FOR FUZZY SEARCH\")\n",
    "ss.fuzzy_search_result.show()\n",
    "print(\"NEXT IS THE RESULT FOR EXACT SEARCH\")\n",
    "ss.exact_search_result.show()"
   ]
  }
 ],
 "metadata": {
  "kernelspec": {
   "display_name": "Python 3 (ipykernel)",
   "language": "python",
   "name": "python3"
  },
  "language_info": {
   "codemirror_mode": {
    "name": "ipython",
    "version": 3
   },
   "file_extension": ".py",
   "mimetype": "text/x-python",
   "name": "python",
   "nbconvert_exporter": "python",
   "pygments_lexer": "ipython3",
   "version": "3.10.10"
  }
 },
 "nbformat": 4,
 "nbformat_minor": 5
}
