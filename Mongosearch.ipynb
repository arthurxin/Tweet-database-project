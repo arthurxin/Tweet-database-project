{
 "cells": [
  {
   "cell_type": "code",
   "execution_count": 1,
   "id": "e6ab7c5b",
   "metadata": {},
   "outputs": [],
   "source": [
    "import pymongo"
   ]
  },
  {
   "cell_type": "code",
   "execution_count": 60,
   "id": "8ab2ab0d",
   "metadata": {},
   "outputs": [],
   "source": [
    "class Mongosearch(object):\n",
    "    def __init__(self):\n",
    "        self.client = pymongo.MongoClient(\"mongodb://localhost:27017/\")\n",
    "        self.db = self.client[\"tweet_project\"]\n",
    "        self.col_ori = self.db[\"origin_tweet\"]\n",
    "        self.col_reply = self.db[\"reply_tweet\"]\n",
    "        self.col_quoted = self.db[\"quote_tweet\"]\n",
    "        self.col_retweet = self.db[\"retweet_tweet\"]\n",
    "        \n",
    "    def search_all_col(self, tweet_id):\n",
    "        query = { \"tweet_id\" : {\"$eq\" : None }}\n",
    "        query['tweet_id']['$eq'] = tweet_id\n",
    "        content = []\n",
    "        if len(content) == 0:\n",
    "            content += list(self.col_ori.find(query))\n",
    "        \n",
    "        if len(content) == 0:\n",
    "            content += list(self.col_reply.find(query))\n",
    "            \n",
    "        if len(content) == 0:\n",
    "            content += list(self.col_quoted.find(query))\n",
    "        \n",
    "        if len(content) == 0:\n",
    "            content += list(self.col_retweet.find(query))\n",
    "        return content  \n",
    "        \n",
    "    def keyword_search(self, searchString, sortMethod = \"timestamp_ms\", numofEntries = 100):\n",
    "        query = {\"$text\": {\"$search\": None}}\n",
    "        query['$text']['$search'] = searchString\n",
    "        content = []\n",
    "        if len(content) < numofEntries:\n",
    "            content += list(self.col_ori.find(query).sort(sortMethod, 1).limit(numofEntries-len(content)))\n",
    "        if len(content) < numofEntries:\n",
    "            content += list(self.col_reply.find(query).sort(sortMethod, 1).limit(numofEntries-len(content)))\n",
    "        if len(content) < numofEntries:\n",
    "            content += list(self.col_quoted.find(query).sort(sortMethod, 1).limit(numofEntries-len(content)))\n",
    "        if len(content) < numofEntries:\n",
    "            content += list(self.col_retweet.find(query).sort(sortMethod, 1).limit(numofEntries-len(content)))\n",
    "        return content\n",
    "        \n",
    "    \n",
    "    def hashtag_search(self, searchString, sortMethod = \"timestamp_ms\", numofEntries = 100):\n",
    "        query = {\"hashtags.text\": {\"$eq\": None}}\n",
    "        query['hashtags.text']['$eq'] = searchString  \n",
    "        content = []\n",
    "        if len(content) < numofEntries:\n",
    "            content += list(self.col_ori.find(query).sort(sortMethod, 1).limit(numofEntries-len(content)))\n",
    "        if len(content) < numofEntries:\n",
    "            content += list(self.col_reply.find(query).sort(sortMethod, 1).limit(numofEntries-len(content)))\n",
    "        if len(content) < numofEntries:\n",
    "            content += list(self.col_quoted.find(query).sort(sortMethod, 1).limit(numofEntries-len(content)))\n",
    "        if len(content) < numofEntries:\n",
    "            content += list(self.col_retweet.find(query).sort(sortMethod, 1).limit(numofEntries-len(content)))\n",
    "        return content\n",
    "    \n",
    "    def complete_tweetid_search(self, tweet_id):\n",
    "        doc = list(self.search_all_col(tweet_id))\n",
    "        if len(doc) != 0:\n",
    "            wait_list = [] + doc[0][\"reply_list\"]\n",
    "        else:\n",
    "            wait_list = []\n",
    "        content = [] + doc\n",
    "        while len(wait_list)!=0:\n",
    "            reply_id = wait_list[0]\n",
    "            wait_list.pop(0)\n",
    "\n",
    "            reply_query = { \"tweet_id\" : {\"$eq\" : None }}\n",
    "            reply_query['tweet_id']['$eq'] = reply_id\n",
    "\n",
    "            doc = list(col_reply.find(reply_query))\n",
    "            if \"reply_list\" in doc[0]:\n",
    "                wait_list += doc[0][\"reply_list\"]\n",
    "            content += doc\n",
    "        return content\n",
    "    \n",
    "    def tweetid_search(self, tweet_id):\n",
    "        doc = list(self.search_all_col(tweet_id))\n",
    "        content = [] + doc\n",
    "        return content\n",
    "    \n",
    "    def quote_list_search(self, tweet_id):\n",
    "        doc = self.search_all_col(tweet_id)\n",
    "        try:\n",
    "            wait_list = doc[0][\"quoted_list\"]\n",
    "        except:\n",
    "            wait_list = []\n",
    "        content = []\n",
    "        for tid in wait_list:\n",
    "            quote_query = { \"tweet_id\" : {\"$eq\" : None }}\n",
    "            quote_query['tweet_id']['$eq'] = tid\n",
    "            doc = list(self.col_quoted.find(quote_query))\n",
    "            content += doc\n",
    "        return content\n",
    "      \n",
    "    def retweet_list_search(self, tweet_id):\n",
    "        doc = self.search_all_col(tweet_id)\n",
    "        try:\n",
    "            wait_list = doc[0][\"retweeted_list\"]\n",
    "        except:\n",
    "            wait_list = []\n",
    "#         content = []\n",
    "#         for tid in wait_list:\n",
    "#             retweet_query = { \"tweet_id\" : {\"$eq\" : None }}\n",
    "#             retweet_query['tweet_id']['$eq'] = tid\n",
    "#             doc = list(self.col_retweet.find(retweet_query))\n",
    "#             content += doc\n",
    "        return wait_list"
   ]
  },
  {
   "cell_type": "code",
   "execution_count": 61,
   "id": "1495d5fe",
   "metadata": {},
   "outputs": [],
   "source": [
    "ms = Mongosearch()"
   ]
  },
  {
   "cell_type": "code",
   "execution_count": 45,
   "id": "a939cb07",
   "metadata": {},
   "outputs": [
    {
     "name": "stdout",
     "output_type": "stream",
     "text": [
      "CPU times: user 1.5 ms, sys: 1.15 ms, total: 2.64 ms\n",
      "Wall time: 44 ms\n"
     ]
    }
   ],
   "source": [
    "%%time\n",
    "result = ms.search_all_col(\"1253355298867249155\")"
   ]
  },
  {
   "cell_type": "code",
   "execution_count": 9,
   "id": "1bf5d28f",
   "metadata": {},
   "outputs": [
    {
     "name": "stdout",
     "output_type": "stream",
     "text": [
      "CPU times: user 1.31 ms, sys: 964 µs, total: 2.27 ms\n",
      "Wall time: 55.7 ms\n"
     ]
    }
   ],
   "source": [
    "%%time\n",
    "result = ms.keyword_search(\"corona\")"
   ]
  },
  {
   "cell_type": "code",
   "execution_count": 54,
   "id": "9d1a985c",
   "metadata": {},
   "outputs": [
    {
     "name": "stdout",
     "output_type": "stream",
     "text": [
      "CPU times: user 2.89 ms, sys: 63 µs, total: 2.95 ms\n",
      "Wall time: 22 ms\n"
     ]
    }
   ],
   "source": [
    "%%time\n",
    "result = ms.hashtag_search(\"corona\")"
   ]
  },
  {
   "cell_type": "code",
   "execution_count": 31,
   "id": "d987d9b1",
   "metadata": {},
   "outputs": [
    {
     "name": "stdout",
     "output_type": "stream",
     "text": [
      "CPU times: user 13.5 ms, sys: 2.42 ms, total: 15.9 ms\n",
      "Wall time: 341 ms\n"
     ]
    }
   ],
   "source": [
    "%%time\n",
    "result = ms.quote_list_search(\"1253863206176657418\")"
   ]
  },
  {
   "cell_type": "code",
   "execution_count": 62,
   "id": "f8bbb43b",
   "metadata": {},
   "outputs": [
    {
     "name": "stdout",
     "output_type": "stream",
     "text": [
      "CPU times: user 1.58 ms, sys: 1.21 ms, total: 2.8 ms\n",
      "Wall time: 13.8 ms\n"
     ]
    }
   ],
   "source": [
    "%%time\n",
    "result = ms.retweet_list_search(\"1253949413191344128\")"
   ]
  },
  {
   "cell_type": "code",
   "execution_count": 52,
   "id": "003baa3c",
   "metadata": {},
   "outputs": [
    {
     "name": "stdout",
     "output_type": "stream",
     "text": [
      "CPU times: user 1.6 ms, sys: 2.08 ms, total: 3.67 ms\n",
      "Wall time: 71.4 ms\n"
     ]
    }
   ],
   "source": [
    "%%time\n",
    "result = ms.complete_tweetid_search(\"1254022812202864640\")"
   ]
  }
 ],
 "metadata": {
  "kernelspec": {
   "display_name": "Python 3 (ipykernel)",
   "language": "python",
   "name": "python3"
  },
  "language_info": {
   "codemirror_mode": {
    "name": "ipython",
    "version": 3
   },
   "file_extension": ".py",
   "mimetype": "text/x-python",
   "name": "python",
   "nbconvert_exporter": "python",
   "pygments_lexer": "ipython3",
   "version": "3.10.10"
  }
 },
 "nbformat": 4,
 "nbformat_minor": 5
}
